{
 "cells": [
  {
   "cell_type": "code",
   "execution_count": 2,
   "metadata": {},
   "outputs": [],
   "source": [
    "import numpy as np \n",
    "import pandas as pd\n",
    "import matplotlib.pyplot as plt\n",
    "import seaborn as sns\n",
    "import warnings\n",
    "import os\n",
    "import re\n",
    "import math\n",
    "import plotly.express as px\n",
    "import plotly.graph_objects as go\n",
    "from plotly.subplots import make_subplots\n",
    "\n",
    "from lightgbm import LGBMRegressor, LGBMClassifier\n",
    "from xgboost import XGBRegressor, XGBClassifier\n",
    "from catboost import CatBoostRegressor, CatBoostClassifier\n",
    "import lightgbm as lgb\n",
    "import xgboost as xgb\n",
    "import catboost as cab\n",
    "\n",
    "from sklearn.preprocessing import LabelEncoder\n",
    "from sklearn.model_selection import cross_val_score, KFold, StratifiedKFold, GridSearchCV\n",
    "from sklearn.decomposition import LatentDirichletAllocation, NMF, TruncatedSVD\n",
    "from sklearn.linear_model import LogisticRegression, SGDClassifier\n",
    "from sklearn.ensemble import RandomForestRegressor, AdaBoostRegressor, GradientBoostingRegressor, HistGradientBoostingRegressor, StackingRegressor\n",
    "from sklearn.ensemble import RandomForestClassifier, AdaBoostClassifier, GradientBoostingClassifier, HistGradientBoostingClassifier, StackingClassifier\n",
    "from sklearn.tree import DecisionTreeRegressor, DecisionTreeClassifier\n",
    "from sklearn import metrics\n",
    "from sklearn.svm import SVC\n",
    "from sklearn.feature_extraction.text import TfidfVectorizer\n",
    "from sklearn.preprocessing import PolynomialFeatures\n",
    "from sklearn.neighbors import KNeighborsClassifier\n",
    "from tqdm import tqdm\n",
    "\n",
    "import matplotlib.pyplot as plt\n",
    "\n",
    "import warnings\n",
    "\n",
    "warnings.filterwarnings('ignore')"
   ]
  },
  {
   "attachments": {},
   "cell_type": "markdown",
   "metadata": {},
   "source": [
    "数据处理"
   ]
  },
  {
   "cell_type": "code",
   "execution_count": 8,
   "metadata": {},
   "outputs": [
    {
     "data": {
      "text/plain": [
       "(160973, 80)"
      ]
     },
     "execution_count": 8,
     "metadata": {},
     "output_type": "execute_result"
    }
   ],
   "source": [
    "test_data = pd.read_csv('data/test/000000000000.csv', sep='\\t')\n",
    "test_data.shape "
   ]
  },
  {
   "cell_type": "code",
   "execution_count": 3,
   "metadata": {},
   "outputs": [
    {
     "data": {
      "text/plain": [
       "(3485852, 82)"
      ]
     },
     "execution_count": 3,
     "metadata": {},
     "output_type": "execute_result"
    }
   ],
   "source": [
    "train_data = pd.read_csv('./data/train.csv', sep='\\t')\n",
    "train_data.shape "
   ]
  },
  {
   "cell_type": "code",
   "execution_count": 4,
   "metadata": {},
   "outputs": [],
   "source": [
    "train_data = train_data.replace([np.inf, -np.inf], np.nan).fillna(0)\n",
    "test_data = test_data.replace([np.inf, -np.inf], np.nan).fillna(0)"
   ]
  },
  {
   "cell_type": "code",
   "execution_count": 5,
   "metadata": {},
   "outputs": [],
   "source": [
    "data = pd.concat([train_data, test_data])"
   ]
  },
  {
   "cell_type": "code",
   "execution_count": 6,
   "metadata": {},
   "outputs": [],
   "source": [
    "cat_features = ['f_{}'.format(i) for i in range(1, 42)]\n",
    "bin_features = ['f_{}'.format(i) for i in range(33, 42)]\n",
    "num_features = ['f_{}'.format(i) for i in range(42, 80)]\n",
    "date_features = ['f_1']"
   ]
  },
  {
   "cell_type": "code",
   "execution_count": 7,
   "metadata": {},
   "outputs": [],
   "source": [
    "for f in cat_features:\n",
    "    le = LabelEncoder()\n",
    "    data[f] = le.fit_transform(data[f])"
   ]
  },
  {
   "cell_type": "code",
   "execution_count": 8,
   "metadata": {},
   "outputs": [
    {
     "name": "stdout",
     "output_type": "stream",
     "text": [
      "f_0             0.000000\n",
      "f_1             0.038446\n",
      "f_2             0.005263\n",
      "f_3             0.290339\n",
      "f_4             0.002065\n",
      "                  ...   \n",
      "f_77            0.998190\n",
      "f_78            0.973566\n",
      "f_79            0.990726\n",
      "is_clicked      0.745728\n",
      "is_installed    0.789522\n",
      "Length: 82, dtype: float64\n"
     ]
    }
   ],
   "source": [
    "zero_count = data.eq(0).sum()  # 计算每列中值为 0 的数量\n",
    "zero_ratio = zero_count / len(data)  # 计算每列中值为 0 的占比\n",
    "print(zero_ratio)"
   ]
  },
  {
   "cell_type": "code",
   "execution_count": 9,
   "metadata": {},
   "outputs": [
    {
     "data": {
      "text/plain": [
       "(3646825, 82)"
      ]
     },
     "execution_count": 9,
     "metadata": {},
     "output_type": "execute_result"
    }
   ],
   "source": [
    "data.shape "
   ]
  },
  {
   "cell_type": "code",
   "execution_count": 10,
   "metadata": {},
   "outputs": [
    {
     "data": {
      "text/html": [
       "<div>\n",
       "<style scoped>\n",
       "    .dataframe tbody tr th:only-of-type {\n",
       "        vertical-align: middle;\n",
       "    }\n",
       "\n",
       "    .dataframe tbody tr th {\n",
       "        vertical-align: top;\n",
       "    }\n",
       "\n",
       "    .dataframe thead th {\n",
       "        text-align: right;\n",
       "    }\n",
       "</style>\n",
       "<table border=\"1\" class=\"dataframe\">\n",
       "  <thead>\n",
       "    <tr style=\"text-align: right;\">\n",
       "      <th></th>\n",
       "      <th>f_0</th>\n",
       "      <th>f_1</th>\n",
       "      <th>f_2</th>\n",
       "      <th>f_3</th>\n",
       "      <th>f_4</th>\n",
       "      <th>f_5</th>\n",
       "      <th>f_6</th>\n",
       "      <th>f_7</th>\n",
       "      <th>f_8</th>\n",
       "      <th>f_9</th>\n",
       "      <th>...</th>\n",
       "      <th>f_72</th>\n",
       "      <th>f_73</th>\n",
       "      <th>f_74</th>\n",
       "      <th>f_75</th>\n",
       "      <th>f_76</th>\n",
       "      <th>f_77</th>\n",
       "      <th>f_78</th>\n",
       "      <th>f_79</th>\n",
       "      <th>is_clicked</th>\n",
       "      <th>is_installed</th>\n",
       "    </tr>\n",
       "  </thead>\n",
       "  <tbody>\n",
       "    <tr>\n",
       "      <th>2596150</th>\n",
       "      <td>64505</td>\n",
       "      <td>58</td>\n",
       "      <td>3346</td>\n",
       "      <td>22294</td>\n",
       "      <td>6767</td>\n",
       "      <td>25604</td>\n",
       "      <td>5040</td>\n",
       "      <td>27941</td>\n",
       "      <td>19203</td>\n",
       "      <td>31372</td>\n",
       "      <td>...</td>\n",
       "      <td>0.571121</td>\n",
       "      <td>0.0</td>\n",
       "      <td>0.0</td>\n",
       "      <td>0.269948</td>\n",
       "      <td>0.0</td>\n",
       "      <td>0.0</td>\n",
       "      <td>0.0</td>\n",
       "      <td>0.0</td>\n",
       "      <td>0</td>\n",
       "      <td>0</td>\n",
       "    </tr>\n",
       "  </tbody>\n",
       "</table>\n",
       "<p>1 rows × 82 columns</p>\n",
       "</div>"
      ],
      "text/plain": [
       "           f_0  f_1   f_2    f_3   f_4    f_5   f_6    f_7    f_8    f_9  ...  \\\n",
       "2596150  64505   58  3346  22294  6767  25604  5040  27941  19203  31372  ...   \n",
       "\n",
       "             f_72  f_73  f_74      f_75  f_76  f_77  f_78  f_79  is_clicked  \\\n",
       "2596150  0.571121   0.0   0.0  0.269948   0.0   0.0   0.0   0.0           0   \n",
       "\n",
       "         is_installed  \n",
       "2596150             0  \n",
       "\n",
       "[1 rows x 82 columns]"
      ]
     },
     "execution_count": 10,
     "metadata": {},
     "output_type": "execute_result"
    }
   ],
   "source": [
    "train_data[train_data['f_0'] == 64505]"
   ]
  },
  {
   "cell_type": "code",
   "execution_count": 11,
   "metadata": {},
   "outputs": [
    {
     "data": {
      "text/html": [
       "<div>\n",
       "<style scoped>\n",
       "    .dataframe tbody tr th:only-of-type {\n",
       "        vertical-align: middle;\n",
       "    }\n",
       "\n",
       "    .dataframe tbody tr th {\n",
       "        vertical-align: top;\n",
       "    }\n",
       "\n",
       "    .dataframe thead th {\n",
       "        text-align: right;\n",
       "    }\n",
       "</style>\n",
       "<table border=\"1\" class=\"dataframe\">\n",
       "  <thead>\n",
       "    <tr style=\"text-align: right;\">\n",
       "      <th></th>\n",
       "      <th>f_0</th>\n",
       "      <th>f_1</th>\n",
       "      <th>f_2</th>\n",
       "      <th>f_3</th>\n",
       "      <th>f_4</th>\n",
       "      <th>f_5</th>\n",
       "      <th>f_6</th>\n",
       "      <th>f_7</th>\n",
       "      <th>f_8</th>\n",
       "      <th>f_9</th>\n",
       "      <th>...</th>\n",
       "      <th>f_70</th>\n",
       "      <th>f_71</th>\n",
       "      <th>f_72</th>\n",
       "      <th>f_73</th>\n",
       "      <th>f_74</th>\n",
       "      <th>f_75</th>\n",
       "      <th>f_76</th>\n",
       "      <th>f_77</th>\n",
       "      <th>f_78</th>\n",
       "      <th>f_79</th>\n",
       "    </tr>\n",
       "  </thead>\n",
       "  <tbody>\n",
       "    <tr>\n",
       "      <th>0</th>\n",
       "      <td>64505</td>\n",
       "      <td>67</td>\n",
       "      <td>26325</td>\n",
       "      <td>7152</td>\n",
       "      <td>21563</td>\n",
       "      <td>19475</td>\n",
       "      <td>31440</td>\n",
       "      <td>27941</td>\n",
       "      <td>21621</td>\n",
       "      <td>14659</td>\n",
       "      <td>...</td>\n",
       "      <td>1.519085</td>\n",
       "      <td>0.0</td>\n",
       "      <td>0.0</td>\n",
       "      <td>0.0</td>\n",
       "      <td>0.0</td>\n",
       "      <td>0.0</td>\n",
       "      <td>0.0</td>\n",
       "      <td>0.0</td>\n",
       "      <td>0.0</td>\n",
       "      <td>0.0</td>\n",
       "    </tr>\n",
       "  </tbody>\n",
       "</table>\n",
       "<p>1 rows × 80 columns</p>\n",
       "</div>"
      ],
      "text/plain": [
       "     f_0  f_1    f_2   f_3    f_4    f_5    f_6    f_7    f_8    f_9  ...  \\\n",
       "0  64505   67  26325  7152  21563  19475  31440  27941  21621  14659  ...   \n",
       "\n",
       "       f_70  f_71  f_72  f_73  f_74  f_75  f_76  f_77  f_78  f_79  \n",
       "0  1.519085   0.0   0.0   0.0   0.0   0.0   0.0   0.0   0.0   0.0  \n",
       "\n",
       "[1 rows x 80 columns]"
      ]
     },
     "execution_count": 11,
     "metadata": {},
     "output_type": "execute_result"
    }
   ],
   "source": [
    "test_data[test_data['f_0'] == 64505]"
   ]
  },
  {
   "cell_type": "code",
   "execution_count": 12,
   "metadata": {},
   "outputs": [
    {
     "data": {
      "text/html": [
       "<div>\n",
       "<style scoped>\n",
       "    .dataframe tbody tr th:only-of-type {\n",
       "        vertical-align: middle;\n",
       "    }\n",
       "\n",
       "    .dataframe tbody tr th {\n",
       "        vertical-align: top;\n",
       "    }\n",
       "\n",
       "    .dataframe thead th {\n",
       "        text-align: right;\n",
       "    }\n",
       "</style>\n",
       "<table border=\"1\" class=\"dataframe\">\n",
       "  <thead>\n",
       "    <tr style=\"text-align: right;\">\n",
       "      <th></th>\n",
       "      <th>f_0</th>\n",
       "      <th>f_1</th>\n",
       "      <th>f_2</th>\n",
       "      <th>f_3</th>\n",
       "      <th>f_4</th>\n",
       "      <th>f_5</th>\n",
       "      <th>f_6</th>\n",
       "      <th>f_7</th>\n",
       "      <th>f_8</th>\n",
       "      <th>f_9</th>\n",
       "      <th>...</th>\n",
       "      <th>f_72</th>\n",
       "      <th>f_73</th>\n",
       "      <th>f_74</th>\n",
       "      <th>f_75</th>\n",
       "      <th>f_76</th>\n",
       "      <th>f_77</th>\n",
       "      <th>f_78</th>\n",
       "      <th>f_79</th>\n",
       "      <th>is_clicked</th>\n",
       "      <th>is_installed</th>\n",
       "    </tr>\n",
       "  </thead>\n",
       "  <tbody>\n",
       "    <tr>\n",
       "      <th>0</th>\n",
       "      <td>2541188</td>\n",
       "      <td>12</td>\n",
       "      <td>114</td>\n",
       "      <td>4</td>\n",
       "      <td>191</td>\n",
       "      <td>4</td>\n",
       "      <td>155</td>\n",
       "      <td>0</td>\n",
       "      <td>1</td>\n",
       "      <td>4</td>\n",
       "      <td>...</td>\n",
       "      <td>2.855607</td>\n",
       "      <td>2.284486</td>\n",
       "      <td>0.115692</td>\n",
       "      <td>1.156922</td>\n",
       "      <td>0.269948</td>\n",
       "      <td>0.0</td>\n",
       "      <td>0.0</td>\n",
       "      <td>0.0</td>\n",
       "      <td>0.0</td>\n",
       "      <td>0.0</td>\n",
       "    </tr>\n",
       "    <tr>\n",
       "      <th>1</th>\n",
       "      <td>2541440</td>\n",
       "      <td>15</td>\n",
       "      <td>21</td>\n",
       "      <td>4</td>\n",
       "      <td>390</td>\n",
       "      <td>3</td>\n",
       "      <td>559</td>\n",
       "      <td>0</td>\n",
       "      <td>2</td>\n",
       "      <td>3</td>\n",
       "      <td>...</td>\n",
       "      <td>0.000000</td>\n",
       "      <td>0.000000</td>\n",
       "      <td>0.000000</td>\n",
       "      <td>1.156922</td>\n",
       "      <td>0.269948</td>\n",
       "      <td>0.0</td>\n",
       "      <td>0.0</td>\n",
       "      <td>0.0</td>\n",
       "      <td>0.0</td>\n",
       "      <td>0.0</td>\n",
       "    </tr>\n",
       "    <tr>\n",
       "      <th>2</th>\n",
       "      <td>2541480</td>\n",
       "      <td>20</td>\n",
       "      <td>131</td>\n",
       "      <td>4</td>\n",
       "      <td>228</td>\n",
       "      <td>3</td>\n",
       "      <td>3261</td>\n",
       "      <td>0</td>\n",
       "      <td>1</td>\n",
       "      <td>6</td>\n",
       "      <td>...</td>\n",
       "      <td>0.571121</td>\n",
       "      <td>0.000000</td>\n",
       "      <td>0.000000</td>\n",
       "      <td>1.156922</td>\n",
       "      <td>0.269948</td>\n",
       "      <td>0.0</td>\n",
       "      <td>0.0</td>\n",
       "      <td>0.0</td>\n",
       "      <td>1.0</td>\n",
       "      <td>0.0</td>\n",
       "    </tr>\n",
       "    <tr>\n",
       "      <th>3</th>\n",
       "      <td>2541780</td>\n",
       "      <td>18</td>\n",
       "      <td>73</td>\n",
       "      <td>2</td>\n",
       "      <td>317</td>\n",
       "      <td>3</td>\n",
       "      <td>3843</td>\n",
       "      <td>0</td>\n",
       "      <td>2</td>\n",
       "      <td>0</td>\n",
       "      <td>...</td>\n",
       "      <td>0.000000</td>\n",
       "      <td>0.000000</td>\n",
       "      <td>0.000000</td>\n",
       "      <td>0.347077</td>\n",
       "      <td>0.000000</td>\n",
       "      <td>0.0</td>\n",
       "      <td>0.0</td>\n",
       "      <td>0.0</td>\n",
       "      <td>0.0</td>\n",
       "      <td>0.0</td>\n",
       "    </tr>\n",
       "    <tr>\n",
       "      <th>4</th>\n",
       "      <td>2541833</td>\n",
       "      <td>15</td>\n",
       "      <td>44</td>\n",
       "      <td>4</td>\n",
       "      <td>519</td>\n",
       "      <td>3</td>\n",
       "      <td>5179</td>\n",
       "      <td>0</td>\n",
       "      <td>4</td>\n",
       "      <td>3</td>\n",
       "      <td>...</td>\n",
       "      <td>0.000000</td>\n",
       "      <td>0.000000</td>\n",
       "      <td>0.115692</td>\n",
       "      <td>1.156922</td>\n",
       "      <td>0.269948</td>\n",
       "      <td>0.0</td>\n",
       "      <td>0.0</td>\n",
       "      <td>0.0</td>\n",
       "      <td>0.0</td>\n",
       "      <td>0.0</td>\n",
       "    </tr>\n",
       "  </tbody>\n",
       "</table>\n",
       "<p>5 rows × 82 columns</p>\n",
       "</div>"
      ],
      "text/plain": [
       "       f_0  f_1  f_2  f_3  f_4  f_5   f_6  f_7  f_8  f_9  ...      f_72  \\\n",
       "0  2541188   12  114    4  191    4   155    0    1    4  ...  2.855607   \n",
       "1  2541440   15   21    4  390    3   559    0    2    3  ...  0.000000   \n",
       "2  2541480   20  131    4  228    3  3261    0    1    6  ...  0.571121   \n",
       "3  2541780   18   73    2  317    3  3843    0    2    0  ...  0.000000   \n",
       "4  2541833   15   44    4  519    3  5179    0    4    3  ...  0.000000   \n",
       "\n",
       "       f_73      f_74      f_75      f_76  f_77  f_78  f_79  is_clicked  \\\n",
       "0  2.284486  0.115692  1.156922  0.269948   0.0   0.0   0.0         0.0   \n",
       "1  0.000000  0.000000  1.156922  0.269948   0.0   0.0   0.0         0.0   \n",
       "2  0.000000  0.000000  1.156922  0.269948   0.0   0.0   0.0         1.0   \n",
       "3  0.000000  0.000000  0.347077  0.000000   0.0   0.0   0.0         0.0   \n",
       "4  0.000000  0.115692  1.156922  0.269948   0.0   0.0   0.0         0.0   \n",
       "\n",
       "   is_installed  \n",
       "0           0.0  \n",
       "1           0.0  \n",
       "2           0.0  \n",
       "3           0.0  \n",
       "4           0.0  \n",
       "\n",
       "[5 rows x 82 columns]"
      ]
     },
     "execution_count": 12,
     "metadata": {},
     "output_type": "execute_result"
    }
   ],
   "source": [
    "data.head()"
   ]
  },
  {
   "cell_type": "code",
   "execution_count": 13,
   "metadata": {},
   "outputs": [],
   "source": [
    "# zero_ratio = zero_ratio.sort_values(ascending=False)\n",
    "# zero_ratio.apply(lambda x: round(x, 5))\n",
    "# zero_ratio.to_csv('./output/zero.csv')"
   ]
  },
  {
   "cell_type": "code",
   "execution_count": 14,
   "metadata": {},
   "outputs": [],
   "source": [
    "num_features_select = []\n",
    "for fea in num_features:\n",
    "    if zero_ratio.loc[fea] < 0.4:\n",
    "        num_features_select.append(fea)"
   ]
  },
  {
   "cell_type": "code",
   "execution_count": 15,
   "metadata": {},
   "outputs": [
    {
     "data": {
      "text/plain": [
       "['f_42',\n",
       " 'f_43',\n",
       " 'f_51',\n",
       " 'f_55',\n",
       " 'f_57',\n",
       " 'f_58',\n",
       " 'f_59',\n",
       " 'f_64',\n",
       " 'f_65',\n",
       " 'f_66',\n",
       " 'f_67',\n",
       " 'f_70',\n",
       " 'f_74',\n",
       " 'f_75',\n",
       " 'f_76']"
      ]
     },
     "execution_count": 15,
     "metadata": {},
     "output_type": "execute_result"
    }
   ],
   "source": [
    "num_features_select"
   ]
  },
  {
   "cell_type": "code",
   "execution_count": 16,
   "metadata": {},
   "outputs": [
    {
     "name": "stderr",
     "output_type": "stream",
     "text": [
      "100%|██████████| 15/15 [00:42<00:00,  2.83s/it]\n"
     ]
    },
    {
     "data": {
      "text/plain": [
       "(3646825, 502)"
      ]
     },
     "execution_count": 16,
     "metadata": {},
     "output_type": "execute_result"
    }
   ],
   "source": [
    "for i in tqdm(range(len(num_features_select)), total=len(num_features_select)):\n",
    "    for j in range(i + 1, len(num_features_select)):\n",
    "        data[f'{num_features_select[i]}+{num_features_select[j]}'] = data[num_features_select[i]] + data[num_features_select[j]]\n",
    "        data[f'{num_features_select[i]}-{num_features_select[j]}'] = data[num_features_select[i]] - data[num_features_select[j]]\n",
    "        data[f'{num_features_select[i]}*{num_features_select[j]}'] = data[num_features_select[i]] * data[num_features_select[j]]\n",
    "        data[f'{num_features_select[i]}/{num_features_select[j]}'] = data[num_features_select[i]] / (data[num_features_select[j]] + 1e-7)\n",
    "data.shape "
   ]
  },
  {
   "cell_type": "code",
   "execution_count": 17,
   "metadata": {},
   "outputs": [
    {
     "name": "stderr",
     "output_type": "stream",
     "text": [
      "100%|██████████| 9/9 [00:16<00:00,  1.84s/it]\n"
     ]
    },
    {
     "data": {
      "text/plain": [
       "(3646825, 610)"
      ]
     },
     "execution_count": 17,
     "metadata": {},
     "output_type": "execute_result"
    }
   ],
   "source": [
    "for i in tqdm(range(len(bin_features)), total=len(bin_features)):\n",
    "    for j in range(i + 1, len(bin_features)):\n",
    "        data[f'{bin_features[i]}and{bin_features[j]}'] = data[bin_features[i]] & data[bin_features[j]]\n",
    "        data[f'{bin_features[i]}or{bin_features[j]}'] = data[bin_features[i]] | data[bin_features[j]]\n",
    "        data[f'{bin_features[i]}xor{bin_features[j]}'] = data[bin_features[i]] ^ data[bin_features[j]]\n",
    "data.shape "
   ]
  },
  {
   "cell_type": "code",
   "execution_count": 18,
   "metadata": {},
   "outputs": [],
   "source": [
    "np.save('data/data_aug_0dot4.npy', data)"
   ]
  },
  {
   "cell_type": "code",
   "execution_count": 19,
   "metadata": {},
   "outputs": [],
   "source": [
    "# data = np.load('data/data_aug_0dot4.npy')\n",
    "# data.shape "
   ]
  },
  {
   "cell_type": "code",
   "execution_count": 18,
   "metadata": {},
   "outputs": [
    {
     "data": {
      "text/plain": [
       "607"
      ]
     },
     "execution_count": 18,
     "metadata": {},
     "output_type": "execute_result"
    }
   ],
   "source": [
    "features = [fe for fe in data.columns if fe not in ['is_clicked', 'is_installed', 'f_0', 'label']]\n",
    "len(features)"
   ]
  },
  {
   "cell_type": "code",
   "execution_count": 19,
   "metadata": {},
   "outputs": [
    {
     "data": {
      "text/plain": [
       "((3485852, 610), (160973, 610), (3485852,), (3485852,))"
      ]
     },
     "execution_count": 19,
     "metadata": {},
     "output_type": "execute_result"
    }
   ],
   "source": [
    "train = data[~data['is_clicked'].isna()]\n",
    "test = data[data['is_clicked'].isna()]\n",
    "is_clicked_label = train['is_clicked'].astype('int')\n",
    "is_installed_label = train['is_installed'].astype('int')\n",
    "\n",
    "train.shape, test.shape, is_clicked_label.shape, is_installed_label.shape "
   ]
  },
  {
   "cell_type": "code",
   "execution_count": 20,
   "metadata": {},
   "outputs": [],
   "source": [
    "seed = 42\n",
    "K = 5"
   ]
  },
  {
   "cell_type": "code",
   "execution_count": 21,
   "metadata": {},
   "outputs": [],
   "source": [
    "lgb_params = {\n",
    "    'objective': 'binary',\n",
    "    'boosting_type': 'gbdt',\n",
    "    # 'metric': 'binary_logloss',  # auc??\n",
    "    'metric': 'binary_logloss',\n",
    "    'learning_rate': 0.05,\n",
    "    'num_leaves': 2 ** 6,\n",
    "    'max_depth': 8,\n",
    "    'tree_learner': 'serial',\n",
    "    'colsample_bytree': 0.8,\n",
    "    'subsample_freq': 1,\n",
    "    'subsample': 0.8,\n",
    "    'num_boost_round': 3000,\n",
    "    'max_bin': 255,\n",
    "    'verbose': -1,\n",
    "    'nthread' : -1,\n",
    "    'seed': seed,\n",
    "    'bagging_seed': seed,\n",
    "    'feature_fraction_seed': seed,\n",
    "    'early_stopping_rounds': 100,\n",
    "    # 'device': 'gpu',  # 设置使用 GPU 加速\n",
    "    # 'gpu_platform_id': 0,  # 设置 GPU 平台 id\n",
    "    # 'gpu_device_id': 0  # 设置 GPU 设备 id\n",
    "}"
   ]
  },
  {
   "attachments": {},
   "cell_type": "markdown",
   "metadata": {},
   "source": [
    "is_clicked"
   ]
  },
  {
   "cell_type": "code",
   "execution_count": 13,
   "metadata": {},
   "outputs": [],
   "source": [
    "label = is_clicked_label"
   ]
  },
  {
   "cell_type": "code",
   "execution_count": 14,
   "metadata": {},
   "outputs": [
    {
     "name": "stdout",
     "output_type": "stream",
     "text": [
      "79\n",
      "fold n°0\n",
      "[LightGBM] [Warning] num_threads is set with nthread=-1, will be overridden by n_jobs=30. Current value: num_threads=30\n",
      "Training until validation scores don't improve for 100 rounds\n",
      "[300]\ttraining's binary_logloss: 0.326966\tvalid_1's binary_logloss: 0.327212\n",
      "[600]\ttraining's binary_logloss: 0.315277\tvalid_1's binary_logloss: 0.317277\n",
      "[900]\ttraining's binary_logloss: 0.310265\tvalid_1's binary_logloss: 0.314412\n",
      "[1200]\ttraining's binary_logloss: 0.306852\tvalid_1's binary_logloss: 0.313149\n",
      "[1500]\ttraining's binary_logloss: 0.303901\tvalid_1's binary_logloss: 0.312309\n",
      "[1800]\ttraining's binary_logloss: 0.301191\tvalid_1's binary_logloss: 0.31171\n",
      "[2100]\ttraining's binary_logloss: 0.298683\tvalid_1's binary_logloss: 0.311242\n",
      "[2400]\ttraining's binary_logloss: 0.296324\tvalid_1's binary_logloss: 0.310938\n",
      "[2700]\ttraining's binary_logloss: 0.294051\tvalid_1's binary_logloss: 0.310649\n",
      "[3000]\ttraining's binary_logloss: 0.291819\tvalid_1's binary_logloss: 0.310385\n",
      "Did not meet early stopping. Best iteration is:\n",
      "[3000]\ttraining's binary_logloss: 0.291819\tvalid_1's binary_logloss: 0.310385\n",
      "fold n°1\n",
      "[LightGBM] [Warning] num_threads is set with nthread=-1, will be overridden by n_jobs=30. Current value: num_threads=30\n",
      "Training until validation scores don't improve for 100 rounds\n",
      "[300]\ttraining's binary_logloss: 0.326883\tvalid_1's binary_logloss: 0.327904\n",
      "[600]\ttraining's binary_logloss: 0.315222\tvalid_1's binary_logloss: 0.318123\n",
      "[900]\ttraining's binary_logloss: 0.310445\tvalid_1's binary_logloss: 0.315557\n",
      "[1200]\ttraining's binary_logloss: 0.306951\tvalid_1's binary_logloss: 0.314234\n",
      "[1500]\ttraining's binary_logloss: 0.303764\tvalid_1's binary_logloss: 0.313161\n",
      "[1800]\ttraining's binary_logloss: 0.300896\tvalid_1's binary_logloss: 0.312371\n",
      "[2100]\ttraining's binary_logloss: 0.298385\tvalid_1's binary_logloss: 0.311927\n",
      "[2400]\ttraining's binary_logloss: 0.296008\tvalid_1's binary_logloss: 0.311596\n",
      "[2700]\ttraining's binary_logloss: 0.293771\tvalid_1's binary_logloss: 0.311374\n",
      "[3000]\ttraining's binary_logloss: 0.291622\tvalid_1's binary_logloss: 0.31118\n",
      "Did not meet early stopping. Best iteration is:\n",
      "[3000]\ttraining's binary_logloss: 0.291622\tvalid_1's binary_logloss: 0.31118\n",
      "fold n°2\n",
      "[LightGBM] [Warning] num_threads is set with nthread=-1, will be overridden by n_jobs=30. Current value: num_threads=30\n",
      "Training until validation scores don't improve for 100 rounds\n",
      "[300]\ttraining's binary_logloss: 0.326832\tvalid_1's binary_logloss: 0.329352\n",
      "[600]\ttraining's binary_logloss: 0.314756\tvalid_1's binary_logloss: 0.31898\n",
      "[900]\ttraining's binary_logloss: 0.309872\tvalid_1's binary_logloss: 0.316182\n",
      "[1200]\ttraining's binary_logloss: 0.306538\tvalid_1's binary_logloss: 0.315046\n",
      "[1500]\ttraining's binary_logloss: 0.30357\tvalid_1's binary_logloss: 0.314219\n",
      "[1800]\ttraining's binary_logloss: 0.300829\tvalid_1's binary_logloss: 0.313534\n",
      "[2100]\ttraining's binary_logloss: 0.298297\tvalid_1's binary_logloss: 0.313067\n",
      "[2400]\ttraining's binary_logloss: 0.295964\tvalid_1's binary_logloss: 0.312725\n",
      "[2700]\ttraining's binary_logloss: 0.293694\tvalid_1's binary_logloss: 0.312439\n",
      "[3000]\ttraining's binary_logloss: 0.291561\tvalid_1's binary_logloss: 0.312276\n",
      "Did not meet early stopping. Best iteration is:\n",
      "[3000]\ttraining's binary_logloss: 0.291561\tvalid_1's binary_logloss: 0.312276\n",
      "fold n°3\n",
      "[LightGBM] [Warning] num_threads is set with nthread=-1, will be overridden by n_jobs=30. Current value: num_threads=30\n",
      "Training until validation scores don't improve for 100 rounds\n",
      "[300]\ttraining's binary_logloss: 0.327028\tvalid_1's binary_logloss: 0.328726\n",
      "[600]\ttraining's binary_logloss: 0.315402\tvalid_1's binary_logloss: 0.318808\n",
      "[900]\ttraining's binary_logloss: 0.310348\tvalid_1's binary_logloss: 0.315885\n",
      "[1200]\ttraining's binary_logloss: 0.30672\tvalid_1's binary_logloss: 0.314353\n",
      "[1500]\ttraining's binary_logloss: 0.303747\tvalid_1's binary_logloss: 0.31354\n",
      "[1800]\ttraining's binary_logloss: 0.300979\tvalid_1's binary_logloss: 0.312842\n",
      "[2100]\ttraining's binary_logloss: 0.298463\tvalid_1's binary_logloss: 0.312376\n",
      "[2400]\ttraining's binary_logloss: 0.296078\tvalid_1's binary_logloss: 0.312016\n",
      "[2700]\ttraining's binary_logloss: 0.293851\tvalid_1's binary_logloss: 0.3118\n",
      "[3000]\ttraining's binary_logloss: 0.291649\tvalid_1's binary_logloss: 0.3116\n",
      "Did not meet early stopping. Best iteration is:\n",
      "[3000]\ttraining's binary_logloss: 0.291649\tvalid_1's binary_logloss: 0.3116\n",
      "fold n°4\n",
      "[LightGBM] [Warning] num_threads is set with nthread=-1, will be overridden by n_jobs=30. Current value: num_threads=30\n",
      "Training until validation scores don't improve for 100 rounds\n",
      "[300]\ttraining's binary_logloss: 0.327614\tvalid_1's binary_logloss: 0.327973\n",
      "[600]\ttraining's binary_logloss: 0.315696\tvalid_1's binary_logloss: 0.317889\n",
      "[900]\ttraining's binary_logloss: 0.310531\tvalid_1's binary_logloss: 0.314896\n",
      "[1200]\ttraining's binary_logloss: 0.306931\tvalid_1's binary_logloss: 0.313455\n",
      "[1500]\ttraining's binary_logloss: 0.304053\tvalid_1's binary_logloss: 0.31268\n",
      "[1800]\ttraining's binary_logloss: 0.301361\tvalid_1's binary_logloss: 0.312101\n",
      "[2100]\ttraining's binary_logloss: 0.298925\tvalid_1's binary_logloss: 0.311753\n",
      "[2400]\ttraining's binary_logloss: 0.296599\tvalid_1's binary_logloss: 0.311437\n",
      "[2700]\ttraining's binary_logloss: 0.294364\tvalid_1's binary_logloss: 0.311216\n",
      "[3000]\ttraining's binary_logloss: 0.292083\tvalid_1's binary_logloss: 0.310869\n",
      "Did not meet early stopping. Best iteration is:\n",
      "[3000]\ttraining's binary_logloss: 0.292083\tvalid_1's binary_logloss: 0.310869\n"
     ]
    }
   ],
   "source": [
    "label = is_clicked_label\n",
    "\n",
    "KF = StratifiedKFold(n_splits=K, random_state=seed, shuffle=True)\n",
    "feat_imp_lgb_cli = list()\n",
    "\n",
    "oof_lgb_cli = np.zeros(len(train))\n",
    "predictions_lgb_cli = np.zeros((len(test)))\n",
    "print(len(features))\n",
    "\n",
    "# 模型训练\n",
    "for fold_, (trn_idx, val_idx) in enumerate(KF.split(train.values, label.values)):\n",
    "    print(\"fold n°{}\".format(fold_))\n",
    "    trn_data = lgb.Dataset(train.iloc[trn_idx][features], label=label.iloc[trn_idx])\n",
    "    val_data = lgb.Dataset(train.iloc[val_idx][features], label=label.iloc[val_idx])\n",
    "    \n",
    "    num_round = 3000\n",
    "    clf = lgb.train(\n",
    "        lgb_params,\n",
    "        trn_data,\n",
    "        num_round,\n",
    "        valid_sets=[trn_data, val_data],\n",
    "        verbose_eval=300,\n",
    "        early_stopping_rounds=100,\n",
    "    )\n",
    "\n",
    "    oof_lgb_cli[val_idx] = clf.predict(train.iloc[val_idx][features], num_iteration=clf.best_iteration)\n",
    "    predictions_lgb_cli[:] += clf.predict(test[features], num_iteration=clf.best_iteration) / K\n",
    "    feat_imp_lgb_cli.append(clf.feature_importance())"
   ]
  },
  {
   "cell_type": "code",
   "execution_count": 15,
   "metadata": {},
   "outputs": [
    {
     "name": "stdout",
     "output_type": "stream",
     "text": [
      "Logloss: 4.0459, 0.3113, AUC: 0.8730, Precision: 0.8972, Recall: 0.5276, F1 Score: 0.6644\n"
     ]
    }
   ],
   "source": [
    "logloss = metrics.log_loss(label, [1 if i >= 0.5 else 0 for i in oof_lgb_cli], labels=[0, 1])\n",
    "logloss2 = metrics.log_loss(label, oof_lgb_cli)\n",
    "\n",
    "acc = metrics.roc_auc_score(label, oof_lgb_cli)\n",
    "precision = metrics.precision_score(label, [1 if i >= 0.5 else 0 for i in oof_lgb_cli])\n",
    "recall = metrics.recall_score(label, [1 if i >= 0.5 else 0 for i in oof_lgb_cli])\n",
    "f1 = metrics.f1_score(label, [1 if i >= 0.5 else 0 for i in oof_lgb_cli])\n",
    "\n",
    "print(f\"Logloss: {logloss:.4f}, {logloss2:.4f}, AUC: {acc:.4f}, Precision: {precision:.4f}, Recall: {recall:.4f}, F1 Score: {f1:.4f}\")"
   ]
  },
  {
   "cell_type": "code",
   "execution_count": 21,
   "metadata": {},
   "outputs": [
    {
     "data": {
      "text/plain": [
       "count       79.000000\n",
       "mean      2390.579747\n",
       "std       2535.470191\n",
       "min          0.000000\n",
       "25%        309.900000\n",
       "50%       1537.000000\n",
       "75%       3903.800000\n",
       "max      10211.200000\n",
       "dtype: float64"
      ]
     },
     "execution_count": 21,
     "metadata": {},
     "output_type": "execute_result"
    }
   ],
   "source": [
    "avg_imp_cli = pd.DataFrame(feat_imp_lgb_cli, columns = features).apply(np.mean, axis = 0).sort_values(ascending=False)\n",
    "avg_imp_cli.describe()"
   ]
  },
  {
   "cell_type": "code",
   "execution_count": 22,
   "metadata": {},
   "outputs": [
    {
     "data": {
      "text/plain": [
       "f_4     10211.2\n",
       "f_11     9546.8\n",
       "f_15     9148.8\n",
       "f_42     8856.2\n",
       "f_6      8218.0\n",
       "         ...   \n",
       "f_29        0.0\n",
       "f_7         0.0\n",
       "f_28        0.0\n",
       "f_27        0.0\n",
       "f_26        0.0\n",
       "Length: 79, dtype: float64"
      ]
     },
     "execution_count": 22,
     "metadata": {},
     "output_type": "execute_result"
    }
   ],
   "source": [
    "avg_imp_cli"
   ]
  },
  {
   "attachments": {},
   "cell_type": "markdown",
   "metadata": {},
   "source": [
    "# is_installed"
   ]
  },
  {
   "cell_type": "code",
   "execution_count": 24,
   "metadata": {},
   "outputs": [],
   "source": [
    "label = is_installed_label"
   ]
  },
  {
   "attachments": {},
   "cell_type": "markdown",
   "metadata": {},
   "source": [
    "lightgbm"
   ]
  },
  {
   "cell_type": "code",
   "execution_count": 25,
   "metadata": {},
   "outputs": [],
   "source": [
    "lgb_params = {\n",
    "    'objective': 'binary',\n",
    "    'boosting_type': 'gbdt',\n",
    "    # 'metric': 'binary_logloss',  # auc??\n",
    "    'metric': 'binary_logloss',\n",
    "    'learning_rate': 0.05,\n",
    "    'num_leaves': 2 ** 6,\n",
    "    'max_depth': 8,\n",
    "    'tree_learner': 'serial',\n",
    "    'colsample_bytree': 0.8,\n",
    "    'subsample_freq': 1,\n",
    "    'subsample': 0.8,\n",
    "    'num_boost_round': 3000,\n",
    "    'max_bin': 255,\n",
    "    'verbose': -1,\n",
    "    'nthread' : -1,\n",
    "    'seed': seed,\n",
    "    'bagging_seed': seed,\n",
    "    'feature_fraction_seed': seed,\n",
    "    'early_stopping_rounds': 100,\n",
    "    # 'device': 'gpu',  # 设置使用 GPU 加速\n",
    "    # 'gpu_platform_id': 0,  # 设置 GPU 平台 id\n",
    "    # 'gpu_device_id': 0  # 设置 GPU 设备 id\n",
    "}"
   ]
  },
  {
   "cell_type": "code",
   "execution_count": 42,
   "metadata": {},
   "outputs": [],
   "source": [
    "features = select_fea_lgb"
   ]
  },
  {
   "cell_type": "code",
   "execution_count": 43,
   "metadata": {},
   "outputs": [
    {
     "name": "stdout",
     "output_type": "stream",
     "text": [
      "152\n",
      "fold n°0\n",
      "[LightGBM] [Warning] num_threads is set with nthread=-1, will be overridden by n_jobs=30. Current value: num_threads=30\n",
      "Training until validation scores don't improve for 100 rounds\n",
      "[300]\ttraining's binary_logloss: 0.300029\tvalid_1's binary_logloss: 0.302257\n",
      "[600]\ttraining's binary_logloss: 0.292585\tvalid_1's binary_logloss: 0.297561\n",
      "[900]\ttraining's binary_logloss: 0.287908\tvalid_1's binary_logloss: 0.295758\n",
      "[1200]\ttraining's binary_logloss: 0.284132\tvalid_1's binary_logloss: 0.294829\n",
      "[1500]\ttraining's binary_logloss: 0.280837\tvalid_1's binary_logloss: 0.294326\n",
      "[1800]\ttraining's binary_logloss: 0.277738\tvalid_1's binary_logloss: 0.293933\n",
      "[2100]\ttraining's binary_logloss: 0.27487\tvalid_1's binary_logloss: 0.293705\n",
      "[2400]\ttraining's binary_logloss: 0.272139\tvalid_1's binary_logloss: 0.293521\n",
      "[2700]\ttraining's binary_logloss: 0.269412\tvalid_1's binary_logloss: 0.293293\n",
      "[3000]\ttraining's binary_logloss: 0.266835\tvalid_1's binary_logloss: 0.293169\n",
      "Did not meet early stopping. Best iteration is:\n",
      "[3000]\ttraining's binary_logloss: 0.266835\tvalid_1's binary_logloss: 0.293169\n",
      "fold n°1\n",
      "[LightGBM] [Warning] num_threads is set with nthread=-1, will be overridden by n_jobs=30. Current value: num_threads=30\n",
      "Training until validation scores don't improve for 100 rounds\n",
      "[300]\ttraining's binary_logloss: 0.299835\tvalid_1's binary_logloss: 0.301707\n",
      "[600]\ttraining's binary_logloss: 0.292441\tvalid_1's binary_logloss: 0.2971\n",
      "[900]\ttraining's binary_logloss: 0.287952\tvalid_1's binary_logloss: 0.295552\n",
      "[1200]\ttraining's binary_logloss: 0.2843\tvalid_1's binary_logloss: 0.294762\n",
      "[1500]\ttraining's binary_logloss: 0.280893\tvalid_1's binary_logloss: 0.294115\n",
      "[1800]\ttraining's binary_logloss: 0.277822\tvalid_1's binary_logloss: 0.293727\n",
      "[2100]\ttraining's binary_logloss: 0.27486\tvalid_1's binary_logloss: 0.293355\n",
      "[2400]\ttraining's binary_logloss: 0.272081\tvalid_1's binary_logloss: 0.293145\n",
      "[2700]\ttraining's binary_logloss: 0.269452\tvalid_1's binary_logloss: 0.293012\n",
      "[3000]\ttraining's binary_logloss: 0.266907\tvalid_1's binary_logloss: 0.292872\n",
      "Did not meet early stopping. Best iteration is:\n",
      "[3000]\ttraining's binary_logloss: 0.266907\tvalid_1's binary_logloss: 0.292872\n",
      "fold n°2\n",
      "[LightGBM] [Warning] num_threads is set with nthread=-1, will be overridden by n_jobs=30. Current value: num_threads=30\n",
      "Training until validation scores don't improve for 100 rounds\n",
      "[300]\ttraining's binary_logloss: 0.299982\tvalid_1's binary_logloss: 0.302689\n",
      "[600]\ttraining's binary_logloss: 0.292383\tvalid_1's binary_logloss: 0.297903\n",
      "[900]\ttraining's binary_logloss: 0.287769\tvalid_1's binary_logloss: 0.29622\n",
      "[1200]\ttraining's binary_logloss: 0.283906\tvalid_1's binary_logloss: 0.295167\n",
      "[1500]\ttraining's binary_logloss: 0.280555\tvalid_1's binary_logloss: 0.294616\n",
      "[1800]\ttraining's binary_logloss: 0.277413\tvalid_1's binary_logloss: 0.294165\n",
      "[2100]\ttraining's binary_logloss: 0.274559\tvalid_1's binary_logloss: 0.293952\n",
      "[2400]\ttraining's binary_logloss: 0.271734\tvalid_1's binary_logloss: 0.293675\n",
      "[2700]\ttraining's binary_logloss: 0.269123\tvalid_1's binary_logloss: 0.293548\n",
      "[3000]\ttraining's binary_logloss: 0.266574\tvalid_1's binary_logloss: 0.293427\n",
      "Did not meet early stopping. Best iteration is:\n",
      "[3000]\ttraining's binary_logloss: 0.266574\tvalid_1's binary_logloss: 0.293427\n",
      "fold n°3\n",
      "[LightGBM] [Warning] num_threads is set with nthread=-1, will be overridden by n_jobs=30. Current value: num_threads=30\n",
      "Training until validation scores don't improve for 100 rounds\n",
      "[300]\ttraining's binary_logloss: 0.300411\tvalid_1's binary_logloss: 0.30265\n",
      "[600]\ttraining's binary_logloss: 0.29284\tvalid_1's binary_logloss: 0.297952\n",
      "[900]\ttraining's binary_logloss: 0.287995\tvalid_1's binary_logloss: 0.296031\n",
      "[1200]\ttraining's binary_logloss: 0.284291\tvalid_1's binary_logloss: 0.29517\n",
      "[1500]\ttraining's binary_logloss: 0.28081\tvalid_1's binary_logloss: 0.294379\n",
      "[1800]\ttraining's binary_logloss: 0.277729\tvalid_1's binary_logloss: 0.29398\n",
      "[2100]\ttraining's binary_logloss: 0.274758\tvalid_1's binary_logloss: 0.293641\n",
      "[2400]\ttraining's binary_logloss: 0.271985\tvalid_1's binary_logloss: 0.293437\n",
      "[2700]\ttraining's binary_logloss: 0.269309\tvalid_1's binary_logloss: 0.293308\n",
      "[3000]\ttraining's binary_logloss: 0.266734\tvalid_1's binary_logloss: 0.293181\n",
      "Did not meet early stopping. Best iteration is:\n",
      "[3000]\ttraining's binary_logloss: 0.266734\tvalid_1's binary_logloss: 0.293181\n",
      "fold n°4\n",
      "[LightGBM] [Warning] num_threads is set with nthread=-1, will be overridden by n_jobs=30. Current value: num_threads=30\n",
      "Training until validation scores don't improve for 100 rounds\n",
      "[300]\ttraining's binary_logloss: 0.300365\tvalid_1's binary_logloss: 0.303005\n",
      "[600]\ttraining's binary_logloss: 0.292513\tvalid_1's binary_logloss: 0.297953\n",
      "[900]\ttraining's binary_logloss: 0.287915\tvalid_1's binary_logloss: 0.296292\n",
      "[1200]\ttraining's binary_logloss: 0.284043\tvalid_1's binary_logloss: 0.295297\n",
      "[1500]\ttraining's binary_logloss: 0.280663\tvalid_1's binary_logloss: 0.294653\n",
      "[1800]\ttraining's binary_logloss: 0.277565\tvalid_1's binary_logloss: 0.294189\n",
      "[2100]\ttraining's binary_logloss: 0.274593\tvalid_1's binary_logloss: 0.293782\n",
      "[2400]\ttraining's binary_logloss: 0.271774\tvalid_1's binary_logloss: 0.29352\n",
      "[2700]\ttraining's binary_logloss: 0.269053\tvalid_1's binary_logloss: 0.293323\n",
      "[3000]\ttraining's binary_logloss: 0.266464\tvalid_1's binary_logloss: 0.293197\n",
      "Did not meet early stopping. Best iteration is:\n",
      "[3000]\ttraining's binary_logloss: 0.266464\tvalid_1's binary_logloss: 0.293197\n"
     ]
    }
   ],
   "source": [
    "label = is_installed_label\n",
    "\n",
    "KF = StratifiedKFold(n_splits=K, random_state=seed, shuffle=True)\n",
    "feat_imp_lgb_ins = list()\n",
    "\n",
    "oof_lgb_ins = np.zeros(len(train))\n",
    "predictions_lgb_ins = np.zeros((len(test)))\n",
    "print(len(features))\n",
    "\n",
    "# 模型训练\n",
    "for fold_, (trn_idx, val_idx) in enumerate(KF.split(train.values, label.values)):\n",
    "    print(\"fold n°{}\".format(fold_))\n",
    "    trn_data = lgb.Dataset(train.iloc[trn_idx][features], label=label.iloc[trn_idx])\n",
    "    val_data = lgb.Dataset(train.iloc[val_idx][features], label=label.iloc[val_idx])\n",
    "    \n",
    "    num_round = 3000\n",
    "    clf = lgb.train(\n",
    "        lgb_params,\n",
    "        trn_data,\n",
    "        num_round,\n",
    "        valid_sets=[trn_data, val_data],\n",
    "        verbose_eval=300,\n",
    "        early_stopping_rounds=100,\n",
    "    )\n",
    "\n",
    "    oof_lgb_ins[val_idx] = clf.predict(train.iloc[val_idx][features], num_iteration=clf.best_iteration)\n",
    "    predictions_lgb_ins[:] += clf.predict(test[features], num_iteration=clf.best_iteration) / K\n",
    "    feat_imp_lgb_ins.append(clf.feature_importance())"
   ]
  },
  {
   "cell_type": "code",
   "execution_count": 44,
   "metadata": {},
   "outputs": [
    {
     "name": "stdout",
     "output_type": "stream",
     "text": [
      "Logloss: 0.2932, AUC: 0.8809, Precision: 0.7924, Recall: 0.3800, F1 Score: 0.5137\n"
     ]
    }
   ],
   "source": [
    "# logloss = metrics.log_loss(label, [1 if i >= 0.5 else 0 for i in oof_lgb_ins], labels=[0, 1])\n",
    "logloss = metrics.log_loss(label, oof_lgb_ins)\n",
    "acc = metrics.roc_auc_score(label, oof_lgb_ins)\n",
    "precision = metrics.precision_score(label, [1 if i >= 0.5 else 0 for i in oof_lgb_ins])\n",
    "recall = metrics.recall_score(label, [1 if i >= 0.5 else 0 for i in oof_lgb_ins])\n",
    "f1 = metrics.f1_score(label, [1 if i >= 0.5 else 0 for i in oof_lgb_ins])\n",
    "\n",
    "print(f\"Logloss: {logloss:.4f}, AUC: {acc:.4f}, Precision: {precision:.4f}, Recall: {recall:.4f}, F1 Score: {f1:.4f}\")"
   ]
  },
  {
   "cell_type": "code",
   "execution_count": null,
   "metadata": {},
   "outputs": [],
   "source": [
    "submission = pd.DataFrame()\n",
    "submission[\"RowId\"] = test_data[\"f_0\"]\n",
    "submission[\"is_clicked\"] = np.random.random((test_data.shape[0]))\n",
    "submission[\"is_installed\"] = predictions_lgb_ins\n",
    "submission.to_csv('./output/lgb_42_sep_train_logloss_float_{}.csv'.format(len(features)), index=False, sep='\\t')"
   ]
  },
  {
   "cell_type": "code",
   "execution_count": 38,
   "metadata": {},
   "outputs": [
    {
     "data": {
      "text/plain": [
       "count     607.000000\n",
       "mean      301.620099\n",
       "std       490.934147\n",
       "min         0.000000\n",
       "25%        51.400000\n",
       "50%       196.800000\n",
       "75%       357.000000\n",
       "max      5365.600000\n",
       "dtype: float64"
      ]
     },
     "execution_count": 38,
     "metadata": {},
     "output_type": "execute_result"
    }
   ],
   "source": [
    "avg_imp_lgb_ins = pd.DataFrame(feat_imp_lgb_ins, columns = features).apply(np.mean, axis = 0).sort_values(ascending=False)\n",
    "avg_imp_lgb_ins.describe()"
   ]
  },
  {
   "cell_type": "code",
   "execution_count": 39,
   "metadata": {},
   "outputs": [
    {
     "name": "stdout",
     "output_type": "stream",
     "text": [
      "152\n",
      "['f_11', 'f_15', 'f_4', 'f_6', 'f_17', 'f_61', 'f_1', 'f_12', 'f_62', 'f_14', 'f_63', 'f_2', 'f_13', 'f_16', 'f_18', 'f_54', 'f_72', 'f_42/f_57', 'f_5', 'f_56', 'f_8', 'f_42/f_55', 'f_42/f_74', 'f_9', 'f_10', 'f_55/f_57', 'f_52', 'f_42*f_51', 'f_42*f_57', 'f_42+f_51', 'f_42/f_59', 'f_55-f_57', 'f_20', 'f_42*f_64', 'f_42-f_51', 'f_42/f_64', 'f_42*f_65', 'f_42*f_55', 'f_42/f_51', 'f_57/f_74', 'f_42*f_59', 'f_42/f_76', 'f_42/f_65', 'f_57+f_58', 'f_53', 'f_19', 'f_32', 'f_57+f_59', 'f_57-f_59', 'f_55+f_58', 'f_42/f_70', 'f_42/f_75', 'f_57+f_67', 'f_57-f_67', 'f_57-f_58', 'f_55-f_58', 'f_42/f_58', 'f_55+f_59', 'f_42*f_58', 'f_42*f_70', 'f_55+f_67', 'f_51/f_57', 'f_51*f_57', 'f_55-f_59', 'f_55-f_67', 'f_73', 'f_64/f_65', 'f_51/f_55', 'f_57*f_64', 'f_43-f_66', 'f_42*f_74', 'f_68', 'f_57*f_65', 'f_42*f_43', 'f_51/f_64', 'f_42+f_59', 'f_69', 'f_51*f_55', 'f_51+f_57', 'f_57/f_64', 'f_57+f_70', 'f_58/f_59', 'f_43+f_57', 'f_55/f_74', 'f_55*f_64', 'f_59-f_67', 'f_57-f_70', 'f_75/f_76', 'f_42/f_43', 'f_57/f_59', 'f_57*f_59', 'f_50', 'f_55+f_70', 'f_51-f_57', 'f_58-f_67', 'f_51+f_55', 'f_58-f_59', 'f_43+f_55', 'f_51/f_65', 'f_55*f_65', 'f_55*f_59', 'f_57/f_65', 'f_42-f_59', 'f_55/f_64', 'f_43/f_66', 'f_42*f_66', 'f_55-f_70', 'f_51/f_59', 'f_42+f_65', 'f_57/f_70', 'f_43-f_57', 'f_42*f_75', 'f_42/f_66', 'f_3', 'f_43/f_55', 'f_55/f_59', 'f_51*f_59', 'f_43/f_57', 'f_57/f_75', 'f_57*f_58', 'f_43-f_55', 'f_55/f_65', 'f_57-f_75', 'f_42-f_65', 'f_57+f_66', 'f_57/f_58', 'f_58-f_75', 'f_57+f_75', 'f_57*f_70', 'f_67/f_74', 'f_59*f_65', 'f_42-f_67', 'f_51-f_55', 'f_55+f_57', 'f_67-f_75', 'f_65/f_74', 'f_21', 'f_59/f_70', 'f_57-f_66', 'f_59/f_74', 'f_43-f_70', 'f_55-f_75', 'f_58/f_74', 'f_55+f_66', 'f_59-f_70', 'f_58+f_75', 'f_58/f_70', 'f_42-f_75', 'f_67/f_75', 'f_55-f_66', 'f_42+f_67', 'f_59*f_64']\n"
     ]
    }
   ],
   "source": [
    "select_fea_lgb = []\n",
    "for i in range(len(avg_imp_lgb_ins)):\n",
    "    if avg_imp_lgb_ins.iloc[i] >= 357.000000:\n",
    "        select_fea_lgb.append(avg_imp_lgb_ins.index[i])\n",
    "print(len(select_fea_lgb))\n",
    "print(select_fea_lgb)"
   ]
  },
  {
   "attachments": {},
   "cell_type": "markdown",
   "metadata": {},
   "source": [
    "xgboost"
   ]
  },
  {
   "cell_type": "code",
   "execution_count": 31,
   "metadata": {},
   "outputs": [],
   "source": [
    "xgb_params = {\n",
    "    'objective': 'binary:logistic',\n",
    "    'eval_metric': 'logloss',\n",
    "    'random_state': seed,\n",
    "    'tree_method': 'hist',\n",
    "    'booster': 'gbtree',\n",
    "    'n_estimators': 1000, \n",
    "    'learning_rate': 0.1,\n",
    "    'max_depth': 6,\n",
    "    'min_child_weight': 12, \n",
    "    'subsample': 0.8,\n",
    "    'colsample_bytree': 1.0, \n",
    "    'alpha': 0.7,\n",
    "    'lambda': 0.1, \n",
    "    'gamma': 0.1, \n",
    "    \"nthread\": -1\n",
    "}"
   ]
  },
  {
   "cell_type": "code",
   "execution_count": null,
   "metadata": {},
   "outputs": [],
   "source": [
    "xgb_params = {\n",
    "    'booster': 'gbtree',\n",
    "    'objective': 'binary:logistic',\n",
    "    'eval_metric': 'logloss',\n",
    "    'gamma': 1,\n",
    "    'min_child_weight': 1.5,\n",
    "    'max_depth': 6,\n",
    "    'lambda': 10,\n",
    "    'subsample': 0.7,\n",
    "    'colsample_bytree': 0.7,\n",
    "    'colsample_bylevel': 0.7,\n",
    "    'eta': 0.05,\n",
    "    'tree_method': 'exact',\n",
    "    'seed': seed,\n",
    "    'nthread': -1\n",
    "}"
   ]
  },
  {
   "cell_type": "code",
   "execution_count": 45,
   "metadata": {},
   "outputs": [],
   "source": [
    "features = select_fea_xgb"
   ]
  },
  {
   "cell_type": "code",
   "execution_count": 46,
   "metadata": {},
   "outputs": [
    {
     "name": "stdout",
     "output_type": "stream",
     "text": [
      "142\n",
      "fold n°0\n",
      "[22:40:41] WARNING: ../src/learner.cc:767: \n",
      "Parameters: { \"n_estimators\" } are not used.\n",
      "\n",
      "[0]\ttrain-logloss:0.63845\tval-logloss:0.63845\n",
      "[300]\ttrain-logloss:0.29736\tval-logloss:0.30089\n",
      "[600]\ttrain-logloss:0.28938\tval-logloss:0.29663\n",
      "[900]\ttrain-logloss:0.28389\tval-logloss:0.29472\n",
      "[1200]\ttrain-logloss:0.27970\tval-logloss:0.29413\n",
      "[1500]\ttrain-logloss:0.27602\tval-logloss:0.29390\n",
      "[1800]\ttrain-logloss:0.27263\tval-logloss:0.29376\n"
     ]
    }
   ],
   "source": [
    "label = is_installed_label\n",
    "\n",
    "KF = StratifiedKFold(n_splits=K, random_state=seed, shuffle=True)\n",
    "feat_imp_xgb_ins = list()\n",
    "\n",
    "oof_xgb_ins = np.zeros(len(train))\n",
    "predictions_xgb_ins = np.zeros((len(test)))\n",
    "print(len(features))\n",
    "\n",
    "# 模型训练\n",
    "for fold_, (trn_idx, val_idx) in enumerate(KF.split(train.values, label.values)):\n",
    "    print(\"fold n°{}\".format(fold_))\n",
    "    X_train, X_val = train.iloc[trn_idx][features], train.iloc[val_idx][features]\n",
    "    y_train, y_val = label.iloc[trn_idx], label.iloc[val_idx]\n",
    "    trn_data = xgb.DMatrix(X_train, label=y_train)\n",
    "    val_data = xgb.DMatrix(X_val, label=y_val)\n",
    "\n",
    "    num_round = 3000\n",
    "    clf = xgb.train(\n",
    "        xgb_params,\n",
    "        trn_data,\n",
    "        num_round,\n",
    "        evals = [(trn_data, 'train'), (val_data, 'val')],\n",
    "        verbose_eval=300,\n",
    "        early_stopping_rounds=100,\n",
    "    )\n",
    "\n",
    "    oof_xgb_ins[val_idx] = clf.predict(val_data, iteration_range=(0, clf.best_iteration))\n",
    "    predictions_xgb_ins[:] += clf.predict(xgb.DMatrix(test[features]), iteration_range=(0, clf.best_iteration)) / K\n",
    "    feat_imp_xgb_ins.append(clf.get_score())"
   ]
  },
  {
   "cell_type": "code",
   "execution_count": null,
   "metadata": {},
   "outputs": [
    {
     "name": "stdout",
     "output_type": "stream",
     "text": [
      "Logloss: 0.2930, AUC: 0.8811, Precision: 0.7847, Recall: 0.3866, F1 Score: 0.5180\n"
     ]
    }
   ],
   "source": [
    "# logloss = metrics.log_loss(label, [1 if i >= 0.5 else 0 for i in oof_xgb_ins], labels=[0, 1])\n",
    "logloss = metrics.log_loss(label, oof_xgb_ins)\n",
    "acc = metrics.roc_auc_score(label, oof_xgb_ins)\n",
    "precision = metrics.precision_score(label, [1 if i >= 0.5 else 0 for i in oof_xgb_ins])\n",
    "recall = metrics.recall_score(label, [1 if i >= 0.5 else 0 for i in oof_xgb_ins])\n",
    "f1 = metrics.f1_score(label, [1 if i >= 0.5 else 0 for i in oof_xgb_ins])\n",
    "\n",
    "print(f\"Logloss: {logloss:.4f}, AUC: {acc:.4f}, Precision: {precision:.4f}, Recall: {recall:.4f}, F1 Score: {f1:.4f}\")"
   ]
  },
  {
   "cell_type": "code",
   "execution_count": 36,
   "metadata": {},
   "outputs": [],
   "source": [
    "submission = pd.DataFrame()\n",
    "submission[\"RowId\"] = test_data[\"f_0\"]\n",
    "submission[\"is_clicked\"] = np.random.random((test_data.shape[0]))\n",
    "submission[\"is_installed\"] = predictions_xgb_ins\n",
    "submission.to_csv('./output/xgb_42_sep_train_logloss_float_{}.csv'.format(len(features)), index=False, sep='\\t')"
   ]
  },
  {
   "cell_type": "code",
   "execution_count": 40,
   "metadata": {},
   "outputs": [
    {
     "data": {
      "text/plain": [
       "count     565.000000\n",
       "mean      166.651770\n",
       "std       284.007142\n",
       "min         1.000000\n",
       "25%        35.000000\n",
       "50%       115.000000\n",
       "75%       185.600000\n",
       "max      3402.800000\n",
       "dtype: float64"
      ]
     },
     "execution_count": 40,
     "metadata": {},
     "output_type": "execute_result"
    }
   ],
   "source": [
    "avg_imp_xgb_ins = pd.DataFrame(feat_imp_xgb_ins, columns = features).apply(np.mean, axis = 0).sort_values(ascending=False)\n",
    "avg_imp_xgb_ins.describe()"
   ]
  },
  {
   "cell_type": "code",
   "execution_count": 41,
   "metadata": {},
   "outputs": [
    {
     "name": "stdout",
     "output_type": "stream",
     "text": [
      "142\n",
      "['f_11', 'f_15', 'f_4', 'f_6', 'f_17', 'f_12', 'f_1', 'f_14', 'f_61', 'f_2', 'f_62', 'f_16', 'f_13', 'f_63', 'f_72', 'f_8', 'f_5', 'f_54', 'f_9', 'f_18', 'f_56', 'f_10', 'f_42/f_57', 'f_42/f_74', 'f_42/f_55', 'f_52', 'f_55/f_57', 'f_42*f_57', 'f_42*f_51', 'f_20', 'f_42*f_64', 'f_42+f_51', 'f_42*f_55', 'f_42/f_59', 'f_42/f_51', 'f_42/f_64', 'f_19', 'f_42-f_51', 'f_32', 'f_42/f_76', 'f_42*f_65', 'f_42*f_59', 'f_57+f_58', 'f_53', 'f_57-f_59', 'f_55-f_57', 'f_55+f_58', 'f_42*f_70', 'f_57+f_59', 'f_42/f_65', 'f_57+f_67', 'f_64/f_65', 'f_57/f_74', 'f_57-f_58', 'f_42/f_70', 'f_51*f_57', 'f_42/f_75', 'f_55-f_58', 'f_42*f_58', 'f_55+f_67', 'f_57-f_67', 'f_42+f_59', 'f_55-f_67', 'f_42/f_58', 'f_55+f_59', 'f_55-f_59', 'f_58/f_59', 'f_43-f_66', 'f_51/f_64', 'f_57*f_64', 'f_55*f_64', 'f_73', 'f_69', 'f_42*f_74', 'f_58-f_67', 'f_55*f_65', 'f_59-f_67', 'f_57*f_65', 'f_68', 'f_51/f_55', 'f_51/f_57', 'f_51*f_55', 'f_42*f_43', 'f_75/f_76', 'f_51/f_65', 'f_57/f_64', 'f_50', 'f_57/f_59', 'f_57*f_59', 'f_55*f_59', 'f_57*f_70', 'f_51+f_57', 'f_51/f_59', 'f_57+f_70', 'f_58-f_59', 'f_43+f_57', 'f_43/f_66', 'f_21', 'f_42*f_66', 'f_57-f_70', 'f_51-f_57', 'f_51*f_59', 'f_42-f_59', 'f_55+f_70', 'f_3', 'f_57/f_65', 'f_57*f_58', 'f_59-f_70', 'f_59*f_65', 'f_55*f_70', 'f_55/f_59', 'f_55/f_74', 'f_55-f_70', 'f_43-f_57', 'f_42/f_43', 'f_42+f_65', 'f_57/f_70', 'f_67/f_74', 'f_55/f_64', 'f_58/f_74', 'f_43/f_55', 'f_43+f_55', 'f_42/f_66', 'f_59/f_70', 'f_58-f_75', 'f_43/f_59', 'f_42-f_65', 'f_42-f_67', 'f_42*f_75', 'f_65*f_70', 'f_55*f_58', 'f_57-f_66', 'f_65/f_74', 'f_67/f_75', 'f_58+f_67', 'f_43-f_55', 'f_43/f_57', 'f_59*f_64', 'f_57/f_58', 'f_57+f_66', 'f_42+f_67', 'f_55/f_65']\n"
     ]
    }
   ],
   "source": [
    "select_fea_xgb = []\n",
    "for i in range(len(avg_imp_xgb_ins)):\n",
    "    if avg_imp_xgb_ins.iloc[i] >= 185.600000:\n",
    "        select_fea_xgb.append(avg_imp_xgb_ins.index[i])\n",
    "print(len(select_fea_xgb))\n",
    "print(select_fea_xgb)"
   ]
  },
  {
   "attachments": {},
   "cell_type": "markdown",
   "metadata": {},
   "source": [
    "catboost"
   ]
  },
  {
   "cell_type": "code",
   "execution_count": 37,
   "metadata": {},
   "outputs": [],
   "source": [
    "label = is_installed_label"
   ]
  },
  {
   "cell_type": "code",
   "execution_count": 38,
   "metadata": {},
   "outputs": [],
   "source": [
    "cbc_params = {\n",
    "    'random_state': seed,\n",
    "    'loss_function': 'Logloss',\n",
    "    'eval_metric': 'Logloss',\n",
    "    'verbose': False,\n",
    "    'learning_rate': 0.05,\n",
    "    'depth': 5,\n",
    "    'rsm': 0.2020238568794654,\n",
    "    # 'min_data_in_leaf': 255,\n",
    "    # 'l2_leaf_reg': 5,\n",
    "    # 'subsample': 0.7,\n",
    "    # 'use_best_model': True,\n",
    "    # 'max_leaves': 12,\n",
    "    # 'metric_period': 500,\n",
    "    'n_estimators': 3000,\n",
    "    'thread_count': -1\n",
    "}"
   ]
  },
  {
   "cell_type": "code",
   "execution_count": 39,
   "metadata": {},
   "outputs": [],
   "source": [
    "features = select_fea_cbc\n",
    "cat_features = [f for f in cat_features if f in select_fea_cbc]"
   ]
  },
  {
   "cell_type": "code",
   "execution_count": 41,
   "metadata": {},
   "outputs": [
    {
     "name": "stdout",
     "output_type": "stream",
     "text": [
      "304\n",
      "fold n°0\n",
      "0:\tlearn: 0.6550397\ttest: 0.6550404\tbest: 0.6550404 (0)\ttotal: 643ms\tremaining: 32m 9s\n",
      "300:\tlearn: 0.3011171\ttest: 0.3001512\tbest: 0.3001512 (300)\ttotal: 5m 40s\tremaining: 50m 51s\n",
      "600:\tlearn: 0.2938394\ttest: 0.2930424\tbest: 0.2930424 (600)\ttotal: 11m 35s\tremaining: 46m 17s\n",
      "900:\tlearn: 0.2916322\ttest: 0.2909541\tbest: 0.2909541 (900)\ttotal: 17m 24s\tremaining: 40m 34s\n",
      "1200:\tlearn: 0.2902329\ttest: 0.2897120\tbest: 0.2897120 (1200)\ttotal: 23m 28s\tremaining: 35m 9s\n",
      "1500:\tlearn: 0.2892625\ttest: 0.2889314\tbest: 0.2889314 (1500)\ttotal: 29m 23s\tremaining: 29m 21s\n",
      "1800:\tlearn: 0.2885714\ttest: 0.2884324\tbest: 0.2884324 (1800)\ttotal: 35m 17s\tremaining: 23m 29s\n",
      "2100:\tlearn: 0.2880148\ttest: 0.2880771\tbest: 0.2880771 (2100)\ttotal: 41m 9s\tremaining: 17m 36s\n",
      "2400:\tlearn: 0.2875128\ttest: 0.2877733\tbest: 0.2877733 (2400)\ttotal: 46m 59s\tremaining: 11m 43s\n",
      "2700:\tlearn: 0.2870634\ttest: 0.2875265\tbest: 0.2875265 (2700)\ttotal: 52m 52s\tremaining: 5m 51s\n",
      "2999:\tlearn: 0.2866778\ttest: 0.2873381\tbest: 0.2873381 (2999)\ttotal: 58m 35s\tremaining: 0us\n",
      "\n",
      "bestTest = 0.2873381442\n",
      "bestIteration = 2999\n",
      "\n",
      "fold n°1\n",
      "0:\tlearn: 0.6547802\ttest: 0.6547337\tbest: 0.6547337 (0)\ttotal: 569ms\tremaining: 28m 25s\n",
      "300:\tlearn: 0.3013116\ttest: 0.3004081\tbest: 0.3004081 (300)\ttotal: 5m 52s\tremaining: 52m 41s\n",
      "600:\tlearn: 0.2940752\ttest: 0.2930359\tbest: 0.2930359 (600)\ttotal: 12m 4s\tremaining: 48m 13s\n",
      "900:\tlearn: 0.2917559\ttest: 0.2907749\tbest: 0.2907749 (900)\ttotal: 17m 58s\tremaining: 41m 53s\n",
      "1200:\tlearn: 0.2902951\ttest: 0.2894587\tbest: 0.2894587 (1200)\ttotal: 24m 1s\tremaining: 35m 59s\n",
      "1500:\tlearn: 0.2893613\ttest: 0.2887189\tbest: 0.2887189 (1500)\ttotal: 29m 57s\tremaining: 29m 54s\n",
      "1800:\tlearn: 0.2886481\ttest: 0.2881858\tbest: 0.2881858 (1800)\ttotal: 35m 56s\tremaining: 23m 55s\n",
      "2100:\tlearn: 0.2880820\ttest: 0.2878270\tbest: 0.2878270 (2100)\ttotal: 41m 45s\tremaining: 17m 51s\n",
      "2400:\tlearn: 0.2876395\ttest: 0.2875767\tbest: 0.2875765 (2399)\ttotal: 47m 27s\tremaining: 11m 50s\n",
      "2700:\tlearn: 0.2870943\ttest: 0.2872151\tbest: 0.2872151 (2700)\ttotal: 53m 24s\tremaining: 5m 54s\n",
      "2999:\tlearn: 0.2866989\ttest: 0.2870154\tbest: 0.2870154 (2999)\ttotal: 59m 13s\tremaining: 0us\n",
      "\n",
      "bestTest = 0.2870153759\n",
      "bestIteration = 2999\n",
      "\n",
      "fold n°2\n",
      "0:\tlearn: 0.6560594\ttest: 0.6560623\tbest: 0.6560623 (0)\ttotal: 756ms\tremaining: 37m 47s\n",
      "300:\tlearn: 0.3011202\ttest: 0.3006907\tbest: 0.3006907 (300)\ttotal: 5m 49s\tremaining: 52m 14s\n",
      "600:\tlearn: 0.2936453\ttest: 0.2931365\tbest: 0.2931365 (600)\ttotal: 12m 5s\tremaining: 48m 14s\n",
      "900:\tlearn: 0.2914441\ttest: 0.2911387\tbest: 0.2911387 (900)\ttotal: 17m 58s\tremaining: 41m 53s\n",
      "1200:\tlearn: 0.2901498\ttest: 0.2900546\tbest: 0.2900546 (1200)\ttotal: 23m 55s\tremaining: 35m 49s\n",
      "1500:\tlearn: 0.2892614\ttest: 0.2893739\tbest: 0.2893739 (1500)\ttotal: 29m 47s\tremaining: 29m 45s\n",
      "1800:\tlearn: 0.2885057\ttest: 0.2888107\tbest: 0.2888107 (1800)\ttotal: 35m 49s\tremaining: 23m 51s\n",
      "2100:\tlearn: 0.2879095\ttest: 0.2884040\tbest: 0.2884040 (2100)\ttotal: 41m 39s\tremaining: 17m 49s\n",
      "2400:\tlearn: 0.2873937\ttest: 0.2881025\tbest: 0.2881025 (2400)\ttotal: 47m 35s\tremaining: 11m 52s\n",
      "2700:\tlearn: 0.2869451\ttest: 0.2878600\tbest: 0.2878600 (2700)\ttotal: 53m 22s\tremaining: 5m 54s\n",
      "2999:\tlearn: 0.2865484\ttest: 0.2876686\tbest: 0.2876686 (2999)\ttotal: 59m 4s\tremaining: 0us\n",
      "\n",
      "bestTest = 0.2876686435\n",
      "bestIteration = 2999\n",
      "\n",
      "fold n°3\n",
      "0:\tlearn: 0.6557830\ttest: 0.6557972\tbest: 0.6557972 (0)\ttotal: 611ms\tremaining: 30m 31s\n",
      "300:\tlearn: 0.3011981\ttest: 0.3005862\tbest: 0.3005862 (300)\ttotal: 5m 45s\tremaining: 51m 42s\n",
      "600:\tlearn: 0.2939120\ttest: 0.2932846\tbest: 0.2932846 (600)\ttotal: 11m 56s\tremaining: 47m 40s\n",
      "900:\tlearn: 0.2915578\ttest: 0.2911005\tbest: 0.2911005 (900)\ttotal: 17m 54s\tremaining: 41m 43s\n",
      "1200:\tlearn: 0.2902378\ttest: 0.2900092\tbest: 0.2900092 (1200)\ttotal: 23m 38s\tremaining: 35m 24s\n",
      "1500:\tlearn: 0.2891451\ttest: 0.2891268\tbest: 0.2891268 (1500)\ttotal: 29m 42s\tremaining: 29m 40s\n",
      "1800:\tlearn: 0.2884494\ttest: 0.2886466\tbest: 0.2886466 (1800)\ttotal: 35m 35s\tremaining: 23m 42s\n",
      "2100:\tlearn: 0.2878733\ttest: 0.2882969\tbest: 0.2882969 (2100)\ttotal: 41m 19s\tremaining: 17m 40s\n",
      "2400:\tlearn: 0.2873832\ttest: 0.2880151\tbest: 0.2880151 (2400)\ttotal: 47m 15s\tremaining: 11m 47s\n",
      "2700:\tlearn: 0.2869451\ttest: 0.2877850\tbest: 0.2877850 (2700)\ttotal: 53m 3s\tremaining: 5m 52s\n",
      "2999:\tlearn: 0.2865155\ttest: 0.2875671\tbest: 0.2875671 (2999)\ttotal: 58m 57s\tremaining: 0us\n",
      "\n",
      "bestTest = 0.2875670717\n",
      "bestIteration = 2999\n",
      "\n",
      "fold n°4\n",
      "0:\tlearn: 0.6564883\ttest: 0.6564939\tbest: 0.6564939 (0)\ttotal: 627ms\tremaining: 31m 20s\n",
      "300:\tlearn: 0.3012316\ttest: 0.3008760\tbest: 0.3008760 (300)\ttotal: 5m 46s\tremaining: 51m 46s\n",
      "600:\tlearn: 0.2939055\ttest: 0.2935927\tbest: 0.2935927 (600)\ttotal: 11m 53s\tremaining: 47m 28s\n",
      "900:\tlearn: 0.2914829\ttest: 0.2913721\tbest: 0.2913721 (900)\ttotal: 17m 46s\tremaining: 41m 25s\n",
      "1200:\tlearn: 0.2900923\ttest: 0.2901859\tbest: 0.2901859 (1200)\ttotal: 23m 48s\tremaining: 35m 39s\n",
      "1500:\tlearn: 0.2891167\ttest: 0.2894246\tbest: 0.2894246 (1500)\ttotal: 29m 55s\tremaining: 29m 53s\n",
      "1800:\tlearn: 0.2883812\ttest: 0.2889034\tbest: 0.2889034 (1800)\ttotal: 35m 46s\tremaining: 23m 48s\n",
      "2100:\tlearn: 0.2878214\ttest: 0.2885497\tbest: 0.2885497 (2100)\ttotal: 41m 40s\tremaining: 17m 49s\n",
      "2400:\tlearn: 0.2873196\ttest: 0.2882575\tbest: 0.2882575 (2400)\ttotal: 47m 30s\tremaining: 11m 51s\n",
      "2700:\tlearn: 0.2868697\ttest: 0.2880121\tbest: 0.2880121 (2700)\ttotal: 53m 27s\tremaining: 5m 55s\n",
      "2999:\tlearn: 0.2865132\ttest: 0.2878484\tbest: 0.2878484 (2999)\ttotal: 59m 9s\tremaining: 0us\n",
      "\n",
      "bestTest = 0.2878484481\n",
      "bestIteration = 2999\n",
      "\n"
     ]
    }
   ],
   "source": [
    "KF = StratifiedKFold(n_splits=K, random_state=seed, shuffle=True)\n",
    "feat_imp_cbc_ins = list()\n",
    "\n",
    "oof_cbc_ins = np.zeros(len(train))\n",
    "predictions_cbc_ins = np.zeros((len(test)))\n",
    "print(len(features))\n",
    "\n",
    "model = CatBoostClassifier(**cbc_params)\n",
    "\n",
    "# 模型训练\n",
    "for fold_, (trn_idx, val_idx) in enumerate(KF.split(train.values, label.values)):\n",
    "    print(\"fold n°{}\".format(fold_))\n",
    "\n",
    "    X_train, X_val = train.iloc[trn_idx][features], train.iloc[val_idx][features]\n",
    "    y_train, y_val = label.iloc[trn_idx], label.iloc[val_idx]\n",
    "    \n",
    "    model.fit(X_train, y_train, eval_set=(X_val, y_val), \n",
    "              cat_features=cat_features,\n",
    "              early_stopping_rounds=100, verbose=300, use_best_model=True)\n",
    "\n",
    "    oof_cbc_ins[val_idx] += (model.predict_proba(X_val)[:, 1])\n",
    "    predictions_cbc_ins += (model.predict_proba(test[features])[:, 1]) / K\n",
    "    feat_imp_cbc_ins.append(model.feature_importances_)"
   ]
  },
  {
   "cell_type": "code",
   "execution_count": 42,
   "metadata": {},
   "outputs": [
    {
     "name": "stdout",
     "output_type": "stream",
     "text": [
      "Logloss: 0.2875, AUC: 0.8863, Precision: 0.7835, Recall: 0.4090, F1 Score: 0.5375\n"
     ]
    }
   ],
   "source": [
    "# logloss = metrics.log_loss(label, [1 if i >= 0.5 else 0 for i in oof_cbc_ins], labels=[0, 1])\n",
    "logloss = metrics.log_loss(label, oof_cbc_ins)\n",
    "acc = metrics.roc_auc_score(label, oof_cbc_ins)\n",
    "precision = metrics.precision_score(label, [1 if i >= 0.5 else 0 for i in oof_cbc_ins])\n",
    "recall = metrics.recall_score(label, [1 if i >= 0.5 else 0 for i in oof_cbc_ins])\n",
    "f1 = metrics.f1_score(label, [1 if i >= 0.5 else 0 for i in oof_cbc_ins])\n",
    "\n",
    "print(f\"Logloss: {logloss:.4f}, AUC: {acc:.4f}, Precision: {precision:.4f}, Recall: {recall:.4f}, F1 Score: {f1:.4f}\")"
   ]
  },
  {
   "cell_type": "code",
   "execution_count": 43,
   "metadata": {},
   "outputs": [],
   "source": [
    "submission = pd.DataFrame()\n",
    "submission[\"RowId\"] = test_data[\"f_0\"]\n",
    "submission[\"is_clicked\"] = np.random.random((test_data.shape[0]))\n",
    "submission[\"is_installed\"] = predictions_cbc_ins\n",
    "submission.to_csv('./output/cbc_42_sep_train_logloss_float_{}.csv'.format(len(features)), index=False, sep='\\t')"
   ]
  },
  {
   "cell_type": "code",
   "execution_count": 30,
   "metadata": {},
   "outputs": [
    {
     "data": {
      "text/plain": [
       "count    607.000000\n",
       "mean       0.164745\n",
       "std        0.920538\n",
       "min        0.000000\n",
       "25%        0.004259\n",
       "50%        0.017785\n",
       "75%        0.062345\n",
       "max       16.785792\n",
       "dtype: float64"
      ]
     },
     "execution_count": 30,
     "metadata": {},
     "output_type": "execute_result"
    }
   ],
   "source": [
    "avg_imp_cbc_ins = pd.DataFrame(feat_imp_cbc_ins, columns = features).apply(np.mean, axis = 0).sort_values(ascending=False)\n",
    "avg_imp_cbc_ins.describe()"
   ]
  },
  {
   "cell_type": "code",
   "execution_count": 36,
   "metadata": {},
   "outputs": [
    {
     "name": "stdout",
     "output_type": "stream",
     "text": [
      "304\n",
      "['f_4', 'f_6', 'f_2', 'f_1', 'f_11', 'f_20', 'f_10', 'f_59-f_74', 'f_59-f_70', 'f_59+f_70', 'f_21', 'f_12', 'f_15', 'f_14', 'f_51-f_59', 'f_16', 'f_57+f_75', 'f_51+f_59', 'f_59+f_75', 'f_19', 'f_43*f_59', 'f_42*f_43', 'f_68', 'f_58+f_59', 'f_51*f_70', 'f_3', 'f_59+f_66', 'f_50', 'f_9', 'f_55+f_75', 'f_25', 'f_58-f_59', 'f_56', 'f_57-f_59', 'f_59/f_66', 'f_72', 'f_51-f_58', 'f_42-f_59', 'f_43-f_58', 'f_59-f_76', 'f_43+f_59', 'f_59-f_75', 'f_42*f_66', 'f_5', 'f_58-f_66', 'f_22', 'f_59+f_76', 'f_59/f_70', 'f_59*f_65', 'f_58*f_59', 'f_67/f_70', 'f_55-f_59', 'f_59/f_67', 'f_59*f_70', 'f_58/f_59', 'f_51*f_66', 'f_59-f_67', 'f_34andf_40', 'f_59/f_75', 'f_43+f_51', 'f_58/f_66', 'f_43*f_57', 'f_61', 'f_42*f_75', 'f_42+f_75', 'f_69', 'f_48', 'f_57*f_66', 'f_59', 'f_17', 'f_51/f_70', 'f_43-f_59', 'f_66/f_70', 'f_42*f_70', 'f_23', 'f_78', 'f_42+f_51', 'f_13', 'f_63', 'f_42/f_66', 'f_73', 'f_51/f_58', 'f_59*f_67', 'f_43/f_66', 'f_59-f_66', 'f_60', 'f_49', 'f_42/f_70', 'f_59*f_75', 'f_42+f_57', 'f_42/f_43', 'f_59*f_66', 'f_51/f_59', 'f_43*f_51', 'f_58-f_70', 'f_51-f_67', 'f_42*f_57', 'f_24', 'f_43/f_70', 'f_8', 'f_59+f_74', 'f_58/f_70', 'f_42/f_59', 'f_66', 'f_35orf_40', 'f_54', 'f_59+f_67', 'f_67-f_70', 'f_59+f_64', 'f_64/f_70', 'f_59/f_64', 'f_51+f_66', 'f_18', 'f_57-f_58', 'f_51-f_70', 'f_43/f_75', 'f_57-f_66', 'f_57/f_70', 'f_58/f_65', 'f_37andf_40', 'f_65/f_70', 'f_75-f_76', 'f_64*f_70', 'f_40', 'f_43/f_59', 'f_43-f_57', 'f_43+f_57', 'f_57+f_74', 'f_43+f_55', 'f_42/f_75', 'f_57-f_70', 'f_66-f_76', 'f_42-f_55', 'f_66-f_67', 'f_42+f_66', 'f_42+f_55', 'f_58*f_67', 'f_51/f_75', 'f_70*f_74', 'f_67/f_75', 'f_40orf_41', 'f_39orf_40', 'f_51*f_59', 'f_52', 'f_57+f_58', 'f_42-f_51', 'f_62', 'f_57/f_59', 'f_42-f_76', 'f_42-f_70', 'f_57*f_70', 'f_74-f_75', 'f_75/f_76', 'f_43/f_58', 'f_75', 'f_51', 'f_51/f_66', 'f_42', 'f_58/f_75', 'f_70-f_74', 'f_43/f_51', 'f_57+f_59', 'f_35andf_40', 'f_66-f_70', 'f_42-f_58', 'f_43*f_75', 'f_42+f_59', 'f_74+f_75', 'f_43*f_55', 'f_75+f_76', 'f_57+f_66', 'f_55+f_66', 'f_51+f_75', 'f_55*f_70', 'f_57/f_66', 'f_35andf_41', 'f_51+f_67', 'f_43-f_66', 'f_42*f_55', 'f_34andf_35', 'f_51+f_76', 'f_51-f_66', 'f_42+f_58', 'f_74/f_75', 'f_65/f_66', 'f_42*f_76', 'f_58/f_76', 'f_66+f_67', 'f_42+f_74', 'f_55+f_67', 'f_43*f_66', 'f_66*f_67', 'f_43-f_55', 'f_43*f_67', 'f_38andf_40', 'f_42-f_74', 'f_33orf_34', 'f_30', 'f_58*f_66', 'f_57', 'f_34orf_40', 'f_57+f_76', 'f_39xorf_40', 'f_43-f_70', 'f_70*f_76', 'f_70*f_75', 'f_42/f_76', 'f_67+f_70', 'f_59/f_65', 'f_57/f_75', 'f_58-f_67', 'f_47', 'f_66/f_75', 'f_55+f_59', 'f_66+f_74', 'f_43-f_67', 'f_34andf_37', 'f_51/f_65', 'f_64/f_66', 'f_43*f_65', 'f_57+f_67', 'f_66+f_70', 'f_57-f_76', 'f_51/f_64', 'f_43+f_67', 'f_55+f_57', 'f_34xorf_40', 'f_42-f_67', 'f_51+f_74', 'f_34orf_41', 'f_58*f_65', 'f_43/f_57', 'f_42-f_43', 'f_42-f_75', 'f_43+f_75', 'f_55-f_70', 'f_42*f_51', 'f_58-f_65', 'f_34orf_35', 'f_35orf_39', 'f_51/f_67', 'f_42+f_70', 'f_55*f_57', 'f_51+f_55', 'f_32', 'f_70/f_75', 'f_55-f_57', 'f_75*f_76', 'f_70+f_75', 'f_43/f_67', 'f_43*f_58', 'f_65*f_66', 'f_34', 'f_55*f_66', 'f_51*f_58', 'f_59+f_65', 'f_34xorf_41', 'f_43*f_74', 'f_43-f_51', 'f_65*f_70', 'f_65+f_76', 'f_57*f_75', 'f_42/f_58', 'f_34xorf_39', 'f_58+f_76', 'f_66+f_75', 'f_43', 'f_58/f_67', 'f_42*f_74', 'f_55/f_57', 'f_64*f_66', 'f_58-f_76', 'f_35xorf_40', 'f_42*f_64', 'f_58-f_74', 'f_43-f_65', 'f_43*f_64', 'f_43/f_55', 'f_37orf_41', 'f_42-f_66', 'f_34xorf_36', 'f_55*f_75', 'f_42+f_76', 'f_67*f_75', 'f_51/f_57', 'f_43+f_70', 'f_51-f_55', 'f_66*f_75', 'f_42+f_67', 'f_42-f_57', 'f_59/f_76', 'f_42+f_43', 'f_64/f_75', 'f_51-f_75', 'f_66-f_75', 'f_58+f_74', 'f_66/f_67', 'f_55/f_75', 'f_42/f_55', 'f_34xorf_37', 'f_65/f_75', 'f_35andf_38', 'f_34orf_39', 'f_42/f_57']\n"
     ]
    }
   ],
   "source": [
    "select_fea_cbc = []\n",
    "for i in range(len(avg_imp_cbc_ins)):\n",
    "    if avg_imp_cbc_ins.iloc[i] >= 0.017785:\n",
    "        select_fea_cbc.append(avg_imp_cbc_ins.index[i])\n",
    "print(len(select_fea_cbc))\n",
    "print(select_fea_cbc)"
   ]
  },
  {
   "attachments": {},
   "cell_type": "markdown",
   "metadata": {},
   "source": [
    "# 模型融合"
   ]
  },
  {
   "cell_type": "code",
   "execution_count": 3,
   "metadata": {},
   "outputs": [],
   "source": [
    "file_list = ['cbc_42_sep_train_logloss_float', 'cbc_42_sep_train_logloss_float_152', 'cbc_42_sep_train_logloss_float_304']\n",
    "weight_list = [1, 1, 1]\n",
    "res_list = []\n",
    "for file in file_list:\n",
    "    res_list.append(pd.read_csv('./output/{}.csv'.format(file), sep='\\t')['is_installed'].values)"
   ]
  },
  {
   "cell_type": "code",
   "execution_count": 4,
   "metadata": {},
   "outputs": [],
   "source": [
    "res_wei = 0\n",
    "for i, res_ in enumerate(res_list):\n",
    "    res_wei += res_ * weight_list[i]\n",
    "res_wei /= sum(weight_list)"
   ]
  },
  {
   "cell_type": "code",
   "execution_count": 5,
   "metadata": {},
   "outputs": [
    {
     "data": {
      "text/plain": [
       "[array([0.34246523, 0.49886412, 0.12743884, ..., 0.20235799, 0.24234735,\n",
       "        0.1216858 ]),\n",
       " array([0.3062011 , 0.49951776, 0.12357599, ..., 0.19468507, 0.23352021,\n",
       "        0.08633168]),\n",
       " array([0.33144466, 0.5295641 , 0.12393622, ..., 0.21064099, 0.21738863,\n",
       "        0.09107684])]"
      ]
     },
     "execution_count": 5,
     "metadata": {},
     "output_type": "execute_result"
    }
   ],
   "source": [
    "res_list"
   ]
  },
  {
   "cell_type": "code",
   "execution_count": 6,
   "metadata": {},
   "outputs": [
    {
     "data": {
      "text/plain": [
       "array([0.32670367, 0.50931532, 0.12498368, ..., 0.20256135, 0.2310854 ,\n",
       "       0.09969811])"
      ]
     },
     "execution_count": 6,
     "metadata": {},
     "output_type": "execute_result"
    }
   ],
   "source": [
    "res_wei"
   ]
  },
  {
   "cell_type": "code",
   "execution_count": 9,
   "metadata": {},
   "outputs": [],
   "source": [
    "submission = pd.DataFrame()\n",
    "submission[\"RowId\"] = test_data[\"f_0\"]\n",
    "submission[\"is_clicked\"] = np.random.random((test_data.shape[0]))\n",
    "submission[\"is_installed\"] = res_wei\n",
    "submission.to_csv('./output/cbc_cbc_cbc_1_1_1.csv', index=False, sep='\\t')\n",
    "# submission.to_csv('./output/xgb_lgb_cbc_1_2_3.csv', index=False, sep='\\t')"
   ]
  },
  {
   "attachments": {},
   "cell_type": "markdown",
   "metadata": {},
   "source": [
    "# 输出"
   ]
  },
  {
   "cell_type": "code",
   "execution_count": 26,
   "metadata": {},
   "outputs": [
    {
     "data": {
      "text/plain": [
       "42"
      ]
     },
     "execution_count": 26,
     "metadata": {},
     "output_type": "execute_result"
    }
   ],
   "source": [
    "seed"
   ]
  },
  {
   "cell_type": "code",
   "execution_count": 33,
   "metadata": {},
   "outputs": [],
   "source": [
    "submission = pd.DataFrame()\n",
    "submission[\"RowId\"] = test_data[\"f_0\"]\n",
    "submission[\"is_clicked\"] = np.random.random((test_data.shape[0]))\n",
    "submission[\"is_installed\"] = predictions_cbc_ins\n",
    "submission.to_csv('./output/cbc_42_sep_train_logloss_float.csv', index=False, sep='\\t')"
   ]
  },
  {
   "cell_type": "code",
   "execution_count": 24,
   "metadata": {},
   "outputs": [],
   "source": [
    "submission = pd.DataFrame()\n",
    "submission[\"RowId\"] = test_data[\"f_0\"]\n",
    "submission[\"is_clicked\"] = predictions_lgb_cli\n",
    "submission[\"is_installed\"] = predictions_lgb_ins\n",
    "submission.to_csv('./output/lgb_42_sep_train_logloss_float.csv', index=False, sep='\\t')"
   ]
  },
  {
   "cell_type": "code",
   "execution_count": 26,
   "metadata": {},
   "outputs": [],
   "source": [
    "submission = pd.DataFrame()\n",
    "submission[\"RowId\"] = test_data[\"f_0\"]\n",
    "submission[\"is_clicked\"] = np.round(predictions_lgb_cli, 5)\n",
    "submission[\"is_installed\"] = np.round(predictions_lgb_ins, 5)\n",
    "submission.to_csv('./output/lgb_42_sep_train_logloss_float_round5.csv', index=False, sep='\\t')"
   ]
  },
  {
   "cell_type": "code",
   "execution_count": 28,
   "metadata": {},
   "outputs": [],
   "source": [
    "submission = pd.DataFrame()\n",
    "submission[\"RowId\"] = test_data[\"f_0\"]\n",
    "submission[\"is_clicked\"] = np.random.random((test_data.shape[0]))\n",
    "submission[\"is_installed\"] = predictions_lgb_ins\n",
    "submission.to_csv('./output/lgb_42_sep_train_logloss_float_ins_pred_cli_rand.csv', index=False, sep='\\t')"
   ]
  },
  {
   "cell_type": "code",
   "execution_count": 27,
   "metadata": {},
   "outputs": [
    {
     "data": {
      "text/html": [
       "<div>\n",
       "<style scoped>\n",
       "    .dataframe tbody tr th:only-of-type {\n",
       "        vertical-align: middle;\n",
       "    }\n",
       "\n",
       "    .dataframe tbody tr th {\n",
       "        vertical-align: top;\n",
       "    }\n",
       "\n",
       "    .dataframe thead th {\n",
       "        text-align: right;\n",
       "    }\n",
       "</style>\n",
       "<table border=\"1\" class=\"dataframe\">\n",
       "  <thead>\n",
       "    <tr style=\"text-align: right;\">\n",
       "      <th></th>\n",
       "      <th>RowId</th>\n",
       "      <th>is_clicked</th>\n",
       "      <th>is_installed</th>\n",
       "    </tr>\n",
       "  </thead>\n",
       "  <tbody>\n",
       "    <tr>\n",
       "      <th>0</th>\n",
       "      <td>64505</td>\n",
       "      <td>0.54069</td>\n",
       "      <td>0.35231</td>\n",
       "    </tr>\n",
       "    <tr>\n",
       "      <th>1</th>\n",
       "      <td>64506</td>\n",
       "      <td>0.20442</td>\n",
       "      <td>0.45921</td>\n",
       "    </tr>\n",
       "    <tr>\n",
       "      <th>2</th>\n",
       "      <td>64507</td>\n",
       "      <td>0.63765</td>\n",
       "      <td>0.08273</td>\n",
       "    </tr>\n",
       "    <tr>\n",
       "      <th>3</th>\n",
       "      <td>64508</td>\n",
       "      <td>0.30246</td>\n",
       "      <td>0.33364</td>\n",
       "    </tr>\n",
       "    <tr>\n",
       "      <th>4</th>\n",
       "      <td>64509</td>\n",
       "      <td>0.91326</td>\n",
       "      <td>0.30514</td>\n",
       "    </tr>\n",
       "    <tr>\n",
       "      <th>...</th>\n",
       "      <td>...</td>\n",
       "      <td>...</td>\n",
       "      <td>...</td>\n",
       "    </tr>\n",
       "    <tr>\n",
       "      <th>160968</th>\n",
       "      <td>16240</td>\n",
       "      <td>0.67619</td>\n",
       "      <td>0.42696</td>\n",
       "    </tr>\n",
       "    <tr>\n",
       "      <th>160969</th>\n",
       "      <td>16241</td>\n",
       "      <td>0.09272</td>\n",
       "      <td>0.00923</td>\n",
       "    </tr>\n",
       "    <tr>\n",
       "      <th>160970</th>\n",
       "      <td>16242</td>\n",
       "      <td>0.22014</td>\n",
       "      <td>0.02216</td>\n",
       "    </tr>\n",
       "    <tr>\n",
       "      <th>160971</th>\n",
       "      <td>16243</td>\n",
       "      <td>0.50215</td>\n",
       "      <td>0.14860</td>\n",
       "    </tr>\n",
       "    <tr>\n",
       "      <th>160972</th>\n",
       "      <td>16244</td>\n",
       "      <td>0.99989</td>\n",
       "      <td>0.06889</td>\n",
       "    </tr>\n",
       "  </tbody>\n",
       "</table>\n",
       "<p>160973 rows × 3 columns</p>\n",
       "</div>"
      ],
      "text/plain": [
       "        RowId  is_clicked  is_installed\n",
       "0       64505     0.54069       0.35231\n",
       "1       64506     0.20442       0.45921\n",
       "2       64507     0.63765       0.08273\n",
       "3       64508     0.30246       0.33364\n",
       "4       64509     0.91326       0.30514\n",
       "...       ...         ...           ...\n",
       "160968  16240     0.67619       0.42696\n",
       "160969  16241     0.09272       0.00923\n",
       "160970  16242     0.22014       0.02216\n",
       "160971  16243     0.50215       0.14860\n",
       "160972  16244     0.99989       0.06889\n",
       "\n",
       "[160973 rows x 3 columns]"
      ]
     },
     "execution_count": 27,
     "metadata": {},
     "output_type": "execute_result"
    }
   ],
   "source": [
    "submission"
   ]
  },
  {
   "cell_type": "code",
   "execution_count": null,
   "metadata": {},
   "outputs": [],
   "source": []
  }
 ],
 "metadata": {
  "kernelspec": {
   "display_name": "libcityng",
   "language": "python",
   "name": "python3"
  },
  "language_info": {
   "codemirror_mode": {
    "name": "ipython",
    "version": 3
   },
   "file_extension": ".py",
   "mimetype": "text/x-python",
   "name": "python",
   "nbconvert_exporter": "python",
   "pygments_lexer": "ipython3",
   "version": "3.9.12"
  },
  "orig_nbformat": 4
 },
 "nbformat": 4,
 "nbformat_minor": 2
}
