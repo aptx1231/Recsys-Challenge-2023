{
 "cells": [
  {
   "cell_type": "code",
   "execution_count": 1,
   "metadata": {},
   "outputs": [],
   "source": [
    "import numpy as np \n",
    "import pandas as pd\n",
    "import matplotlib.pyplot as plt\n",
    "import seaborn as sns\n",
    "import warnings\n",
    "import os\n",
    "import re\n",
    "import math\n",
    "import plotly.express as px\n",
    "import plotly.graph_objects as go\n",
    "from plotly.subplots import make_subplots\n",
    "\n",
    "from lightgbm import LGBMRegressor, LGBMClassifier\n",
    "from xgboost import XGBRegressor, XGBClassifier\n",
    "from catboost import CatBoostRegressor, CatBoostClassifier\n",
    "import lightgbm as lgb\n",
    "import xgboost as xgb\n",
    "import catboost as cab\n",
    "\n",
    "from sklearn.preprocessing import LabelEncoder\n",
    "from sklearn.model_selection import cross_val_score, KFold, StratifiedKFold, GridSearchCV\n",
    "from sklearn.decomposition import LatentDirichletAllocation, NMF, TruncatedSVD\n",
    "from sklearn.linear_model import LogisticRegression, SGDClassifier\n",
    "from sklearn.ensemble import RandomForestRegressor, AdaBoostRegressor, GradientBoostingRegressor, HistGradientBoostingRegressor, StackingRegressor\n",
    "from sklearn.ensemble import RandomForestClassifier, AdaBoostClassifier, GradientBoostingClassifier, HistGradientBoostingClassifier, StackingClassifier\n",
    "from sklearn.tree import DecisionTreeRegressor, DecisionTreeClassifier\n",
    "from sklearn import metrics\n",
    "from sklearn.svm import SVC\n",
    "from sklearn.feature_extraction.text import TfidfVectorizer\n",
    "from sklearn.preprocessing import PolynomialFeatures\n",
    "from sklearn.neighbors import KNeighborsClassifier\n",
    "from tqdm import tqdm\n",
    "from sklearn.preprocessing import KBinsDiscretizer\n",
    "\n",
    "import matplotlib.pyplot as plt\n",
    "\n",
    "import warnings\n",
    "\n",
    "warnings.filterwarnings('ignore')"
   ]
  },
  {
   "attachments": {},
   "cell_type": "markdown",
   "metadata": {},
   "source": [
    "数据处理"
   ]
  },
  {
   "cell_type": "code",
   "execution_count": 2,
   "metadata": {},
   "outputs": [
    {
     "data": {
      "text/plain": [
       "(160973, 80)"
      ]
     },
     "execution_count": 2,
     "metadata": {},
     "output_type": "execute_result"
    }
   ],
   "source": [
    "test_data = pd.read_csv('data/test/000000000000.csv', sep='\\t')\n",
    "test_data.shape "
   ]
  },
  {
   "cell_type": "code",
   "execution_count": 3,
   "metadata": {},
   "outputs": [
    {
     "data": {
      "text/plain": [
       "(3485852, 82)"
      ]
     },
     "execution_count": 3,
     "metadata": {},
     "output_type": "execute_result"
    }
   ],
   "source": [
    "train_data = pd.read_csv('./data/train.csv', sep='\\t')\n",
    "train_data.shape "
   ]
  },
  {
   "cell_type": "code",
   "execution_count": 4,
   "metadata": {},
   "outputs": [],
   "source": [
    "train_data = train_data.replace([np.inf, -np.inf], np.nan).fillna(0)\n",
    "test_data = test_data.replace([np.inf, -np.inf], np.nan).fillna(0)"
   ]
  },
  {
   "cell_type": "code",
   "execution_count": 5,
   "metadata": {},
   "outputs": [],
   "source": [
    "data = pd.concat([train_data, test_data])"
   ]
  },
  {
   "cell_type": "code",
   "execution_count": 6,
   "metadata": {},
   "outputs": [],
   "source": [
    "cat_features = ['f_{}'.format(i) for i in range(1, 42)]\n",
    "bin_features = ['f_{}'.format(i) for i in range(33, 42)]\n",
    "num_features = ['f_{}'.format(i) for i in range(42, 80)]\n",
    "date_features = ['f_1']"
   ]
  },
  {
   "cell_type": "code",
   "execution_count": 7,
   "metadata": {},
   "outputs": [],
   "source": [
    "for f in cat_features:\n",
    "    le = LabelEncoder()\n",
    "    data[f] = le.fit_transform(data[f])"
   ]
  },
  {
   "cell_type": "code",
   "execution_count": 8,
   "metadata": {},
   "outputs": [],
   "source": [
    "dense_bins = 10"
   ]
  },
  {
   "cell_type": "code",
   "execution_count": 9,
   "metadata": {},
   "outputs": [
    {
     "name": "stderr",
     "output_type": "stream",
     "text": [
      "100%|██████████| 38/38 [01:52<00:00,  2.95s/it]\n"
     ]
    }
   ],
   "source": [
    "add_cat_features = []\n",
    "for fea in tqdm(num_features, total=len(num_features)):\n",
    "    discretizer = KBinsDiscretizer(n_bins=dense_bins, encode='ordinal', strategy='kmeans')  # 等频quantile，等宽uniform\n",
    "    data[fea + '_encode'] = discretizer.fit_transform(np.array(data[fea].tolist()).reshape(-1, 1))\n",
    "    add_cat_features.append(fea + '_encode')"
   ]
  },
  {
   "cell_type": "code",
   "execution_count": 10,
   "metadata": {},
   "outputs": [],
   "source": [
    "# zero_count = data.eq(0).sum()  # 计算每列中值为 0 的数量\n",
    "# zero_ratio = zero_count / len(data)  # 计算每列中值为 0 的占比\n",
    "# print(zero_ratio)"
   ]
  },
  {
   "cell_type": "code",
   "execution_count": 11,
   "metadata": {},
   "outputs": [
    {
     "data": {
      "text/plain": [
       "(3646825, 120)"
      ]
     },
     "execution_count": 11,
     "metadata": {},
     "output_type": "execute_result"
    }
   ],
   "source": [
    "data.shape "
   ]
  },
  {
   "cell_type": "code",
   "execution_count": 12,
   "metadata": {},
   "outputs": [
    {
     "data": {
      "text/html": [
       "<div>\n",
       "<style scoped>\n",
       "    .dataframe tbody tr th:only-of-type {\n",
       "        vertical-align: middle;\n",
       "    }\n",
       "\n",
       "    .dataframe tbody tr th {\n",
       "        vertical-align: top;\n",
       "    }\n",
       "\n",
       "    .dataframe thead th {\n",
       "        text-align: right;\n",
       "    }\n",
       "</style>\n",
       "<table border=\"1\" class=\"dataframe\">\n",
       "  <thead>\n",
       "    <tr style=\"text-align: right;\">\n",
       "      <th></th>\n",
       "      <th>f_0</th>\n",
       "      <th>f_1</th>\n",
       "      <th>f_2</th>\n",
       "      <th>f_3</th>\n",
       "      <th>f_4</th>\n",
       "      <th>f_5</th>\n",
       "      <th>f_6</th>\n",
       "      <th>f_7</th>\n",
       "      <th>f_8</th>\n",
       "      <th>f_9</th>\n",
       "      <th>...</th>\n",
       "      <th>f_72</th>\n",
       "      <th>f_73</th>\n",
       "      <th>f_74</th>\n",
       "      <th>f_75</th>\n",
       "      <th>f_76</th>\n",
       "      <th>f_77</th>\n",
       "      <th>f_78</th>\n",
       "      <th>f_79</th>\n",
       "      <th>is_clicked</th>\n",
       "      <th>is_installed</th>\n",
       "    </tr>\n",
       "  </thead>\n",
       "  <tbody>\n",
       "    <tr>\n",
       "      <th>2596150</th>\n",
       "      <td>64505</td>\n",
       "      <td>58</td>\n",
       "      <td>3346</td>\n",
       "      <td>22294</td>\n",
       "      <td>6767</td>\n",
       "      <td>25604</td>\n",
       "      <td>5040</td>\n",
       "      <td>27941</td>\n",
       "      <td>19203</td>\n",
       "      <td>31372</td>\n",
       "      <td>...</td>\n",
       "      <td>0.571121</td>\n",
       "      <td>0.0</td>\n",
       "      <td>0.0</td>\n",
       "      <td>0.269948</td>\n",
       "      <td>0.0</td>\n",
       "      <td>0.0</td>\n",
       "      <td>0.0</td>\n",
       "      <td>0.0</td>\n",
       "      <td>0</td>\n",
       "      <td>0</td>\n",
       "    </tr>\n",
       "  </tbody>\n",
       "</table>\n",
       "<p>1 rows × 82 columns</p>\n",
       "</div>"
      ],
      "text/plain": [
       "           f_0  f_1   f_2    f_3   f_4    f_5   f_6    f_7    f_8    f_9  ...  \\\n",
       "2596150  64505   58  3346  22294  6767  25604  5040  27941  19203  31372  ...   \n",
       "\n",
       "             f_72  f_73  f_74      f_75  f_76  f_77  f_78  f_79  is_clicked  \\\n",
       "2596150  0.571121   0.0   0.0  0.269948   0.0   0.0   0.0   0.0           0   \n",
       "\n",
       "         is_installed  \n",
       "2596150             0  \n",
       "\n",
       "[1 rows x 82 columns]"
      ]
     },
     "execution_count": 12,
     "metadata": {},
     "output_type": "execute_result"
    }
   ],
   "source": [
    "train_data[train_data['f_0'] == 64505]"
   ]
  },
  {
   "cell_type": "code",
   "execution_count": 13,
   "metadata": {},
   "outputs": [
    {
     "data": {
      "text/html": [
       "<div>\n",
       "<style scoped>\n",
       "    .dataframe tbody tr th:only-of-type {\n",
       "        vertical-align: middle;\n",
       "    }\n",
       "\n",
       "    .dataframe tbody tr th {\n",
       "        vertical-align: top;\n",
       "    }\n",
       "\n",
       "    .dataframe thead th {\n",
       "        text-align: right;\n",
       "    }\n",
       "</style>\n",
       "<table border=\"1\" class=\"dataframe\">\n",
       "  <thead>\n",
       "    <tr style=\"text-align: right;\">\n",
       "      <th></th>\n",
       "      <th>f_0</th>\n",
       "      <th>f_1</th>\n",
       "      <th>f_2</th>\n",
       "      <th>f_3</th>\n",
       "      <th>f_4</th>\n",
       "      <th>f_5</th>\n",
       "      <th>f_6</th>\n",
       "      <th>f_7</th>\n",
       "      <th>f_8</th>\n",
       "      <th>f_9</th>\n",
       "      <th>...</th>\n",
       "      <th>f_70</th>\n",
       "      <th>f_71</th>\n",
       "      <th>f_72</th>\n",
       "      <th>f_73</th>\n",
       "      <th>f_74</th>\n",
       "      <th>f_75</th>\n",
       "      <th>f_76</th>\n",
       "      <th>f_77</th>\n",
       "      <th>f_78</th>\n",
       "      <th>f_79</th>\n",
       "    </tr>\n",
       "  </thead>\n",
       "  <tbody>\n",
       "    <tr>\n",
       "      <th>0</th>\n",
       "      <td>64505</td>\n",
       "      <td>67</td>\n",
       "      <td>26325</td>\n",
       "      <td>7152</td>\n",
       "      <td>21563</td>\n",
       "      <td>19475</td>\n",
       "      <td>31440</td>\n",
       "      <td>27941</td>\n",
       "      <td>21621</td>\n",
       "      <td>14659</td>\n",
       "      <td>...</td>\n",
       "      <td>1.519085</td>\n",
       "      <td>0.0</td>\n",
       "      <td>0.0</td>\n",
       "      <td>0.0</td>\n",
       "      <td>0.0</td>\n",
       "      <td>0.0</td>\n",
       "      <td>0.0</td>\n",
       "      <td>0.0</td>\n",
       "      <td>0.0</td>\n",
       "      <td>0.0</td>\n",
       "    </tr>\n",
       "  </tbody>\n",
       "</table>\n",
       "<p>1 rows × 80 columns</p>\n",
       "</div>"
      ],
      "text/plain": [
       "     f_0  f_1    f_2   f_3    f_4    f_5    f_6    f_7    f_8    f_9  ...  \\\n",
       "0  64505   67  26325  7152  21563  19475  31440  27941  21621  14659  ...   \n",
       "\n",
       "       f_70  f_71  f_72  f_73  f_74  f_75  f_76  f_77  f_78  f_79  \n",
       "0  1.519085   0.0   0.0   0.0   0.0   0.0   0.0   0.0   0.0   0.0  \n",
       "\n",
       "[1 rows x 80 columns]"
      ]
     },
     "execution_count": 13,
     "metadata": {},
     "output_type": "execute_result"
    }
   ],
   "source": [
    "test_data[test_data['f_0'] == 64505]"
   ]
  },
  {
   "cell_type": "code",
   "execution_count": 14,
   "metadata": {},
   "outputs": [
    {
     "data": {
      "text/html": [
       "<div>\n",
       "<style scoped>\n",
       "    .dataframe tbody tr th:only-of-type {\n",
       "        vertical-align: middle;\n",
       "    }\n",
       "\n",
       "    .dataframe tbody tr th {\n",
       "        vertical-align: top;\n",
       "    }\n",
       "\n",
       "    .dataframe thead th {\n",
       "        text-align: right;\n",
       "    }\n",
       "</style>\n",
       "<table border=\"1\" class=\"dataframe\">\n",
       "  <thead>\n",
       "    <tr style=\"text-align: right;\">\n",
       "      <th></th>\n",
       "      <th>f_0</th>\n",
       "      <th>f_1</th>\n",
       "      <th>f_2</th>\n",
       "      <th>f_3</th>\n",
       "      <th>f_4</th>\n",
       "      <th>f_5</th>\n",
       "      <th>f_6</th>\n",
       "      <th>f_7</th>\n",
       "      <th>f_8</th>\n",
       "      <th>f_9</th>\n",
       "      <th>...</th>\n",
       "      <th>f_70_encode</th>\n",
       "      <th>f_71_encode</th>\n",
       "      <th>f_72_encode</th>\n",
       "      <th>f_73_encode</th>\n",
       "      <th>f_74_encode</th>\n",
       "      <th>f_75_encode</th>\n",
       "      <th>f_76_encode</th>\n",
       "      <th>f_77_encode</th>\n",
       "      <th>f_78_encode</th>\n",
       "      <th>f_79_encode</th>\n",
       "    </tr>\n",
       "  </thead>\n",
       "  <tbody>\n",
       "    <tr>\n",
       "      <th>0</th>\n",
       "      <td>2541188</td>\n",
       "      <td>12</td>\n",
       "      <td>114</td>\n",
       "      <td>4</td>\n",
       "      <td>191</td>\n",
       "      <td>4</td>\n",
       "      <td>155</td>\n",
       "      <td>0</td>\n",
       "      <td>1</td>\n",
       "      <td>4</td>\n",
       "      <td>...</td>\n",
       "      <td>2.0</td>\n",
       "      <td>2.0</td>\n",
       "      <td>4.0</td>\n",
       "      <td>4.0</td>\n",
       "      <td>3.0</td>\n",
       "      <td>9.0</td>\n",
       "      <td>7.0</td>\n",
       "      <td>0.0</td>\n",
       "      <td>0.0</td>\n",
       "      <td>0.0</td>\n",
       "    </tr>\n",
       "    <tr>\n",
       "      <th>1</th>\n",
       "      <td>2541440</td>\n",
       "      <td>15</td>\n",
       "      <td>21</td>\n",
       "      <td>4</td>\n",
       "      <td>390</td>\n",
       "      <td>3</td>\n",
       "      <td>559</td>\n",
       "      <td>0</td>\n",
       "      <td>2</td>\n",
       "      <td>3</td>\n",
       "      <td>...</td>\n",
       "      <td>1.0</td>\n",
       "      <td>0.0</td>\n",
       "      <td>0.0</td>\n",
       "      <td>0.0</td>\n",
       "      <td>0.0</td>\n",
       "      <td>9.0</td>\n",
       "      <td>7.0</td>\n",
       "      <td>0.0</td>\n",
       "      <td>0.0</td>\n",
       "      <td>0.0</td>\n",
       "    </tr>\n",
       "    <tr>\n",
       "      <th>2</th>\n",
       "      <td>2541480</td>\n",
       "      <td>20</td>\n",
       "      <td>131</td>\n",
       "      <td>4</td>\n",
       "      <td>228</td>\n",
       "      <td>3</td>\n",
       "      <td>3261</td>\n",
       "      <td>0</td>\n",
       "      <td>1</td>\n",
       "      <td>6</td>\n",
       "      <td>...</td>\n",
       "      <td>3.0</td>\n",
       "      <td>0.0</td>\n",
       "      <td>1.0</td>\n",
       "      <td>0.0</td>\n",
       "      <td>0.0</td>\n",
       "      <td>9.0</td>\n",
       "      <td>7.0</td>\n",
       "      <td>0.0</td>\n",
       "      <td>0.0</td>\n",
       "      <td>0.0</td>\n",
       "    </tr>\n",
       "    <tr>\n",
       "      <th>3</th>\n",
       "      <td>2541780</td>\n",
       "      <td>18</td>\n",
       "      <td>73</td>\n",
       "      <td>2</td>\n",
       "      <td>317</td>\n",
       "      <td>3</td>\n",
       "      <td>3843</td>\n",
       "      <td>0</td>\n",
       "      <td>2</td>\n",
       "      <td>0</td>\n",
       "      <td>...</td>\n",
       "      <td>1.0</td>\n",
       "      <td>0.0</td>\n",
       "      <td>0.0</td>\n",
       "      <td>0.0</td>\n",
       "      <td>0.0</td>\n",
       "      <td>3.0</td>\n",
       "      <td>0.0</td>\n",
       "      <td>0.0</td>\n",
       "      <td>0.0</td>\n",
       "      <td>0.0</td>\n",
       "    </tr>\n",
       "    <tr>\n",
       "      <th>4</th>\n",
       "      <td>2541833</td>\n",
       "      <td>15</td>\n",
       "      <td>44</td>\n",
       "      <td>4</td>\n",
       "      <td>519</td>\n",
       "      <td>3</td>\n",
       "      <td>5179</td>\n",
       "      <td>0</td>\n",
       "      <td>4</td>\n",
       "      <td>3</td>\n",
       "      <td>...</td>\n",
       "      <td>2.0</td>\n",
       "      <td>0.0</td>\n",
       "      <td>0.0</td>\n",
       "      <td>0.0</td>\n",
       "      <td>3.0</td>\n",
       "      <td>9.0</td>\n",
       "      <td>7.0</td>\n",
       "      <td>0.0</td>\n",
       "      <td>0.0</td>\n",
       "      <td>0.0</td>\n",
       "    </tr>\n",
       "  </tbody>\n",
       "</table>\n",
       "<p>5 rows × 120 columns</p>\n",
       "</div>"
      ],
      "text/plain": [
       "       f_0  f_1  f_2  f_3  f_4  f_5   f_6  f_7  f_8  f_9  ...  f_70_encode  \\\n",
       "0  2541188   12  114    4  191    4   155    0    1    4  ...          2.0   \n",
       "1  2541440   15   21    4  390    3   559    0    2    3  ...          1.0   \n",
       "2  2541480   20  131    4  228    3  3261    0    1    6  ...          3.0   \n",
       "3  2541780   18   73    2  317    3  3843    0    2    0  ...          1.0   \n",
       "4  2541833   15   44    4  519    3  5179    0    4    3  ...          2.0   \n",
       "\n",
       "   f_71_encode  f_72_encode  f_73_encode  f_74_encode  f_75_encode  \\\n",
       "0          2.0          4.0          4.0          3.0          9.0   \n",
       "1          0.0          0.0          0.0          0.0          9.0   \n",
       "2          0.0          1.0          0.0          0.0          9.0   \n",
       "3          0.0          0.0          0.0          0.0          3.0   \n",
       "4          0.0          0.0          0.0          3.0          9.0   \n",
       "\n",
       "   f_76_encode  f_77_encode  f_78_encode  f_79_encode  \n",
       "0          7.0          0.0          0.0          0.0  \n",
       "1          7.0          0.0          0.0          0.0  \n",
       "2          7.0          0.0          0.0          0.0  \n",
       "3          0.0          0.0          0.0          0.0  \n",
       "4          7.0          0.0          0.0          0.0  \n",
       "\n",
       "[5 rows x 120 columns]"
      ]
     },
     "execution_count": 14,
     "metadata": {},
     "output_type": "execute_result"
    }
   ],
   "source": [
    "data.head()"
   ]
  },
  {
   "cell_type": "code",
   "execution_count": 15,
   "metadata": {},
   "outputs": [],
   "source": [
    "# zero_ratio = zero_ratio.sort_values(ascending=False)\n",
    "# zero_ratio.apply(lambda x: round(x, 5))\n",
    "# zero_ratio.to_csv('./output/zero.csv')"
   ]
  },
  {
   "cell_type": "code",
   "execution_count": 16,
   "metadata": {},
   "outputs": [],
   "source": [
    "# for i in tqdm(range(len(num_features)), total=len(num_features)):\n",
    "#     for j in range(i + 1, len(num_features)):\n",
    "#         data[f'{num_features[i]}+{num_features[j]}'] = data[num_features[i]] + data[num_features[j]]\n",
    "#         data[f'{num_features[i]}-{num_features[j]}'] = data[num_features[i]] - data[num_features[j]]\n",
    "#         data[f'{num_features[i]}*{num_features[j]}'] = data[num_features[i]] * data[num_features[j]]\n",
    "#         data[f'{num_features[i]}/{num_features[j]}'] = data[num_features[i]] / (data[num_features[j]] + 1e-7)\n",
    "# data.shape "
   ]
  },
  {
   "cell_type": "code",
   "execution_count": 17,
   "metadata": {},
   "outputs": [],
   "source": [
    "# for i in tqdm(range(len(bin_features)), total=len(bin_features)):\n",
    "#     for j in range(i + 1, len(bin_features)):\n",
    "#         data[f'{bin_features[i]}and{bin_features[j]}'] = data[bin_features[i]] & data[bin_features[j]]\n",
    "#         data[f'{bin_features[i]}or{bin_features[j]}'] = data[bin_features[i]] | data[bin_features[j]]\n",
    "#         data[f'{bin_features[i]}xor{bin_features[j]}'] = data[bin_features[i]] ^ data[bin_features[j]]\n",
    "# data.shape "
   ]
  },
  {
   "cell_type": "code",
   "execution_count": 18,
   "metadata": {},
   "outputs": [],
   "source": [
    "# np.save('data/data_aug.npy', data)"
   ]
  },
  {
   "cell_type": "code",
   "execution_count": 19,
   "metadata": {},
   "outputs": [
    {
     "data": {
      "text/plain": [
       "117"
      ]
     },
     "execution_count": 19,
     "metadata": {},
     "output_type": "execute_result"
    }
   ],
   "source": [
    "features = [fe for fe in data.columns if fe not in ['is_clicked', 'is_installed', 'f_0', 'label']]\n",
    "len(features)"
   ]
  },
  {
   "cell_type": "code",
   "execution_count": 20,
   "metadata": {},
   "outputs": [
    {
     "data": {
      "text/plain": [
       "((3485852, 120), (160973, 120), (3485852,), (3485852,))"
      ]
     },
     "execution_count": 20,
     "metadata": {},
     "output_type": "execute_result"
    }
   ],
   "source": [
    "train = data[~data['is_clicked'].isna()]\n",
    "test = data[data['is_clicked'].isna()]\n",
    "is_clicked_label = train['is_clicked'].astype('int')\n",
    "is_installed_label = train['is_installed'].astype('int')\n",
    "\n",
    "train.shape, test.shape, is_clicked_label.shape, is_installed_label.shape "
   ]
  },
  {
   "cell_type": "code",
   "execution_count": 21,
   "metadata": {},
   "outputs": [],
   "source": [
    "seed = 42\n",
    "K = 5"
   ]
  },
  {
   "cell_type": "code",
   "execution_count": 22,
   "metadata": {},
   "outputs": [],
   "source": [
    "lgb_params = {\n",
    "    'objective': 'binary',\n",
    "    'boosting_type': 'gbdt',\n",
    "    # 'metric': 'binary_logloss',  # auc??\n",
    "    'metric': 'binary_logloss',\n",
    "    'learning_rate': 0.05,\n",
    "    'num_leaves': 2 ** 6,\n",
    "    'max_depth': 8,\n",
    "    'tree_learner': 'serial',\n",
    "    'colsample_bytree': 0.8,\n",
    "    'subsample_freq': 1,\n",
    "    'subsample': 0.8,\n",
    "    'num_boost_round': 3000,\n",
    "    'max_bin': 255,\n",
    "    'verbose': -1,\n",
    "    'nthread' : -1,\n",
    "    'seed': seed,\n",
    "    'bagging_seed': seed,\n",
    "    'feature_fraction_seed': seed,\n",
    "    'early_stopping_rounds': 100,\n",
    "    # 'device': 'gpu',  # 设置使用 GPU 加速\n",
    "    # 'gpu_platform_id': 0,  # 设置 GPU 平台 id\n",
    "    # 'gpu_device_id': 0  # 设置 GPU 设备 id\n",
    "}"
   ]
  },
  {
   "attachments": {},
   "cell_type": "markdown",
   "metadata": {},
   "source": [
    "is_clicked"
   ]
  },
  {
   "cell_type": "code",
   "execution_count": 21,
   "metadata": {},
   "outputs": [],
   "source": [
    "label = is_clicked_label"
   ]
  },
  {
   "cell_type": "code",
   "execution_count": 14,
   "metadata": {},
   "outputs": [
    {
     "name": "stdout",
     "output_type": "stream",
     "text": [
      "79\n",
      "fold n°0\n",
      "[LightGBM] [Warning] num_threads is set with nthread=-1, will be overridden by n_jobs=30. Current value: num_threads=30\n",
      "Training until validation scores don't improve for 100 rounds\n",
      "[300]\ttraining's binary_logloss: 0.326966\tvalid_1's binary_logloss: 0.327212\n",
      "[600]\ttraining's binary_logloss: 0.315277\tvalid_1's binary_logloss: 0.317277\n",
      "[900]\ttraining's binary_logloss: 0.310265\tvalid_1's binary_logloss: 0.314412\n",
      "[1200]\ttraining's binary_logloss: 0.306852\tvalid_1's binary_logloss: 0.313149\n",
      "[1500]\ttraining's binary_logloss: 0.303901\tvalid_1's binary_logloss: 0.312309\n",
      "[1800]\ttraining's binary_logloss: 0.301191\tvalid_1's binary_logloss: 0.31171\n",
      "[2100]\ttraining's binary_logloss: 0.298683\tvalid_1's binary_logloss: 0.311242\n",
      "[2400]\ttraining's binary_logloss: 0.296324\tvalid_1's binary_logloss: 0.310938\n",
      "[2700]\ttraining's binary_logloss: 0.294051\tvalid_1's binary_logloss: 0.310649\n",
      "[3000]\ttraining's binary_logloss: 0.291819\tvalid_1's binary_logloss: 0.310385\n",
      "Did not meet early stopping. Best iteration is:\n",
      "[3000]\ttraining's binary_logloss: 0.291819\tvalid_1's binary_logloss: 0.310385\n",
      "fold n°1\n",
      "[LightGBM] [Warning] num_threads is set with nthread=-1, will be overridden by n_jobs=30. Current value: num_threads=30\n",
      "Training until validation scores don't improve for 100 rounds\n",
      "[300]\ttraining's binary_logloss: 0.326883\tvalid_1's binary_logloss: 0.327904\n",
      "[600]\ttraining's binary_logloss: 0.315222\tvalid_1's binary_logloss: 0.318123\n",
      "[900]\ttraining's binary_logloss: 0.310445\tvalid_1's binary_logloss: 0.315557\n",
      "[1200]\ttraining's binary_logloss: 0.306951\tvalid_1's binary_logloss: 0.314234\n",
      "[1500]\ttraining's binary_logloss: 0.303764\tvalid_1's binary_logloss: 0.313161\n",
      "[1800]\ttraining's binary_logloss: 0.300896\tvalid_1's binary_logloss: 0.312371\n",
      "[2100]\ttraining's binary_logloss: 0.298385\tvalid_1's binary_logloss: 0.311927\n",
      "[2400]\ttraining's binary_logloss: 0.296008\tvalid_1's binary_logloss: 0.311596\n",
      "[2700]\ttraining's binary_logloss: 0.293771\tvalid_1's binary_logloss: 0.311374\n",
      "[3000]\ttraining's binary_logloss: 0.291622\tvalid_1's binary_logloss: 0.31118\n",
      "Did not meet early stopping. Best iteration is:\n",
      "[3000]\ttraining's binary_logloss: 0.291622\tvalid_1's binary_logloss: 0.31118\n",
      "fold n°2\n",
      "[LightGBM] [Warning] num_threads is set with nthread=-1, will be overridden by n_jobs=30. Current value: num_threads=30\n",
      "Training until validation scores don't improve for 100 rounds\n",
      "[300]\ttraining's binary_logloss: 0.326832\tvalid_1's binary_logloss: 0.329352\n",
      "[600]\ttraining's binary_logloss: 0.314756\tvalid_1's binary_logloss: 0.31898\n",
      "[900]\ttraining's binary_logloss: 0.309872\tvalid_1's binary_logloss: 0.316182\n",
      "[1200]\ttraining's binary_logloss: 0.306538\tvalid_1's binary_logloss: 0.315046\n",
      "[1500]\ttraining's binary_logloss: 0.30357\tvalid_1's binary_logloss: 0.314219\n",
      "[1800]\ttraining's binary_logloss: 0.300829\tvalid_1's binary_logloss: 0.313534\n",
      "[2100]\ttraining's binary_logloss: 0.298297\tvalid_1's binary_logloss: 0.313067\n",
      "[2400]\ttraining's binary_logloss: 0.295964\tvalid_1's binary_logloss: 0.312725\n",
      "[2700]\ttraining's binary_logloss: 0.293694\tvalid_1's binary_logloss: 0.312439\n",
      "[3000]\ttraining's binary_logloss: 0.291561\tvalid_1's binary_logloss: 0.312276\n",
      "Did not meet early stopping. Best iteration is:\n",
      "[3000]\ttraining's binary_logloss: 0.291561\tvalid_1's binary_logloss: 0.312276\n",
      "fold n°3\n",
      "[LightGBM] [Warning] num_threads is set with nthread=-1, will be overridden by n_jobs=30. Current value: num_threads=30\n",
      "Training until validation scores don't improve for 100 rounds\n",
      "[300]\ttraining's binary_logloss: 0.327028\tvalid_1's binary_logloss: 0.328726\n",
      "[600]\ttraining's binary_logloss: 0.315402\tvalid_1's binary_logloss: 0.318808\n",
      "[900]\ttraining's binary_logloss: 0.310348\tvalid_1's binary_logloss: 0.315885\n",
      "[1200]\ttraining's binary_logloss: 0.30672\tvalid_1's binary_logloss: 0.314353\n",
      "[1500]\ttraining's binary_logloss: 0.303747\tvalid_1's binary_logloss: 0.31354\n",
      "[1800]\ttraining's binary_logloss: 0.300979\tvalid_1's binary_logloss: 0.312842\n",
      "[2100]\ttraining's binary_logloss: 0.298463\tvalid_1's binary_logloss: 0.312376\n",
      "[2400]\ttraining's binary_logloss: 0.296078\tvalid_1's binary_logloss: 0.312016\n",
      "[2700]\ttraining's binary_logloss: 0.293851\tvalid_1's binary_logloss: 0.3118\n",
      "[3000]\ttraining's binary_logloss: 0.291649\tvalid_1's binary_logloss: 0.3116\n",
      "Did not meet early stopping. Best iteration is:\n",
      "[3000]\ttraining's binary_logloss: 0.291649\tvalid_1's binary_logloss: 0.3116\n",
      "fold n°4\n",
      "[LightGBM] [Warning] num_threads is set with nthread=-1, will be overridden by n_jobs=30. Current value: num_threads=30\n",
      "Training until validation scores don't improve for 100 rounds\n",
      "[300]\ttraining's binary_logloss: 0.327614\tvalid_1's binary_logloss: 0.327973\n",
      "[600]\ttraining's binary_logloss: 0.315696\tvalid_1's binary_logloss: 0.317889\n",
      "[900]\ttraining's binary_logloss: 0.310531\tvalid_1's binary_logloss: 0.314896\n",
      "[1200]\ttraining's binary_logloss: 0.306931\tvalid_1's binary_logloss: 0.313455\n",
      "[1500]\ttraining's binary_logloss: 0.304053\tvalid_1's binary_logloss: 0.31268\n",
      "[1800]\ttraining's binary_logloss: 0.301361\tvalid_1's binary_logloss: 0.312101\n",
      "[2100]\ttraining's binary_logloss: 0.298925\tvalid_1's binary_logloss: 0.311753\n",
      "[2400]\ttraining's binary_logloss: 0.296599\tvalid_1's binary_logloss: 0.311437\n",
      "[2700]\ttraining's binary_logloss: 0.294364\tvalid_1's binary_logloss: 0.311216\n",
      "[3000]\ttraining's binary_logloss: 0.292083\tvalid_1's binary_logloss: 0.310869\n",
      "Did not meet early stopping. Best iteration is:\n",
      "[3000]\ttraining's binary_logloss: 0.292083\tvalid_1's binary_logloss: 0.310869\n"
     ]
    }
   ],
   "source": [
    "label = is_clicked_label\n",
    "\n",
    "KF = StratifiedKFold(n_splits=K, random_state=seed, shuffle=True)\n",
    "feat_imp_lgb_cli = list()\n",
    "\n",
    "oof_lgb_cli = np.zeros(len(train))\n",
    "predictions_lgb_cli = np.zeros((len(test)))\n",
    "print(len(features))\n",
    "\n",
    "# 模型训练\n",
    "for fold_, (trn_idx, val_idx) in enumerate(KF.split(train.values, label.values)):\n",
    "    print(\"fold n°{}\".format(fold_))\n",
    "    trn_data = lgb.Dataset(train.iloc[trn_idx][features], label=label.iloc[trn_idx])\n",
    "    val_data = lgb.Dataset(train.iloc[val_idx][features], label=label.iloc[val_idx])\n",
    "    \n",
    "    num_round = 3000\n",
    "    clf = lgb.train(\n",
    "        lgb_params,\n",
    "        trn_data,\n",
    "        num_round,\n",
    "        valid_sets=[trn_data, val_data],\n",
    "        verbose_eval=300,\n",
    "        early_stopping_rounds=100,\n",
    "    )\n",
    "\n",
    "    oof_lgb_cli[val_idx] = clf.predict(train.iloc[val_idx][features], num_iteration=clf.best_iteration)\n",
    "    predictions_lgb_cli[:] += clf.predict(test[features], num_iteration=clf.best_iteration) / K\n",
    "    feat_imp_lgb_cli.append(clf.feature_importance())"
   ]
  },
  {
   "cell_type": "code",
   "execution_count": 15,
   "metadata": {},
   "outputs": [
    {
     "name": "stdout",
     "output_type": "stream",
     "text": [
      "Logloss: 4.0459, 0.3113, AUC: 0.8730, Precision: 0.8972, Recall: 0.5276, F1 Score: 0.6644\n"
     ]
    }
   ],
   "source": [
    "logloss = metrics.log_loss(label, [1 if i >= 0.5 else 0 for i in oof_lgb_cli], labels=[0, 1])\n",
    "logloss2 = metrics.log_loss(label, oof_lgb_cli)\n",
    "\n",
    "acc = metrics.roc_auc_score(label, oof_lgb_cli)\n",
    "precision = metrics.precision_score(label, [1 if i >= 0.5 else 0 for i in oof_lgb_cli])\n",
    "recall = metrics.recall_score(label, [1 if i >= 0.5 else 0 for i in oof_lgb_cli])\n",
    "f1 = metrics.f1_score(label, [1 if i >= 0.5 else 0 for i in oof_lgb_cli])\n",
    "\n",
    "print(f\"Logloss: {logloss:.4f}, {logloss2:.4f}, AUC: {acc:.4f}, Precision: {precision:.4f}, Recall: {recall:.4f}, F1 Score: {f1:.4f}\")"
   ]
  },
  {
   "cell_type": "code",
   "execution_count": 21,
   "metadata": {},
   "outputs": [
    {
     "data": {
      "text/plain": [
       "count       79.000000\n",
       "mean      2390.579747\n",
       "std       2535.470191\n",
       "min          0.000000\n",
       "25%        309.900000\n",
       "50%       1537.000000\n",
       "75%       3903.800000\n",
       "max      10211.200000\n",
       "dtype: float64"
      ]
     },
     "execution_count": 21,
     "metadata": {},
     "output_type": "execute_result"
    }
   ],
   "source": [
    "avg_imp_cli = pd.DataFrame(feat_imp_lgb_cli, columns = features).apply(np.mean, axis = 0).sort_values(ascending=False)\n",
    "avg_imp_cli.describe()"
   ]
  },
  {
   "cell_type": "code",
   "execution_count": 22,
   "metadata": {},
   "outputs": [
    {
     "data": {
      "text/plain": [
       "f_4     10211.2\n",
       "f_11     9546.8\n",
       "f_15     9148.8\n",
       "f_42     8856.2\n",
       "f_6      8218.0\n",
       "         ...   \n",
       "f_29        0.0\n",
       "f_7         0.0\n",
       "f_28        0.0\n",
       "f_27        0.0\n",
       "f_26        0.0\n",
       "Length: 79, dtype: float64"
      ]
     },
     "execution_count": 22,
     "metadata": {},
     "output_type": "execute_result"
    }
   ],
   "source": [
    "avg_imp_cli"
   ]
  },
  {
   "attachments": {},
   "cell_type": "markdown",
   "metadata": {},
   "source": [
    "# is_installed"
   ]
  },
  {
   "cell_type": "code",
   "execution_count": 23,
   "metadata": {},
   "outputs": [],
   "source": [
    "label = is_installed_label"
   ]
  },
  {
   "attachments": {},
   "cell_type": "markdown",
   "metadata": {},
   "source": [
    "lightgbm"
   ]
  },
  {
   "cell_type": "code",
   "execution_count": 24,
   "metadata": {},
   "outputs": [],
   "source": [
    "lgb_params = {\n",
    "    'objective': 'binary',\n",
    "    'boosting_type': 'gbdt',\n",
    "    # 'metric': 'binary_logloss',  # auc??\n",
    "    'metric': 'binary_logloss',\n",
    "    'learning_rate': 0.05,\n",
    "    'num_leaves': 2 ** 6,\n",
    "    'max_depth': 8,\n",
    "    'tree_learner': 'serial',\n",
    "    'colsample_bytree': 0.8,\n",
    "    'subsample_freq': 1,\n",
    "    'subsample': 0.8,\n",
    "    'num_boost_round': 3000,\n",
    "    'max_bin': 255,\n",
    "    'verbose': -1,\n",
    "    'nthread' : -1,\n",
    "    'seed': seed,\n",
    "    'bagging_seed': seed,\n",
    "    'feature_fraction_seed': seed,\n",
    "    'early_stopping_rounds': 100,\n",
    "    # 'device': 'gpu',  # 设置使用 GPU 加速\n",
    "    # 'gpu_platform_id': 0,  # 设置 GPU 平台 id\n",
    "    # 'gpu_device_id': 0  # 设置 GPU 设备 id\n",
    "}"
   ]
  },
  {
   "cell_type": "code",
   "execution_count": 25,
   "metadata": {},
   "outputs": [
    {
     "ename": "NameError",
     "evalue": "name 'select_fea_lgb' is not defined",
     "output_type": "error",
     "traceback": [
      "\u001b[0;31m---------------------------------------------------------------------------\u001b[0m",
      "\u001b[0;31mNameError\u001b[0m                                 Traceback (most recent call last)",
      "Cell \u001b[0;32mIn[25], line 1\u001b[0m\n\u001b[0;32m----> 1\u001b[0m features \u001b[39m=\u001b[39m select_fea_lgb\n",
      "\u001b[0;31mNameError\u001b[0m: name 'select_fea_lgb' is not defined"
     ]
    }
   ],
   "source": [
    "features = select_fea_lgb"
   ]
  },
  {
   "cell_type": "code",
   "execution_count": 26,
   "metadata": {},
   "outputs": [
    {
     "name": "stdout",
     "output_type": "stream",
     "text": [
      "117\n",
      "fold n°0\n",
      "Training until validation scores don't improve for 100 rounds\n",
      "[300]\ttraining's binary_logloss: 0.299157\tvalid_1's binary_logloss: 0.300993\n",
      "[600]\ttraining's binary_logloss: 0.291614\tvalid_1's binary_logloss: 0.295626\n",
      "[900]\ttraining's binary_logloss: 0.287519\tvalid_1's binary_logloss: 0.293822\n",
      "[1200]\ttraining's binary_logloss: 0.283973\tvalid_1's binary_logloss: 0.292536\n",
      "[1500]\ttraining's binary_logloss: 0.281049\tvalid_1's binary_logloss: 0.291817\n",
      "[1800]\ttraining's binary_logloss: 0.278411\tvalid_1's binary_logloss: 0.29134\n",
      "[2100]\ttraining's binary_logloss: 0.275853\tvalid_1's binary_logloss: 0.290892\n",
      "[2400]\ttraining's binary_logloss: 0.273516\tvalid_1's binary_logloss: 0.290671\n",
      "[2700]\ttraining's binary_logloss: 0.271277\tvalid_1's binary_logloss: 0.290457\n",
      "[3000]\ttraining's binary_logloss: 0.269068\tvalid_1's binary_logloss: 0.290264\n",
      "Did not meet early stopping. Best iteration is:\n",
      "[3000]\ttraining's binary_logloss: 0.269068\tvalid_1's binary_logloss: 0.290264\n",
      "fold n°1\n",
      "Training until validation scores don't improve for 100 rounds\n",
      "[300]\ttraining's binary_logloss: 0.29926\tvalid_1's binary_logloss: 0.300714\n",
      "[600]\ttraining's binary_logloss: 0.291836\tvalid_1's binary_logloss: 0.295436\n",
      "[900]\ttraining's binary_logloss: 0.287646\tvalid_1's binary_logloss: 0.293509\n",
      "[1200]\ttraining's binary_logloss: 0.284155\tvalid_1's binary_logloss: 0.292282\n",
      "[1500]\ttraining's binary_logloss: 0.281141\tvalid_1's binary_logloss: 0.29148\n",
      "[1800]\ttraining's binary_logloss: 0.278413\tvalid_1's binary_logloss: 0.290912\n",
      "[2100]\ttraining's binary_logloss: 0.275927\tvalid_1's binary_logloss: 0.290544\n",
      "[2400]\ttraining's binary_logloss: 0.273595\tvalid_1's binary_logloss: 0.290286\n",
      "[2700]\ttraining's binary_logloss: 0.271335\tvalid_1's binary_logloss: 0.29003\n",
      "[3000]\ttraining's binary_logloss: 0.269138\tvalid_1's binary_logloss: 0.289805\n",
      "Did not meet early stopping. Best iteration is:\n",
      "[3000]\ttraining's binary_logloss: 0.269138\tvalid_1's binary_logloss: 0.289805\n",
      "fold n°2\n",
      "Training until validation scores don't improve for 100 rounds\n",
      "[300]\ttraining's binary_logloss: 0.299349\tvalid_1's binary_logloss: 0.301558\n",
      "[600]\ttraining's binary_logloss: 0.291638\tvalid_1's binary_logloss: 0.295977\n",
      "[900]\ttraining's binary_logloss: 0.287495\tvalid_1's binary_logloss: 0.294128\n",
      "[1200]\ttraining's binary_logloss: 0.28399\tvalid_1's binary_logloss: 0.292882\n",
      "[1500]\ttraining's binary_logloss: 0.280854\tvalid_1's binary_logloss: 0.29199\n",
      "[1800]\ttraining's binary_logloss: 0.278163\tvalid_1's binary_logloss: 0.291464\n",
      "[2100]\ttraining's binary_logloss: 0.275628\tvalid_1's binary_logloss: 0.291058\n",
      "[2400]\ttraining's binary_logloss: 0.273303\tvalid_1's binary_logloss: 0.290786\n",
      "[2700]\ttraining's binary_logloss: 0.271052\tvalid_1's binary_logloss: 0.290598\n",
      "[3000]\ttraining's binary_logloss: 0.268957\tvalid_1's binary_logloss: 0.290507\n",
      "Did not meet early stopping. Best iteration is:\n",
      "[3000]\ttraining's binary_logloss: 0.268957\tvalid_1's binary_logloss: 0.290507\n",
      "fold n°3\n",
      "Training until validation scores don't improve for 100 rounds\n",
      "[300]\ttraining's binary_logloss: 0.299446\tvalid_1's binary_logloss: 0.301216\n",
      "[600]\ttraining's binary_logloss: 0.292209\tvalid_1's binary_logloss: 0.296163\n",
      "[900]\ttraining's binary_logloss: 0.28752\tvalid_1's binary_logloss: 0.293701\n",
      "[1200]\ttraining's binary_logloss: 0.284075\tvalid_1's binary_logloss: 0.292526\n",
      "[1500]\ttraining's binary_logloss: 0.281125\tvalid_1's binary_logloss: 0.291829\n",
      "[1800]\ttraining's binary_logloss: 0.278372\tvalid_1's binary_logloss: 0.291231\n",
      "[2100]\ttraining's binary_logloss: 0.275823\tvalid_1's binary_logloss: 0.290749\n",
      "[2400]\ttraining's binary_logloss: 0.273436\tvalid_1's binary_logloss: 0.290466\n",
      "[2700]\ttraining's binary_logloss: 0.271204\tvalid_1's binary_logloss: 0.290297\n",
      "[3000]\ttraining's binary_logloss: 0.269053\tvalid_1's binary_logloss: 0.290149\n",
      "Did not meet early stopping. Best iteration is:\n",
      "[3000]\ttraining's binary_logloss: 0.269053\tvalid_1's binary_logloss: 0.290149\n",
      "fold n°4\n",
      "Training until validation scores don't improve for 100 rounds\n",
      "[300]\ttraining's binary_logloss: 0.299217\tvalid_1's binary_logloss: 0.301644\n",
      "[600]\ttraining's binary_logloss: 0.291568\tvalid_1's binary_logloss: 0.296191\n",
      "[900]\ttraining's binary_logloss: 0.287345\tvalid_1's binary_logloss: 0.294365\n",
      "[1200]\ttraining's binary_logloss: 0.28389\tvalid_1's binary_logloss: 0.293186\n",
      "[1500]\ttraining's binary_logloss: 0.280943\tvalid_1's binary_logloss: 0.292506\n",
      "[1800]\ttraining's binary_logloss: 0.278259\tvalid_1's binary_logloss: 0.292023\n",
      "[2100]\ttraining's binary_logloss: 0.275696\tvalid_1's binary_logloss: 0.291562\n",
      "[2400]\ttraining's binary_logloss: 0.27329\tvalid_1's binary_logloss: 0.291229\n",
      "[2700]\ttraining's binary_logloss: 0.271017\tvalid_1's binary_logloss: 0.291021\n",
      "[3000]\ttraining's binary_logloss: 0.268821\tvalid_1's binary_logloss: 0.290837\n",
      "Did not meet early stopping. Best iteration is:\n",
      "[3000]\ttraining's binary_logloss: 0.268821\tvalid_1's binary_logloss: 0.290837\n"
     ]
    }
   ],
   "source": [
    "label = is_installed_label\n",
    "\n",
    "KF = StratifiedKFold(n_splits=K, random_state=seed, shuffle=True)\n",
    "feat_imp_lgb_ins = list()\n",
    "\n",
    "oof_lgb_ins = np.zeros(len(train))\n",
    "predictions_lgb_ins = np.zeros((len(test)))\n",
    "print(len(features))\n",
    "\n",
    "# 模型训练\n",
    "for fold_, (trn_idx, val_idx) in enumerate(KF.split(train.values, label.values)):\n",
    "    print(\"fold n°{}\".format(fold_))\n",
    "    trn_data = lgb.Dataset(train.iloc[trn_idx][features], label=label.iloc[trn_idx])\n",
    "    val_data = lgb.Dataset(train.iloc[val_idx][features], label=label.iloc[val_idx])\n",
    "    \n",
    "    num_round = 3000\n",
    "    clf = lgb.train(\n",
    "        lgb_params,\n",
    "        trn_data,\n",
    "        num_round,\n",
    "        valid_sets=[trn_data, val_data],\n",
    "        verbose_eval=300,\n",
    "        early_stopping_rounds=100,\n",
    "    )\n",
    "\n",
    "    oof_lgb_ins[val_idx] = clf.predict(train.iloc[val_idx][features], num_iteration=clf.best_iteration)\n",
    "    predictions_lgb_ins[:] += clf.predict(test[features], num_iteration=clf.best_iteration) / K\n",
    "    feat_imp_lgb_ins.append(clf.feature_importance())"
   ]
  },
  {
   "cell_type": "code",
   "execution_count": 27,
   "metadata": {},
   "outputs": [
    {
     "name": "stdout",
     "output_type": "stream",
     "text": [
      "Logloss: 0.2903, AUC: 0.8838, Precision: 0.7904, Recall: 0.3897, F1 Score: 0.5220\n"
     ]
    }
   ],
   "source": [
    "# logloss = metrics.log_loss(label, [1 if i >= 0.5 else 0 for i in oof_lgb_ins], labels=[0, 1])\n",
    "logloss = metrics.log_loss(label, oof_lgb_ins)\n",
    "acc = metrics.roc_auc_score(label, oof_lgb_ins)\n",
    "precision = metrics.precision_score(label, [1 if i >= 0.5 else 0 for i in oof_lgb_ins])\n",
    "recall = metrics.recall_score(label, [1 if i >= 0.5 else 0 for i in oof_lgb_ins])\n",
    "f1 = metrics.f1_score(label, [1 if i >= 0.5 else 0 for i in oof_lgb_ins])\n",
    "\n",
    "print(f\"Logloss: {logloss:.4f}, AUC: {acc:.4f}, Precision: {precision:.4f}, Recall: {recall:.4f}, F1 Score: {f1:.4f}\")"
   ]
  },
  {
   "cell_type": "code",
   "execution_count": 28,
   "metadata": {},
   "outputs": [],
   "source": [
    "submission = pd.DataFrame()\n",
    "submission[\"RowId\"] = test_data[\"f_0\"]\n",
    "submission[\"is_clicked\"] = np.random.random((test_data.shape[0]))\n",
    "submission[\"is_installed\"] = predictions_lgb_ins\n",
    "submission.to_csv('./output/lgb_42_sep_train_logloss_float_{}.csv'.format(len(features)), index=False, sep='\\t')"
   ]
  },
  {
   "cell_type": "code",
   "execution_count": 29,
   "metadata": {},
   "outputs": [
    {
     "data": {
      "text/plain": [
       "count     117.000000\n",
       "mean     1613.825641\n",
       "std      2203.685731\n",
       "min         0.000000\n",
       "25%       110.600000\n",
       "50%       356.800000\n",
       "75%      2694.000000\n",
       "max      9222.000000\n",
       "dtype: float64"
      ]
     },
     "execution_count": 29,
     "metadata": {},
     "output_type": "execute_result"
    }
   ],
   "source": [
    "avg_imp_lgb_ins = pd.DataFrame(feat_imp_lgb_ins, columns = features).apply(np.mean, axis = 0).sort_values(ascending=False)\n",
    "avg_imp_lgb_ins.describe()"
   ]
  },
  {
   "cell_type": "code",
   "execution_count": 30,
   "metadata": {},
   "outputs": [
    {
     "name": "stdout",
     "output_type": "stream",
     "text": [
      "19\n",
      "['f_15', 'f_42', 'f_11', 'f_6', 'f_4', 'f_57', 'f_1', 'f_59', 'f_58', 'f_61', 'f_62', 'f_51', 'f_55', 'f_67', 'f_65', 'f_17', 'f_2', 'f_64', 'f_63']\n"
     ]
    }
   ],
   "source": [
    "select_fea_lgb = []\n",
    "for i in range(len(avg_imp_lgb_ins)):\n",
    "    if avg_imp_lgb_ins.iloc[i] >= 3875.300000:\n",
    "        select_fea_lgb.append(avg_imp_lgb_ins.index[i])\n",
    "print(len(select_fea_lgb))\n",
    "print(select_fea_lgb)"
   ]
  },
  {
   "cell_type": "code",
   "execution_count": null,
   "metadata": {},
   "outputs": [],
   "source": [
    "# TODO: 特征筛选"
   ]
  },
  {
   "attachments": {},
   "cell_type": "markdown",
   "metadata": {},
   "source": [
    "xgboost"
   ]
  },
  {
   "cell_type": "code",
   "execution_count": 28,
   "metadata": {},
   "outputs": [],
   "source": [
    "xgb_params = {\n",
    "    'objective': 'binary:logistic',\n",
    "    'eval_metric': 'logloss',\n",
    "    'random_state': seed,\n",
    "    'tree_method': 'hist',\n",
    "    'booster': 'gbtree',\n",
    "    'n_estimators': 1000, \n",
    "    'learning_rate': 0.1,\n",
    "    'max_depth': 6,\n",
    "    'min_child_weight': 12, \n",
    "    'subsample': 0.8,\n",
    "    'colsample_bytree': 1.0, \n",
    "    'alpha': 0.7,\n",
    "    'lambda': 0.1, \n",
    "    'gamma': 0.1, \n",
    "    \"nthread\": -1\n",
    "}"
   ]
  },
  {
   "cell_type": "code",
   "execution_count": 31,
   "metadata": {},
   "outputs": [],
   "source": [
    "xgb_params = {\n",
    "    'booster': 'gbtree',\n",
    "    'objective': 'binary:logistic',\n",
    "    'eval_metric': 'logloss',\n",
    "    'gamma': 1,\n",
    "    'min_child_weight': 1.5,\n",
    "    'max_depth': 6,\n",
    "    'lambda': 10,\n",
    "    'subsample': 0.7,\n",
    "    'colsample_bytree': 0.7,\n",
    "    'colsample_bylevel': 0.7,\n",
    "    'eta': 0.05,\n",
    "    'tree_method': 'exact',\n",
    "    'seed': seed,\n",
    "    'nthread': -1\n",
    "}"
   ]
  },
  {
   "cell_type": "code",
   "execution_count": 51,
   "metadata": {},
   "outputs": [],
   "source": [
    "features = select_fea_xgb"
   ]
  },
  {
   "cell_type": "code",
   "execution_count": 32,
   "metadata": {},
   "outputs": [
    {
     "name": "stdout",
     "output_type": "stream",
     "text": [
      "117\n",
      "fold n°0\n",
      "[0]\ttrain-logloss:0.66547\tval-logloss:0.66547\n",
      "[300]\ttrain-logloss:0.30737\tval-logloss:0.30856\n",
      "[600]\ttrain-logloss:0.29827\tval-logloss:0.30072\n",
      "[900]\ttrain-logloss:0.29372\tval-logloss:0.29731\n",
      "[1200]\ttrain-logloss:0.29063\tval-logloss:0.29534\n",
      "[1500]\ttrain-logloss:0.28828\tval-logloss:0.29422\n",
      "[1800]\ttrain-logloss:0.28616\tval-logloss:0.29325\n",
      "[2100]\ttrain-logloss:0.28442\tval-logloss:0.29263\n",
      "[2400]\ttrain-logloss:0.28281\tval-logloss:0.29221\n",
      "[2700]\ttrain-logloss:0.28132\tval-logloss:0.29184\n",
      "[2999]\ttrain-logloss:0.27995\tval-logloss:0.29157\n",
      "fold n°1\n",
      "[0]\ttrain-logloss:0.66519\tval-logloss:0.66519\n",
      "[300]\ttrain-logloss:0.30746\tval-logloss:0.30832\n",
      "[600]\ttrain-logloss:0.29869\tval-logloss:0.30080\n",
      "[900]\ttrain-logloss:0.29405\tval-logloss:0.29737\n",
      "[1200]\ttrain-logloss:0.29089\tval-logloss:0.29537\n",
      "[1500]\ttrain-logloss:0.28845\tval-logloss:0.29408\n",
      "[1800]\ttrain-logloss:0.28627\tval-logloss:0.29306\n",
      "[2100]\ttrain-logloss:0.28451\tval-logloss:0.29248\n",
      "[2400]\ttrain-logloss:0.28286\tval-logloss:0.29195\n",
      "[2700]\ttrain-logloss:0.28127\tval-logloss:0.29151\n",
      "[2999]\ttrain-logloss:0.27990\tval-logloss:0.29122\n",
      "fold n°2\n",
      "[0]\ttrain-logloss:0.66546\tval-logloss:0.66546\n",
      "[300]\ttrain-logloss:0.30670\tval-logloss:0.30834\n",
      "[600]\ttrain-logloss:0.29844\tval-logloss:0.30141\n",
      "[900]\ttrain-logloss:0.29375\tval-logloss:0.29792\n",
      "[1200]\ttrain-logloss:0.29069\tval-logloss:0.29605\n",
      "[1500]\ttrain-logloss:0.28849\tval-logloss:0.29500\n",
      "[1800]\ttrain-logloss:0.28648\tval-logloss:0.29413\n",
      "[2100]\ttrain-logloss:0.28453\tval-logloss:0.29336\n",
      "[2400]\ttrain-logloss:0.28287\tval-logloss:0.29284\n",
      "[2700]\ttrain-logloss:0.28126\tval-logloss:0.29237\n",
      "[2999]\ttrain-logloss:0.27980\tval-logloss:0.29205\n",
      "fold n°3\n",
      "[0]\ttrain-logloss:0.66548\tval-logloss:0.66550\n",
      "[300]\ttrain-logloss:0.30716\tval-logloss:0.30842\n",
      "[600]\ttrain-logloss:0.29854\tval-logloss:0.30105\n",
      "[900]\ttrain-logloss:0.29406\tval-logloss:0.29769\n",
      "[1200]\ttrain-logloss:0.29087\tval-logloss:0.29563\n",
      "[1500]\ttrain-logloss:0.28849\tval-logloss:0.29443\n",
      "[1800]\ttrain-logloss:0.28624\tval-logloss:0.29337\n",
      "[2100]\ttrain-logloss:0.28445\tval-logloss:0.29276\n",
      "[2400]\ttrain-logloss:0.28277\tval-logloss:0.29226\n",
      "[2700]\ttrain-logloss:0.28126\tval-logloss:0.29188\n",
      "[2999]\ttrain-logloss:0.27981\tval-logloss:0.29157\n",
      "fold n°4\n",
      "[0]\ttrain-logloss:0.66518\tval-logloss:0.66518\n",
      "[300]\ttrain-logloss:0.30720\tval-logloss:0.30905\n",
      "[600]\ttrain-logloss:0.29837\tval-logloss:0.30157\n",
      "[900]\ttrain-logloss:0.29399\tval-logloss:0.29837\n",
      "[1200]\ttrain-logloss:0.29088\tval-logloss:0.29642\n",
      "[1500]\ttrain-logloss:0.28831\tval-logloss:0.29506\n",
      "[1800]\ttrain-logloss:0.28615\tval-logloss:0.29409\n",
      "[2100]\ttrain-logloss:0.28428\tval-logloss:0.29340\n",
      "[2400]\ttrain-logloss:0.28259\tval-logloss:0.29287\n",
      "[2700]\ttrain-logloss:0.28106\tval-logloss:0.29248\n",
      "[2999]\ttrain-logloss:0.27960\tval-logloss:0.29211\n"
     ]
    }
   ],
   "source": [
    "label = is_installed_label\n",
    "\n",
    "KF = StratifiedKFold(n_splits=K, random_state=seed, shuffle=True)\n",
    "feat_imp_xgb_ins = list()\n",
    "\n",
    "oof_xgb_ins = np.zeros(len(train))\n",
    "predictions_xgb_ins = np.zeros((len(test)))\n",
    "print(len(features))\n",
    "\n",
    "# 模型训练\n",
    "for fold_, (trn_idx, val_idx) in enumerate(KF.split(train.values, label.values)):\n",
    "    print(\"fold n°{}\".format(fold_))\n",
    "    X_train, X_val = train.iloc[trn_idx][features], train.iloc[val_idx][features]\n",
    "    y_train, y_val = label.iloc[trn_idx], label.iloc[val_idx]\n",
    "    trn_data = xgb.DMatrix(X_train, label=y_train)\n",
    "    val_data = xgb.DMatrix(X_val, label=y_val)\n",
    "\n",
    "    num_round = 3000\n",
    "    clf = xgb.train(\n",
    "        xgb_params,\n",
    "        trn_data,\n",
    "        num_round,\n",
    "        evals = [(trn_data, 'train'), (val_data, 'val')],\n",
    "        verbose_eval=300,\n",
    "        early_stopping_rounds=100,\n",
    "    )\n",
    "\n",
    "    oof_xgb_ins[val_idx] = clf.predict(val_data, iteration_range=(0, clf.best_iteration))\n",
    "    predictions_xgb_ins[:] += clf.predict(xgb.DMatrix(test[features]), iteration_range=(0, clf.best_iteration)) / K\n",
    "    feat_imp_xgb_ins.append(clf.get_score())"
   ]
  },
  {
   "cell_type": "code",
   "execution_count": 33,
   "metadata": {},
   "outputs": [
    {
     "name": "stdout",
     "output_type": "stream",
     "text": [
      "Logloss: 0.2917, AUC: 0.8826, Precision: 0.7907, Recall: 0.3830, F1 Score: 0.5161\n"
     ]
    }
   ],
   "source": [
    "# logloss = metrics.log_loss(label, [1 if i >= 0.5 else 0 for i in oof_xgb_ins], labels=[0, 1])\n",
    "logloss = metrics.log_loss(label, oof_xgb_ins)\n",
    "acc = metrics.roc_auc_score(label, oof_xgb_ins)\n",
    "precision = metrics.precision_score(label, [1 if i >= 0.5 else 0 for i in oof_xgb_ins])\n",
    "recall = metrics.recall_score(label, [1 if i >= 0.5 else 0 for i in oof_xgb_ins])\n",
    "f1 = metrics.f1_score(label, [1 if i >= 0.5 else 0 for i in oof_xgb_ins])\n",
    "\n",
    "print(f\"Logloss: {logloss:.4f}, AUC: {acc:.4f}, Precision: {precision:.4f}, Recall: {recall:.4f}, F1 Score: {f1:.4f}\")"
   ]
  },
  {
   "cell_type": "code",
   "execution_count": 34,
   "metadata": {},
   "outputs": [],
   "source": [
    "submission = pd.DataFrame()\n",
    "submission[\"RowId\"] = test_data[\"f_0\"]\n",
    "submission[\"is_clicked\"] = np.random.random((test_data.shape[0]))\n",
    "submission[\"is_installed\"] = predictions_xgb_ins\n",
    "submission.to_csv('./output/xgb_42_sep_train_logloss_float_{}_newparam.csv'.format(len(features)), index=False, sep='\\t')"
   ]
  },
  {
   "cell_type": "code",
   "execution_count": 35,
   "metadata": {},
   "outputs": [
    {
     "data": {
      "text/plain": [
       "count     116.000000\n",
       "mean     1413.609770\n",
       "std      1861.148202\n",
       "min         1.000000\n",
       "25%       143.250000\n",
       "50%       476.400000\n",
       "75%      2351.950000\n",
       "max      7971.200000\n",
       "dtype: float64"
      ]
     },
     "execution_count": 35,
     "metadata": {},
     "output_type": "execute_result"
    }
   ],
   "source": [
    "avg_imp_xgb_ins = pd.DataFrame(feat_imp_xgb_ins, columns = features).apply(np.mean, axis = 0).sort_values(ascending=False)\n",
    "avg_imp_xgb_ins.describe()"
   ]
  },
  {
   "cell_type": "code",
   "execution_count": 36,
   "metadata": {},
   "outputs": [
    {
     "name": "stdout",
     "output_type": "stream",
     "text": [
      "13\n",
      "['f_6', 'f_15', 'f_11', 'f_4', 'f_42', 'f_59', 'f_1', 'f_58', 'f_57', 'f_51', 'f_67', 'f_65', 'f_2']\n"
     ]
    }
   ],
   "source": [
    "select_fea_xgb = []\n",
    "for i in range(len(avg_imp_xgb_ins)):\n",
    "    if avg_imp_xgb_ins.iloc[i] >= 3514.600000:\n",
    "        select_fea_xgb.append(avg_imp_xgb_ins.index[i])\n",
    "print(len(select_fea_xgb))\n",
    "print(select_fea_xgb)"
   ]
  },
  {
   "attachments": {},
   "cell_type": "markdown",
   "metadata": {},
   "source": [
    "catboost"
   ]
  },
  {
   "cell_type": "code",
   "execution_count": 37,
   "metadata": {},
   "outputs": [],
   "source": [
    "cbc_params = {\n",
    "    'random_state': seed,\n",
    "    'loss_function': 'Logloss',\n",
    "    'eval_metric': 'Logloss',\n",
    "    'verbose': False,\n",
    "    'learning_rate': 0.05,\n",
    "    'depth': 5,\n",
    "    'rsm': 0.2020238568794654,\n",
    "    # 'min_data_in_leaf': 255,\n",
    "    # 'l2_leaf_reg': 5,\n",
    "    # 'subsample': 0.7,\n",
    "    # 'use_best_model': True,\n",
    "    # 'max_leaves': 12,\n",
    "    # 'metric_period': 500,\n",
    "    'n_estimators': 3000,\n",
    "    'thread_count': -1\n",
    "}"
   ]
  },
  {
   "cell_type": "code",
   "execution_count": 57,
   "metadata": {},
   "outputs": [],
   "source": [
    "features = select_fea_cbc"
   ]
  },
  {
   "cell_type": "code",
   "execution_count": 60,
   "metadata": {},
   "outputs": [],
   "source": [
    "cat_features = [f for f in cat_features if f in select_fea_cbc]"
   ]
  },
  {
   "cell_type": "code",
   "execution_count": 38,
   "metadata": {},
   "outputs": [
    {
     "name": "stdout",
     "output_type": "stream",
     "text": [
      "117\n",
      "fold n°0\n",
      "0:\tlearn: 0.6534025\ttest: 0.6534221\tbest: 0.6534221 (0)\ttotal: 829ms\tremaining: 41m 25s\n",
      "300:\tlearn: 0.3010529\ttest: 0.3001665\tbest: 0.3001665 (300)\ttotal: 4m 51s\tremaining: 43m 31s\n",
      "600:\tlearn: 0.2938884\ttest: 0.2930073\tbest: 0.2930073 (600)\ttotal: 9m 55s\tremaining: 39m 37s\n",
      "900:\tlearn: 0.2916883\ttest: 0.2909139\tbest: 0.2909139 (900)\ttotal: 14m 47s\tremaining: 34m 26s\n",
      "1200:\tlearn: 0.2903642\ttest: 0.2897239\tbest: 0.2897239 (1200)\ttotal: 19m 47s\tremaining: 29m 38s\n",
      "1500:\tlearn: 0.2895748\ttest: 0.2890928\tbest: 0.2890928 (1500)\ttotal: 24m 45s\tremaining: 24m 43s\n",
      "1800:\tlearn: 0.2888977\ttest: 0.2885608\tbest: 0.2885608 (1800)\ttotal: 30m\tremaining: 19m 58s\n",
      "2100:\tlearn: 0.2883433\ttest: 0.2881662\tbest: 0.2881662 (2100)\ttotal: 35m 7s\tremaining: 15m 1s\n",
      "2400:\tlearn: 0.2878501\ttest: 0.2878213\tbest: 0.2878213 (2400)\ttotal: 40m 11s\tremaining: 10m 1s\n",
      "2700:\tlearn: 0.2874355\ttest: 0.2875655\tbest: 0.2875655 (2700)\ttotal: 45m 8s\tremaining: 4m 59s\n",
      "2999:\tlearn: 0.2870611\ttest: 0.2873420\tbest: 0.2873420 (2998)\ttotal: 50m 2s\tremaining: 0us\n",
      "\n",
      "bestTest = 0.287341953\n",
      "bestIteration = 2998\n",
      "\n",
      "Shrink model to first 2999 iterations.\n",
      "fold n°1\n",
      "0:\tlearn: 0.6520843\ttest: 0.6519868\tbest: 0.6519868 (0)\ttotal: 767ms\tremaining: 38m 21s\n",
      "300:\tlearn: 0.3013163\ttest: 0.3001656\tbest: 0.3001656 (300)\ttotal: 4m 53s\tremaining: 43m 51s\n",
      "600:\tlearn: 0.2940614\ttest: 0.2927440\tbest: 0.2927440 (600)\ttotal: 9m 54s\tremaining: 39m 33s\n",
      "900:\tlearn: 0.2917844\ttest: 0.2905070\tbest: 0.2905070 (900)\ttotal: 14m 51s\tremaining: 34m 37s\n",
      "1200:\tlearn: 0.2904577\ttest: 0.2893216\tbest: 0.2893216 (1200)\ttotal: 20m\tremaining: 29m 58s\n",
      "1500:\tlearn: 0.2895533\ttest: 0.2885733\tbest: 0.2885733 (1500)\ttotal: 25m\tremaining: 24m 58s\n",
      "1800:\tlearn: 0.2888989\ttest: 0.2880768\tbest: 0.2880768 (1800)\ttotal: 29m 56s\tremaining: 19m 56s\n",
      "2100:\tlearn: 0.2883460\ttest: 0.2876692\tbest: 0.2876692 (2100)\ttotal: 34m 56s\tremaining: 14m 56s\n",
      "2400:\tlearn: 0.2879055\ttest: 0.2873934\tbest: 0.2873934 (2400)\ttotal: 39m 56s\tremaining: 9m 57s\n",
      "2700:\tlearn: 0.2874991\ttest: 0.2871348\tbest: 0.2871348 (2700)\ttotal: 45m 9s\tremaining: 4m 59s\n",
      "2999:\tlearn: 0.2871047\ttest: 0.2868915\tbest: 0.2868914 (2998)\ttotal: 50m 20s\tremaining: 0us\n",
      "\n",
      "bestTest = 0.286891443\n",
      "bestIteration = 2998\n",
      "\n",
      "Shrink model to first 2999 iterations.\n",
      "fold n°2\n",
      "0:\tlearn: 0.6549491\ttest: 0.6549701\tbest: 0.6549701 (0)\ttotal: 675ms\tremaining: 33m 43s\n",
      "300:\tlearn: 0.3002587\ttest: 0.2996404\tbest: 0.2996404 (300)\ttotal: 4m 38s\tremaining: 41m 40s\n",
      "600:\tlearn: 0.2938220\ttest: 0.2932370\tbest: 0.2932370 (600)\ttotal: 9m 39s\tremaining: 38m 33s\n",
      "900:\tlearn: 0.2916529\ttest: 0.2912260\tbest: 0.2912260 (900)\ttotal: 14m 27s\tremaining: 33m 41s\n",
      "1200:\tlearn: 0.2903515\ttest: 0.2900918\tbest: 0.2900918 (1200)\ttotal: 19m 26s\tremaining: 29m 7s\n",
      "1500:\tlearn: 0.2894714\ttest: 0.2893632\tbest: 0.2893632 (1500)\ttotal: 24m 33s\tremaining: 24m 31s\n",
      "1800:\tlearn: 0.2887827\ttest: 0.2888477\tbest: 0.2888477 (1800)\ttotal: 29m 32s\tremaining: 19m 39s\n",
      "2100:\tlearn: 0.2882542\ttest: 0.2885014\tbest: 0.2885014 (2100)\ttotal: 34m 33s\tremaining: 14m 47s\n",
      "2400:\tlearn: 0.2877444\ttest: 0.2881476\tbest: 0.2881475 (2399)\ttotal: 39m 50s\tremaining: 9m 56s\n",
      "2700:\tlearn: 0.2872838\ttest: 0.2878584\tbest: 0.2878584 (2700)\ttotal: 44m 54s\tremaining: 4m 58s\n",
      "2999:\tlearn: 0.2869124\ttest: 0.2876336\tbest: 0.2876334 (2998)\ttotal: 49m 59s\tremaining: 0us\n",
      "\n",
      "bestTest = 0.2876333807\n",
      "bestIteration = 2998\n",
      "\n",
      "Shrink model to first 2999 iterations.\n",
      "fold n°3\n",
      "0:\tlearn: 0.6556646\ttest: 0.6556848\tbest: 0.6556848 (0)\ttotal: 675ms\tremaining: 33m 43s\n",
      "300:\tlearn: 0.3007152\ttest: 0.3000509\tbest: 0.3000509 (300)\ttotal: 4m 45s\tremaining: 42m 41s\n",
      "600:\tlearn: 0.2937129\ttest: 0.2930162\tbest: 0.2930162 (600)\ttotal: 9m 49s\tremaining: 39m 11s\n",
      "900:\tlearn: 0.2915701\ttest: 0.2910193\tbest: 0.2910193 (900)\ttotal: 14m 37s\tremaining: 34m 3s\n",
      "1200:\tlearn: 0.2902719\ttest: 0.2898858\tbest: 0.2898858 (1200)\ttotal: 19m 42s\tremaining: 29m 31s\n",
      "1500:\tlearn: 0.2893965\ttest: 0.2891997\tbest: 0.2891997 (1500)\ttotal: 24m 44s\tremaining: 24m 42s\n",
      "1800:\tlearn: 0.2886743\ttest: 0.2886655\tbest: 0.2886655 (1800)\ttotal: 29m 42s\tremaining: 19m 46s\n",
      "2100:\tlearn: 0.2881122\ttest: 0.2882660\tbest: 0.2882660 (2100)\ttotal: 34m 44s\tremaining: 14m 51s\n",
      "2400:\tlearn: 0.2876631\ttest: 0.2879920\tbest: 0.2879920 (2400)\ttotal: 39m 56s\tremaining: 9m 57s\n",
      "2700:\tlearn: 0.2872674\ttest: 0.2877606\tbest: 0.2877606 (2700)\ttotal: 44m 57s\tremaining: 4m 58s\n",
      "2999:\tlearn: 0.2868962\ttest: 0.2875541\tbest: 0.2875541 (2999)\ttotal: 50m 17s\tremaining: 0us\n",
      "\n",
      "bestTest = 0.2875540719\n",
      "bestIteration = 2999\n",
      "\n",
      "fold n°4\n",
      "0:\tlearn: 0.6556554\ttest: 0.6556610\tbest: 0.6556610 (0)\ttotal: 697ms\tremaining: 34m 51s\n",
      "300:\tlearn: 0.3009401\ttest: 0.3004182\tbest: 0.3004182 (300)\ttotal: 4m 51s\tremaining: 43m 35s\n",
      "600:\tlearn: 0.2936490\ttest: 0.2931498\tbest: 0.2931498 (600)\ttotal: 10m 2s\tremaining: 40m 6s\n",
      "900:\tlearn: 0.2915072\ttest: 0.2912097\tbest: 0.2912097 (900)\ttotal: 15m 2s\tremaining: 35m 1s\n",
      "1200:\tlearn: 0.2902321\ttest: 0.2901202\tbest: 0.2901202 (1200)\ttotal: 20m 8s\tremaining: 30m 10s\n",
      "1500:\tlearn: 0.2893945\ttest: 0.2894643\tbest: 0.2894643 (1500)\ttotal: 25m 15s\tremaining: 25m 13s\n",
      "1800:\tlearn: 0.2887148\ttest: 0.2889584\tbest: 0.2889584 (1800)\ttotal: 30m 28s\tremaining: 20m 17s\n",
      "2100:\tlearn: 0.2881535\ttest: 0.2885622\tbest: 0.2885622 (2100)\ttotal: 35m 32s\tremaining: 15m 12s\n",
      "2400:\tlearn: 0.2876805\ttest: 0.2882490\tbest: 0.2882490 (2400)\ttotal: 40m 41s\tremaining: 10m 9s\n",
      "2700:\tlearn: 0.2872445\ttest: 0.2879837\tbest: 0.2879837 (2700)\ttotal: 45m 46s\tremaining: 5m 4s\n",
      "2999:\tlearn: 0.2868807\ttest: 0.2877843\tbest: 0.2877843 (2999)\ttotal: 50m 45s\tremaining: 0us\n",
      "\n",
      "bestTest = 0.2877842896\n",
      "bestIteration = 2999\n",
      "\n"
     ]
    }
   ],
   "source": [
    "KF = StratifiedKFold(n_splits=K, random_state=seed, shuffle=True)\n",
    "feat_imp_cbc_ins = list()\n",
    "\n",
    "oof_cbc_ins = np.zeros(len(train))\n",
    "predictions_cbc_ins = np.zeros((len(test)))\n",
    "print(len(features))\n",
    "\n",
    "model = CatBoostClassifier(**cbc_params)\n",
    "\n",
    "# 模型训练\n",
    "for fold_, (trn_idx, val_idx) in enumerate(KF.split(train.values, label.values)):\n",
    "    print(\"fold n°{}\".format(fold_))\n",
    "\n",
    "    X_train, X_val = train.iloc[trn_idx][features], train.iloc[val_idx][features]\n",
    "    y_train, y_val = label.iloc[trn_idx], label.iloc[val_idx]\n",
    "    \n",
    "    model.fit(X_train, y_train, eval_set=(X_val, y_val), \n",
    "              cat_features=cat_features,\n",
    "              early_stopping_rounds=100, verbose=300, use_best_model=True)\n",
    "\n",
    "    oof_cbc_ins[val_idx] += (model.predict_proba(X_val)[:, 1])\n",
    "    predictions_cbc_ins += (model.predict_proba(test[features])[:, 1]) / K\n",
    "    feat_imp_cbc_ins.append(model.feature_importances_)"
   ]
  },
  {
   "cell_type": "code",
   "execution_count": 39,
   "metadata": {},
   "outputs": [
    {
     "name": "stdout",
     "output_type": "stream",
     "text": [
      "Logloss: 0.2874, AUC: 0.8863, Precision: 0.7833, Recall: 0.4090, F1 Score: 0.5374\n"
     ]
    }
   ],
   "source": [
    "# logloss = metrics.log_loss(label, [1 if i >= 0.5 else 0 for i in oof_cbc_ins], labels=[0, 1])\n",
    "logloss = metrics.log_loss(label, oof_cbc_ins)\n",
    "acc = metrics.roc_auc_score(label, oof_cbc_ins)\n",
    "precision = metrics.precision_score(label, [1 if i >= 0.5 else 0 for i in oof_cbc_ins])\n",
    "recall = metrics.recall_score(label, [1 if i >= 0.5 else 0 for i in oof_cbc_ins])\n",
    "f1 = metrics.f1_score(label, [1 if i >= 0.5 else 0 for i in oof_cbc_ins])\n",
    "\n",
    "print(f\"Logloss: {logloss:.4f}, AUC: {acc:.4f}, Precision: {precision:.4f}, Recall: {recall:.4f}, F1 Score: {f1:.4f}\")"
   ]
  },
  {
   "cell_type": "code",
   "execution_count": 40,
   "metadata": {},
   "outputs": [],
   "source": [
    "submission = pd.DataFrame()\n",
    "submission[\"RowId\"] = test_data[\"f_0\"]\n",
    "submission[\"is_clicked\"] = np.random.random((test_data.shape[0]))\n",
    "submission[\"is_installed\"] = predictions_cbc_ins\n",
    "submission.to_csv('./output/cbc_42_sep_train_logloss_float_{}.csv'.format(len(features)), index=False, sep='\\t')"
   ]
  },
  {
   "cell_type": "code",
   "execution_count": 41,
   "metadata": {},
   "outputs": [
    {
     "data": {
      "text/plain": [
       "count    117.000000\n",
       "mean       0.854701\n",
       "std        2.258121\n",
       "min        0.000000\n",
       "25%        0.015990\n",
       "50%        0.192809\n",
       "75%        0.556579\n",
       "max       17.879745\n",
       "dtype: float64"
      ]
     },
     "execution_count": 41,
     "metadata": {},
     "output_type": "execute_result"
    }
   ],
   "source": [
    "avg_imp_cbc_ins = pd.DataFrame(feat_imp_cbc_ins, columns = features).apply(np.mean, axis = 0).sort_values(ascending=False)\n",
    "avg_imp_cbc_ins.describe()"
   ]
  },
  {
   "cell_type": "code",
   "execution_count": 42,
   "metadata": {},
   "outputs": [
    {
     "name": "stdout",
     "output_type": "stream",
     "text": [
      "15\n",
      "['f_4', 'f_1', 'f_2', 'f_59_encode', 'f_6', 'f_59', 'f_20', 'f_19', 'f_11', 'f_42', 'f_10', 'f_68', 'f_12', 'f_21', 'f_57']\n"
     ]
    }
   ],
   "source": [
    "select_fea_cbc = []\n",
    "for i in range(len(avg_imp_cbc_ins)):\n",
    "    if avg_imp_cbc_ins.iloc[i] >= 0.976061:\n",
    "        select_fea_cbc.append(avg_imp_cbc_ins.index[i])\n",
    "print(len(select_fea_cbc))\n",
    "print(select_fea_cbc)"
   ]
  },
  {
   "attachments": {},
   "cell_type": "markdown",
   "metadata": {},
   "source": [
    "# 模型融合"
   ]
  },
  {
   "cell_type": "code",
   "execution_count": 3,
   "metadata": {},
   "outputs": [],
   "source": [
    "file_list = ['NFM_2023_79_4_1', 'cbc_42_sep_train_logloss_float']\n",
    "weight_list = [1, 1]\n",
    "res_list = []\n",
    "for file in file_list:\n",
    "    res_list.append(pd.read_csv('./output/{}.csv'.format(file), sep='\\t')['is_installed'].values)"
   ]
  },
  {
   "cell_type": "code",
   "execution_count": 4,
   "metadata": {},
   "outputs": [],
   "source": [
    "res_wei = 0\n",
    "for i, res_ in enumerate(res_list):\n",
    "    res_wei += res_ * weight_list[i]\n",
    "res_wei /= sum(weight_list)"
   ]
  },
  {
   "cell_type": "code",
   "execution_count": 5,
   "metadata": {},
   "outputs": [
    {
     "data": {
      "text/plain": [
       "[array([0.34951466, 0.38672057, 0.01923786, ..., 0.03878488, 0.00983924,\n",
       "        0.03923493]),\n",
       " array([0.34246523, 0.49886412, 0.12743884, ..., 0.20235799, 0.24234735,\n",
       "        0.1216858 ])]"
      ]
     },
     "execution_count": 5,
     "metadata": {},
     "output_type": "execute_result"
    }
   ],
   "source": [
    "res_list"
   ]
  },
  {
   "cell_type": "code",
   "execution_count": 6,
   "metadata": {},
   "outputs": [
    {
     "data": {
      "text/plain": [
       "array([0.34598995, 0.44279234, 0.07333835, ..., 0.12057144, 0.12609329,\n",
       "       0.08046036])"
      ]
     },
     "execution_count": 6,
     "metadata": {},
     "output_type": "execute_result"
    }
   ],
   "source": [
    "res_wei"
   ]
  },
  {
   "cell_type": "code",
   "execution_count": 9,
   "metadata": {},
   "outputs": [],
   "source": [
    "submission = pd.DataFrame()\n",
    "submission[\"RowId\"] = test_data[\"f_0\"]\n",
    "submission[\"is_clicked\"] = np.random.random((test_data.shape[0]))\n",
    "submission[\"is_installed\"] = res_wei\n",
    "submission.to_csv('./output/cbc_NFM_1_1.csv', index=False, sep='\\t')"
   ]
  },
  {
   "attachments": {},
   "cell_type": "markdown",
   "metadata": {},
   "source": [
    "# 输出"
   ]
  },
  {
   "cell_type": "code",
   "execution_count": 26,
   "metadata": {},
   "outputs": [
    {
     "data": {
      "text/plain": [
       "42"
      ]
     },
     "execution_count": 26,
     "metadata": {},
     "output_type": "execute_result"
    }
   ],
   "source": [
    "seed"
   ]
  },
  {
   "cell_type": "code",
   "execution_count": 33,
   "metadata": {},
   "outputs": [],
   "source": [
    "submission = pd.DataFrame()\n",
    "submission[\"RowId\"] = test_data[\"f_0\"]\n",
    "submission[\"is_clicked\"] = np.random.random((test_data.shape[0]))\n",
    "submission[\"is_installed\"] = predictions_cbc_ins\n",
    "submission.to_csv('./output/cbc_42_sep_train_logloss_float.csv', index=False, sep='\\t')"
   ]
  },
  {
   "cell_type": "code",
   "execution_count": 24,
   "metadata": {},
   "outputs": [],
   "source": [
    "submission = pd.DataFrame()\n",
    "submission[\"RowId\"] = test_data[\"f_0\"]\n",
    "submission[\"is_clicked\"] = predictions_lgb_cli\n",
    "submission[\"is_installed\"] = predictions_lgb_ins\n",
    "submission.to_csv('./output/lgb_42_sep_train_logloss_float.csv', index=False, sep='\\t')"
   ]
  },
  {
   "cell_type": "code",
   "execution_count": 26,
   "metadata": {},
   "outputs": [],
   "source": [
    "submission = pd.DataFrame()\n",
    "submission[\"RowId\"] = test_data[\"f_0\"]\n",
    "submission[\"is_clicked\"] = np.round(predictions_lgb_cli, 5)\n",
    "submission[\"is_installed\"] = np.round(predictions_lgb_ins, 5)\n",
    "submission.to_csv('./output/lgb_42_sep_train_logloss_float_round5.csv', index=False, sep='\\t')"
   ]
  },
  {
   "cell_type": "code",
   "execution_count": 28,
   "metadata": {},
   "outputs": [],
   "source": [
    "submission = pd.DataFrame()\n",
    "submission[\"RowId\"] = test_data[\"f_0\"]\n",
    "submission[\"is_clicked\"] = np.random.random((test_data.shape[0]))\n",
    "submission[\"is_installed\"] = predictions_lgb_ins\n",
    "submission.to_csv('./output/lgb_42_sep_train_logloss_float_ins_pred_cli_rand.csv', index=False, sep='\\t')"
   ]
  },
  {
   "cell_type": "code",
   "execution_count": 27,
   "metadata": {},
   "outputs": [
    {
     "data": {
      "text/html": [
       "<div>\n",
       "<style scoped>\n",
       "    .dataframe tbody tr th:only-of-type {\n",
       "        vertical-align: middle;\n",
       "    }\n",
       "\n",
       "    .dataframe tbody tr th {\n",
       "        vertical-align: top;\n",
       "    }\n",
       "\n",
       "    .dataframe thead th {\n",
       "        text-align: right;\n",
       "    }\n",
       "</style>\n",
       "<table border=\"1\" class=\"dataframe\">\n",
       "  <thead>\n",
       "    <tr style=\"text-align: right;\">\n",
       "      <th></th>\n",
       "      <th>RowId</th>\n",
       "      <th>is_clicked</th>\n",
       "      <th>is_installed</th>\n",
       "    </tr>\n",
       "  </thead>\n",
       "  <tbody>\n",
       "    <tr>\n",
       "      <th>0</th>\n",
       "      <td>64505</td>\n",
       "      <td>0.54069</td>\n",
       "      <td>0.35231</td>\n",
       "    </tr>\n",
       "    <tr>\n",
       "      <th>1</th>\n",
       "      <td>64506</td>\n",
       "      <td>0.20442</td>\n",
       "      <td>0.45921</td>\n",
       "    </tr>\n",
       "    <tr>\n",
       "      <th>2</th>\n",
       "      <td>64507</td>\n",
       "      <td>0.63765</td>\n",
       "      <td>0.08273</td>\n",
       "    </tr>\n",
       "    <tr>\n",
       "      <th>3</th>\n",
       "      <td>64508</td>\n",
       "      <td>0.30246</td>\n",
       "      <td>0.33364</td>\n",
       "    </tr>\n",
       "    <tr>\n",
       "      <th>4</th>\n",
       "      <td>64509</td>\n",
       "      <td>0.91326</td>\n",
       "      <td>0.30514</td>\n",
       "    </tr>\n",
       "    <tr>\n",
       "      <th>...</th>\n",
       "      <td>...</td>\n",
       "      <td>...</td>\n",
       "      <td>...</td>\n",
       "    </tr>\n",
       "    <tr>\n",
       "      <th>160968</th>\n",
       "      <td>16240</td>\n",
       "      <td>0.67619</td>\n",
       "      <td>0.42696</td>\n",
       "    </tr>\n",
       "    <tr>\n",
       "      <th>160969</th>\n",
       "      <td>16241</td>\n",
       "      <td>0.09272</td>\n",
       "      <td>0.00923</td>\n",
       "    </tr>\n",
       "    <tr>\n",
       "      <th>160970</th>\n",
       "      <td>16242</td>\n",
       "      <td>0.22014</td>\n",
       "      <td>0.02216</td>\n",
       "    </tr>\n",
       "    <tr>\n",
       "      <th>160971</th>\n",
       "      <td>16243</td>\n",
       "      <td>0.50215</td>\n",
       "      <td>0.14860</td>\n",
       "    </tr>\n",
       "    <tr>\n",
       "      <th>160972</th>\n",
       "      <td>16244</td>\n",
       "      <td>0.99989</td>\n",
       "      <td>0.06889</td>\n",
       "    </tr>\n",
       "  </tbody>\n",
       "</table>\n",
       "<p>160973 rows × 3 columns</p>\n",
       "</div>"
      ],
      "text/plain": [
       "        RowId  is_clicked  is_installed\n",
       "0       64505     0.54069       0.35231\n",
       "1       64506     0.20442       0.45921\n",
       "2       64507     0.63765       0.08273\n",
       "3       64508     0.30246       0.33364\n",
       "4       64509     0.91326       0.30514\n",
       "...       ...         ...           ...\n",
       "160968  16240     0.67619       0.42696\n",
       "160969  16241     0.09272       0.00923\n",
       "160970  16242     0.22014       0.02216\n",
       "160971  16243     0.50215       0.14860\n",
       "160972  16244     0.99989       0.06889\n",
       "\n",
       "[160973 rows x 3 columns]"
      ]
     },
     "execution_count": 27,
     "metadata": {},
     "output_type": "execute_result"
    }
   ],
   "source": [
    "submission"
   ]
  },
  {
   "cell_type": "code",
   "execution_count": null,
   "metadata": {},
   "outputs": [],
   "source": []
  }
 ],
 "metadata": {
  "kernelspec": {
   "display_name": "libcityng",
   "language": "python",
   "name": "python3"
  },
  "language_info": {
   "codemirror_mode": {
    "name": "ipython",
    "version": 3
   },
   "file_extension": ".py",
   "mimetype": "text/x-python",
   "name": "python",
   "nbconvert_exporter": "python",
   "pygments_lexer": "ipython3",
   "version": "3.9.7"
  },
  "orig_nbformat": 4
 },
 "nbformat": 4,
 "nbformat_minor": 2
}
