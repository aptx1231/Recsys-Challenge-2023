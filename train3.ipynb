{
 "cells": [
  {
   "cell_type": "code",
   "execution_count": 1,
   "metadata": {},
   "outputs": [],
   "source": [
    "import numpy as np \n",
    "import pandas as pd\n",
    "import matplotlib.pyplot as plt\n",
    "import seaborn as sns\n",
    "import warnings\n",
    "import os\n",
    "import re\n",
    "import math\n",
    "import plotly.express as px\n",
    "import plotly.graph_objects as go\n",
    "from plotly.subplots import make_subplots\n",
    "\n",
    "from lightgbm import LGBMRegressor, LGBMClassifier\n",
    "from xgboost import XGBRegressor, XGBClassifier\n",
    "from catboost import CatBoostRegressor, CatBoostClassifier\n",
    "import lightgbm as lgb\n",
    "import xgboost as xgb\n",
    "import catboost as cab\n",
    "\n",
    "from sklearn.preprocessing import LabelEncoder\n",
    "from sklearn.model_selection import cross_val_score, KFold, StratifiedKFold, GridSearchCV\n",
    "from sklearn.decomposition import LatentDirichletAllocation, NMF, TruncatedSVD\n",
    "from sklearn.linear_model import LogisticRegression, SGDClassifier\n",
    "from sklearn.ensemble import RandomForestRegressor, AdaBoostRegressor, GradientBoostingRegressor, HistGradientBoostingRegressor, StackingRegressor\n",
    "from sklearn.ensemble import RandomForestClassifier, AdaBoostClassifier, GradientBoostingClassifier, HistGradientBoostingClassifier, StackingClassifier\n",
    "from sklearn.tree import DecisionTreeRegressor, DecisionTreeClassifier\n",
    "from sklearn import metrics\n",
    "from sklearn.svm import SVC\n",
    "from sklearn.feature_extraction.text import TfidfVectorizer\n",
    "from sklearn.preprocessing import PolynomialFeatures\n",
    "from sklearn.neighbors import KNeighborsClassifier\n",
    "from tqdm import tqdm\n",
    "\n",
    "import matplotlib.pyplot as plt\n",
    "\n",
    "import warnings\n",
    "\n",
    "warnings.filterwarnings('ignore')"
   ]
  },
  {
   "attachments": {},
   "cell_type": "markdown",
   "metadata": {},
   "source": [
    "数据处理"
   ]
  },
  {
   "cell_type": "code",
   "execution_count": 2,
   "metadata": {},
   "outputs": [
    {
     "data": {
      "text/plain": [
       "(160973, 80)"
      ]
     },
     "execution_count": 2,
     "metadata": {},
     "output_type": "execute_result"
    }
   ],
   "source": [
    "test_data = pd.read_csv('data/test/000000000000.csv', sep='\\t')\n",
    "test_data.shape "
   ]
  },
  {
   "cell_type": "code",
   "execution_count": 3,
   "metadata": {},
   "outputs": [
    {
     "data": {
      "text/plain": [
       "(3485852, 82)"
      ]
     },
     "execution_count": 3,
     "metadata": {},
     "output_type": "execute_result"
    }
   ],
   "source": [
    "train_data = pd.read_csv('./data/train.csv', sep='\\t')\n",
    "train_data.shape "
   ]
  },
  {
   "cell_type": "code",
   "execution_count": 4,
   "metadata": {},
   "outputs": [],
   "source": [
    "train_data = train_data.replace([np.inf, -np.inf], np.nan).fillna(0)\n",
    "test_data = test_data.replace([np.inf, -np.inf], np.nan).fillna(0)"
   ]
  },
  {
   "cell_type": "code",
   "execution_count": 5,
   "metadata": {},
   "outputs": [],
   "source": [
    "data = pd.concat([train_data, test_data])"
   ]
  },
  {
   "cell_type": "code",
   "execution_count": 6,
   "metadata": {},
   "outputs": [],
   "source": [
    "cat_features = ['f_{}'.format(i) for i in range(1, 42)]\n",
    "bin_features = ['f_{}'.format(i) for i in range(33, 42)]\n",
    "num_features = ['f_{}'.format(i) for i in range(42, 80)]\n",
    "date_features = ['f_1']"
   ]
  },
  {
   "cell_type": "code",
   "execution_count": 7,
   "metadata": {},
   "outputs": [],
   "source": [
    "for f in cat_features:\n",
    "    le = LabelEncoder()\n",
    "    data[f] = le.fit_transform(data[f])"
   ]
  },
  {
   "cell_type": "code",
   "execution_count": 8,
   "metadata": {},
   "outputs": [
    {
     "name": "stdout",
     "output_type": "stream",
     "text": [
      "f_0             0.000000\n",
      "f_1             0.038446\n",
      "f_2             0.005263\n",
      "f_3             0.290339\n",
      "f_4             0.002065\n",
      "                  ...   \n",
      "f_77            0.998190\n",
      "f_78            0.973566\n",
      "f_79            0.990726\n",
      "is_clicked      0.745728\n",
      "is_installed    0.789522\n",
      "Length: 82, dtype: float64\n"
     ]
    }
   ],
   "source": [
    "zero_count = data.eq(0).sum()  # 计算每列中值为 0 的数量\n",
    "zero_ratio = zero_count / len(data)  # 计算每列中值为 0 的占比\n",
    "print(zero_ratio)"
   ]
  },
  {
   "cell_type": "code",
   "execution_count": 9,
   "metadata": {},
   "outputs": [
    {
     "data": {
      "text/plain": [
       "(3646825, 82)"
      ]
     },
     "execution_count": 9,
     "metadata": {},
     "output_type": "execute_result"
    }
   ],
   "source": [
    "data.shape "
   ]
  },
  {
   "cell_type": "code",
   "execution_count": 10,
   "metadata": {},
   "outputs": [
    {
     "data": {
      "text/html": [
       "<div>\n",
       "<style scoped>\n",
       "    .dataframe tbody tr th:only-of-type {\n",
       "        vertical-align: middle;\n",
       "    }\n",
       "\n",
       "    .dataframe tbody tr th {\n",
       "        vertical-align: top;\n",
       "    }\n",
       "\n",
       "    .dataframe thead th {\n",
       "        text-align: right;\n",
       "    }\n",
       "</style>\n",
       "<table border=\"1\" class=\"dataframe\">\n",
       "  <thead>\n",
       "    <tr style=\"text-align: right;\">\n",
       "      <th></th>\n",
       "      <th>f_0</th>\n",
       "      <th>f_1</th>\n",
       "      <th>f_2</th>\n",
       "      <th>f_3</th>\n",
       "      <th>f_4</th>\n",
       "      <th>f_5</th>\n",
       "      <th>f_6</th>\n",
       "      <th>f_7</th>\n",
       "      <th>f_8</th>\n",
       "      <th>f_9</th>\n",
       "      <th>...</th>\n",
       "      <th>f_72</th>\n",
       "      <th>f_73</th>\n",
       "      <th>f_74</th>\n",
       "      <th>f_75</th>\n",
       "      <th>f_76</th>\n",
       "      <th>f_77</th>\n",
       "      <th>f_78</th>\n",
       "      <th>f_79</th>\n",
       "      <th>is_clicked</th>\n",
       "      <th>is_installed</th>\n",
       "    </tr>\n",
       "  </thead>\n",
       "  <tbody>\n",
       "    <tr>\n",
       "      <th>2596150</th>\n",
       "      <td>64505</td>\n",
       "      <td>58</td>\n",
       "      <td>3346</td>\n",
       "      <td>22294</td>\n",
       "      <td>6767</td>\n",
       "      <td>25604</td>\n",
       "      <td>5040</td>\n",
       "      <td>27941</td>\n",
       "      <td>19203</td>\n",
       "      <td>31372</td>\n",
       "      <td>...</td>\n",
       "      <td>0.571121</td>\n",
       "      <td>0.0</td>\n",
       "      <td>0.0</td>\n",
       "      <td>0.269948</td>\n",
       "      <td>0.0</td>\n",
       "      <td>0.0</td>\n",
       "      <td>0.0</td>\n",
       "      <td>0.0</td>\n",
       "      <td>0</td>\n",
       "      <td>0</td>\n",
       "    </tr>\n",
       "  </tbody>\n",
       "</table>\n",
       "<p>1 rows × 82 columns</p>\n",
       "</div>"
      ],
      "text/plain": [
       "           f_0  f_1   f_2    f_3   f_4    f_5   f_6    f_7    f_8    f_9  ...  \\\n",
       "2596150  64505   58  3346  22294  6767  25604  5040  27941  19203  31372  ...   \n",
       "\n",
       "             f_72  f_73  f_74      f_75  f_76  f_77  f_78  f_79  is_clicked  \\\n",
       "2596150  0.571121   0.0   0.0  0.269948   0.0   0.0   0.0   0.0           0   \n",
       "\n",
       "         is_installed  \n",
       "2596150             0  \n",
       "\n",
       "[1 rows x 82 columns]"
      ]
     },
     "execution_count": 10,
     "metadata": {},
     "output_type": "execute_result"
    }
   ],
   "source": [
    "train_data[train_data['f_0'] == 64505]"
   ]
  },
  {
   "cell_type": "code",
   "execution_count": 11,
   "metadata": {},
   "outputs": [
    {
     "data": {
      "text/html": [
       "<div>\n",
       "<style scoped>\n",
       "    .dataframe tbody tr th:only-of-type {\n",
       "        vertical-align: middle;\n",
       "    }\n",
       "\n",
       "    .dataframe tbody tr th {\n",
       "        vertical-align: top;\n",
       "    }\n",
       "\n",
       "    .dataframe thead th {\n",
       "        text-align: right;\n",
       "    }\n",
       "</style>\n",
       "<table border=\"1\" class=\"dataframe\">\n",
       "  <thead>\n",
       "    <tr style=\"text-align: right;\">\n",
       "      <th></th>\n",
       "      <th>f_0</th>\n",
       "      <th>f_1</th>\n",
       "      <th>f_2</th>\n",
       "      <th>f_3</th>\n",
       "      <th>f_4</th>\n",
       "      <th>f_5</th>\n",
       "      <th>f_6</th>\n",
       "      <th>f_7</th>\n",
       "      <th>f_8</th>\n",
       "      <th>f_9</th>\n",
       "      <th>...</th>\n",
       "      <th>f_70</th>\n",
       "      <th>f_71</th>\n",
       "      <th>f_72</th>\n",
       "      <th>f_73</th>\n",
       "      <th>f_74</th>\n",
       "      <th>f_75</th>\n",
       "      <th>f_76</th>\n",
       "      <th>f_77</th>\n",
       "      <th>f_78</th>\n",
       "      <th>f_79</th>\n",
       "    </tr>\n",
       "  </thead>\n",
       "  <tbody>\n",
       "    <tr>\n",
       "      <th>0</th>\n",
       "      <td>64505</td>\n",
       "      <td>67</td>\n",
       "      <td>26325</td>\n",
       "      <td>7152</td>\n",
       "      <td>21563</td>\n",
       "      <td>19475</td>\n",
       "      <td>31440</td>\n",
       "      <td>27941</td>\n",
       "      <td>21621</td>\n",
       "      <td>14659</td>\n",
       "      <td>...</td>\n",
       "      <td>1.519085</td>\n",
       "      <td>0.0</td>\n",
       "      <td>0.0</td>\n",
       "      <td>0.0</td>\n",
       "      <td>0.0</td>\n",
       "      <td>0.0</td>\n",
       "      <td>0.0</td>\n",
       "      <td>0.0</td>\n",
       "      <td>0.0</td>\n",
       "      <td>0.0</td>\n",
       "    </tr>\n",
       "  </tbody>\n",
       "</table>\n",
       "<p>1 rows × 80 columns</p>\n",
       "</div>"
      ],
      "text/plain": [
       "     f_0  f_1    f_2   f_3    f_4    f_5    f_6    f_7    f_8    f_9  ...  \\\n",
       "0  64505   67  26325  7152  21563  19475  31440  27941  21621  14659  ...   \n",
       "\n",
       "       f_70  f_71  f_72  f_73  f_74  f_75  f_76  f_77  f_78  f_79  \n",
       "0  1.519085   0.0   0.0   0.0   0.0   0.0   0.0   0.0   0.0   0.0  \n",
       "\n",
       "[1 rows x 80 columns]"
      ]
     },
     "execution_count": 11,
     "metadata": {},
     "output_type": "execute_result"
    }
   ],
   "source": [
    "test_data[test_data['f_0'] == 64505]"
   ]
  },
  {
   "cell_type": "code",
   "execution_count": 12,
   "metadata": {},
   "outputs": [
    {
     "data": {
      "text/html": [
       "<div>\n",
       "<style scoped>\n",
       "    .dataframe tbody tr th:only-of-type {\n",
       "        vertical-align: middle;\n",
       "    }\n",
       "\n",
       "    .dataframe tbody tr th {\n",
       "        vertical-align: top;\n",
       "    }\n",
       "\n",
       "    .dataframe thead th {\n",
       "        text-align: right;\n",
       "    }\n",
       "</style>\n",
       "<table border=\"1\" class=\"dataframe\">\n",
       "  <thead>\n",
       "    <tr style=\"text-align: right;\">\n",
       "      <th></th>\n",
       "      <th>f_0</th>\n",
       "      <th>f_1</th>\n",
       "      <th>f_2</th>\n",
       "      <th>f_3</th>\n",
       "      <th>f_4</th>\n",
       "      <th>f_5</th>\n",
       "      <th>f_6</th>\n",
       "      <th>f_7</th>\n",
       "      <th>f_8</th>\n",
       "      <th>f_9</th>\n",
       "      <th>...</th>\n",
       "      <th>f_72</th>\n",
       "      <th>f_73</th>\n",
       "      <th>f_74</th>\n",
       "      <th>f_75</th>\n",
       "      <th>f_76</th>\n",
       "      <th>f_77</th>\n",
       "      <th>f_78</th>\n",
       "      <th>f_79</th>\n",
       "      <th>is_clicked</th>\n",
       "      <th>is_installed</th>\n",
       "    </tr>\n",
       "  </thead>\n",
       "  <tbody>\n",
       "    <tr>\n",
       "      <th>0</th>\n",
       "      <td>2541188</td>\n",
       "      <td>12</td>\n",
       "      <td>114</td>\n",
       "      <td>4</td>\n",
       "      <td>191</td>\n",
       "      <td>4</td>\n",
       "      <td>155</td>\n",
       "      <td>0</td>\n",
       "      <td>1</td>\n",
       "      <td>4</td>\n",
       "      <td>...</td>\n",
       "      <td>2.855607</td>\n",
       "      <td>2.284486</td>\n",
       "      <td>0.115692</td>\n",
       "      <td>1.156922</td>\n",
       "      <td>0.269948</td>\n",
       "      <td>0.0</td>\n",
       "      <td>0.0</td>\n",
       "      <td>0.0</td>\n",
       "      <td>0.0</td>\n",
       "      <td>0.0</td>\n",
       "    </tr>\n",
       "    <tr>\n",
       "      <th>1</th>\n",
       "      <td>2541440</td>\n",
       "      <td>15</td>\n",
       "      <td>21</td>\n",
       "      <td>4</td>\n",
       "      <td>390</td>\n",
       "      <td>3</td>\n",
       "      <td>559</td>\n",
       "      <td>0</td>\n",
       "      <td>2</td>\n",
       "      <td>3</td>\n",
       "      <td>...</td>\n",
       "      <td>0.000000</td>\n",
       "      <td>0.000000</td>\n",
       "      <td>0.000000</td>\n",
       "      <td>1.156922</td>\n",
       "      <td>0.269948</td>\n",
       "      <td>0.0</td>\n",
       "      <td>0.0</td>\n",
       "      <td>0.0</td>\n",
       "      <td>0.0</td>\n",
       "      <td>0.0</td>\n",
       "    </tr>\n",
       "    <tr>\n",
       "      <th>2</th>\n",
       "      <td>2541480</td>\n",
       "      <td>20</td>\n",
       "      <td>131</td>\n",
       "      <td>4</td>\n",
       "      <td>228</td>\n",
       "      <td>3</td>\n",
       "      <td>3261</td>\n",
       "      <td>0</td>\n",
       "      <td>1</td>\n",
       "      <td>6</td>\n",
       "      <td>...</td>\n",
       "      <td>0.571121</td>\n",
       "      <td>0.000000</td>\n",
       "      <td>0.000000</td>\n",
       "      <td>1.156922</td>\n",
       "      <td>0.269948</td>\n",
       "      <td>0.0</td>\n",
       "      <td>0.0</td>\n",
       "      <td>0.0</td>\n",
       "      <td>1.0</td>\n",
       "      <td>0.0</td>\n",
       "    </tr>\n",
       "    <tr>\n",
       "      <th>3</th>\n",
       "      <td>2541780</td>\n",
       "      <td>18</td>\n",
       "      <td>73</td>\n",
       "      <td>2</td>\n",
       "      <td>317</td>\n",
       "      <td>3</td>\n",
       "      <td>3843</td>\n",
       "      <td>0</td>\n",
       "      <td>2</td>\n",
       "      <td>0</td>\n",
       "      <td>...</td>\n",
       "      <td>0.000000</td>\n",
       "      <td>0.000000</td>\n",
       "      <td>0.000000</td>\n",
       "      <td>0.347077</td>\n",
       "      <td>0.000000</td>\n",
       "      <td>0.0</td>\n",
       "      <td>0.0</td>\n",
       "      <td>0.0</td>\n",
       "      <td>0.0</td>\n",
       "      <td>0.0</td>\n",
       "    </tr>\n",
       "    <tr>\n",
       "      <th>4</th>\n",
       "      <td>2541833</td>\n",
       "      <td>15</td>\n",
       "      <td>44</td>\n",
       "      <td>4</td>\n",
       "      <td>519</td>\n",
       "      <td>3</td>\n",
       "      <td>5179</td>\n",
       "      <td>0</td>\n",
       "      <td>4</td>\n",
       "      <td>3</td>\n",
       "      <td>...</td>\n",
       "      <td>0.000000</td>\n",
       "      <td>0.000000</td>\n",
       "      <td>0.115692</td>\n",
       "      <td>1.156922</td>\n",
       "      <td>0.269948</td>\n",
       "      <td>0.0</td>\n",
       "      <td>0.0</td>\n",
       "      <td>0.0</td>\n",
       "      <td>0.0</td>\n",
       "      <td>0.0</td>\n",
       "    </tr>\n",
       "  </tbody>\n",
       "</table>\n",
       "<p>5 rows × 82 columns</p>\n",
       "</div>"
      ],
      "text/plain": [
       "       f_0  f_1  f_2  f_3  f_4  f_5   f_6  f_7  f_8  f_9  ...      f_72  \\\n",
       "0  2541188   12  114    4  191    4   155    0    1    4  ...  2.855607   \n",
       "1  2541440   15   21    4  390    3   559    0    2    3  ...  0.000000   \n",
       "2  2541480   20  131    4  228    3  3261    0    1    6  ...  0.571121   \n",
       "3  2541780   18   73    2  317    3  3843    0    2    0  ...  0.000000   \n",
       "4  2541833   15   44    4  519    3  5179    0    4    3  ...  0.000000   \n",
       "\n",
       "       f_73      f_74      f_75      f_76  f_77  f_78  f_79  is_clicked  \\\n",
       "0  2.284486  0.115692  1.156922  0.269948   0.0   0.0   0.0         0.0   \n",
       "1  0.000000  0.000000  1.156922  0.269948   0.0   0.0   0.0         0.0   \n",
       "2  0.000000  0.000000  1.156922  0.269948   0.0   0.0   0.0         1.0   \n",
       "3  0.000000  0.000000  0.347077  0.000000   0.0   0.0   0.0         0.0   \n",
       "4  0.000000  0.115692  1.156922  0.269948   0.0   0.0   0.0         0.0   \n",
       "\n",
       "   is_installed  \n",
       "0           0.0  \n",
       "1           0.0  \n",
       "2           0.0  \n",
       "3           0.0  \n",
       "4           0.0  \n",
       "\n",
       "[5 rows x 82 columns]"
      ]
     },
     "execution_count": 12,
     "metadata": {},
     "output_type": "execute_result"
    }
   ],
   "source": [
    "data.head()"
   ]
  },
  {
   "cell_type": "code",
   "execution_count": 13,
   "metadata": {},
   "outputs": [],
   "source": [
    "# zero_ratio = zero_ratio.sort_values(ascending=False)\n",
    "# zero_ratio.apply(lambda x: round(x, 5))\n",
    "# zero_ratio.to_csv('./output/zero.csv')"
   ]
  },
  {
   "cell_type": "code",
   "execution_count": 14,
   "metadata": {},
   "outputs": [],
   "source": [
    "num_features_select = []\n",
    "for fea in num_features:\n",
    "    if zero_ratio.loc[fea] < 0.4:\n",
    "        num_features_select.append(fea)"
   ]
  },
  {
   "cell_type": "code",
   "execution_count": 15,
   "metadata": {},
   "outputs": [
    {
     "data": {
      "text/plain": [
       "['f_42',\n",
       " 'f_43',\n",
       " 'f_51',\n",
       " 'f_55',\n",
       " 'f_57',\n",
       " 'f_58',\n",
       " 'f_59',\n",
       " 'f_64',\n",
       " 'f_65',\n",
       " 'f_66',\n",
       " 'f_67',\n",
       " 'f_70',\n",
       " 'f_74',\n",
       " 'f_75',\n",
       " 'f_76']"
      ]
     },
     "execution_count": 15,
     "metadata": {},
     "output_type": "execute_result"
    }
   ],
   "source": [
    "num_features_select"
   ]
  },
  {
   "cell_type": "code",
   "execution_count": 16,
   "metadata": {},
   "outputs": [
    {
     "name": "stderr",
     "output_type": "stream",
     "text": [
      "100%|██████████| 15/15 [00:42<00:00,  2.85s/it]\n"
     ]
    },
    {
     "data": {
      "text/plain": [
       "(3646825, 502)"
      ]
     },
     "execution_count": 16,
     "metadata": {},
     "output_type": "execute_result"
    }
   ],
   "source": [
    "for i in tqdm(range(len(num_features_select)), total=len(num_features_select)):\n",
    "    for j in range(i + 1, len(num_features_select)):\n",
    "        data[f'{num_features_select[i]}+{num_features_select[j]}'] = data[num_features_select[i]] + data[num_features_select[j]]\n",
    "        data[f'{num_features_select[i]}-{num_features_select[j]}'] = data[num_features_select[i]] - data[num_features_select[j]]\n",
    "        data[f'{num_features_select[i]}*{num_features_select[j]}'] = data[num_features_select[i]] * data[num_features_select[j]]\n",
    "        data[f'{num_features_select[i]}/{num_features_select[j]}'] = data[num_features_select[i]] / (data[num_features_select[j]] + 1e-7)\n",
    "data.shape "
   ]
  },
  {
   "cell_type": "code",
   "execution_count": 17,
   "metadata": {},
   "outputs": [
    {
     "name": "stderr",
     "output_type": "stream",
     "text": [
      "100%|██████████| 9/9 [00:17<00:00,  1.99s/it]\n"
     ]
    },
    {
     "data": {
      "text/plain": [
       "(3646825, 610)"
      ]
     },
     "execution_count": 17,
     "metadata": {},
     "output_type": "execute_result"
    }
   ],
   "source": [
    "for i in tqdm(range(len(bin_features)), total=len(bin_features)):\n",
    "    for j in range(i + 1, len(bin_features)):\n",
    "        data[f'{bin_features[i]}and{bin_features[j]}'] = data[bin_features[i]] & data[bin_features[j]]\n",
    "        data[f'{bin_features[i]}or{bin_features[j]}'] = data[bin_features[i]] | data[bin_features[j]]\n",
    "        data[f'{bin_features[i]}xor{bin_features[j]}'] = data[bin_features[i]] ^ data[bin_features[j]]\n",
    "data.shape "
   ]
  },
  {
   "cell_type": "code",
   "execution_count": 18,
   "metadata": {},
   "outputs": [],
   "source": [
    "np.save('data/data_aug_0dot4.npy', data)"
   ]
  },
  {
   "cell_type": "code",
   "execution_count": 19,
   "metadata": {},
   "outputs": [],
   "source": [
    "# data = np.load('data/data_aug_0dot4.npy')\n",
    "# data.shape "
   ]
  },
  {
   "cell_type": "code",
   "execution_count": 52,
   "metadata": {},
   "outputs": [
    {
     "data": {
      "text/plain": [
       "607"
      ]
     },
     "execution_count": 52,
     "metadata": {},
     "output_type": "execute_result"
    }
   ],
   "source": [
    "features = [fe for fe in data.columns if fe not in ['is_clicked', 'is_installed', 'f_0', 'label']]\n",
    "len(features)"
   ]
  },
  {
   "cell_type": "code",
   "execution_count": 21,
   "metadata": {},
   "outputs": [
    {
     "data": {
      "text/plain": [
       "((3485852, 610), (160973, 610), (3485852,), (3485852,))"
      ]
     },
     "execution_count": 21,
     "metadata": {},
     "output_type": "execute_result"
    }
   ],
   "source": [
    "train = data[~data['is_clicked'].isna()]\n",
    "test = data[data['is_clicked'].isna()]\n",
    "is_clicked_label = train['is_clicked'].astype('int')\n",
    "is_installed_label = train['is_installed'].astype('int')\n",
    "\n",
    "train.shape, test.shape, is_clicked_label.shape, is_installed_label.shape "
   ]
  },
  {
   "cell_type": "code",
   "execution_count": 22,
   "metadata": {},
   "outputs": [],
   "source": [
    "seed = 42\n",
    "K = 5"
   ]
  },
  {
   "cell_type": "code",
   "execution_count": 23,
   "metadata": {},
   "outputs": [],
   "source": [
    "lgb_params = {\n",
    "    'objective': 'binary',\n",
    "    'boosting_type': 'gbdt',\n",
    "    # 'metric': 'binary_logloss',  # auc??\n",
    "    'metric': 'binary_logloss',\n",
    "    'learning_rate': 0.05,\n",
    "    'num_leaves': 2 ** 6,\n",
    "    'max_depth': 8,\n",
    "    'tree_learner': 'serial',\n",
    "    'colsample_bytree': 0.8,\n",
    "    'subsample_freq': 1,\n",
    "    'subsample': 0.8,\n",
    "    'num_boost_round': 3000,\n",
    "    'max_bin': 255,\n",
    "    'verbose': -1,\n",
    "    'nthread' : -1,\n",
    "    'seed': seed,\n",
    "    'bagging_seed': seed,\n",
    "    'feature_fraction_seed': seed,\n",
    "    'early_stopping_rounds': 100,\n",
    "    # 'device': 'gpu',  # 设置使用 GPU 加速\n",
    "    # 'gpu_platform_id': 0,  # 设置 GPU 平台 id\n",
    "    # 'gpu_device_id': 0  # 设置 GPU 设备 id\n",
    "}"
   ]
  },
  {
   "attachments": {},
   "cell_type": "markdown",
   "metadata": {},
   "source": [
    "is_clicked"
   ]
  },
  {
   "cell_type": "code",
   "execution_count": 13,
   "metadata": {},
   "outputs": [],
   "source": [
    "label = is_clicked_label"
   ]
  },
  {
   "cell_type": "code",
   "execution_count": 14,
   "metadata": {},
   "outputs": [
    {
     "name": "stdout",
     "output_type": "stream",
     "text": [
      "79\n",
      "fold n°0\n",
      "[LightGBM] [Warning] num_threads is set with nthread=-1, will be overridden by n_jobs=30. Current value: num_threads=30\n",
      "Training until validation scores don't improve for 100 rounds\n",
      "[300]\ttraining's binary_logloss: 0.326966\tvalid_1's binary_logloss: 0.327212\n",
      "[600]\ttraining's binary_logloss: 0.315277\tvalid_1's binary_logloss: 0.317277\n",
      "[900]\ttraining's binary_logloss: 0.310265\tvalid_1's binary_logloss: 0.314412\n",
      "[1200]\ttraining's binary_logloss: 0.306852\tvalid_1's binary_logloss: 0.313149\n",
      "[1500]\ttraining's binary_logloss: 0.303901\tvalid_1's binary_logloss: 0.312309\n",
      "[1800]\ttraining's binary_logloss: 0.301191\tvalid_1's binary_logloss: 0.31171\n",
      "[2100]\ttraining's binary_logloss: 0.298683\tvalid_1's binary_logloss: 0.311242\n",
      "[2400]\ttraining's binary_logloss: 0.296324\tvalid_1's binary_logloss: 0.310938\n",
      "[2700]\ttraining's binary_logloss: 0.294051\tvalid_1's binary_logloss: 0.310649\n",
      "[3000]\ttraining's binary_logloss: 0.291819\tvalid_1's binary_logloss: 0.310385\n",
      "Did not meet early stopping. Best iteration is:\n",
      "[3000]\ttraining's binary_logloss: 0.291819\tvalid_1's binary_logloss: 0.310385\n",
      "fold n°1\n",
      "[LightGBM] [Warning] num_threads is set with nthread=-1, will be overridden by n_jobs=30. Current value: num_threads=30\n",
      "Training until validation scores don't improve for 100 rounds\n",
      "[300]\ttraining's binary_logloss: 0.326883\tvalid_1's binary_logloss: 0.327904\n",
      "[600]\ttraining's binary_logloss: 0.315222\tvalid_1's binary_logloss: 0.318123\n",
      "[900]\ttraining's binary_logloss: 0.310445\tvalid_1's binary_logloss: 0.315557\n",
      "[1200]\ttraining's binary_logloss: 0.306951\tvalid_1's binary_logloss: 0.314234\n",
      "[1500]\ttraining's binary_logloss: 0.303764\tvalid_1's binary_logloss: 0.313161\n",
      "[1800]\ttraining's binary_logloss: 0.300896\tvalid_1's binary_logloss: 0.312371\n",
      "[2100]\ttraining's binary_logloss: 0.298385\tvalid_1's binary_logloss: 0.311927\n",
      "[2400]\ttraining's binary_logloss: 0.296008\tvalid_1's binary_logloss: 0.311596\n",
      "[2700]\ttraining's binary_logloss: 0.293771\tvalid_1's binary_logloss: 0.311374\n",
      "[3000]\ttraining's binary_logloss: 0.291622\tvalid_1's binary_logloss: 0.31118\n",
      "Did not meet early stopping. Best iteration is:\n",
      "[3000]\ttraining's binary_logloss: 0.291622\tvalid_1's binary_logloss: 0.31118\n",
      "fold n°2\n",
      "[LightGBM] [Warning] num_threads is set with nthread=-1, will be overridden by n_jobs=30. Current value: num_threads=30\n",
      "Training until validation scores don't improve for 100 rounds\n",
      "[300]\ttraining's binary_logloss: 0.326832\tvalid_1's binary_logloss: 0.329352\n",
      "[600]\ttraining's binary_logloss: 0.314756\tvalid_1's binary_logloss: 0.31898\n",
      "[900]\ttraining's binary_logloss: 0.309872\tvalid_1's binary_logloss: 0.316182\n",
      "[1200]\ttraining's binary_logloss: 0.306538\tvalid_1's binary_logloss: 0.315046\n",
      "[1500]\ttraining's binary_logloss: 0.30357\tvalid_1's binary_logloss: 0.314219\n",
      "[1800]\ttraining's binary_logloss: 0.300829\tvalid_1's binary_logloss: 0.313534\n",
      "[2100]\ttraining's binary_logloss: 0.298297\tvalid_1's binary_logloss: 0.313067\n",
      "[2400]\ttraining's binary_logloss: 0.295964\tvalid_1's binary_logloss: 0.312725\n",
      "[2700]\ttraining's binary_logloss: 0.293694\tvalid_1's binary_logloss: 0.312439\n",
      "[3000]\ttraining's binary_logloss: 0.291561\tvalid_1's binary_logloss: 0.312276\n",
      "Did not meet early stopping. Best iteration is:\n",
      "[3000]\ttraining's binary_logloss: 0.291561\tvalid_1's binary_logloss: 0.312276\n",
      "fold n°3\n",
      "[LightGBM] [Warning] num_threads is set with nthread=-1, will be overridden by n_jobs=30. Current value: num_threads=30\n",
      "Training until validation scores don't improve for 100 rounds\n",
      "[300]\ttraining's binary_logloss: 0.327028\tvalid_1's binary_logloss: 0.328726\n",
      "[600]\ttraining's binary_logloss: 0.315402\tvalid_1's binary_logloss: 0.318808\n",
      "[900]\ttraining's binary_logloss: 0.310348\tvalid_1's binary_logloss: 0.315885\n",
      "[1200]\ttraining's binary_logloss: 0.30672\tvalid_1's binary_logloss: 0.314353\n",
      "[1500]\ttraining's binary_logloss: 0.303747\tvalid_1's binary_logloss: 0.31354\n",
      "[1800]\ttraining's binary_logloss: 0.300979\tvalid_1's binary_logloss: 0.312842\n",
      "[2100]\ttraining's binary_logloss: 0.298463\tvalid_1's binary_logloss: 0.312376\n",
      "[2400]\ttraining's binary_logloss: 0.296078\tvalid_1's binary_logloss: 0.312016\n",
      "[2700]\ttraining's binary_logloss: 0.293851\tvalid_1's binary_logloss: 0.3118\n",
      "[3000]\ttraining's binary_logloss: 0.291649\tvalid_1's binary_logloss: 0.3116\n",
      "Did not meet early stopping. Best iteration is:\n",
      "[3000]\ttraining's binary_logloss: 0.291649\tvalid_1's binary_logloss: 0.3116\n",
      "fold n°4\n",
      "[LightGBM] [Warning] num_threads is set with nthread=-1, will be overridden by n_jobs=30. Current value: num_threads=30\n",
      "Training until validation scores don't improve for 100 rounds\n",
      "[300]\ttraining's binary_logloss: 0.327614\tvalid_1's binary_logloss: 0.327973\n",
      "[600]\ttraining's binary_logloss: 0.315696\tvalid_1's binary_logloss: 0.317889\n",
      "[900]\ttraining's binary_logloss: 0.310531\tvalid_1's binary_logloss: 0.314896\n",
      "[1200]\ttraining's binary_logloss: 0.306931\tvalid_1's binary_logloss: 0.313455\n",
      "[1500]\ttraining's binary_logloss: 0.304053\tvalid_1's binary_logloss: 0.31268\n",
      "[1800]\ttraining's binary_logloss: 0.301361\tvalid_1's binary_logloss: 0.312101\n",
      "[2100]\ttraining's binary_logloss: 0.298925\tvalid_1's binary_logloss: 0.311753\n",
      "[2400]\ttraining's binary_logloss: 0.296599\tvalid_1's binary_logloss: 0.311437\n",
      "[2700]\ttraining's binary_logloss: 0.294364\tvalid_1's binary_logloss: 0.311216\n",
      "[3000]\ttraining's binary_logloss: 0.292083\tvalid_1's binary_logloss: 0.310869\n",
      "Did not meet early stopping. Best iteration is:\n",
      "[3000]\ttraining's binary_logloss: 0.292083\tvalid_1's binary_logloss: 0.310869\n"
     ]
    }
   ],
   "source": [
    "label = is_clicked_label\n",
    "\n",
    "KF = StratifiedKFold(n_splits=K, random_state=seed, shuffle=True)\n",
    "feat_imp_lgb_cli = list()\n",
    "\n",
    "oof_lgb_cli = np.zeros(len(train))\n",
    "predictions_lgb_cli = np.zeros((len(test)))\n",
    "print(len(features))\n",
    "\n",
    "# 模型训练\n",
    "for fold_, (trn_idx, val_idx) in enumerate(KF.split(train.values, label.values)):\n",
    "    print(\"fold n°{}\".format(fold_))\n",
    "    trn_data = lgb.Dataset(train.iloc[trn_idx][features], label=label.iloc[trn_idx])\n",
    "    val_data = lgb.Dataset(train.iloc[val_idx][features], label=label.iloc[val_idx])\n",
    "    \n",
    "    num_round = 3000\n",
    "    clf = lgb.train(\n",
    "        lgb_params,\n",
    "        trn_data,\n",
    "        num_round,\n",
    "        valid_sets=[trn_data, val_data],\n",
    "        verbose_eval=300,\n",
    "        early_stopping_rounds=100,\n",
    "    )\n",
    "\n",
    "    oof_lgb_cli[val_idx] = clf.predict(train.iloc[val_idx][features], num_iteration=clf.best_iteration)\n",
    "    predictions_lgb_cli[:] += clf.predict(test[features], num_iteration=clf.best_iteration) / K\n",
    "    feat_imp_lgb_cli.append(clf.feature_importance())"
   ]
  },
  {
   "cell_type": "code",
   "execution_count": 15,
   "metadata": {},
   "outputs": [
    {
     "name": "stdout",
     "output_type": "stream",
     "text": [
      "Logloss: 4.0459, 0.3113, AUC: 0.8730, Precision: 0.8972, Recall: 0.5276, F1 Score: 0.6644\n"
     ]
    }
   ],
   "source": [
    "logloss = metrics.log_loss(label, [1 if i >= 0.5 else 0 for i in oof_lgb_cli], labels=[0, 1])\n",
    "logloss2 = metrics.log_loss(label, oof_lgb_cli)\n",
    "\n",
    "acc = metrics.roc_auc_score(label, oof_lgb_cli)\n",
    "precision = metrics.precision_score(label, [1 if i >= 0.5 else 0 for i in oof_lgb_cli])\n",
    "recall = metrics.recall_score(label, [1 if i >= 0.5 else 0 for i in oof_lgb_cli])\n",
    "f1 = metrics.f1_score(label, [1 if i >= 0.5 else 0 for i in oof_lgb_cli])\n",
    "\n",
    "print(f\"Logloss: {logloss:.4f}, {logloss2:.4f}, AUC: {acc:.4f}, Precision: {precision:.4f}, Recall: {recall:.4f}, F1 Score: {f1:.4f}\")"
   ]
  },
  {
   "cell_type": "code",
   "execution_count": 21,
   "metadata": {},
   "outputs": [
    {
     "data": {
      "text/plain": [
       "count       79.000000\n",
       "mean      2390.579747\n",
       "std       2535.470191\n",
       "min          0.000000\n",
       "25%        309.900000\n",
       "50%       1537.000000\n",
       "75%       3903.800000\n",
       "max      10211.200000\n",
       "dtype: float64"
      ]
     },
     "execution_count": 21,
     "metadata": {},
     "output_type": "execute_result"
    }
   ],
   "source": [
    "avg_imp_cli = pd.DataFrame(feat_imp_lgb_cli, columns = features).apply(np.mean, axis = 0).sort_values(ascending=False)\n",
    "avg_imp_cli.describe()"
   ]
  },
  {
   "cell_type": "code",
   "execution_count": 22,
   "metadata": {},
   "outputs": [
    {
     "data": {
      "text/plain": [
       "f_4     10211.2\n",
       "f_11     9546.8\n",
       "f_15     9148.8\n",
       "f_42     8856.2\n",
       "f_6      8218.0\n",
       "         ...   \n",
       "f_29        0.0\n",
       "f_7         0.0\n",
       "f_28        0.0\n",
       "f_27        0.0\n",
       "f_26        0.0\n",
       "Length: 79, dtype: float64"
      ]
     },
     "execution_count": 22,
     "metadata": {},
     "output_type": "execute_result"
    }
   ],
   "source": [
    "avg_imp_cli"
   ]
  },
  {
   "attachments": {},
   "cell_type": "markdown",
   "metadata": {},
   "source": [
    "# is_installed"
   ]
  },
  {
   "cell_type": "code",
   "execution_count": 24,
   "metadata": {},
   "outputs": [],
   "source": [
    "label = is_installed_label"
   ]
  },
  {
   "attachments": {},
   "cell_type": "markdown",
   "metadata": {},
   "source": [
    "lightgbm"
   ]
  },
  {
   "cell_type": "code",
   "execution_count": 25,
   "metadata": {},
   "outputs": [],
   "source": [
    "lgb_params = {\n",
    "    'objective': 'binary',\n",
    "    'boosting_type': 'gbdt',\n",
    "    # 'metric': 'binary_logloss',  # auc??\n",
    "    'metric': 'binary_logloss',\n",
    "    'learning_rate': 0.05,\n",
    "    'num_leaves': 2 ** 6,\n",
    "    'max_depth': 8,\n",
    "    'tree_learner': 'serial',\n",
    "    'colsample_bytree': 0.8,\n",
    "    'subsample_freq': 1,\n",
    "    'subsample': 0.8,\n",
    "    'num_boost_round': 3000,\n",
    "    'max_bin': 255,\n",
    "    'verbose': -1,\n",
    "    'nthread' : -1,\n",
    "    'seed': seed,\n",
    "    'bagging_seed': seed,\n",
    "    'feature_fraction_seed': seed,\n",
    "    'early_stopping_rounds': 100,\n",
    "    # 'device': 'gpu',  # 设置使用 GPU 加速\n",
    "    # 'gpu_platform_id': 0,  # 设置 GPU 平台 id\n",
    "    # 'gpu_device_id': 0  # 设置 GPU 设备 id\n",
    "}"
   ]
  },
  {
   "cell_type": "code",
   "execution_count": 49,
   "metadata": {},
   "outputs": [],
   "source": [
    "features = select_fea_lgb"
   ]
  },
  {
   "cell_type": "code",
   "execution_count": 43,
   "metadata": {},
   "outputs": [
    {
     "name": "stdout",
     "output_type": "stream",
     "text": [
      "152\n",
      "fold n°0\n",
      "[LightGBM] [Warning] num_threads is set with nthread=-1, will be overridden by n_jobs=30. Current value: num_threads=30\n",
      "Training until validation scores don't improve for 100 rounds\n",
      "[300]\ttraining's binary_logloss: 0.300029\tvalid_1's binary_logloss: 0.302257\n",
      "[600]\ttraining's binary_logloss: 0.292585\tvalid_1's binary_logloss: 0.297561\n",
      "[900]\ttraining's binary_logloss: 0.287908\tvalid_1's binary_logloss: 0.295758\n",
      "[1200]\ttraining's binary_logloss: 0.284132\tvalid_1's binary_logloss: 0.294829\n",
      "[1500]\ttraining's binary_logloss: 0.280837\tvalid_1's binary_logloss: 0.294326\n",
      "[1800]\ttraining's binary_logloss: 0.277738\tvalid_1's binary_logloss: 0.293933\n",
      "[2100]\ttraining's binary_logloss: 0.27487\tvalid_1's binary_logloss: 0.293705\n",
      "[2400]\ttraining's binary_logloss: 0.272139\tvalid_1's binary_logloss: 0.293521\n",
      "[2700]\ttraining's binary_logloss: 0.269412\tvalid_1's binary_logloss: 0.293293\n",
      "[3000]\ttraining's binary_logloss: 0.266835\tvalid_1's binary_logloss: 0.293169\n",
      "Did not meet early stopping. Best iteration is:\n",
      "[3000]\ttraining's binary_logloss: 0.266835\tvalid_1's binary_logloss: 0.293169\n",
      "fold n°1\n",
      "[LightGBM] [Warning] num_threads is set with nthread=-1, will be overridden by n_jobs=30. Current value: num_threads=30\n",
      "Training until validation scores don't improve for 100 rounds\n",
      "[300]\ttraining's binary_logloss: 0.299835\tvalid_1's binary_logloss: 0.301707\n",
      "[600]\ttraining's binary_logloss: 0.292441\tvalid_1's binary_logloss: 0.2971\n",
      "[900]\ttraining's binary_logloss: 0.287952\tvalid_1's binary_logloss: 0.295552\n",
      "[1200]\ttraining's binary_logloss: 0.2843\tvalid_1's binary_logloss: 0.294762\n",
      "[1500]\ttraining's binary_logloss: 0.280893\tvalid_1's binary_logloss: 0.294115\n",
      "[1800]\ttraining's binary_logloss: 0.277822\tvalid_1's binary_logloss: 0.293727\n",
      "[2100]\ttraining's binary_logloss: 0.27486\tvalid_1's binary_logloss: 0.293355\n",
      "[2400]\ttraining's binary_logloss: 0.272081\tvalid_1's binary_logloss: 0.293145\n",
      "[2700]\ttraining's binary_logloss: 0.269452\tvalid_1's binary_logloss: 0.293012\n",
      "[3000]\ttraining's binary_logloss: 0.266907\tvalid_1's binary_logloss: 0.292872\n",
      "Did not meet early stopping. Best iteration is:\n",
      "[3000]\ttraining's binary_logloss: 0.266907\tvalid_1's binary_logloss: 0.292872\n",
      "fold n°2\n",
      "[LightGBM] [Warning] num_threads is set with nthread=-1, will be overridden by n_jobs=30. Current value: num_threads=30\n",
      "Training until validation scores don't improve for 100 rounds\n",
      "[300]\ttraining's binary_logloss: 0.299982\tvalid_1's binary_logloss: 0.302689\n",
      "[600]\ttraining's binary_logloss: 0.292383\tvalid_1's binary_logloss: 0.297903\n",
      "[900]\ttraining's binary_logloss: 0.287769\tvalid_1's binary_logloss: 0.29622\n",
      "[1200]\ttraining's binary_logloss: 0.283906\tvalid_1's binary_logloss: 0.295167\n",
      "[1500]\ttraining's binary_logloss: 0.280555\tvalid_1's binary_logloss: 0.294616\n",
      "[1800]\ttraining's binary_logloss: 0.277413\tvalid_1's binary_logloss: 0.294165\n",
      "[2100]\ttraining's binary_logloss: 0.274559\tvalid_1's binary_logloss: 0.293952\n",
      "[2400]\ttraining's binary_logloss: 0.271734\tvalid_1's binary_logloss: 0.293675\n",
      "[2700]\ttraining's binary_logloss: 0.269123\tvalid_1's binary_logloss: 0.293548\n",
      "[3000]\ttraining's binary_logloss: 0.266574\tvalid_1's binary_logloss: 0.293427\n",
      "Did not meet early stopping. Best iteration is:\n",
      "[3000]\ttraining's binary_logloss: 0.266574\tvalid_1's binary_logloss: 0.293427\n",
      "fold n°3\n",
      "[LightGBM] [Warning] num_threads is set with nthread=-1, will be overridden by n_jobs=30. Current value: num_threads=30\n",
      "Training until validation scores don't improve for 100 rounds\n",
      "[300]\ttraining's binary_logloss: 0.300411\tvalid_1's binary_logloss: 0.30265\n",
      "[600]\ttraining's binary_logloss: 0.29284\tvalid_1's binary_logloss: 0.297952\n",
      "[900]\ttraining's binary_logloss: 0.287995\tvalid_1's binary_logloss: 0.296031\n",
      "[1200]\ttraining's binary_logloss: 0.284291\tvalid_1's binary_logloss: 0.29517\n",
      "[1500]\ttraining's binary_logloss: 0.28081\tvalid_1's binary_logloss: 0.294379\n",
      "[1800]\ttraining's binary_logloss: 0.277729\tvalid_1's binary_logloss: 0.29398\n",
      "[2100]\ttraining's binary_logloss: 0.274758\tvalid_1's binary_logloss: 0.293641\n",
      "[2400]\ttraining's binary_logloss: 0.271985\tvalid_1's binary_logloss: 0.293437\n",
      "[2700]\ttraining's binary_logloss: 0.269309\tvalid_1's binary_logloss: 0.293308\n",
      "[3000]\ttraining's binary_logloss: 0.266734\tvalid_1's binary_logloss: 0.293181\n",
      "Did not meet early stopping. Best iteration is:\n",
      "[3000]\ttraining's binary_logloss: 0.266734\tvalid_1's binary_logloss: 0.293181\n",
      "fold n°4\n",
      "[LightGBM] [Warning] num_threads is set with nthread=-1, will be overridden by n_jobs=30. Current value: num_threads=30\n",
      "Training until validation scores don't improve for 100 rounds\n",
      "[300]\ttraining's binary_logloss: 0.300365\tvalid_1's binary_logloss: 0.303005\n",
      "[600]\ttraining's binary_logloss: 0.292513\tvalid_1's binary_logloss: 0.297953\n",
      "[900]\ttraining's binary_logloss: 0.287915\tvalid_1's binary_logloss: 0.296292\n",
      "[1200]\ttraining's binary_logloss: 0.284043\tvalid_1's binary_logloss: 0.295297\n",
      "[1500]\ttraining's binary_logloss: 0.280663\tvalid_1's binary_logloss: 0.294653\n",
      "[1800]\ttraining's binary_logloss: 0.277565\tvalid_1's binary_logloss: 0.294189\n",
      "[2100]\ttraining's binary_logloss: 0.274593\tvalid_1's binary_logloss: 0.293782\n",
      "[2400]\ttraining's binary_logloss: 0.271774\tvalid_1's binary_logloss: 0.29352\n",
      "[2700]\ttraining's binary_logloss: 0.269053\tvalid_1's binary_logloss: 0.293323\n",
      "[3000]\ttraining's binary_logloss: 0.266464\tvalid_1's binary_logloss: 0.293197\n",
      "Did not meet early stopping. Best iteration is:\n",
      "[3000]\ttraining's binary_logloss: 0.266464\tvalid_1's binary_logloss: 0.293197\n"
     ]
    }
   ],
   "source": [
    "label = is_installed_label\n",
    "\n",
    "KF = StratifiedKFold(n_splits=K, random_state=seed, shuffle=True)\n",
    "feat_imp_lgb_ins = list()\n",
    "\n",
    "oof_lgb_ins = np.zeros(len(train))\n",
    "predictions_lgb_ins = np.zeros((len(test)))\n",
    "print(len(features))\n",
    "\n",
    "# 模型训练\n",
    "for fold_, (trn_idx, val_idx) in enumerate(KF.split(train.values, label.values)):\n",
    "    print(\"fold n°{}\".format(fold_))\n",
    "    trn_data = lgb.Dataset(train.iloc[trn_idx][features], label=label.iloc[trn_idx])\n",
    "    val_data = lgb.Dataset(train.iloc[val_idx][features], label=label.iloc[val_idx])\n",
    "    \n",
    "    num_round = 3000\n",
    "    clf = lgb.train(\n",
    "        lgb_params,\n",
    "        trn_data,\n",
    "        num_round,\n",
    "        valid_sets=[trn_data, val_data],\n",
    "        verbose_eval=300,\n",
    "        early_stopping_rounds=100,\n",
    "    )\n",
    "\n",
    "    oof_lgb_ins[val_idx] = clf.predict(train.iloc[val_idx][features], num_iteration=clf.best_iteration)\n",
    "    predictions_lgb_ins[:] += clf.predict(test[features], num_iteration=clf.best_iteration) / K\n",
    "    feat_imp_lgb_ins.append(clf.feature_importance())"
   ]
  },
  {
   "cell_type": "code",
   "execution_count": 44,
   "metadata": {},
   "outputs": [
    {
     "name": "stdout",
     "output_type": "stream",
     "text": [
      "Logloss: 0.2932, AUC: 0.8809, Precision: 0.7924, Recall: 0.3800, F1 Score: 0.5137\n"
     ]
    }
   ],
   "source": [
    "# logloss = metrics.log_loss(label, [1 if i >= 0.5 else 0 for i in oof_lgb_ins], labels=[0, 1])\n",
    "logloss = metrics.log_loss(label, oof_lgb_ins)\n",
    "acc = metrics.roc_auc_score(label, oof_lgb_ins)\n",
    "precision = metrics.precision_score(label, [1 if i >= 0.5 else 0 for i in oof_lgb_ins])\n",
    "recall = metrics.recall_score(label, [1 if i >= 0.5 else 0 for i in oof_lgb_ins])\n",
    "f1 = metrics.f1_score(label, [1 if i >= 0.5 else 0 for i in oof_lgb_ins])\n",
    "\n",
    "print(f\"Logloss: {logloss:.4f}, AUC: {acc:.4f}, Precision: {precision:.4f}, Recall: {recall:.4f}, F1 Score: {f1:.4f}\")"
   ]
  },
  {
   "cell_type": "code",
   "execution_count": 50,
   "metadata": {},
   "outputs": [],
   "source": [
    "submission = pd.DataFrame()\n",
    "submission[\"RowId\"] = test_data[\"f_0\"]\n",
    "submission[\"is_clicked\"] = np.random.random((test_data.shape[0]))\n",
    "submission[\"is_installed\"] = predictions_lgb_ins\n",
    "submission.to_csv('./output/lgb_42_sep_train_logloss_float_{}.csv'.format(len(features)), index=False, sep='\\t')"
   ]
  },
  {
   "cell_type": "code",
   "execution_count": 38,
   "metadata": {},
   "outputs": [
    {
     "data": {
      "text/plain": [
       "count     607.000000\n",
       "mean      301.620099\n",
       "std       490.934147\n",
       "min         0.000000\n",
       "25%        51.400000\n",
       "50%       196.800000\n",
       "75%       357.000000\n",
       "max      5365.600000\n",
       "dtype: float64"
      ]
     },
     "execution_count": 38,
     "metadata": {},
     "output_type": "execute_result"
    }
   ],
   "source": [
    "avg_imp_lgb_ins = pd.DataFrame(feat_imp_lgb_ins, columns = features).apply(np.mean, axis = 0).sort_values(ascending=False)\n",
    "avg_imp_lgb_ins.describe()"
   ]
  },
  {
   "cell_type": "code",
   "execution_count": 39,
   "metadata": {},
   "outputs": [
    {
     "name": "stdout",
     "output_type": "stream",
     "text": [
      "152\n",
      "['f_11', 'f_15', 'f_4', 'f_6', 'f_17', 'f_61', 'f_1', 'f_12', 'f_62', 'f_14', 'f_63', 'f_2', 'f_13', 'f_16', 'f_18', 'f_54', 'f_72', 'f_42/f_57', 'f_5', 'f_56', 'f_8', 'f_42/f_55', 'f_42/f_74', 'f_9', 'f_10', 'f_55/f_57', 'f_52', 'f_42*f_51', 'f_42*f_57', 'f_42+f_51', 'f_42/f_59', 'f_55-f_57', 'f_20', 'f_42*f_64', 'f_42-f_51', 'f_42/f_64', 'f_42*f_65', 'f_42*f_55', 'f_42/f_51', 'f_57/f_74', 'f_42*f_59', 'f_42/f_76', 'f_42/f_65', 'f_57+f_58', 'f_53', 'f_19', 'f_32', 'f_57+f_59', 'f_57-f_59', 'f_55+f_58', 'f_42/f_70', 'f_42/f_75', 'f_57+f_67', 'f_57-f_67', 'f_57-f_58', 'f_55-f_58', 'f_42/f_58', 'f_55+f_59', 'f_42*f_58', 'f_42*f_70', 'f_55+f_67', 'f_51/f_57', 'f_51*f_57', 'f_55-f_59', 'f_55-f_67', 'f_73', 'f_64/f_65', 'f_51/f_55', 'f_57*f_64', 'f_43-f_66', 'f_42*f_74', 'f_68', 'f_57*f_65', 'f_42*f_43', 'f_51/f_64', 'f_42+f_59', 'f_69', 'f_51*f_55', 'f_51+f_57', 'f_57/f_64', 'f_57+f_70', 'f_58/f_59', 'f_43+f_57', 'f_55/f_74', 'f_55*f_64', 'f_59-f_67', 'f_57-f_70', 'f_75/f_76', 'f_42/f_43', 'f_57/f_59', 'f_57*f_59', 'f_50', 'f_55+f_70', 'f_51-f_57', 'f_58-f_67', 'f_51+f_55', 'f_58-f_59', 'f_43+f_55', 'f_51/f_65', 'f_55*f_65', 'f_55*f_59', 'f_57/f_65', 'f_42-f_59', 'f_55/f_64', 'f_43/f_66', 'f_42*f_66', 'f_55-f_70', 'f_51/f_59', 'f_42+f_65', 'f_57/f_70', 'f_43-f_57', 'f_42*f_75', 'f_42/f_66', 'f_3', 'f_43/f_55', 'f_55/f_59', 'f_51*f_59', 'f_43/f_57', 'f_57/f_75', 'f_57*f_58', 'f_43-f_55', 'f_55/f_65', 'f_57-f_75', 'f_42-f_65', 'f_57+f_66', 'f_57/f_58', 'f_58-f_75', 'f_57+f_75', 'f_57*f_70', 'f_67/f_74', 'f_59*f_65', 'f_42-f_67', 'f_51-f_55', 'f_55+f_57', 'f_67-f_75', 'f_65/f_74', 'f_21', 'f_59/f_70', 'f_57-f_66', 'f_59/f_74', 'f_43-f_70', 'f_55-f_75', 'f_58/f_74', 'f_55+f_66', 'f_59-f_70', 'f_58+f_75', 'f_58/f_70', 'f_42-f_75', 'f_67/f_75', 'f_55-f_66', 'f_42+f_67', 'f_59*f_64']\n"
     ]
    }
   ],
   "source": [
    "select_fea_lgb = []\n",
    "for i in range(len(avg_imp_lgb_ins)):\n",
    "    if avg_imp_lgb_ins.iloc[i] >= 357.000000:\n",
    "        select_fea_lgb.append(avg_imp_lgb_ins.index[i])\n",
    "print(len(select_fea_lgb))\n",
    "print(select_fea_lgb)"
   ]
  },
  {
   "attachments": {},
   "cell_type": "markdown",
   "metadata": {},
   "source": [
    "xgboost"
   ]
  },
  {
   "cell_type": "code",
   "execution_count": 31,
   "metadata": {},
   "outputs": [],
   "source": [
    "xgb_params = {\n",
    "    'objective': 'binary:logistic',\n",
    "    'eval_metric': 'logloss',\n",
    "    'random_state': seed,\n",
    "    'tree_method': 'hist',\n",
    "    'booster': 'gbtree',\n",
    "    'n_estimators': 1000, \n",
    "    'learning_rate': 0.1,\n",
    "    'max_depth': 6,\n",
    "    'min_child_weight': 12, \n",
    "    'subsample': 0.8,\n",
    "    'colsample_bytree': 1.0, \n",
    "    'alpha': 0.7,\n",
    "    'lambda': 0.1, \n",
    "    'gamma': 0.1, \n",
    "    \"nthread\": -1\n",
    "}"
   ]
  },
  {
   "cell_type": "code",
   "execution_count": 51,
   "metadata": {},
   "outputs": [],
   "source": [
    "xgb_params = {\n",
    "    'booster': 'gbtree',\n",
    "    'objective': 'binary:logistic',\n",
    "    'eval_metric': 'logloss',\n",
    "    'gamma': 1,\n",
    "    'min_child_weight': 1.5,\n",
    "    'max_depth': 6,\n",
    "    'lambda': 10,\n",
    "    'subsample': 0.7,\n",
    "    'colsample_bytree': 0.7,\n",
    "    'colsample_bylevel': 0.7,\n",
    "    'eta': 0.05,\n",
    "    'tree_method': 'exact',\n",
    "    'seed': seed,\n",
    "    'nthread': -1\n",
    "}"
   ]
  },
  {
   "cell_type": "code",
   "execution_count": 58,
   "metadata": {},
   "outputs": [],
   "source": [
    "features = select_fea_xgb"
   ]
  },
  {
   "cell_type": "code",
   "execution_count": 59,
   "metadata": {},
   "outputs": [
    {
     "name": "stdout",
     "output_type": "stream",
     "text": [
      "147\n",
      "fold n°0\n",
      "[0]\ttrain-logloss:0.66521\tval-logloss:0.66521\n",
      "[300]\ttrain-logloss:0.30761\tval-logloss:0.30914\n",
      "[600]\ttrain-logloss:0.29922\tval-logloss:0.30242\n",
      "[900]\ttrain-logloss:0.29474\tval-logloss:0.29952\n",
      "[1200]\ttrain-logloss:0.29183\tval-logloss:0.29817\n",
      "[1500]\ttrain-logloss:0.28935\tval-logloss:0.29729\n",
      "[1800]\ttrain-logloss:0.28724\tval-logloss:0.29671\n",
      "[2100]\ttrain-logloss:0.28535\tval-logloss:0.29633\n",
      "[2400]\ttrain-logloss:0.28354\tval-logloss:0.29602\n",
      "[2700]\ttrain-logloss:0.28178\tval-logloss:0.29573\n",
      "[2999]\ttrain-logloss:0.28021\tval-logloss:0.29558\n",
      "fold n°1\n",
      "[0]\ttrain-logloss:0.66521\tval-logloss:0.66522\n",
      "[300]\ttrain-logloss:0.30789\tval-logloss:0.30923\n",
      "[600]\ttrain-logloss:0.29972\tval-logloss:0.30265\n",
      "[900]\ttrain-logloss:0.29526\tval-logloss:0.29973\n",
      "[1200]\ttrain-logloss:0.29212\tval-logloss:0.29816\n",
      "[1500]\ttrain-logloss:0.28965\tval-logloss:0.29727\n",
      "[1800]\ttrain-logloss:0.28742\tval-logloss:0.29655\n",
      "[2100]\ttrain-logloss:0.28540\tval-logloss:0.29599\n",
      "[2400]\ttrain-logloss:0.28362\tval-logloss:0.29568\n",
      "[2700]\ttrain-logloss:0.28189\tval-logloss:0.29542\n",
      "[2999]\ttrain-logloss:0.28027\tval-logloss:0.29521\n",
      "fold n°2\n",
      "[0]\ttrain-logloss:0.66521\tval-logloss:0.66521\n",
      "[300]\ttrain-logloss:0.30726\tval-logloss:0.30929\n",
      "[600]\ttrain-logloss:0.29916\tval-logloss:0.30286\n",
      "[900]\ttrain-logloss:0.29455\tval-logloss:0.29981\n",
      "[1200]\ttrain-logloss:0.29170\tval-logloss:0.29856\n",
      "[1500]\ttrain-logloss:0.28923\tval-logloss:0.29764\n",
      "[1800]\ttrain-logloss:0.28715\tval-logloss:0.29712\n",
      "[2100]\ttrain-logloss:0.28531\tval-logloss:0.29678\n",
      "[2400]\ttrain-logloss:0.28350\tval-logloss:0.29645\n",
      "[2700]\ttrain-logloss:0.28157\tval-logloss:0.29600\n",
      "[2999]\ttrain-logloss:0.27998\tval-logloss:0.29589\n",
      "fold n°3\n",
      "[0]\ttrain-logloss:0.66521\tval-logloss:0.66523\n",
      "[300]\ttrain-logloss:0.30793\tval-logloss:0.30962\n",
      "[600]\ttrain-logloss:0.29960\tval-logloss:0.30286\n",
      "[900]\ttrain-logloss:0.29475\tval-logloss:0.29962\n",
      "[1200]\ttrain-logloss:0.29185\tval-logloss:0.29826\n",
      "[1500]\ttrain-logloss:0.28940\tval-logloss:0.29734\n",
      "[1800]\ttrain-logloss:0.28718\tval-logloss:0.29666\n",
      "[2100]\ttrain-logloss:0.28528\tval-logloss:0.29625\n",
      "[2400]\ttrain-logloss:0.28353\tval-logloss:0.29596\n",
      "[2700]\ttrain-logloss:0.28175\tval-logloss:0.29564\n",
      "[2999]\ttrain-logloss:0.28012\tval-logloss:0.29540\n",
      "fold n°4\n",
      "[0]\ttrain-logloss:0.66523\tval-logloss:0.66524\n",
      "[300]\ttrain-logloss:0.30736\tval-logloss:0.30937\n",
      "[600]\ttrain-logloss:0.29903\tval-logloss:0.30267\n",
      "[900]\ttrain-logloss:0.29487\tval-logloss:0.30012\n",
      "[1200]\ttrain-logloss:0.29181\tval-logloss:0.29859\n",
      "[1500]\ttrain-logloss:0.28940\tval-logloss:0.29770\n",
      "[1800]\ttrain-logloss:0.28723\tval-logloss:0.29710\n",
      "[2100]\ttrain-logloss:0.28531\tval-logloss:0.29669\n",
      "[2400]\ttrain-logloss:0.28343\tval-logloss:0.29628\n",
      "[2700]\ttrain-logloss:0.28165\tval-logloss:0.29599\n",
      "[2999]\ttrain-logloss:0.28004\tval-logloss:0.29581\n"
     ]
    }
   ],
   "source": [
    "label = is_installed_label\n",
    "\n",
    "KF = StratifiedKFold(n_splits=K, random_state=seed, shuffle=True)\n",
    "feat_imp_xgb_ins = list()\n",
    "\n",
    "oof_xgb_ins = np.zeros(len(train))\n",
    "predictions_xgb_ins = np.zeros((len(test)))\n",
    "print(len(features))\n",
    "\n",
    "# 模型训练\n",
    "for fold_, (trn_idx, val_idx) in enumerate(KF.split(train.values, label.values)):\n",
    "    print(\"fold n°{}\".format(fold_))\n",
    "    X_train, X_val = train.iloc[trn_idx][features], train.iloc[val_idx][features]\n",
    "    y_train, y_val = label.iloc[trn_idx], label.iloc[val_idx]\n",
    "    trn_data = xgb.DMatrix(X_train, label=y_train)\n",
    "    val_data = xgb.DMatrix(X_val, label=y_val)\n",
    "\n",
    "    num_round = 3000\n",
    "    clf = xgb.train(\n",
    "        xgb_params,\n",
    "        trn_data,\n",
    "        num_round,\n",
    "        evals = [(trn_data, 'train'), (val_data, 'val')],\n",
    "        verbose_eval=300,\n",
    "        early_stopping_rounds=100,\n",
    "    )\n",
    "\n",
    "    oof_xgb_ins[val_idx] = clf.predict(val_data, iteration_range=(0, clf.best_iteration))\n",
    "    predictions_xgb_ins[:] += clf.predict(xgb.DMatrix(test[features]), iteration_range=(0, clf.best_iteration)) / K\n",
    "    feat_imp_xgb_ins.append(clf.get_score())"
   ]
  },
  {
   "cell_type": "code",
   "execution_count": 60,
   "metadata": {},
   "outputs": [
    {
     "name": "stdout",
     "output_type": "stream",
     "text": [
      "Logloss: 0.2956, AUC: 0.8785, Precision: 0.7938, Recall: 0.3696, F1 Score: 0.5043\n"
     ]
    }
   ],
   "source": [
    "# logloss = metrics.log_loss(label, [1 if i >= 0.5 else 0 for i in oof_xgb_ins], labels=[0, 1])\n",
    "logloss = metrics.log_loss(label, oof_xgb_ins)\n",
    "acc = metrics.roc_auc_score(label, oof_xgb_ins)\n",
    "precision = metrics.precision_score(label, [1 if i >= 0.5 else 0 for i in oof_xgb_ins])\n",
    "recall = metrics.recall_score(label, [1 if i >= 0.5 else 0 for i in oof_xgb_ins])\n",
    "f1 = metrics.f1_score(label, [1 if i >= 0.5 else 0 for i in oof_xgb_ins])\n",
    "\n",
    "print(f\"Logloss: {logloss:.4f}, AUC: {acc:.4f}, Precision: {precision:.4f}, Recall: {recall:.4f}, F1 Score: {f1:.4f}\")"
   ]
  },
  {
   "cell_type": "code",
   "execution_count": 61,
   "metadata": {},
   "outputs": [],
   "source": [
    "submission = pd.DataFrame()\n",
    "submission[\"RowId\"] = test_data[\"f_0\"]\n",
    "submission[\"is_clicked\"] = np.random.random((test_data.shape[0]))\n",
    "submission[\"is_installed\"] = predictions_xgb_ins\n",
    "submission.to_csv('./output/xgb_42_sep_train_logloss_float_{}_newparam.csv'.format(len(features)), index=False, sep='\\t')"
   ]
  },
  {
   "cell_type": "code",
   "execution_count": 56,
   "metadata": {},
   "outputs": [
    {
     "data": {
      "text/plain": [
       "count     587.000000\n",
       "mean      284.692930\n",
       "std       433.657853\n",
       "min         1.000000\n",
       "25%        56.700000\n",
       "50%       199.000000\n",
       "75%       348.400000\n",
       "max      4775.200000\n",
       "dtype: float64"
      ]
     },
     "execution_count": 56,
     "metadata": {},
     "output_type": "execute_result"
    }
   ],
   "source": [
    "avg_imp_xgb_ins = pd.DataFrame(feat_imp_xgb_ins, columns = features).apply(np.mean, axis = 0).sort_values(ascending=False)\n",
    "avg_imp_xgb_ins.describe()"
   ]
  },
  {
   "cell_type": "code",
   "execution_count": 57,
   "metadata": {},
   "outputs": [
    {
     "name": "stdout",
     "output_type": "stream",
     "text": [
      "147\n",
      "['f_11', 'f_4', 'f_6', 'f_15', 'f_17', 'f_12', 'f_1', 'f_14', 'f_61', 'f_62', 'f_2', 'f_16', 'f_13', 'f_63', 'f_42/f_57', 'f_72', 'f_18', 'f_5', 'f_42/f_74', 'f_42/f_55', 'f_8', 'f_10', 'f_54', 'f_56', 'f_9', 'f_42*f_51', 'f_42*f_57', 'f_42-f_51', 'f_42+f_51', 'f_42*f_64', 'f_42/f_51', 'f_42/f_59', 'f_52', 'f_55/f_57', 'f_57-f_59', 'f_42*f_59', 'f_42*f_65', 'f_57+f_59', 'f_42*f_55', 'f_42/f_76', 'f_42+f_65', 'f_42/f_70', 'f_42/f_64', 'f_57+f_58', 'f_42-f_65', 'f_42/f_65', 'f_42/f_75', 'f_57-f_58', 'f_42*f_43', 'f_55+f_58', 'f_42*f_70', 'f_55-f_59', 'f_57-f_67', 'f_42/f_58', 'f_20', 'f_55-f_58', 'f_55+f_59', 'f_55+f_67', 'f_51+f_57', 'f_42*f_66', 'f_42*f_58', 'f_57+f_67', 'f_51-f_57', 'f_19', 'f_55-f_67', 'f_32', 'f_51*f_57', 'f_42/f_43', 'f_42+f_59', 'f_51/f_57', 'f_57/f_74', 'f_42-f_59', 'f_55-f_57', 'f_51/f_55', 'f_42/f_66', 'f_57*f_65', 'f_53', 'f_57+f_70', 'f_57*f_59', 'f_43-f_57', 'f_43+f_57', 'f_57-f_70', 'f_57*f_64', 'f_51+f_55', 'f_51*f_55', 'f_73', 'f_43-f_66', 'f_43+f_55', 'f_51-f_55', 'f_55*f_59', 'f_42*f_74', 'f_43/f_55', 'f_57+f_66', 'f_55*f_64', 'f_55+f_70', 'f_58/f_59', 'f_64/f_65', 'f_57/f_64', 'f_51/f_64', 'f_57/f_59', 'f_69', 'f_43/f_57', 'f_43-f_55', 'f_55*f_65', 'f_58-f_59', 'f_57*f_70', 'f_42-f_67', 'f_57*f_58', 'f_57-f_66', 'f_59-f_67', 'f_55-f_70', 'f_58-f_67', 'f_68', 'f_50', 'f_57/f_65', 'f_55+f_66', 'f_51/f_59', 'f_43*f_57', 'f_55-f_66', 'f_43/f_66', 'f_58-f_75', 'f_57/f_70', 'f_42+f_64', 'f_55/f_64', 'f_51/f_65', 'f_57/f_58', 'f_55/f_74', 'f_42*f_75', 'f_42+f_67', 'f_67/f_75', 'f_42+f_58', 'f_43*f_55', 'f_55*f_58', 'f_55/f_59', 'f_59/f_70', 'f_55/f_65', 'f_42-f_58', 'f_57/f_75', 'f_42-f_64', 'f_59-f_70', 'f_55*f_70', 'f_51*f_59', 'f_42-f_57', 'f_59*f_65', 'f_57*f_66', 'f_58+f_75', 'f_58/f_74']\n"
     ]
    }
   ],
   "source": [
    "select_fea_xgb = []\n",
    "for i in range(len(avg_imp_xgb_ins)):\n",
    "    if avg_imp_xgb_ins.iloc[i] >= 348.400000:\n",
    "        select_fea_xgb.append(avg_imp_xgb_ins.index[i])\n",
    "print(len(select_fea_xgb))\n",
    "print(select_fea_xgb)"
   ]
  },
  {
   "attachments": {},
   "cell_type": "markdown",
   "metadata": {},
   "source": [
    "catboost"
   ]
  },
  {
   "cell_type": "code",
   "execution_count": 34,
   "metadata": {},
   "outputs": [],
   "source": [
    "cbc_params = {\n",
    "    'random_state': seed,\n",
    "    'loss_function': 'Logloss',\n",
    "    'eval_metric': 'Logloss',\n",
    "    'verbose': False,\n",
    "    'learning_rate': 0.05,\n",
    "    'depth': 5,\n",
    "    'rsm': 0.2020238568794654,\n",
    "    # 'min_data_in_leaf': 255,\n",
    "    # 'l2_leaf_reg': 5,\n",
    "    # 'subsample': 0.7,\n",
    "    # 'use_best_model': True,\n",
    "    # 'max_leaves': 12,\n",
    "    # 'metric_period': 500,\n",
    "    'n_estimators': 3000,\n",
    "    'thread_count': -1\n",
    "}"
   ]
  },
  {
   "cell_type": "code",
   "execution_count": 35,
   "metadata": {},
   "outputs": [
    {
     "name": "stdout",
     "output_type": "stream",
     "text": [
      "607\n",
      "fold n°0\n",
      "0:\tlearn: 0.6491594\ttest: 0.6491298\tbest: 0.6491298 (0)\ttotal: 1.82s\tremaining: 1h 31m 12s\n",
      "300:\tlearn: 0.3001315\ttest: 0.2990618\tbest: 0.2990618 (300)\ttotal: 6m 27s\tremaining: 57m 55s\n",
      "600:\tlearn: 0.2937823\ttest: 0.2928453\tbest: 0.2928453 (600)\ttotal: 12m 59s\tremaining: 51m 53s\n"
     ]
    },
    {
     "ename": "KeyboardInterrupt",
     "evalue": "",
     "output_type": "error",
     "traceback": [
      "\u001b[0;31m---------------------------------------------------------------------------\u001b[0m",
      "\u001b[0;31mKeyboardInterrupt\u001b[0m                         Traceback (most recent call last)",
      "Cell \u001b[0;32mIn[35], line 17\u001b[0m\n\u001b[1;32m     14\u001b[0m X_train, X_val \u001b[39m=\u001b[39m train\u001b[39m.\u001b[39miloc[trn_idx][features], train\u001b[39m.\u001b[39miloc[val_idx][features]\n\u001b[1;32m     15\u001b[0m y_train, y_val \u001b[39m=\u001b[39m label\u001b[39m.\u001b[39miloc[trn_idx], label\u001b[39m.\u001b[39miloc[val_idx]\n\u001b[0;32m---> 17\u001b[0m model\u001b[39m.\u001b[39;49mfit(X_train, y_train, eval_set\u001b[39m=\u001b[39;49m(X_val, y_val), \n\u001b[1;32m     18\u001b[0m           cat_features\u001b[39m=\u001b[39;49mcat_features,\n\u001b[1;32m     19\u001b[0m           early_stopping_rounds\u001b[39m=\u001b[39;49m\u001b[39m100\u001b[39;49m, verbose\u001b[39m=\u001b[39;49m\u001b[39m300\u001b[39;49m, use_best_model\u001b[39m=\u001b[39;49m\u001b[39mTrue\u001b[39;49;00m)\n\u001b[1;32m     21\u001b[0m oof_cbc_ins[val_idx] \u001b[39m+\u001b[39m\u001b[39m=\u001b[39m (model\u001b[39m.\u001b[39mpredict_proba(X_val)[:, \u001b[39m1\u001b[39m])\n\u001b[1;32m     22\u001b[0m predictions_cbc_ins \u001b[39m+\u001b[39m\u001b[39m=\u001b[39m (model\u001b[39m.\u001b[39mpredict_proba(test[features])[:, \u001b[39m1\u001b[39m]) \u001b[39m/\u001b[39m K\n",
      "File \u001b[0;32m~/anaconda3/envs/torch10/lib/python3.9/site-packages/catboost/core.py:5128\u001b[0m, in \u001b[0;36mCatBoostClassifier.fit\u001b[0;34m(self, X, y, cat_features, text_features, embedding_features, sample_weight, baseline, use_best_model, eval_set, verbose, logging_level, plot, plot_file, column_description, verbose_eval, metric_period, silent, early_stopping_rounds, save_snapshot, snapshot_file, snapshot_interval, init_model, callbacks, log_cout, log_cerr)\u001b[0m\n\u001b[1;32m   5125\u001b[0m \u001b[39mif\u001b[39;00m \u001b[39m'\u001b[39m\u001b[39mloss_function\u001b[39m\u001b[39m'\u001b[39m \u001b[39min\u001b[39;00m params:\n\u001b[1;32m   5126\u001b[0m     CatBoostClassifier\u001b[39m.\u001b[39m_check_is_compatible_loss(params[\u001b[39m'\u001b[39m\u001b[39mloss_function\u001b[39m\u001b[39m'\u001b[39m])\n\u001b[0;32m-> 5128\u001b[0m \u001b[39mself\u001b[39;49m\u001b[39m.\u001b[39;49m_fit(X, y, cat_features, text_features, embedding_features, \u001b[39mNone\u001b[39;49;00m, sample_weight, \u001b[39mNone\u001b[39;49;00m, \u001b[39mNone\u001b[39;49;00m, \u001b[39mNone\u001b[39;49;00m, \u001b[39mNone\u001b[39;49;00m, baseline, use_best_model,\n\u001b[1;32m   5129\u001b[0m           eval_set, verbose, logging_level, plot, plot_file, column_description, verbose_eval, metric_period,\n\u001b[1;32m   5130\u001b[0m           silent, early_stopping_rounds, save_snapshot, snapshot_file, snapshot_interval, init_model, callbacks, log_cout, log_cerr)\n\u001b[1;32m   5131\u001b[0m \u001b[39mreturn\u001b[39;00m \u001b[39mself\u001b[39m\n",
      "File \u001b[0;32m~/anaconda3/envs/torch10/lib/python3.9/site-packages/catboost/core.py:2355\u001b[0m, in \u001b[0;36mCatBoost._fit\u001b[0;34m(self, X, y, cat_features, text_features, embedding_features, pairs, sample_weight, group_id, group_weight, subgroup_id, pairs_weight, baseline, use_best_model, eval_set, verbose, logging_level, plot, plot_file, column_description, verbose_eval, metric_period, silent, early_stopping_rounds, save_snapshot, snapshot_file, snapshot_interval, init_model, callbacks, log_cout, log_cerr)\u001b[0m\n\u001b[1;32m   2351\u001b[0m allow_clear_pool \u001b[39m=\u001b[39m train_params[\u001b[39m\"\u001b[39m\u001b[39mallow_clear_pool\u001b[39m\u001b[39m\"\u001b[39m]\n\u001b[1;32m   2353\u001b[0m \u001b[39mwith\u001b[39;00m log_fixup(log_cout, log_cerr), \\\n\u001b[1;32m   2354\u001b[0m     plot_wrapper(plot, plot_file, \u001b[39m'\u001b[39m\u001b[39mTraining plots\u001b[39m\u001b[39m'\u001b[39m, [_get_train_dir(\u001b[39mself\u001b[39m\u001b[39m.\u001b[39mget_params())]):\n\u001b[0;32m-> 2355\u001b[0m     \u001b[39mself\u001b[39;49m\u001b[39m.\u001b[39;49m_train(\n\u001b[1;32m   2356\u001b[0m         train_pool,\n\u001b[1;32m   2357\u001b[0m         train_params[\u001b[39m\"\u001b[39;49m\u001b[39meval_sets\u001b[39;49m\u001b[39m\"\u001b[39;49m],\n\u001b[1;32m   2358\u001b[0m         params,\n\u001b[1;32m   2359\u001b[0m         allow_clear_pool,\n\u001b[1;32m   2360\u001b[0m         train_params[\u001b[39m\"\u001b[39;49m\u001b[39minit_model\u001b[39;49m\u001b[39m\"\u001b[39;49m]\n\u001b[1;32m   2361\u001b[0m     )\n\u001b[1;32m   2363\u001b[0m \u001b[39m# Have property feature_importance possibly set\u001b[39;00m\n\u001b[1;32m   2364\u001b[0m loss \u001b[39m=\u001b[39m \u001b[39mself\u001b[39m\u001b[39m.\u001b[39m_object\u001b[39m.\u001b[39m_get_loss_function_name()\n",
      "File \u001b[0;32m~/anaconda3/envs/torch10/lib/python3.9/site-packages/catboost/core.py:1759\u001b[0m, in \u001b[0;36m_CatBoostBase._train\u001b[0;34m(self, train_pool, test_pool, params, allow_clear_pool, init_model)\u001b[0m\n\u001b[1;32m   1758\u001b[0m \u001b[39mdef\u001b[39;00m \u001b[39m_train\u001b[39m(\u001b[39mself\u001b[39m, train_pool, test_pool, params, allow_clear_pool, init_model):\n\u001b[0;32m-> 1759\u001b[0m     \u001b[39mself\u001b[39;49m\u001b[39m.\u001b[39;49m_object\u001b[39m.\u001b[39;49m_train(train_pool, test_pool, params, allow_clear_pool, init_model\u001b[39m.\u001b[39;49m_object \u001b[39mif\u001b[39;49;00m init_model \u001b[39melse\u001b[39;49;00m \u001b[39mNone\u001b[39;49;00m)\n\u001b[1;32m   1760\u001b[0m     \u001b[39mself\u001b[39m\u001b[39m.\u001b[39m_set_trained_model_attributes()\n",
      "File \u001b[0;32m_catboost.pyx:4623\u001b[0m, in \u001b[0;36m_catboost._CatBoost._train\u001b[0;34m()\u001b[0m\n",
      "File \u001b[0;32m_catboost.pyx:4672\u001b[0m, in \u001b[0;36m_catboost._CatBoost._train\u001b[0;34m()\u001b[0m\n",
      "\u001b[0;31mKeyboardInterrupt\u001b[0m: "
     ]
    }
   ],
   "source": [
    "KF = StratifiedKFold(n_splits=K, random_state=seed, shuffle=True)\n",
    "feat_imp_cbc_ins = list()\n",
    "\n",
    "oof_cbc_ins = np.zeros(len(train))\n",
    "predictions_cbc_ins = np.zeros((len(test)))\n",
    "print(len(features))\n",
    "\n",
    "model = CatBoostClassifier(**cbc_params)\n",
    "\n",
    "# 模型训练\n",
    "for fold_, (trn_idx, val_idx) in enumerate(KF.split(train.values, label.values)):\n",
    "    print(\"fold n°{}\".format(fold_))\n",
    "\n",
    "    X_train, X_val = train.iloc[trn_idx][features], train.iloc[val_idx][features]\n",
    "    y_train, y_val = label.iloc[trn_idx], label.iloc[val_idx]\n",
    "    \n",
    "    model.fit(X_train, y_train, eval_set=(X_val, y_val), \n",
    "              cat_features=cat_features,\n",
    "              early_stopping_rounds=100, verbose=300, use_best_model=True)\n",
    "\n",
    "    oof_cbc_ins[val_idx] += (model.predict_proba(X_val)[:, 1])\n",
    "    predictions_cbc_ins += (model.predict_proba(test[features])[:, 1]) / K\n",
    "    feat_imp_cbc_ins.append(model.feature_importances_)"
   ]
  },
  {
   "cell_type": "code",
   "execution_count": null,
   "metadata": {},
   "outputs": [
    {
     "ename": "NameError",
     "evalue": "name 'metrics' is not defined",
     "output_type": "error",
     "traceback": [
      "\u001b[0;31m---------------------------------------------------------------------------\u001b[0m",
      "\u001b[0;31mNameError\u001b[0m                                 Traceback (most recent call last)",
      "\u001b[0;32m<ipython-input-2-496ac91738ff>\u001b[0m in \u001b[0;36m<module>\u001b[0;34m\u001b[0m\n\u001b[0;32m----> 1\u001b[0;31m \u001b[0mlogloss\u001b[0m \u001b[0;34m=\u001b[0m \u001b[0mmetrics\u001b[0m\u001b[0;34m.\u001b[0m\u001b[0mlog_loss\u001b[0m\u001b[0;34m(\u001b[0m\u001b[0mlabel\u001b[0m\u001b[0;34m,\u001b[0m \u001b[0;34m[\u001b[0m\u001b[0;36m1\u001b[0m \u001b[0;32mif\u001b[0m \u001b[0mi\u001b[0m \u001b[0;34m>=\u001b[0m \u001b[0;36m0.5\u001b[0m \u001b[0;32melse\u001b[0m \u001b[0;36m0\u001b[0m \u001b[0;32mfor\u001b[0m \u001b[0mi\u001b[0m \u001b[0;32min\u001b[0m \u001b[0moof_cbc_ins\u001b[0m\u001b[0;34m]\u001b[0m\u001b[0;34m,\u001b[0m \u001b[0mlabels\u001b[0m\u001b[0;34m=\u001b[0m\u001b[0;34m[\u001b[0m\u001b[0;36m0\u001b[0m\u001b[0;34m,\u001b[0m \u001b[0;36m1\u001b[0m\u001b[0;34m]\u001b[0m\u001b[0;34m)\u001b[0m\u001b[0;34m\u001b[0m\u001b[0;34m\u001b[0m\u001b[0m\n\u001b[0m\u001b[1;32m      2\u001b[0m \u001b[0mlogloss2\u001b[0m \u001b[0;34m=\u001b[0m \u001b[0mmetrics\u001b[0m\u001b[0;34m.\u001b[0m\u001b[0mlog_loss\u001b[0m\u001b[0;34m(\u001b[0m\u001b[0mlabel\u001b[0m\u001b[0;34m,\u001b[0m \u001b[0moof_cbc_ins\u001b[0m\u001b[0;34m)\u001b[0m\u001b[0;34m\u001b[0m\u001b[0;34m\u001b[0m\u001b[0m\n\u001b[1;32m      3\u001b[0m \u001b[0macc\u001b[0m \u001b[0;34m=\u001b[0m \u001b[0mmetrics\u001b[0m\u001b[0;34m.\u001b[0m\u001b[0mroc_auc_score\u001b[0m\u001b[0;34m(\u001b[0m\u001b[0mlabel\u001b[0m\u001b[0;34m,\u001b[0m \u001b[0moof_cbc_ins\u001b[0m\u001b[0;34m)\u001b[0m\u001b[0;34m\u001b[0m\u001b[0;34m\u001b[0m\u001b[0m\n\u001b[1;32m      4\u001b[0m \u001b[0mprecision\u001b[0m \u001b[0;34m=\u001b[0m \u001b[0mmetrics\u001b[0m\u001b[0;34m.\u001b[0m\u001b[0mprecision_score\u001b[0m\u001b[0;34m(\u001b[0m\u001b[0mlabel\u001b[0m\u001b[0;34m,\u001b[0m \u001b[0;34m[\u001b[0m\u001b[0;36m1\u001b[0m \u001b[0;32mif\u001b[0m \u001b[0mi\u001b[0m \u001b[0;34m>=\u001b[0m \u001b[0;36m0.5\u001b[0m \u001b[0;32melse\u001b[0m \u001b[0;36m0\u001b[0m \u001b[0;32mfor\u001b[0m \u001b[0mi\u001b[0m \u001b[0;32min\u001b[0m \u001b[0moof_cbc_ins\u001b[0m\u001b[0;34m]\u001b[0m\u001b[0;34m)\u001b[0m\u001b[0;34m\u001b[0m\u001b[0;34m\u001b[0m\u001b[0m\n\u001b[1;32m      5\u001b[0m \u001b[0mrecall\u001b[0m \u001b[0;34m=\u001b[0m \u001b[0mmetrics\u001b[0m\u001b[0;34m.\u001b[0m\u001b[0mrecall_score\u001b[0m\u001b[0;34m(\u001b[0m\u001b[0mlabel\u001b[0m\u001b[0;34m,\u001b[0m \u001b[0;34m[\u001b[0m\u001b[0;36m1\u001b[0m \u001b[0;32mif\u001b[0m \u001b[0mi\u001b[0m \u001b[0;34m>=\u001b[0m \u001b[0;36m0.5\u001b[0m \u001b[0;32melse\u001b[0m \u001b[0;36m0\u001b[0m \u001b[0;32mfor\u001b[0m \u001b[0mi\u001b[0m \u001b[0;32min\u001b[0m \u001b[0moof_cbc_ins\u001b[0m\u001b[0;34m]\u001b[0m\u001b[0;34m)\u001b[0m\u001b[0;34m\u001b[0m\u001b[0;34m\u001b[0m\u001b[0m\n",
      "\u001b[0;31mNameError\u001b[0m: name 'metrics' is not defined"
     ]
    }
   ],
   "source": [
    "# logloss = metrics.log_loss(label, [1 if i >= 0.5 else 0 for i in oof_cbc_ins], labels=[0, 1])\n",
    "logloss = metrics.log_loss(label, oof_cbc_ins)\n",
    "acc = metrics.roc_auc_score(label, oof_cbc_ins)\n",
    "precision = metrics.precision_score(label, [1 if i >= 0.5 else 0 for i in oof_cbc_ins])\n",
    "recall = metrics.recall_score(label, [1 if i >= 0.5 else 0 for i in oof_cbc_ins])\n",
    "f1 = metrics.f1_score(label, [1 if i >= 0.5 else 0 for i in oof_cbc_ins])\n",
    "\n",
    "print(f\"Logloss: {logloss:.4f}, AUC: {acc:.4f}, Precision: {precision:.4f}, Recall: {recall:.4f}, F1 Score: {f1:.4f}\")"
   ]
  },
  {
   "cell_type": "code",
   "execution_count": null,
   "metadata": {},
   "outputs": [
    {
     "ename": "NameError",
     "evalue": "name 'pd' is not defined",
     "output_type": "error",
     "traceback": [
      "\u001b[0;31m---------------------------------------------------------------------------\u001b[0m",
      "\u001b[0;31mNameError\u001b[0m                                 Traceback (most recent call last)",
      "\u001b[0;32m<ipython-input-1-c055615006d0>\u001b[0m in \u001b[0;36m<module>\u001b[0;34m\u001b[0m\n\u001b[0;32m----> 1\u001b[0;31m \u001b[0mavg_imp_cbc\u001b[0m \u001b[0;34m=\u001b[0m \u001b[0mpd\u001b[0m\u001b[0;34m.\u001b[0m\u001b[0mDataFrame\u001b[0m\u001b[0;34m(\u001b[0m\u001b[0mfeat_imp_cbc\u001b[0m\u001b[0;34m,\u001b[0m \u001b[0mcolumns\u001b[0m \u001b[0;34m=\u001b[0m \u001b[0mfeatures\u001b[0m\u001b[0;34m)\u001b[0m\u001b[0;34m.\u001b[0m\u001b[0mapply\u001b[0m\u001b[0;34m(\u001b[0m\u001b[0mnp\u001b[0m\u001b[0;34m.\u001b[0m\u001b[0mmean\u001b[0m\u001b[0;34m,\u001b[0m \u001b[0maxis\u001b[0m \u001b[0;34m=\u001b[0m \u001b[0;36m0\u001b[0m\u001b[0;34m)\u001b[0m\u001b[0;34m.\u001b[0m\u001b[0msort_values\u001b[0m\u001b[0;34m(\u001b[0m\u001b[0mascending\u001b[0m\u001b[0;34m=\u001b[0m\u001b[0;32mFalse\u001b[0m\u001b[0;34m)\u001b[0m\u001b[0;34m\u001b[0m\u001b[0;34m\u001b[0m\u001b[0m\n\u001b[0m\u001b[1;32m      2\u001b[0m \u001b[0mavg_imp_cbc\u001b[0m\u001b[0;34m.\u001b[0m\u001b[0mdescribe\u001b[0m\u001b[0;34m(\u001b[0m\u001b[0;34m)\u001b[0m\u001b[0;34m\u001b[0m\u001b[0;34m\u001b[0m\u001b[0m\n",
      "\u001b[0;31mNameError\u001b[0m: name 'pd' is not defined"
     ]
    }
   ],
   "source": [
    "submission = pd.DataFrame()\n",
    "submission[\"RowId\"] = test_data[\"f_0\"]\n",
    "submission[\"is_clicked\"] = np.random.random((test_data.shape[0]))\n",
    "submission[\"is_installed\"] = predictions_cbc_ins\n",
    "submission.to_csv('./output/cbc_42_sep_train_logloss_float_{}.csv'.format(len(features)), index=False, sep='\\t')"
   ]
  },
  {
   "cell_type": "code",
   "execution_count": null,
   "metadata": {},
   "outputs": [],
   "source": [
    "avg_imp_cbc_ins = pd.DataFrame(feat_imp_cbc_ins, columns = features).apply(np.mean, axis = 0).sort_values(ascending=False)\n",
    "avg_imp_cbc_ins.describe()"
   ]
  },
  {
   "cell_type": "code",
   "execution_count": null,
   "metadata": {},
   "outputs": [],
   "source": [
    "select_fea_cbc = []\n",
    "for i in range(len(avg_imp_cbc_ins)):\n",
    "    if avg_imp_cbc_ins.iloc[i] >= 1068.650000:\n",
    "        select_fea_cbc.append(avg_imp_cbc_ins.index[i])\n",
    "print(len(select_fea_cbc))\n",
    "print(select_fea_cbc)"
   ]
  },
  {
   "attachments": {},
   "cell_type": "markdown",
   "metadata": {},
   "source": [
    "# 模型融合"
   ]
  },
  {
   "cell_type": "code",
   "execution_count": 38,
   "metadata": {},
   "outputs": [],
   "source": [
    "file_list = ['xgb_42_sep_train_logloss_float', 'cbc_42_sep_train_logloss_float', 'lgb_42_sep_train_logloss_float']\n",
    "weight_list = [1, 2, 3]\n",
    "res_list = []\n",
    "for file in file_list:\n",
    "    res_list.append(pd.read_csv('./output/{}.csv'.format(file), sep='\\t')['is_installed'].values)"
   ]
  },
  {
   "cell_type": "code",
   "execution_count": 44,
   "metadata": {},
   "outputs": [],
   "source": [
    "res_wei = 0\n",
    "for i, res_ in enumerate(res_list):\n",
    "    res_wei += res_ * weight_list[i]\n",
    "res_wei /= sum(weight_list)"
   ]
  },
  {
   "cell_type": "code",
   "execution_count": 45,
   "metadata": {},
   "outputs": [
    {
     "data": {
      "text/plain": [
       "[array([0.35779583, 0.67529753, 0.05848108, ..., 0.02568051, 0.11943987,\n",
       "        0.1113366 ]),\n",
       " array([0.34246523, 0.49886412, 0.12743884, ..., 0.20235799, 0.24234735,\n",
       "        0.1216858 ]),\n",
       " array([0.35230845, 0.45921298, 0.08272543, ..., 0.02216217, 0.14859903,\n",
       "        0.06889433])]"
      ]
     },
     "execution_count": 45,
     "metadata": {},
     "output_type": "execute_result"
    }
   ],
   "source": [
    "res_list"
   ]
  },
  {
   "cell_type": "code",
   "execution_count": 46,
   "metadata": {},
   "outputs": [
    {
     "data": {
      "text/plain": [
       "array([0.34994194, 0.50844412, 0.09358917, ..., 0.08281383, 0.17498861,\n",
       "       0.0935652 ])"
      ]
     },
     "execution_count": 46,
     "metadata": {},
     "output_type": "execute_result"
    }
   ],
   "source": [
    "res_wei"
   ]
  },
  {
   "cell_type": "code",
   "execution_count": 47,
   "metadata": {},
   "outputs": [],
   "source": [
    "submission = pd.DataFrame()\n",
    "submission[\"RowId\"] = test_data[\"f_0\"]\n",
    "submission[\"is_clicked\"] = np.random.random((test_data.shape[0]))\n",
    "submission[\"is_installed\"] = res_wei\n",
    "submission.to_csv('./output/xgb_lgb_cbc_1_2_3.csv', index=False, sep='\\t')"
   ]
  },
  {
   "attachments": {},
   "cell_type": "markdown",
   "metadata": {},
   "source": [
    "# 输出"
   ]
  },
  {
   "cell_type": "code",
   "execution_count": 26,
   "metadata": {},
   "outputs": [
    {
     "data": {
      "text/plain": [
       "42"
      ]
     },
     "execution_count": 26,
     "metadata": {},
     "output_type": "execute_result"
    }
   ],
   "source": [
    "seed"
   ]
  },
  {
   "cell_type": "code",
   "execution_count": 33,
   "metadata": {},
   "outputs": [],
   "source": [
    "submission = pd.DataFrame()\n",
    "submission[\"RowId\"] = test_data[\"f_0\"]\n",
    "submission[\"is_clicked\"] = np.random.random((test_data.shape[0]))\n",
    "submission[\"is_installed\"] = predictions_cbc_ins\n",
    "submission.to_csv('./output/cbc_42_sep_train_logloss_float.csv', index=False, sep='\\t')"
   ]
  },
  {
   "cell_type": "code",
   "execution_count": 24,
   "metadata": {},
   "outputs": [],
   "source": [
    "submission = pd.DataFrame()\n",
    "submission[\"RowId\"] = test_data[\"f_0\"]\n",
    "submission[\"is_clicked\"] = predictions_lgb_cli\n",
    "submission[\"is_installed\"] = predictions_lgb_ins\n",
    "submission.to_csv('./output/lgb_42_sep_train_logloss_float.csv', index=False, sep='\\t')"
   ]
  },
  {
   "cell_type": "code",
   "execution_count": 26,
   "metadata": {},
   "outputs": [],
   "source": [
    "submission = pd.DataFrame()\n",
    "submission[\"RowId\"] = test_data[\"f_0\"]\n",
    "submission[\"is_clicked\"] = np.round(predictions_lgb_cli, 5)\n",
    "submission[\"is_installed\"] = np.round(predictions_lgb_ins, 5)\n",
    "submission.to_csv('./output/lgb_42_sep_train_logloss_float_round5.csv', index=False, sep='\\t')"
   ]
  },
  {
   "cell_type": "code",
   "execution_count": 28,
   "metadata": {},
   "outputs": [],
   "source": [
    "submission = pd.DataFrame()\n",
    "submission[\"RowId\"] = test_data[\"f_0\"]\n",
    "submission[\"is_clicked\"] = np.random.random((test_data.shape[0]))\n",
    "submission[\"is_installed\"] = predictions_lgb_ins\n",
    "submission.to_csv('./output/lgb_42_sep_train_logloss_float_ins_pred_cli_rand.csv', index=False, sep='\\t')"
   ]
  },
  {
   "cell_type": "code",
   "execution_count": 27,
   "metadata": {},
   "outputs": [
    {
     "data": {
      "text/html": [
       "<div>\n",
       "<style scoped>\n",
       "    .dataframe tbody tr th:only-of-type {\n",
       "        vertical-align: middle;\n",
       "    }\n",
       "\n",
       "    .dataframe tbody tr th {\n",
       "        vertical-align: top;\n",
       "    }\n",
       "\n",
       "    .dataframe thead th {\n",
       "        text-align: right;\n",
       "    }\n",
       "</style>\n",
       "<table border=\"1\" class=\"dataframe\">\n",
       "  <thead>\n",
       "    <tr style=\"text-align: right;\">\n",
       "      <th></th>\n",
       "      <th>RowId</th>\n",
       "      <th>is_clicked</th>\n",
       "      <th>is_installed</th>\n",
       "    </tr>\n",
       "  </thead>\n",
       "  <tbody>\n",
       "    <tr>\n",
       "      <th>0</th>\n",
       "      <td>64505</td>\n",
       "      <td>0.54069</td>\n",
       "      <td>0.35231</td>\n",
       "    </tr>\n",
       "    <tr>\n",
       "      <th>1</th>\n",
       "      <td>64506</td>\n",
       "      <td>0.20442</td>\n",
       "      <td>0.45921</td>\n",
       "    </tr>\n",
       "    <tr>\n",
       "      <th>2</th>\n",
       "      <td>64507</td>\n",
       "      <td>0.63765</td>\n",
       "      <td>0.08273</td>\n",
       "    </tr>\n",
       "    <tr>\n",
       "      <th>3</th>\n",
       "      <td>64508</td>\n",
       "      <td>0.30246</td>\n",
       "      <td>0.33364</td>\n",
       "    </tr>\n",
       "    <tr>\n",
       "      <th>4</th>\n",
       "      <td>64509</td>\n",
       "      <td>0.91326</td>\n",
       "      <td>0.30514</td>\n",
       "    </tr>\n",
       "    <tr>\n",
       "      <th>...</th>\n",
       "      <td>...</td>\n",
       "      <td>...</td>\n",
       "      <td>...</td>\n",
       "    </tr>\n",
       "    <tr>\n",
       "      <th>160968</th>\n",
       "      <td>16240</td>\n",
       "      <td>0.67619</td>\n",
       "      <td>0.42696</td>\n",
       "    </tr>\n",
       "    <tr>\n",
       "      <th>160969</th>\n",
       "      <td>16241</td>\n",
       "      <td>0.09272</td>\n",
       "      <td>0.00923</td>\n",
       "    </tr>\n",
       "    <tr>\n",
       "      <th>160970</th>\n",
       "      <td>16242</td>\n",
       "      <td>0.22014</td>\n",
       "      <td>0.02216</td>\n",
       "    </tr>\n",
       "    <tr>\n",
       "      <th>160971</th>\n",
       "      <td>16243</td>\n",
       "      <td>0.50215</td>\n",
       "      <td>0.14860</td>\n",
       "    </tr>\n",
       "    <tr>\n",
       "      <th>160972</th>\n",
       "      <td>16244</td>\n",
       "      <td>0.99989</td>\n",
       "      <td>0.06889</td>\n",
       "    </tr>\n",
       "  </tbody>\n",
       "</table>\n",
       "<p>160973 rows × 3 columns</p>\n",
       "</div>"
      ],
      "text/plain": [
       "        RowId  is_clicked  is_installed\n",
       "0       64505     0.54069       0.35231\n",
       "1       64506     0.20442       0.45921\n",
       "2       64507     0.63765       0.08273\n",
       "3       64508     0.30246       0.33364\n",
       "4       64509     0.91326       0.30514\n",
       "...       ...         ...           ...\n",
       "160968  16240     0.67619       0.42696\n",
       "160969  16241     0.09272       0.00923\n",
       "160970  16242     0.22014       0.02216\n",
       "160971  16243     0.50215       0.14860\n",
       "160972  16244     0.99989       0.06889\n",
       "\n",
       "[160973 rows x 3 columns]"
      ]
     },
     "execution_count": 27,
     "metadata": {},
     "output_type": "execute_result"
    }
   ],
   "source": [
    "submission"
   ]
  },
  {
   "cell_type": "code",
   "execution_count": null,
   "metadata": {},
   "outputs": [],
   "source": []
  }
 ],
 "metadata": {
  "kernelspec": {
   "display_name": "libcityng",
   "language": "python",
   "name": "python3"
  },
  "language_info": {
   "codemirror_mode": {
    "name": "ipython",
    "version": 3
   },
   "file_extension": ".py",
   "mimetype": "text/x-python",
   "name": "python",
   "nbconvert_exporter": "python",
   "pygments_lexer": "ipython3",
   "version": "3.9.12"
  },
  "orig_nbformat": 4
 },
 "nbformat": 4,
 "nbformat_minor": 2
}
