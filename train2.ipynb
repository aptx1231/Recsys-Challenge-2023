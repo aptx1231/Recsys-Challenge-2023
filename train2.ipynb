{
 "cells": [
  {
   "cell_type": "code",
   "execution_count": 2,
   "metadata": {},
   "outputs": [],
   "source": [
    "import numpy as np \n",
    "import pandas as pd\n",
    "import matplotlib.pyplot as plt\n",
    "import seaborn as sns\n",
    "import warnings\n",
    "import os\n",
    "import re\n",
    "import math\n",
    "import plotly.express as px\n",
    "import plotly.graph_objects as go\n",
    "from plotly.subplots import make_subplots\n",
    "\n",
    "from lightgbm import LGBMRegressor, LGBMClassifier\n",
    "from xgboost import XGBRegressor, XGBClassifier\n",
    "from catboost import CatBoostRegressor, CatBoostClassifier\n",
    "import lightgbm as lgb\n",
    "import xgboost as xgb\n",
    "import catboost as cab\n",
    "\n",
    "from sklearn.preprocessing import LabelEncoder\n",
    "from sklearn.model_selection import cross_val_score, KFold, StratifiedKFold, GridSearchCV\n",
    "from sklearn.decomposition import LatentDirichletAllocation, NMF, TruncatedSVD\n",
    "from sklearn.linear_model import LogisticRegression, SGDClassifier\n",
    "from sklearn.ensemble import RandomForestRegressor, AdaBoostRegressor, GradientBoostingRegressor, HistGradientBoostingRegressor, StackingRegressor\n",
    "from sklearn.ensemble import RandomForestClassifier, AdaBoostClassifier, GradientBoostingClassifier, HistGradientBoostingClassifier, StackingClassifier\n",
    "from sklearn.tree import DecisionTreeRegressor, DecisionTreeClassifier\n",
    "from sklearn import metrics\n",
    "from sklearn.svm import SVC\n",
    "from sklearn.feature_extraction.text import TfidfVectorizer\n",
    "from sklearn.preprocessing import PolynomialFeatures\n",
    "from sklearn.neighbors import KNeighborsClassifier\n",
    "from tqdm import tqdm\n",
    "\n",
    "import matplotlib.pyplot as plt\n",
    "\n",
    "import warnings\n",
    "\n",
    "warnings.filterwarnings('ignore')"
   ]
  },
  {
   "attachments": {},
   "cell_type": "markdown",
   "metadata": {},
   "source": [
    "数据处理"
   ]
  },
  {
   "cell_type": "code",
   "execution_count": 3,
   "metadata": {},
   "outputs": [
    {
     "data": {
      "text/plain": [
       "(160973, 80)"
      ]
     },
     "execution_count": 3,
     "metadata": {},
     "output_type": "execute_result"
    }
   ],
   "source": [
    "test_data = pd.read_csv('data/test/000000000000.csv', sep='\\t')\n",
    "test_data.shape "
   ]
  },
  {
   "cell_type": "code",
   "execution_count": 4,
   "metadata": {},
   "outputs": [
    {
     "data": {
      "text/plain": [
       "(3485852, 82)"
      ]
     },
     "execution_count": 4,
     "metadata": {},
     "output_type": "execute_result"
    }
   ],
   "source": [
    "train_data = pd.read_csv('./data/train.csv', sep='\\t')\n",
    "train_data.shape "
   ]
  },
  {
   "cell_type": "code",
   "execution_count": 5,
   "metadata": {},
   "outputs": [],
   "source": [
    "train_data = train_data.replace([np.inf, -np.inf], np.nan).fillna(0)\n",
    "test_data = test_data.replace([np.inf, -np.inf], np.nan).fillna(0)"
   ]
  },
  {
   "cell_type": "code",
   "execution_count": 6,
   "metadata": {},
   "outputs": [],
   "source": [
    "data = pd.concat([train_data, test_data])"
   ]
  },
  {
   "cell_type": "code",
   "execution_count": 7,
   "metadata": {},
   "outputs": [],
   "source": [
    "cat_features = ['f_{}'.format(i) for i in range(1, 42)]\n",
    "bin_features = ['f_{}'.format(i) for i in range(33, 42)]\n",
    "num_features = ['f_{}'.format(i) for i in range(42, 80)]\n",
    "date_features = ['f_1']"
   ]
  },
  {
   "cell_type": "code",
   "execution_count": 8,
   "metadata": {},
   "outputs": [],
   "source": [
    "for f in cat_features:\n",
    "    le = LabelEncoder()\n",
    "    data[f] = le.fit_transform(data[f])"
   ]
  },
  {
   "cell_type": "code",
   "execution_count": 9,
   "metadata": {},
   "outputs": [],
   "source": [
    "# zero_count = data.eq(0).sum()  # 计算每列中值为 0 的数量\n",
    "# zero_ratio = zero_count / len(data)  # 计算每列中值为 0 的占比\n",
    "# print(zero_ratio)"
   ]
  },
  {
   "cell_type": "code",
   "execution_count": 10,
   "metadata": {},
   "outputs": [
    {
     "data": {
      "text/plain": [
       "(3646825, 82)"
      ]
     },
     "execution_count": 10,
     "metadata": {},
     "output_type": "execute_result"
    }
   ],
   "source": [
    "data.shape "
   ]
  },
  {
   "cell_type": "code",
   "execution_count": 11,
   "metadata": {},
   "outputs": [
    {
     "data": {
      "text/html": [
       "<div>\n",
       "<style scoped>\n",
       "    .dataframe tbody tr th:only-of-type {\n",
       "        vertical-align: middle;\n",
       "    }\n",
       "\n",
       "    .dataframe tbody tr th {\n",
       "        vertical-align: top;\n",
       "    }\n",
       "\n",
       "    .dataframe thead th {\n",
       "        text-align: right;\n",
       "    }\n",
       "</style>\n",
       "<table border=\"1\" class=\"dataframe\">\n",
       "  <thead>\n",
       "    <tr style=\"text-align: right;\">\n",
       "      <th></th>\n",
       "      <th>f_0</th>\n",
       "      <th>f_1</th>\n",
       "      <th>f_2</th>\n",
       "      <th>f_3</th>\n",
       "      <th>f_4</th>\n",
       "      <th>f_5</th>\n",
       "      <th>f_6</th>\n",
       "      <th>f_7</th>\n",
       "      <th>f_8</th>\n",
       "      <th>f_9</th>\n",
       "      <th>...</th>\n",
       "      <th>f_72</th>\n",
       "      <th>f_73</th>\n",
       "      <th>f_74</th>\n",
       "      <th>f_75</th>\n",
       "      <th>f_76</th>\n",
       "      <th>f_77</th>\n",
       "      <th>f_78</th>\n",
       "      <th>f_79</th>\n",
       "      <th>is_clicked</th>\n",
       "      <th>is_installed</th>\n",
       "    </tr>\n",
       "  </thead>\n",
       "  <tbody>\n",
       "    <tr>\n",
       "      <th>2596150</th>\n",
       "      <td>64505</td>\n",
       "      <td>58</td>\n",
       "      <td>3346</td>\n",
       "      <td>22294</td>\n",
       "      <td>6767</td>\n",
       "      <td>25604</td>\n",
       "      <td>5040</td>\n",
       "      <td>27941</td>\n",
       "      <td>19203</td>\n",
       "      <td>31372</td>\n",
       "      <td>...</td>\n",
       "      <td>0.571121</td>\n",
       "      <td>0.0</td>\n",
       "      <td>0.0</td>\n",
       "      <td>0.269948</td>\n",
       "      <td>0.0</td>\n",
       "      <td>0.0</td>\n",
       "      <td>0.0</td>\n",
       "      <td>0.0</td>\n",
       "      <td>0</td>\n",
       "      <td>0</td>\n",
       "    </tr>\n",
       "  </tbody>\n",
       "</table>\n",
       "<p>1 rows × 82 columns</p>\n",
       "</div>"
      ],
      "text/plain": [
       "           f_0  f_1   f_2    f_3   f_4    f_5   f_6    f_7    f_8    f_9  ...  \\\n",
       "2596150  64505   58  3346  22294  6767  25604  5040  27941  19203  31372  ...   \n",
       "\n",
       "             f_72  f_73  f_74      f_75  f_76  f_77  f_78  f_79  is_clicked  \\\n",
       "2596150  0.571121   0.0   0.0  0.269948   0.0   0.0   0.0   0.0           0   \n",
       "\n",
       "         is_installed  \n",
       "2596150             0  \n",
       "\n",
       "[1 rows x 82 columns]"
      ]
     },
     "execution_count": 11,
     "metadata": {},
     "output_type": "execute_result"
    }
   ],
   "source": [
    "train_data[train_data['f_0'] == 64505]"
   ]
  },
  {
   "cell_type": "code",
   "execution_count": 12,
   "metadata": {},
   "outputs": [
    {
     "data": {
      "text/html": [
       "<div>\n",
       "<style scoped>\n",
       "    .dataframe tbody tr th:only-of-type {\n",
       "        vertical-align: middle;\n",
       "    }\n",
       "\n",
       "    .dataframe tbody tr th {\n",
       "        vertical-align: top;\n",
       "    }\n",
       "\n",
       "    .dataframe thead th {\n",
       "        text-align: right;\n",
       "    }\n",
       "</style>\n",
       "<table border=\"1\" class=\"dataframe\">\n",
       "  <thead>\n",
       "    <tr style=\"text-align: right;\">\n",
       "      <th></th>\n",
       "      <th>f_0</th>\n",
       "      <th>f_1</th>\n",
       "      <th>f_2</th>\n",
       "      <th>f_3</th>\n",
       "      <th>f_4</th>\n",
       "      <th>f_5</th>\n",
       "      <th>f_6</th>\n",
       "      <th>f_7</th>\n",
       "      <th>f_8</th>\n",
       "      <th>f_9</th>\n",
       "      <th>...</th>\n",
       "      <th>f_70</th>\n",
       "      <th>f_71</th>\n",
       "      <th>f_72</th>\n",
       "      <th>f_73</th>\n",
       "      <th>f_74</th>\n",
       "      <th>f_75</th>\n",
       "      <th>f_76</th>\n",
       "      <th>f_77</th>\n",
       "      <th>f_78</th>\n",
       "      <th>f_79</th>\n",
       "    </tr>\n",
       "  </thead>\n",
       "  <tbody>\n",
       "    <tr>\n",
       "      <th>0</th>\n",
       "      <td>64505</td>\n",
       "      <td>67</td>\n",
       "      <td>26325</td>\n",
       "      <td>7152</td>\n",
       "      <td>21563</td>\n",
       "      <td>19475</td>\n",
       "      <td>31440</td>\n",
       "      <td>27941</td>\n",
       "      <td>21621</td>\n",
       "      <td>14659</td>\n",
       "      <td>...</td>\n",
       "      <td>1.519085</td>\n",
       "      <td>0.0</td>\n",
       "      <td>0.0</td>\n",
       "      <td>0.0</td>\n",
       "      <td>0.0</td>\n",
       "      <td>0.0</td>\n",
       "      <td>0.0</td>\n",
       "      <td>0.0</td>\n",
       "      <td>0.0</td>\n",
       "      <td>0.0</td>\n",
       "    </tr>\n",
       "  </tbody>\n",
       "</table>\n",
       "<p>1 rows × 80 columns</p>\n",
       "</div>"
      ],
      "text/plain": [
       "     f_0  f_1    f_2   f_3    f_4    f_5    f_6    f_7    f_8    f_9  ...  \\\n",
       "0  64505   67  26325  7152  21563  19475  31440  27941  21621  14659  ...   \n",
       "\n",
       "       f_70  f_71  f_72  f_73  f_74  f_75  f_76  f_77  f_78  f_79  \n",
       "0  1.519085   0.0   0.0   0.0   0.0   0.0   0.0   0.0   0.0   0.0  \n",
       "\n",
       "[1 rows x 80 columns]"
      ]
     },
     "execution_count": 12,
     "metadata": {},
     "output_type": "execute_result"
    }
   ],
   "source": [
    "test_data[test_data['f_0'] == 64505]"
   ]
  },
  {
   "cell_type": "code",
   "execution_count": 13,
   "metadata": {},
   "outputs": [
    {
     "data": {
      "text/html": [
       "<div>\n",
       "<style scoped>\n",
       "    .dataframe tbody tr th:only-of-type {\n",
       "        vertical-align: middle;\n",
       "    }\n",
       "\n",
       "    .dataframe tbody tr th {\n",
       "        vertical-align: top;\n",
       "    }\n",
       "\n",
       "    .dataframe thead th {\n",
       "        text-align: right;\n",
       "    }\n",
       "</style>\n",
       "<table border=\"1\" class=\"dataframe\">\n",
       "  <thead>\n",
       "    <tr style=\"text-align: right;\">\n",
       "      <th></th>\n",
       "      <th>f_0</th>\n",
       "      <th>f_1</th>\n",
       "      <th>f_2</th>\n",
       "      <th>f_3</th>\n",
       "      <th>f_4</th>\n",
       "      <th>f_5</th>\n",
       "      <th>f_6</th>\n",
       "      <th>f_7</th>\n",
       "      <th>f_8</th>\n",
       "      <th>f_9</th>\n",
       "      <th>...</th>\n",
       "      <th>f_72</th>\n",
       "      <th>f_73</th>\n",
       "      <th>f_74</th>\n",
       "      <th>f_75</th>\n",
       "      <th>f_76</th>\n",
       "      <th>f_77</th>\n",
       "      <th>f_78</th>\n",
       "      <th>f_79</th>\n",
       "      <th>is_clicked</th>\n",
       "      <th>is_installed</th>\n",
       "    </tr>\n",
       "  </thead>\n",
       "  <tbody>\n",
       "    <tr>\n",
       "      <th>0</th>\n",
       "      <td>2541188</td>\n",
       "      <td>12</td>\n",
       "      <td>114</td>\n",
       "      <td>4</td>\n",
       "      <td>191</td>\n",
       "      <td>4</td>\n",
       "      <td>155</td>\n",
       "      <td>0</td>\n",
       "      <td>1</td>\n",
       "      <td>4</td>\n",
       "      <td>...</td>\n",
       "      <td>2.855607</td>\n",
       "      <td>2.284486</td>\n",
       "      <td>0.115692</td>\n",
       "      <td>1.156922</td>\n",
       "      <td>0.269948</td>\n",
       "      <td>0.0</td>\n",
       "      <td>0.0</td>\n",
       "      <td>0.0</td>\n",
       "      <td>0.0</td>\n",
       "      <td>0.0</td>\n",
       "    </tr>\n",
       "    <tr>\n",
       "      <th>1</th>\n",
       "      <td>2541440</td>\n",
       "      <td>15</td>\n",
       "      <td>21</td>\n",
       "      <td>4</td>\n",
       "      <td>390</td>\n",
       "      <td>3</td>\n",
       "      <td>559</td>\n",
       "      <td>0</td>\n",
       "      <td>2</td>\n",
       "      <td>3</td>\n",
       "      <td>...</td>\n",
       "      <td>0.000000</td>\n",
       "      <td>0.000000</td>\n",
       "      <td>0.000000</td>\n",
       "      <td>1.156922</td>\n",
       "      <td>0.269948</td>\n",
       "      <td>0.0</td>\n",
       "      <td>0.0</td>\n",
       "      <td>0.0</td>\n",
       "      <td>0.0</td>\n",
       "      <td>0.0</td>\n",
       "    </tr>\n",
       "    <tr>\n",
       "      <th>2</th>\n",
       "      <td>2541480</td>\n",
       "      <td>20</td>\n",
       "      <td>131</td>\n",
       "      <td>4</td>\n",
       "      <td>228</td>\n",
       "      <td>3</td>\n",
       "      <td>3261</td>\n",
       "      <td>0</td>\n",
       "      <td>1</td>\n",
       "      <td>6</td>\n",
       "      <td>...</td>\n",
       "      <td>0.571121</td>\n",
       "      <td>0.000000</td>\n",
       "      <td>0.000000</td>\n",
       "      <td>1.156922</td>\n",
       "      <td>0.269948</td>\n",
       "      <td>0.0</td>\n",
       "      <td>0.0</td>\n",
       "      <td>0.0</td>\n",
       "      <td>1.0</td>\n",
       "      <td>0.0</td>\n",
       "    </tr>\n",
       "    <tr>\n",
       "      <th>3</th>\n",
       "      <td>2541780</td>\n",
       "      <td>18</td>\n",
       "      <td>73</td>\n",
       "      <td>2</td>\n",
       "      <td>317</td>\n",
       "      <td>3</td>\n",
       "      <td>3843</td>\n",
       "      <td>0</td>\n",
       "      <td>2</td>\n",
       "      <td>0</td>\n",
       "      <td>...</td>\n",
       "      <td>0.000000</td>\n",
       "      <td>0.000000</td>\n",
       "      <td>0.000000</td>\n",
       "      <td>0.347077</td>\n",
       "      <td>0.000000</td>\n",
       "      <td>0.0</td>\n",
       "      <td>0.0</td>\n",
       "      <td>0.0</td>\n",
       "      <td>0.0</td>\n",
       "      <td>0.0</td>\n",
       "    </tr>\n",
       "    <tr>\n",
       "      <th>4</th>\n",
       "      <td>2541833</td>\n",
       "      <td>15</td>\n",
       "      <td>44</td>\n",
       "      <td>4</td>\n",
       "      <td>519</td>\n",
       "      <td>3</td>\n",
       "      <td>5179</td>\n",
       "      <td>0</td>\n",
       "      <td>4</td>\n",
       "      <td>3</td>\n",
       "      <td>...</td>\n",
       "      <td>0.000000</td>\n",
       "      <td>0.000000</td>\n",
       "      <td>0.115692</td>\n",
       "      <td>1.156922</td>\n",
       "      <td>0.269948</td>\n",
       "      <td>0.0</td>\n",
       "      <td>0.0</td>\n",
       "      <td>0.0</td>\n",
       "      <td>0.0</td>\n",
       "      <td>0.0</td>\n",
       "    </tr>\n",
       "  </tbody>\n",
       "</table>\n",
       "<p>5 rows × 82 columns</p>\n",
       "</div>"
      ],
      "text/plain": [
       "       f_0  f_1  f_2  f_3  f_4  f_5   f_6  f_7  f_8  f_9  ...      f_72  \\\n",
       "0  2541188   12  114    4  191    4   155    0    1    4  ...  2.855607   \n",
       "1  2541440   15   21    4  390    3   559    0    2    3  ...  0.000000   \n",
       "2  2541480   20  131    4  228    3  3261    0    1    6  ...  0.571121   \n",
       "3  2541780   18   73    2  317    3  3843    0    2    0  ...  0.000000   \n",
       "4  2541833   15   44    4  519    3  5179    0    4    3  ...  0.000000   \n",
       "\n",
       "       f_73      f_74      f_75      f_76  f_77  f_78  f_79  is_clicked  \\\n",
       "0  2.284486  0.115692  1.156922  0.269948   0.0   0.0   0.0         0.0   \n",
       "1  0.000000  0.000000  1.156922  0.269948   0.0   0.0   0.0         0.0   \n",
       "2  0.000000  0.000000  1.156922  0.269948   0.0   0.0   0.0         1.0   \n",
       "3  0.000000  0.000000  0.347077  0.000000   0.0   0.0   0.0         0.0   \n",
       "4  0.000000  0.115692  1.156922  0.269948   0.0   0.0   0.0         0.0   \n",
       "\n",
       "   is_installed  \n",
       "0           0.0  \n",
       "1           0.0  \n",
       "2           0.0  \n",
       "3           0.0  \n",
       "4           0.0  \n",
       "\n",
       "[5 rows x 82 columns]"
      ]
     },
     "execution_count": 13,
     "metadata": {},
     "output_type": "execute_result"
    }
   ],
   "source": [
    "data.head()"
   ]
  },
  {
   "cell_type": "code",
   "execution_count": 14,
   "metadata": {},
   "outputs": [],
   "source": [
    "# zero_ratio = zero_ratio.sort_values(ascending=False)\n",
    "# zero_ratio.apply(lambda x: round(x, 5))\n",
    "# zero_ratio.to_csv('./output/zero.csv')"
   ]
  },
  {
   "cell_type": "code",
   "execution_count": 15,
   "metadata": {},
   "outputs": [],
   "source": [
    "# for i in tqdm(range(len(num_features)), total=len(num_features)):\n",
    "#     for j in range(i + 1, len(num_features)):\n",
    "#         data[f'{num_features[i]}+{num_features[j]}'] = data[num_features[i]] + data[num_features[j]]\n",
    "#         data[f'{num_features[i]}-{num_features[j]}'] = data[num_features[i]] - data[num_features[j]]\n",
    "#         data[f'{num_features[i]}*{num_features[j]}'] = data[num_features[i]] * data[num_features[j]]\n",
    "#         data[f'{num_features[i]}/{num_features[j]}'] = data[num_features[i]] / (data[num_features[j]] + 1e-7)\n",
    "# data.shape "
   ]
  },
  {
   "cell_type": "code",
   "execution_count": 16,
   "metadata": {},
   "outputs": [
    {
     "name": "stderr",
     "output_type": "stream",
     "text": [
      "100%|██████████| 9/9 [00:07<00:00,  1.26it/s]\n"
     ]
    },
    {
     "data": {
      "text/plain": [
       "(3646825, 190)"
      ]
     },
     "execution_count": 16,
     "metadata": {},
     "output_type": "execute_result"
    }
   ],
   "source": [
    "for i in tqdm(range(len(bin_features)), total=len(bin_features)):\n",
    "    for j in range(i + 1, len(bin_features)):\n",
    "        data[f'{bin_features[i]}and{bin_features[j]}'] = data[bin_features[i]] & data[bin_features[j]]\n",
    "        data[f'{bin_features[i]}or{bin_features[j]}'] = data[bin_features[i]] | data[bin_features[j]]\n",
    "        data[f'{bin_features[i]}xor{bin_features[j]}'] = data[bin_features[i]] ^ data[bin_features[j]]\n",
    "data.shape "
   ]
  },
  {
   "cell_type": "code",
   "execution_count": 17,
   "metadata": {},
   "outputs": [],
   "source": [
    "# np.save('data/data_aug.npy', data)"
   ]
  },
  {
   "cell_type": "code",
   "execution_count": 50,
   "metadata": {},
   "outputs": [
    {
     "data": {
      "text/plain": [
       "187"
      ]
     },
     "execution_count": 50,
     "metadata": {},
     "output_type": "execute_result"
    }
   ],
   "source": [
    "features = [fe for fe in data.columns if fe not in ['is_clicked', 'is_installed', 'f_0', 'label']]\n",
    "len(features)"
   ]
  },
  {
   "cell_type": "code",
   "execution_count": 19,
   "metadata": {},
   "outputs": [
    {
     "data": {
      "text/plain": [
       "((3485852, 190), (160973, 190), (3485852,), (3485852,))"
      ]
     },
     "execution_count": 19,
     "metadata": {},
     "output_type": "execute_result"
    }
   ],
   "source": [
    "train = data[~data['is_clicked'].isna()]\n",
    "test = data[data['is_clicked'].isna()]\n",
    "is_clicked_label = train['is_clicked'].astype('int')\n",
    "is_installed_label = train['is_installed'].astype('int')\n",
    "\n",
    "train.shape, test.shape, is_clicked_label.shape, is_installed_label.shape "
   ]
  },
  {
   "cell_type": "code",
   "execution_count": 20,
   "metadata": {},
   "outputs": [],
   "source": [
    "seed = 42\n",
    "K = 5"
   ]
  },
  {
   "cell_type": "code",
   "execution_count": 21,
   "metadata": {},
   "outputs": [],
   "source": [
    "lgb_params = {\n",
    "    'objective': 'binary',\n",
    "    'boosting_type': 'gbdt',\n",
    "    # 'metric': 'binary_logloss',  # auc??\n",
    "    'metric': 'binary_logloss',\n",
    "    'learning_rate': 0.05,\n",
    "    'num_leaves': 2 ** 6,\n",
    "    'max_depth': 8,\n",
    "    'tree_learner': 'serial',\n",
    "    'colsample_bytree': 0.8,\n",
    "    'subsample_freq': 1,\n",
    "    'subsample': 0.8,\n",
    "    'num_boost_round': 3000,\n",
    "    'max_bin': 255,\n",
    "    'verbose': -1,\n",
    "    'nthread' : -1,\n",
    "    'seed': seed,\n",
    "    'bagging_seed': seed,\n",
    "    'feature_fraction_seed': seed,\n",
    "    'early_stopping_rounds': 100,\n",
    "    # 'device': 'gpu',  # 设置使用 GPU 加速\n",
    "    # 'gpu_platform_id': 0,  # 设置 GPU 平台 id\n",
    "    # 'gpu_device_id': 0  # 设置 GPU 设备 id\n",
    "}"
   ]
  },
  {
   "attachments": {},
   "cell_type": "markdown",
   "metadata": {},
   "source": [
    "is_clicked"
   ]
  },
  {
   "cell_type": "code",
   "execution_count": 21,
   "metadata": {},
   "outputs": [],
   "source": [
    "label = is_clicked_label"
   ]
  },
  {
   "cell_type": "code",
   "execution_count": 14,
   "metadata": {},
   "outputs": [
    {
     "name": "stdout",
     "output_type": "stream",
     "text": [
      "79\n",
      "fold n°0\n",
      "[LightGBM] [Warning] num_threads is set with nthread=-1, will be overridden by n_jobs=30. Current value: num_threads=30\n",
      "Training until validation scores don't improve for 100 rounds\n",
      "[300]\ttraining's binary_logloss: 0.326966\tvalid_1's binary_logloss: 0.327212\n",
      "[600]\ttraining's binary_logloss: 0.315277\tvalid_1's binary_logloss: 0.317277\n",
      "[900]\ttraining's binary_logloss: 0.310265\tvalid_1's binary_logloss: 0.314412\n",
      "[1200]\ttraining's binary_logloss: 0.306852\tvalid_1's binary_logloss: 0.313149\n",
      "[1500]\ttraining's binary_logloss: 0.303901\tvalid_1's binary_logloss: 0.312309\n",
      "[1800]\ttraining's binary_logloss: 0.301191\tvalid_1's binary_logloss: 0.31171\n",
      "[2100]\ttraining's binary_logloss: 0.298683\tvalid_1's binary_logloss: 0.311242\n",
      "[2400]\ttraining's binary_logloss: 0.296324\tvalid_1's binary_logloss: 0.310938\n",
      "[2700]\ttraining's binary_logloss: 0.294051\tvalid_1's binary_logloss: 0.310649\n",
      "[3000]\ttraining's binary_logloss: 0.291819\tvalid_1's binary_logloss: 0.310385\n",
      "Did not meet early stopping. Best iteration is:\n",
      "[3000]\ttraining's binary_logloss: 0.291819\tvalid_1's binary_logloss: 0.310385\n",
      "fold n°1\n",
      "[LightGBM] [Warning] num_threads is set with nthread=-1, will be overridden by n_jobs=30. Current value: num_threads=30\n",
      "Training until validation scores don't improve for 100 rounds\n",
      "[300]\ttraining's binary_logloss: 0.326883\tvalid_1's binary_logloss: 0.327904\n",
      "[600]\ttraining's binary_logloss: 0.315222\tvalid_1's binary_logloss: 0.318123\n",
      "[900]\ttraining's binary_logloss: 0.310445\tvalid_1's binary_logloss: 0.315557\n",
      "[1200]\ttraining's binary_logloss: 0.306951\tvalid_1's binary_logloss: 0.314234\n",
      "[1500]\ttraining's binary_logloss: 0.303764\tvalid_1's binary_logloss: 0.313161\n",
      "[1800]\ttraining's binary_logloss: 0.300896\tvalid_1's binary_logloss: 0.312371\n",
      "[2100]\ttraining's binary_logloss: 0.298385\tvalid_1's binary_logloss: 0.311927\n",
      "[2400]\ttraining's binary_logloss: 0.296008\tvalid_1's binary_logloss: 0.311596\n",
      "[2700]\ttraining's binary_logloss: 0.293771\tvalid_1's binary_logloss: 0.311374\n",
      "[3000]\ttraining's binary_logloss: 0.291622\tvalid_1's binary_logloss: 0.31118\n",
      "Did not meet early stopping. Best iteration is:\n",
      "[3000]\ttraining's binary_logloss: 0.291622\tvalid_1's binary_logloss: 0.31118\n",
      "fold n°2\n",
      "[LightGBM] [Warning] num_threads is set with nthread=-1, will be overridden by n_jobs=30. Current value: num_threads=30\n",
      "Training until validation scores don't improve for 100 rounds\n",
      "[300]\ttraining's binary_logloss: 0.326832\tvalid_1's binary_logloss: 0.329352\n",
      "[600]\ttraining's binary_logloss: 0.314756\tvalid_1's binary_logloss: 0.31898\n",
      "[900]\ttraining's binary_logloss: 0.309872\tvalid_1's binary_logloss: 0.316182\n",
      "[1200]\ttraining's binary_logloss: 0.306538\tvalid_1's binary_logloss: 0.315046\n",
      "[1500]\ttraining's binary_logloss: 0.30357\tvalid_1's binary_logloss: 0.314219\n",
      "[1800]\ttraining's binary_logloss: 0.300829\tvalid_1's binary_logloss: 0.313534\n",
      "[2100]\ttraining's binary_logloss: 0.298297\tvalid_1's binary_logloss: 0.313067\n",
      "[2400]\ttraining's binary_logloss: 0.295964\tvalid_1's binary_logloss: 0.312725\n",
      "[2700]\ttraining's binary_logloss: 0.293694\tvalid_1's binary_logloss: 0.312439\n",
      "[3000]\ttraining's binary_logloss: 0.291561\tvalid_1's binary_logloss: 0.312276\n",
      "Did not meet early stopping. Best iteration is:\n",
      "[3000]\ttraining's binary_logloss: 0.291561\tvalid_1's binary_logloss: 0.312276\n",
      "fold n°3\n",
      "[LightGBM] [Warning] num_threads is set with nthread=-1, will be overridden by n_jobs=30. Current value: num_threads=30\n",
      "Training until validation scores don't improve for 100 rounds\n",
      "[300]\ttraining's binary_logloss: 0.327028\tvalid_1's binary_logloss: 0.328726\n",
      "[600]\ttraining's binary_logloss: 0.315402\tvalid_1's binary_logloss: 0.318808\n",
      "[900]\ttraining's binary_logloss: 0.310348\tvalid_1's binary_logloss: 0.315885\n",
      "[1200]\ttraining's binary_logloss: 0.30672\tvalid_1's binary_logloss: 0.314353\n",
      "[1500]\ttraining's binary_logloss: 0.303747\tvalid_1's binary_logloss: 0.31354\n",
      "[1800]\ttraining's binary_logloss: 0.300979\tvalid_1's binary_logloss: 0.312842\n",
      "[2100]\ttraining's binary_logloss: 0.298463\tvalid_1's binary_logloss: 0.312376\n",
      "[2400]\ttraining's binary_logloss: 0.296078\tvalid_1's binary_logloss: 0.312016\n",
      "[2700]\ttraining's binary_logloss: 0.293851\tvalid_1's binary_logloss: 0.3118\n",
      "[3000]\ttraining's binary_logloss: 0.291649\tvalid_1's binary_logloss: 0.3116\n",
      "Did not meet early stopping. Best iteration is:\n",
      "[3000]\ttraining's binary_logloss: 0.291649\tvalid_1's binary_logloss: 0.3116\n",
      "fold n°4\n",
      "[LightGBM] [Warning] num_threads is set with nthread=-1, will be overridden by n_jobs=30. Current value: num_threads=30\n",
      "Training until validation scores don't improve for 100 rounds\n",
      "[300]\ttraining's binary_logloss: 0.327614\tvalid_1's binary_logloss: 0.327973\n",
      "[600]\ttraining's binary_logloss: 0.315696\tvalid_1's binary_logloss: 0.317889\n",
      "[900]\ttraining's binary_logloss: 0.310531\tvalid_1's binary_logloss: 0.314896\n",
      "[1200]\ttraining's binary_logloss: 0.306931\tvalid_1's binary_logloss: 0.313455\n",
      "[1500]\ttraining's binary_logloss: 0.304053\tvalid_1's binary_logloss: 0.31268\n",
      "[1800]\ttraining's binary_logloss: 0.301361\tvalid_1's binary_logloss: 0.312101\n",
      "[2100]\ttraining's binary_logloss: 0.298925\tvalid_1's binary_logloss: 0.311753\n",
      "[2400]\ttraining's binary_logloss: 0.296599\tvalid_1's binary_logloss: 0.311437\n",
      "[2700]\ttraining's binary_logloss: 0.294364\tvalid_1's binary_logloss: 0.311216\n",
      "[3000]\ttraining's binary_logloss: 0.292083\tvalid_1's binary_logloss: 0.310869\n",
      "Did not meet early stopping. Best iteration is:\n",
      "[3000]\ttraining's binary_logloss: 0.292083\tvalid_1's binary_logloss: 0.310869\n"
     ]
    }
   ],
   "source": [
    "label = is_clicked_label\n",
    "\n",
    "KF = StratifiedKFold(n_splits=K, random_state=seed, shuffle=True)\n",
    "feat_imp_lgb_cli = list()\n",
    "\n",
    "oof_lgb_cli = np.zeros(len(train))\n",
    "predictions_lgb_cli = np.zeros((len(test)))\n",
    "print(len(features))\n",
    "\n",
    "# 模型训练\n",
    "for fold_, (trn_idx, val_idx) in enumerate(KF.split(train.values, label.values)):\n",
    "    print(\"fold n°{}\".format(fold_))\n",
    "    trn_data = lgb.Dataset(train.iloc[trn_idx][features], label=label.iloc[trn_idx])\n",
    "    val_data = lgb.Dataset(train.iloc[val_idx][features], label=label.iloc[val_idx])\n",
    "    \n",
    "    num_round = 3000\n",
    "    clf = lgb.train(\n",
    "        lgb_params,\n",
    "        trn_data,\n",
    "        num_round,\n",
    "        valid_sets=[trn_data, val_data],\n",
    "        verbose_eval=300,\n",
    "        early_stopping_rounds=100,\n",
    "    )\n",
    "\n",
    "    oof_lgb_cli[val_idx] = clf.predict(train.iloc[val_idx][features], num_iteration=clf.best_iteration)\n",
    "    predictions_lgb_cli[:] += clf.predict(test[features], num_iteration=clf.best_iteration) / K\n",
    "    feat_imp_lgb_cli.append(clf.feature_importance())"
   ]
  },
  {
   "cell_type": "code",
   "execution_count": 15,
   "metadata": {},
   "outputs": [
    {
     "name": "stdout",
     "output_type": "stream",
     "text": [
      "Logloss: 4.0459, 0.3113, AUC: 0.8730, Precision: 0.8972, Recall: 0.5276, F1 Score: 0.6644\n"
     ]
    }
   ],
   "source": [
    "logloss = metrics.log_loss(label, [1 if i >= 0.5 else 0 for i in oof_lgb_cli], labels=[0, 1])\n",
    "logloss2 = metrics.log_loss(label, oof_lgb_cli)\n",
    "\n",
    "acc = metrics.roc_auc_score(label, oof_lgb_cli)\n",
    "precision = metrics.precision_score(label, [1 if i >= 0.5 else 0 for i in oof_lgb_cli])\n",
    "recall = metrics.recall_score(label, [1 if i >= 0.5 else 0 for i in oof_lgb_cli])\n",
    "f1 = metrics.f1_score(label, [1 if i >= 0.5 else 0 for i in oof_lgb_cli])\n",
    "\n",
    "print(f\"Logloss: {logloss:.4f}, {logloss2:.4f}, AUC: {acc:.4f}, Precision: {precision:.4f}, Recall: {recall:.4f}, F1 Score: {f1:.4f}\")"
   ]
  },
  {
   "cell_type": "code",
   "execution_count": 21,
   "metadata": {},
   "outputs": [
    {
     "data": {
      "text/plain": [
       "count       79.000000\n",
       "mean      2390.579747\n",
       "std       2535.470191\n",
       "min          0.000000\n",
       "25%        309.900000\n",
       "50%       1537.000000\n",
       "75%       3903.800000\n",
       "max      10211.200000\n",
       "dtype: float64"
      ]
     },
     "execution_count": 21,
     "metadata": {},
     "output_type": "execute_result"
    }
   ],
   "source": [
    "avg_imp_cli = pd.DataFrame(feat_imp_lgb_cli, columns = features).apply(np.mean, axis = 0).sort_values(ascending=False)\n",
    "avg_imp_cli.describe()"
   ]
  },
  {
   "cell_type": "code",
   "execution_count": 22,
   "metadata": {},
   "outputs": [
    {
     "data": {
      "text/plain": [
       "f_4     10211.2\n",
       "f_11     9546.8\n",
       "f_15     9148.8\n",
       "f_42     8856.2\n",
       "f_6      8218.0\n",
       "         ...   \n",
       "f_29        0.0\n",
       "f_7         0.0\n",
       "f_28        0.0\n",
       "f_27        0.0\n",
       "f_26        0.0\n",
       "Length: 79, dtype: float64"
      ]
     },
     "execution_count": 22,
     "metadata": {},
     "output_type": "execute_result"
    }
   ],
   "source": [
    "avg_imp_cli"
   ]
  },
  {
   "attachments": {},
   "cell_type": "markdown",
   "metadata": {},
   "source": [
    "# is_installed"
   ]
  },
  {
   "cell_type": "code",
   "execution_count": 22,
   "metadata": {},
   "outputs": [],
   "source": [
    "label = is_installed_label"
   ]
  },
  {
   "attachments": {},
   "cell_type": "markdown",
   "metadata": {},
   "source": [
    "lightgbm"
   ]
  },
  {
   "cell_type": "code",
   "execution_count": 23,
   "metadata": {},
   "outputs": [],
   "source": [
    "lgb_params = {\n",
    "    'objective': 'binary',\n",
    "    'boosting_type': 'gbdt',\n",
    "    # 'metric': 'binary_logloss',  # auc??\n",
    "    'metric': 'binary_logloss',\n",
    "    'learning_rate': 0.05,\n",
    "    'num_leaves': 2 ** 6,\n",
    "    'max_depth': 8,\n",
    "    'tree_learner': 'serial',\n",
    "    'colsample_bytree': 0.8,\n",
    "    'subsample_freq': 1,\n",
    "    'subsample': 0.8,\n",
    "    'num_boost_round': 3000,\n",
    "    'max_bin': 255,\n",
    "    'verbose': -1,\n",
    "    'nthread' : -1,\n",
    "    'seed': seed,\n",
    "    'bagging_seed': seed,\n",
    "    'feature_fraction_seed': seed,\n",
    "    'early_stopping_rounds': 100,\n",
    "    # 'device': 'gpu',  # 设置使用 GPU 加速\n",
    "    # 'gpu_platform_id': 0,  # 设置 GPU 平台 id\n",
    "    # 'gpu_device_id': 0  # 设置 GPU 设备 id\n",
    "}"
   ]
  },
  {
   "cell_type": "code",
   "execution_count": 47,
   "metadata": {},
   "outputs": [],
   "source": [
    "features = select_fea_lgb"
   ]
  },
  {
   "cell_type": "code",
   "execution_count": 40,
   "metadata": {},
   "outputs": [
    {
     "name": "stdout",
     "output_type": "stream",
     "text": [
      "47\n",
      "fold n°0\n",
      "Training until validation scores don't improve for 100 rounds\n",
      "[300]\ttraining's binary_logloss: 0.299985\tvalid_1's binary_logloss: 0.301787\n",
      "[600]\ttraining's binary_logloss: 0.292702\tvalid_1's binary_logloss: 0.296652\n",
      "[900]\ttraining's binary_logloss: 0.288584\tvalid_1's binary_logloss: 0.294806\n",
      "[1200]\ttraining's binary_logloss: 0.285077\tvalid_1's binary_logloss: 0.293522\n",
      "[1500]\ttraining's binary_logloss: 0.282213\tvalid_1's binary_logloss: 0.292923\n",
      "[1800]\ttraining's binary_logloss: 0.279532\tvalid_1's binary_logloss: 0.292407\n",
      "[2100]\ttraining's binary_logloss: 0.276983\tvalid_1's binary_logloss: 0.291961\n",
      "[2400]\ttraining's binary_logloss: 0.274677\tvalid_1's binary_logloss: 0.291711\n",
      "[2700]\ttraining's binary_logloss: 0.272387\tvalid_1's binary_logloss: 0.291442\n",
      "[3000]\ttraining's binary_logloss: 0.270185\tvalid_1's binary_logloss: 0.291234\n",
      "Did not meet early stopping. Best iteration is:\n",
      "[3000]\ttraining's binary_logloss: 0.270185\tvalid_1's binary_logloss: 0.291234\n",
      "fold n°1\n",
      "Training until validation scores don't improve for 100 rounds\n",
      "[300]\ttraining's binary_logloss: 0.300521\tvalid_1's binary_logloss: 0.301998\n",
      "[600]\ttraining's binary_logloss: 0.293136\tvalid_1's binary_logloss: 0.296751\n",
      "[900]\ttraining's binary_logloss: 0.28881\tvalid_1's binary_logloss: 0.294697\n",
      "[1200]\ttraining's binary_logloss: 0.285265\tvalid_1's binary_logloss: 0.293364\n",
      "[1500]\ttraining's binary_logloss: 0.2823\tvalid_1's binary_logloss: 0.292601\n",
      "[1800]\ttraining's binary_logloss: 0.279673\tvalid_1's binary_logloss: 0.292113\n",
      "[2100]\ttraining's binary_logloss: 0.277186\tvalid_1's binary_logloss: 0.291728\n",
      "[2400]\ttraining's binary_logloss: 0.27479\tvalid_1's binary_logloss: 0.291384\n",
      "[2700]\ttraining's binary_logloss: 0.272523\tvalid_1's binary_logloss: 0.291152\n",
      "[3000]\ttraining's binary_logloss: 0.270382\tvalid_1's binary_logloss: 0.291005\n",
      "Did not meet early stopping. Best iteration is:\n",
      "[3000]\ttraining's binary_logloss: 0.270382\tvalid_1's binary_logloss: 0.291005\n",
      "fold n°2\n",
      "Training until validation scores don't improve for 100 rounds\n",
      "[300]\ttraining's binary_logloss: 0.299733\tvalid_1's binary_logloss: 0.301955\n",
      "[600]\ttraining's binary_logloss: 0.292379\tvalid_1's binary_logloss: 0.296718\n",
      "[900]\ttraining's binary_logloss: 0.288165\tvalid_1's binary_logloss: 0.294827\n",
      "[1200]\ttraining's binary_logloss: 0.284901\tvalid_1's binary_logloss: 0.293884\n",
      "[1500]\ttraining's binary_logloss: 0.281895\tvalid_1's binary_logloss: 0.293121\n",
      "[1800]\ttraining's binary_logloss: 0.279235\tvalid_1's binary_logloss: 0.292594\n",
      "[2100]\ttraining's binary_logloss: 0.27675\tvalid_1's binary_logloss: 0.292218\n",
      "[2400]\ttraining's binary_logloss: 0.274376\tvalid_1's binary_logloss: 0.291877\n",
      "[2700]\ttraining's binary_logloss: 0.272128\tvalid_1's binary_logloss: 0.29166\n",
      "[3000]\ttraining's binary_logloss: 0.269984\tvalid_1's binary_logloss: 0.291503\n",
      "Did not meet early stopping. Best iteration is:\n",
      "[3000]\ttraining's binary_logloss: 0.269984\tvalid_1's binary_logloss: 0.291503\n",
      "fold n°3\n",
      "Training until validation scores don't improve for 100 rounds\n",
      "[300]\ttraining's binary_logloss: 0.300274\tvalid_1's binary_logloss: 0.302124\n",
      "[600]\ttraining's binary_logloss: 0.292894\tvalid_1's binary_logloss: 0.296921\n",
      "[900]\ttraining's binary_logloss: 0.288523\tvalid_1's binary_logloss: 0.294825\n",
      "[1200]\ttraining's binary_logloss: 0.285092\tvalid_1's binary_logloss: 0.293625\n",
      "[1500]\ttraining's binary_logloss: 0.282151\tvalid_1's binary_logloss: 0.292915\n",
      "[1800]\ttraining's binary_logloss: 0.27948\tvalid_1's binary_logloss: 0.292409\n",
      "[2100]\ttraining's binary_logloss: 0.276983\tvalid_1's binary_logloss: 0.292043\n",
      "[2400]\ttraining's binary_logloss: 0.274561\tvalid_1's binary_logloss: 0.291715\n",
      "[2700]\ttraining's binary_logloss: 0.272284\tvalid_1's binary_logloss: 0.291503\n",
      "[3000]\ttraining's binary_logloss: 0.270114\tvalid_1's binary_logloss: 0.291339\n",
      "Did not meet early stopping. Best iteration is:\n",
      "[3000]\ttraining's binary_logloss: 0.270114\tvalid_1's binary_logloss: 0.291339\n",
      "fold n°4\n",
      "Training until validation scores don't improve for 100 rounds\n",
      "[300]\ttraining's binary_logloss: 0.300086\tvalid_1's binary_logloss: 0.302377\n",
      "[600]\ttraining's binary_logloss: 0.292604\tvalid_1's binary_logloss: 0.297074\n",
      "[900]\ttraining's binary_logloss: 0.288456\tvalid_1's binary_logloss: 0.295252\n",
      "[1200]\ttraining's binary_logloss: 0.285038\tvalid_1's binary_logloss: 0.294079\n",
      "[1500]\ttraining's binary_logloss: 0.28202\tvalid_1's binary_logloss: 0.293251\n",
      "[1800]\ttraining's binary_logloss: 0.279307\tvalid_1's binary_logloss: 0.29268\n",
      "[2100]\ttraining's binary_logloss: 0.276819\tvalid_1's binary_logloss: 0.292291\n",
      "[2400]\ttraining's binary_logloss: 0.274446\tvalid_1's binary_logloss: 0.291971\n",
      "[2700]\ttraining's binary_logloss: 0.272167\tvalid_1's binary_logloss: 0.291716\n",
      "[3000]\ttraining's binary_logloss: 0.269986\tvalid_1's binary_logloss: 0.291516\n",
      "Did not meet early stopping. Best iteration is:\n",
      "[3000]\ttraining's binary_logloss: 0.269986\tvalid_1's binary_logloss: 0.291516\n"
     ]
    }
   ],
   "source": [
    "label = is_installed_label\n",
    "\n",
    "KF = StratifiedKFold(n_splits=K, random_state=seed, shuffle=True)\n",
    "feat_imp_lgb_ins = list()\n",
    "\n",
    "oof_lgb_ins = np.zeros(len(train))\n",
    "predictions_lgb_ins = np.zeros((len(test)))\n",
    "print(len(features))\n",
    "\n",
    "# 模型训练\n",
    "for fold_, (trn_idx, val_idx) in enumerate(KF.split(train.values, label.values)):\n",
    "    print(\"fold n°{}\".format(fold_))\n",
    "    trn_data = lgb.Dataset(train.iloc[trn_idx][features], label=label.iloc[trn_idx])\n",
    "    val_data = lgb.Dataset(train.iloc[val_idx][features], label=label.iloc[val_idx])\n",
    "    \n",
    "    num_round = 3000\n",
    "    clf = lgb.train(\n",
    "        lgb_params,\n",
    "        trn_data,\n",
    "        num_round,\n",
    "        valid_sets=[trn_data, val_data],\n",
    "        verbose_eval=300,\n",
    "        early_stopping_rounds=100,\n",
    "    )\n",
    "\n",
    "    oof_lgb_ins[val_idx] = clf.predict(train.iloc[val_idx][features], num_iteration=clf.best_iteration)\n",
    "    predictions_lgb_ins[:] += clf.predict(test[features], num_iteration=clf.best_iteration) / K\n",
    "    feat_imp_lgb_ins.append(clf.feature_importance())"
   ]
  },
  {
   "cell_type": "code",
   "execution_count": 41,
   "metadata": {},
   "outputs": [
    {
     "name": "stdout",
     "output_type": "stream",
     "text": [
      "Logloss: 0.2913, AUC: 0.8828, Precision: 0.7907, Recall: 0.3871, F1 Score: 0.5198\n"
     ]
    }
   ],
   "source": [
    "# logloss = metrics.log_loss(label, [1 if i >= 0.5 else 0 for i in oof_lgb_ins], labels=[0, 1])\n",
    "logloss = metrics.log_loss(label, oof_lgb_ins)\n",
    "acc = metrics.roc_auc_score(label, oof_lgb_ins)\n",
    "precision = metrics.precision_score(label, [1 if i >= 0.5 else 0 for i in oof_lgb_ins])\n",
    "recall = metrics.recall_score(label, [1 if i >= 0.5 else 0 for i in oof_lgb_ins])\n",
    "f1 = metrics.f1_score(label, [1 if i >= 0.5 else 0 for i in oof_lgb_ins])\n",
    "\n",
    "print(f\"Logloss: {logloss:.4f}, AUC: {acc:.4f}, Precision: {precision:.4f}, Recall: {recall:.4f}, F1 Score: {f1:.4f}\")"
   ]
  },
  {
   "cell_type": "code",
   "execution_count": 48,
   "metadata": {},
   "outputs": [],
   "source": [
    "submission = pd.DataFrame()\n",
    "submission[\"RowId\"] = test_data[\"f_0\"]\n",
    "submission[\"is_clicked\"] = np.random.random((test_data.shape[0]))\n",
    "submission[\"is_installed\"] = predictions_lgb_ins\n",
    "submission.to_csv('./output/lgb_42_sep_train_logloss_float_{}.csv'.format(len(features)), index=False, sep='\\t')"
   ]
  },
  {
   "cell_type": "code",
   "execution_count": 32,
   "metadata": {},
   "outputs": [
    {
     "data": {
      "text/plain": [
       "count     187.000000\n",
       "mean     1009.800000\n",
       "std      1891.954907\n",
       "min         0.000000\n",
       "25%        26.700000\n",
       "50%       116.800000\n",
       "75%       710.000000\n",
       "max      9124.000000\n",
       "dtype: float64"
      ]
     },
     "execution_count": 32,
     "metadata": {},
     "output_type": "execute_result"
    }
   ],
   "source": [
    "avg_imp_lgb_ins = pd.DataFrame(feat_imp_lgb_ins, columns = features).apply(np.mean, axis = 0).sort_values(ascending=False)\n",
    "avg_imp_lgb_ins.describe()"
   ]
  },
  {
   "cell_type": "code",
   "execution_count": 34,
   "metadata": {},
   "outputs": [
    {
     "name": "stdout",
     "output_type": "stream",
     "text": [
      "47\n",
      "['f_15', 'f_42', 'f_11', 'f_6', 'f_4', 'f_57', 'f_1', 'f_59', 'f_58', 'f_61', 'f_62', 'f_51', 'f_67', 'f_55', 'f_65', 'f_17', 'f_64', 'f_2', 'f_63', 'f_56', 'f_70', 'f_14', 'f_43', 'f_12', 'f_54', 'f_13', 'f_18', 'f_66', 'f_9', 'f_72', 'f_16', 'f_8', 'f_5', 'f_20', 'f_68', 'f_52', 'f_69', 'f_75', 'f_10', 'f_53', 'f_19', 'f_32', 'f_21', 'f_73', 'f_50', 'f_3', 'f_60']\n"
     ]
    }
   ],
   "source": [
    "select_fea_lgb = []\n",
    "for i in range(len(avg_imp_lgb_ins)):\n",
    "    if avg_imp_lgb_ins.iloc[i] >= 710.000000:\n",
    "        select_fea_lgb.append(avg_imp_lgb_ins.index[i])\n",
    "print(len(select_fea_lgb))\n",
    "print(select_fea_lgb)"
   ]
  },
  {
   "attachments": {},
   "cell_type": "markdown",
   "metadata": {},
   "source": [
    "xgboost"
   ]
  },
  {
   "cell_type": "code",
   "execution_count": 29,
   "metadata": {},
   "outputs": [],
   "source": [
    "xgb_params = {\n",
    "    'objective': 'binary:logistic',\n",
    "    'eval_metric': 'logloss',\n",
    "    'random_state': seed,\n",
    "    'tree_method': 'hist',\n",
    "    'booster': 'gbtree',\n",
    "    'n_estimators': 1000, \n",
    "    'learning_rate': 0.1,\n",
    "    'max_depth': 6,\n",
    "    'min_child_weight': 12, \n",
    "    'subsample': 0.8,\n",
    "    'colsample_bytree': 1.0, \n",
    "    'alpha': 0.7,\n",
    "    'lambda': 0.1, \n",
    "    'gamma': 0.1, \n",
    "    \"nthread\": -1\n",
    "}"
   ]
  },
  {
   "cell_type": "code",
   "execution_count": 49,
   "metadata": {},
   "outputs": [],
   "source": [
    "xgb_params = {\n",
    "    'booster': 'gbtree',\n",
    "    'objective': 'binary:logistic',\n",
    "    'eval_metric': 'logloss',\n",
    "    'gamma': 1,\n",
    "    'min_child_weight': 1.5,\n",
    "    'max_depth': 6,\n",
    "    'lambda': 10,\n",
    "    'subsample': 0.7,\n",
    "    'colsample_bytree': 0.7,\n",
    "    'colsample_bylevel': 0.7,\n",
    "    'eta': 0.05,\n",
    "    'tree_method': 'exact',\n",
    "    'seed': seed,\n",
    "    'nthread': -1\n",
    "}"
   ]
  },
  {
   "cell_type": "code",
   "execution_count": 56,
   "metadata": {},
   "outputs": [],
   "source": [
    "features = select_fea_xgb"
   ]
  },
  {
   "cell_type": "code",
   "execution_count": 57,
   "metadata": {},
   "outputs": [
    {
     "name": "stdout",
     "output_type": "stream",
     "text": [
      "47\n",
      "fold n°0\n",
      "[0]\ttrain-logloss:0.66535\tval-logloss:0.66536\n",
      "[300]\ttrain-logloss:0.30814\tval-logloss:0.30950\n",
      "[600]\ttrain-logloss:0.29964\tval-logloss:0.30223\n",
      "[900]\ttrain-logloss:0.29477\tval-logloss:0.29851\n",
      "[1200]\ttrain-logloss:0.29182\tval-logloss:0.29666\n",
      "[1500]\ttrain-logloss:0.28944\tval-logloss:0.29542\n",
      "[1800]\ttrain-logloss:0.28727\tval-logloss:0.29438\n",
      "[2100]\ttrain-logloss:0.28551\tval-logloss:0.29376\n",
      "[2400]\ttrain-logloss:0.28391\tval-logloss:0.29330\n",
      "[2700]\ttrain-logloss:0.28239\tval-logloss:0.29288\n",
      "[2999]\ttrain-logloss:0.28098\tval-logloss:0.29254\n",
      "fold n°1\n",
      "[0]\ttrain-logloss:0.66537\tval-logloss:0.66536\n",
      "[300]\ttrain-logloss:0.30798\tval-logloss:0.30885\n",
      "[600]\ttrain-logloss:0.29930\tval-logloss:0.30136\n",
      "[900]\ttrain-logloss:0.29476\tval-logloss:0.29799\n",
      "[1200]\ttrain-logloss:0.29173\tval-logloss:0.29613\n",
      "[1500]\ttrain-logloss:0.28937\tval-logloss:0.29490\n",
      "[1800]\ttrain-logloss:0.28736\tval-logloss:0.29405\n",
      "[2100]\ttrain-logloss:0.28564\tval-logloss:0.29346\n",
      "[2400]\ttrain-logloss:0.28404\tval-logloss:0.29295\n",
      "[2700]\ttrain-logloss:0.28254\tval-logloss:0.29257\n",
      "[2999]\ttrain-logloss:0.28115\tval-logloss:0.29225\n",
      "fold n°2\n",
      "[0]\ttrain-logloss:0.66535\tval-logloss:0.66536\n",
      "[300]\ttrain-logloss:0.30757\tval-logloss:0.30929\n",
      "[600]\ttrain-logloss:0.29915\tval-logloss:0.30218\n",
      "[900]\ttrain-logloss:0.29425\tval-logloss:0.29846\n",
      "[1200]\ttrain-logloss:0.29134\tval-logloss:0.29671\n",
      "[1500]\ttrain-logloss:0.28913\tval-logloss:0.29565\n",
      "[1800]\ttrain-logloss:0.28713\tval-logloss:0.29481\n",
      "[2100]\ttrain-logloss:0.28538\tval-logloss:0.29419\n",
      "[2400]\ttrain-logloss:0.28385\tval-logloss:0.29379\n",
      "[2700]\ttrain-logloss:0.28238\tval-logloss:0.29344\n",
      "[2999]\ttrain-logloss:0.28089\tval-logloss:0.29308\n",
      "fold n°3\n",
      "[0]\ttrain-logloss:0.66537\tval-logloss:0.66537\n",
      "[300]\ttrain-logloss:0.30755\tval-logloss:0.30885\n",
      "[600]\ttrain-logloss:0.29916\tval-logloss:0.30173\n",
      "[900]\ttrain-logloss:0.29466\tval-logloss:0.29836\n",
      "[1200]\ttrain-logloss:0.29150\tval-logloss:0.29636\n",
      "[1500]\ttrain-logloss:0.28929\tval-logloss:0.29528\n",
      "[1800]\ttrain-logloss:0.28734\tval-logloss:0.29450\n",
      "[2100]\ttrain-logloss:0.28552\tval-logloss:0.29380\n",
      "[2400]\ttrain-logloss:0.28393\tval-logloss:0.29333\n",
      "[2700]\ttrain-logloss:0.28246\tval-logloss:0.29298\n",
      "[2999]\ttrain-logloss:0.28107\tval-logloss:0.29268\n",
      "fold n°4\n",
      "[0]\ttrain-logloss:0.66535\tval-logloss:0.66535\n",
      "[300]\ttrain-logloss:0.30740\tval-logloss:0.30903\n",
      "[600]\ttrain-logloss:0.29921\tval-logloss:0.30223\n",
      "[900]\ttrain-logloss:0.29462\tval-logloss:0.29879\n",
      "[1200]\ttrain-logloss:0.29153\tval-logloss:0.29685\n",
      "[1500]\ttrain-logloss:0.28912\tval-logloss:0.29561\n",
      "[1800]\ttrain-logloss:0.28720\tval-logloss:0.29484\n",
      "[2100]\ttrain-logloss:0.28547\tval-logloss:0.29425\n",
      "[2400]\ttrain-logloss:0.28381\tval-logloss:0.29368\n",
      "[2700]\ttrain-logloss:0.28231\tval-logloss:0.29333\n",
      "[2999]\ttrain-logloss:0.28091\tval-logloss:0.29300\n"
     ]
    }
   ],
   "source": [
    "label = is_installed_label\n",
    "\n",
    "KF = StratifiedKFold(n_splits=K, random_state=seed, shuffle=True)\n",
    "feat_imp_xgb_ins = list()\n",
    "\n",
    "oof_xgb_ins = np.zeros(len(train))\n",
    "predictions_xgb_ins = np.zeros((len(test)))\n",
    "print(len(features))\n",
    "\n",
    "# 模型训练\n",
    "for fold_, (trn_idx, val_idx) in enumerate(KF.split(train.values, label.values)):\n",
    "    print(\"fold n°{}\".format(fold_))\n",
    "    X_train, X_val = train.iloc[trn_idx][features], train.iloc[val_idx][features]\n",
    "    y_train, y_val = label.iloc[trn_idx], label.iloc[val_idx]\n",
    "    trn_data = xgb.DMatrix(X_train, label=y_train)\n",
    "    val_data = xgb.DMatrix(X_val, label=y_val)\n",
    "\n",
    "    num_round = 3000\n",
    "    clf = xgb.train(\n",
    "        xgb_params,\n",
    "        trn_data,\n",
    "        num_round,\n",
    "        evals = [(trn_data, 'train'), (val_data, 'val')],\n",
    "        verbose_eval=300,\n",
    "        early_stopping_rounds=100,\n",
    "    )\n",
    "\n",
    "    oof_xgb_ins[val_idx] = clf.predict(val_data, iteration_range=(0, clf.best_iteration))\n",
    "    predictions_xgb_ins[:] += clf.predict(xgb.DMatrix(test[features]), iteration_range=(0, clf.best_iteration)) / K\n",
    "    feat_imp_xgb_ins.append(clf.get_score())"
   ]
  },
  {
   "cell_type": "code",
   "execution_count": 58,
   "metadata": {},
   "outputs": [
    {
     "name": "stdout",
     "output_type": "stream",
     "text": [
      "Logloss: 0.2927, AUC: 0.8815, Precision: 0.7903, Recall: 0.3808, F1 Score: 0.5139\n"
     ]
    }
   ],
   "source": [
    "# logloss = metrics.log_loss(label, [1 if i >= 0.5 else 0 for i in oof_xgb_ins], labels=[0, 1])\n",
    "logloss = metrics.log_loss(label, oof_xgb_ins)\n",
    "acc = metrics.roc_auc_score(label, oof_xgb_ins)\n",
    "precision = metrics.precision_score(label, [1 if i >= 0.5 else 0 for i in oof_xgb_ins])\n",
    "recall = metrics.recall_score(label, [1 if i >= 0.5 else 0 for i in oof_xgb_ins])\n",
    "f1 = metrics.f1_score(label, [1 if i >= 0.5 else 0 for i in oof_xgb_ins])\n",
    "\n",
    "print(f\"Logloss: {logloss:.4f}, AUC: {acc:.4f}, Precision: {precision:.4f}, Recall: {recall:.4f}, F1 Score: {f1:.4f}\")"
   ]
  },
  {
   "cell_type": "code",
   "execution_count": 59,
   "metadata": {},
   "outputs": [],
   "source": [
    "submission = pd.DataFrame()\n",
    "submission[\"RowId\"] = test_data[\"f_0\"]\n",
    "submission[\"is_clicked\"] = np.random.random((test_data.shape[0]))\n",
    "submission[\"is_installed\"] = predictions_xgb_ins\n",
    "submission.to_csv('./output/xgb_42_sep_train_logloss_float_{}_newparam.csv'.format(len(features)), index=False, sep='\\t')"
   ]
  },
  {
   "cell_type": "code",
   "execution_count": 54,
   "metadata": {},
   "outputs": [
    {
     "data": {
      "text/plain": [
       "count     185.000000\n",
       "mean      889.575946\n",
       "std      1665.954152\n",
       "min         1.000000\n",
       "25%        33.800000\n",
       "50%       107.200000\n",
       "75%       558.600000\n",
       "max      8048.200000\n",
       "dtype: float64"
      ]
     },
     "execution_count": 54,
     "metadata": {},
     "output_type": "execute_result"
    }
   ],
   "source": [
    "avg_imp_xgb_ins = pd.DataFrame(feat_imp_xgb_ins, columns = features).apply(np.mean, axis = 0).sort_values(ascending=False)\n",
    "avg_imp_xgb_ins.describe()"
   ]
  },
  {
   "cell_type": "code",
   "execution_count": 55,
   "metadata": {},
   "outputs": [
    {
     "name": "stdout",
     "output_type": "stream",
     "text": [
      "47\n",
      "['f_6', 'f_15', 'f_4', 'f_11', 'f_42', 'f_59', 'f_58', 'f_1', 'f_57', 'f_51', 'f_67', 'f_65', 'f_2', 'f_61', 'f_64', 'f_17', 'f_43', 'f_55', 'f_70', 'f_62', 'f_12', 'f_66', 'f_14', 'f_56', 'f_63', 'f_54', 'f_13', 'f_9', 'f_16', 'f_18', 'f_72', 'f_68', 'f_20', 'f_69', 'f_5', 'f_8', 'f_52', 'f_10', 'f_19', 'f_75', 'f_53', 'f_21', 'f_32', 'f_73', 'f_50', 'f_3', 'f_22']\n"
     ]
    }
   ],
   "source": [
    "select_fea_xgb = []\n",
    "for i in range(len(avg_imp_xgb_ins)):\n",
    "    if avg_imp_xgb_ins.iloc[i] >= 558.600000:\n",
    "        select_fea_xgb.append(avg_imp_xgb_ins.index[i])\n",
    "print(len(select_fea_xgb))\n",
    "print(select_fea_xgb)"
   ]
  },
  {
   "attachments": {},
   "cell_type": "markdown",
   "metadata": {},
   "source": [
    "catboost"
   ]
  },
  {
   "cell_type": "code",
   "execution_count": 1,
   "metadata": {},
   "outputs": [
    {
     "ename": "NameError",
     "evalue": "name 'seed' is not defined",
     "output_type": "error",
     "traceback": [
      "\u001b[0;31m---------------------------------------------------------------------------\u001b[0m",
      "\u001b[0;31mNameError\u001b[0m                                 Traceback (most recent call last)",
      "Cell \u001b[0;32mIn[1], line 2\u001b[0m\n\u001b[1;32m      1\u001b[0m cbc_params \u001b[39m=\u001b[39m {\n\u001b[0;32m----> 2\u001b[0m     \u001b[39m'\u001b[39m\u001b[39mrandom_state\u001b[39m\u001b[39m'\u001b[39m: seed,\n\u001b[1;32m      3\u001b[0m     \u001b[39m'\u001b[39m\u001b[39mloss_function\u001b[39m\u001b[39m'\u001b[39m: \u001b[39m'\u001b[39m\u001b[39mLogloss\u001b[39m\u001b[39m'\u001b[39m,\n\u001b[1;32m      4\u001b[0m     \u001b[39m'\u001b[39m\u001b[39meval_metric\u001b[39m\u001b[39m'\u001b[39m: \u001b[39m'\u001b[39m\u001b[39mLogloss\u001b[39m\u001b[39m'\u001b[39m,\n\u001b[1;32m      5\u001b[0m     \u001b[39m'\u001b[39m\u001b[39mverbose\u001b[39m\u001b[39m'\u001b[39m: \u001b[39mFalse\u001b[39;00m,\n\u001b[1;32m      6\u001b[0m     \u001b[39m'\u001b[39m\u001b[39mlearning_rate\u001b[39m\u001b[39m'\u001b[39m: \u001b[39m0.05\u001b[39m,\n\u001b[1;32m      7\u001b[0m     \u001b[39m'\u001b[39m\u001b[39mdepth\u001b[39m\u001b[39m'\u001b[39m: \u001b[39m5\u001b[39m,\n\u001b[1;32m      8\u001b[0m     \u001b[39m'\u001b[39m\u001b[39mrsm\u001b[39m\u001b[39m'\u001b[39m: \u001b[39m0.2020238568794654\u001b[39m,\n\u001b[1;32m      9\u001b[0m     \u001b[39m# 'min_data_in_leaf': 255,\u001b[39;00m\n\u001b[1;32m     10\u001b[0m     \u001b[39m# 'l2_leaf_reg': 5,\u001b[39;00m\n\u001b[1;32m     11\u001b[0m     \u001b[39m# 'subsample': 0.7,\u001b[39;00m\n\u001b[1;32m     12\u001b[0m     \u001b[39m# 'use_best_model': True,\u001b[39;00m\n\u001b[1;32m     13\u001b[0m     \u001b[39m# 'max_leaves': 12,\u001b[39;00m\n\u001b[1;32m     14\u001b[0m     \u001b[39m# 'metric_period': 500,\u001b[39;00m\n\u001b[1;32m     15\u001b[0m     \u001b[39m'\u001b[39m\u001b[39mn_estimators\u001b[39m\u001b[39m'\u001b[39m: \u001b[39m3000\u001b[39m,\n\u001b[1;32m     16\u001b[0m     \u001b[39m'\u001b[39m\u001b[39mthread_count\u001b[39m\u001b[39m'\u001b[39m: \u001b[39m-\u001b[39m\u001b[39m1\u001b[39m\n\u001b[1;32m     17\u001b[0m }\n",
      "\u001b[0;31mNameError\u001b[0m: name 'seed' is not defined"
     ]
    }
   ],
   "source": [
    "cbc_params = {\n",
    "    'random_state': seed,\n",
    "    'loss_function': 'Logloss',\n",
    "    'eval_metric': 'Logloss',\n",
    "    'verbose': False,\n",
    "    'learning_rate': 0.05,\n",
    "    'depth': 5,\n",
    "    'rsm': 0.2020238568794654,\n",
    "    # 'min_data_in_leaf': 255,\n",
    "    # 'l2_leaf_reg': 5,\n",
    "    # 'subsample': 0.7,\n",
    "    # 'use_best_model': True,\n",
    "    # 'max_leaves': 12,\n",
    "    # 'metric_period': 500,\n",
    "    'n_estimators': 3000,\n",
    "    'thread_count': -1\n",
    "}"
   ]
  },
  {
   "cell_type": "code",
   "execution_count": 34,
   "metadata": {},
   "outputs": [
    {
     "name": "stdout",
     "output_type": "stream",
     "text": [
      "187\n",
      "fold n°0\n",
      "0:\tlearn: 0.6518833\ttest: 0.6519134\tbest: 0.6519134 (0)\ttotal: 1.32s\tremaining: 1h 5m 57s\n",
      "300:\tlearn: 0.3011266\ttest: 0.3001282\tbest: 0.3001282 (300)\ttotal: 5m 22s\tremaining: 48m 12s\n",
      "600:\tlearn: 0.2941942\ttest: 0.2932665\tbest: 0.2932665 (600)\ttotal: 11m 1s\tremaining: 43m 59s\n",
      "900:\tlearn: 0.2917912\ttest: 0.2909749\tbest: 0.2909749 (900)\ttotal: 16m 22s\tremaining: 38m 9s\n",
      "1200:\tlearn: 0.2905211\ttest: 0.2898701\tbest: 0.2898701 (1200)\ttotal: 21m 39s\tremaining: 32m 26s\n",
      "1500:\tlearn: 0.2896025\ttest: 0.2890990\tbest: 0.2890990 (1500)\ttotal: 27m 6s\tremaining: 27m 4s\n",
      "1800:\tlearn: 0.2888962\ttest: 0.2885484\tbest: 0.2885484 (1800)\ttotal: 33m 2s\tremaining: 21m 59s\n",
      "2100:\tlearn: 0.2883509\ttest: 0.2881566\tbest: 0.2881566 (2100)\ttotal: 38m 27s\tremaining: 16m 27s\n",
      "2400:\tlearn: 0.2878651\ttest: 0.2878228\tbest: 0.2878228 (2400)\ttotal: 44m 18s\tremaining: 11m 3s\n",
      "2700:\tlearn: 0.2874165\ttest: 0.2875148\tbest: 0.2875148 (2700)\ttotal: 50m 10s\tremaining: 5m 33s\n",
      "2999:\tlearn: 0.2870400\ttest: 0.2872734\tbest: 0.2872734 (2998)\ttotal: 56m 7s\tremaining: 0us\n",
      "\n",
      "bestTest = 0.2872733536\n",
      "bestIteration = 2998\n",
      "\n",
      "Shrink model to first 2999 iterations.\n",
      "fold n°1\n",
      "0:\tlearn: 0.6501523\ttest: 0.6500740\tbest: 0.6500740 (0)\ttotal: 1.18s\tremaining: 58m 51s\n",
      "300:\tlearn: 0.3004276\ttest: 0.2993214\tbest: 0.2993214 (300)\ttotal: 5m 12s\tremaining: 46m 45s\n",
      "600:\tlearn: 0.2940049\ttest: 0.2927648\tbest: 0.2927648 (600)\ttotal: 10m 45s\tremaining: 42m 55s\n",
      "900:\tlearn: 0.2918272\ttest: 0.2906572\tbest: 0.2906572 (900)\ttotal: 15m 58s\tremaining: 37m 12s\n",
      "1200:\tlearn: 0.2905051\ttest: 0.2894686\tbest: 0.2894686 (1200)\ttotal: 21m 27s\tremaining: 32m 8s\n",
      "1500:\tlearn: 0.2896333\ttest: 0.2887325\tbest: 0.2887325 (1500)\ttotal: 26m 59s\tremaining: 26m 57s\n",
      "1800:\tlearn: 0.2889666\ttest: 0.2882321\tbest: 0.2882321 (1800)\ttotal: 32m 27s\tremaining: 21m 36s\n",
      "2100:\tlearn: 0.2884032\ttest: 0.2878209\tbest: 0.2878209 (2100)\ttotal: 37m 51s\tremaining: 16m 11s\n",
      "2400:\tlearn: 0.2879279\ttest: 0.2875034\tbest: 0.2875034 (2400)\ttotal: 43m 19s\tremaining: 10m 48s\n",
      "2700:\tlearn: 0.2874790\ttest: 0.2872032\tbest: 0.2872032 (2700)\ttotal: 48m 51s\tremaining: 5m 24s\n",
      "2999:\tlearn: 0.2870786\ttest: 0.2869421\tbest: 0.2869421 (2998)\ttotal: 54m 28s\tremaining: 0us\n",
      "\n",
      "bestTest = 0.2869420735\n",
      "bestIteration = 2998\n",
      "\n",
      "Shrink model to first 2999 iterations.\n",
      "fold n°2\n"
     ]
    },
    {
     "ename": "",
     "evalue": "",
     "output_type": "error",
     "traceback": [
      "\u001b[1;31mCanceled future for execute_request message before replies were done"
     ]
    },
    {
     "ename": "",
     "evalue": "",
     "output_type": "error",
     "traceback": [
      "\u001b[1;31mThe Kernel crashed while executing code in the the current cell or a previous cell. Please review the code in the cell(s) to identify a possible cause of the failure. Click <a href='https://aka.ms/vscodeJupyterKernelCrash'>here</a> for more info. View Jupyter <a href='command:jupyter.viewOutput'>log</a> for further details."
     ]
    }
   ],
   "source": [
    "KF = StratifiedKFold(n_splits=K, random_state=seed, shuffle=True)\n",
    "feat_imp_cbc_ins = list()\n",
    "\n",
    "oof_cbc_ins = np.zeros(len(train))\n",
    "predictions_cbc_ins = np.zeros((len(test)))\n",
    "print(len(features))\n",
    "\n",
    "model = CatBoostClassifier(**cbc_params)\n",
    "\n",
    "# 模型训练\n",
    "for fold_, (trn_idx, val_idx) in enumerate(KF.split(train.values, label.values)):\n",
    "    print(\"fold n°{}\".format(fold_))\n",
    "\n",
    "    X_train, X_val = train.iloc[trn_idx][features], train.iloc[val_idx][features]\n",
    "    y_train, y_val = label.iloc[trn_idx], label.iloc[val_idx]\n",
    "    \n",
    "    model.fit(X_train, y_train, eval_set=(X_val, y_val), \n",
    "              cat_features=cat_features,\n",
    "              early_stopping_rounds=100, verbose=300, use_best_model=True)\n",
    "\n",
    "    oof_cbc_ins[val_idx] += (model.predict_proba(X_val)[:, 1])\n",
    "    predictions_cbc_ins += (model.predict_proba(test[features])[:, 1]) / K\n",
    "    feat_imp_cbc_ins.append(model.feature_importances_)"
   ]
  },
  {
   "cell_type": "code",
   "execution_count": null,
   "metadata": {},
   "outputs": [
    {
     "ename": "NameError",
     "evalue": "name 'metrics' is not defined",
     "output_type": "error",
     "traceback": [
      "\u001b[0;31m---------------------------------------------------------------------------\u001b[0m",
      "\u001b[0;31mNameError\u001b[0m                                 Traceback (most recent call last)",
      "\u001b[0;32m<ipython-input-2-496ac91738ff>\u001b[0m in \u001b[0;36m<module>\u001b[0;34m\u001b[0m\n\u001b[0;32m----> 1\u001b[0;31m \u001b[0mlogloss\u001b[0m \u001b[0;34m=\u001b[0m \u001b[0mmetrics\u001b[0m\u001b[0;34m.\u001b[0m\u001b[0mlog_loss\u001b[0m\u001b[0;34m(\u001b[0m\u001b[0mlabel\u001b[0m\u001b[0;34m,\u001b[0m \u001b[0;34m[\u001b[0m\u001b[0;36m1\u001b[0m \u001b[0;32mif\u001b[0m \u001b[0mi\u001b[0m \u001b[0;34m>=\u001b[0m \u001b[0;36m0.5\u001b[0m \u001b[0;32melse\u001b[0m \u001b[0;36m0\u001b[0m \u001b[0;32mfor\u001b[0m \u001b[0mi\u001b[0m \u001b[0;32min\u001b[0m \u001b[0moof_cbc_ins\u001b[0m\u001b[0;34m]\u001b[0m\u001b[0;34m,\u001b[0m \u001b[0mlabels\u001b[0m\u001b[0;34m=\u001b[0m\u001b[0;34m[\u001b[0m\u001b[0;36m0\u001b[0m\u001b[0;34m,\u001b[0m \u001b[0;36m1\u001b[0m\u001b[0;34m]\u001b[0m\u001b[0;34m)\u001b[0m\u001b[0;34m\u001b[0m\u001b[0;34m\u001b[0m\u001b[0m\n\u001b[0m\u001b[1;32m      2\u001b[0m \u001b[0mlogloss2\u001b[0m \u001b[0;34m=\u001b[0m \u001b[0mmetrics\u001b[0m\u001b[0;34m.\u001b[0m\u001b[0mlog_loss\u001b[0m\u001b[0;34m(\u001b[0m\u001b[0mlabel\u001b[0m\u001b[0;34m,\u001b[0m \u001b[0moof_cbc_ins\u001b[0m\u001b[0;34m)\u001b[0m\u001b[0;34m\u001b[0m\u001b[0;34m\u001b[0m\u001b[0m\n\u001b[1;32m      3\u001b[0m \u001b[0macc\u001b[0m \u001b[0;34m=\u001b[0m \u001b[0mmetrics\u001b[0m\u001b[0;34m.\u001b[0m\u001b[0mroc_auc_score\u001b[0m\u001b[0;34m(\u001b[0m\u001b[0mlabel\u001b[0m\u001b[0;34m,\u001b[0m \u001b[0moof_cbc_ins\u001b[0m\u001b[0;34m)\u001b[0m\u001b[0;34m\u001b[0m\u001b[0;34m\u001b[0m\u001b[0m\n\u001b[1;32m      4\u001b[0m \u001b[0mprecision\u001b[0m \u001b[0;34m=\u001b[0m \u001b[0mmetrics\u001b[0m\u001b[0;34m.\u001b[0m\u001b[0mprecision_score\u001b[0m\u001b[0;34m(\u001b[0m\u001b[0mlabel\u001b[0m\u001b[0;34m,\u001b[0m \u001b[0;34m[\u001b[0m\u001b[0;36m1\u001b[0m \u001b[0;32mif\u001b[0m \u001b[0mi\u001b[0m \u001b[0;34m>=\u001b[0m \u001b[0;36m0.5\u001b[0m \u001b[0;32melse\u001b[0m \u001b[0;36m0\u001b[0m \u001b[0;32mfor\u001b[0m \u001b[0mi\u001b[0m \u001b[0;32min\u001b[0m \u001b[0moof_cbc_ins\u001b[0m\u001b[0;34m]\u001b[0m\u001b[0;34m)\u001b[0m\u001b[0;34m\u001b[0m\u001b[0;34m\u001b[0m\u001b[0m\n\u001b[1;32m      5\u001b[0m \u001b[0mrecall\u001b[0m \u001b[0;34m=\u001b[0m \u001b[0mmetrics\u001b[0m\u001b[0;34m.\u001b[0m\u001b[0mrecall_score\u001b[0m\u001b[0;34m(\u001b[0m\u001b[0mlabel\u001b[0m\u001b[0;34m,\u001b[0m \u001b[0;34m[\u001b[0m\u001b[0;36m1\u001b[0m \u001b[0;32mif\u001b[0m \u001b[0mi\u001b[0m \u001b[0;34m>=\u001b[0m \u001b[0;36m0.5\u001b[0m \u001b[0;32melse\u001b[0m \u001b[0;36m0\u001b[0m \u001b[0;32mfor\u001b[0m \u001b[0mi\u001b[0m \u001b[0;32min\u001b[0m \u001b[0moof_cbc_ins\u001b[0m\u001b[0;34m]\u001b[0m\u001b[0;34m)\u001b[0m\u001b[0;34m\u001b[0m\u001b[0;34m\u001b[0m\u001b[0m\n",
      "\u001b[0;31mNameError\u001b[0m: name 'metrics' is not defined"
     ]
    }
   ],
   "source": [
    "# logloss = metrics.log_loss(label, [1 if i >= 0.5 else 0 for i in oof_cbc_ins], labels=[0, 1])\n",
    "logloss = metrics.log_loss(label, oof_cbc_ins)\n",
    "acc = metrics.roc_auc_score(label, oof_cbc_ins)\n",
    "precision = metrics.precision_score(label, [1 if i >= 0.5 else 0 for i in oof_cbc_ins])\n",
    "recall = metrics.recall_score(label, [1 if i >= 0.5 else 0 for i in oof_cbc_ins])\n",
    "f1 = metrics.f1_score(label, [1 if i >= 0.5 else 0 for i in oof_cbc_ins])\n",
    "\n",
    "print(f\"Logloss: {logloss:.4f}, AUC: {acc:.4f}, Precision: {precision:.4f}, Recall: {recall:.4f}, F1 Score: {f1:.4f}\")"
   ]
  },
  {
   "cell_type": "code",
   "execution_count": null,
   "metadata": {},
   "outputs": [],
   "source": [
    "submission = pd.DataFrame()\n",
    "submission[\"RowId\"] = test_data[\"f_0\"]\n",
    "submission[\"is_clicked\"] = np.random.random((test_data.shape[0]))\n",
    "submission[\"is_installed\"] = predictions_cbc_ins\n",
    "submission.to_csv('./output/cbc_42_sep_train_logloss_float_{}.csv'.format(len(features)), index=False, sep='\\t')"
   ]
  },
  {
   "cell_type": "code",
   "execution_count": null,
   "metadata": {},
   "outputs": [],
   "source": [
    "avg_imp_cbc_ins = pd.DataFrame(feat_imp_cbc_ins, columns = features).apply(np.mean, axis = 0).sort_values(ascending=False)\n",
    "avg_imp_cbc_ins.describe()"
   ]
  },
  {
   "cell_type": "code",
   "execution_count": null,
   "metadata": {},
   "outputs": [],
   "source": [
    "select_fea_cbc = []\n",
    "for i in range(len(avg_imp_cbc_ins)):\n",
    "    if avg_imp_cbc_ins.iloc[i] >= 1068.650000:\n",
    "        select_fea_cbc.append(avg_imp_cbc_ins.index[i])\n",
    "print(len(select_fea_cbc))\n",
    "print(select_fea_cbc)"
   ]
  },
  {
   "attachments": {},
   "cell_type": "markdown",
   "metadata": {},
   "source": [
    "# 模型融合"
   ]
  },
  {
   "cell_type": "code",
   "execution_count": 38,
   "metadata": {},
   "outputs": [],
   "source": [
    "file_list = ['xgb_42_sep_train_logloss_float', 'cbc_42_sep_train_logloss_float', 'lgb_42_sep_train_logloss_float']\n",
    "weight_list = [1, 2, 3]\n",
    "res_list = []\n",
    "for file in file_list:\n",
    "    res_list.append(pd.read_csv('./output/{}.csv'.format(file), sep='\\t')['is_installed'].values)"
   ]
  },
  {
   "cell_type": "code",
   "execution_count": 44,
   "metadata": {},
   "outputs": [],
   "source": [
    "res_wei = 0\n",
    "for i, res_ in enumerate(res_list):\n",
    "    res_wei += res_ * weight_list[i]\n",
    "res_wei /= sum(weight_list)"
   ]
  },
  {
   "cell_type": "code",
   "execution_count": 45,
   "metadata": {},
   "outputs": [
    {
     "data": {
      "text/plain": [
       "[array([0.35779583, 0.67529753, 0.05848108, ..., 0.02568051, 0.11943987,\n",
       "        0.1113366 ]),\n",
       " array([0.34246523, 0.49886412, 0.12743884, ..., 0.20235799, 0.24234735,\n",
       "        0.1216858 ]),\n",
       " array([0.35230845, 0.45921298, 0.08272543, ..., 0.02216217, 0.14859903,\n",
       "        0.06889433])]"
      ]
     },
     "execution_count": 45,
     "metadata": {},
     "output_type": "execute_result"
    }
   ],
   "source": [
    "res_list"
   ]
  },
  {
   "cell_type": "code",
   "execution_count": 46,
   "metadata": {},
   "outputs": [
    {
     "data": {
      "text/plain": [
       "array([0.34994194, 0.50844412, 0.09358917, ..., 0.08281383, 0.17498861,\n",
       "       0.0935652 ])"
      ]
     },
     "execution_count": 46,
     "metadata": {},
     "output_type": "execute_result"
    }
   ],
   "source": [
    "res_wei"
   ]
  },
  {
   "cell_type": "code",
   "execution_count": 47,
   "metadata": {},
   "outputs": [],
   "source": [
    "submission = pd.DataFrame()\n",
    "submission[\"RowId\"] = test_data[\"f_0\"]\n",
    "submission[\"is_clicked\"] = np.random.random((test_data.shape[0]))\n",
    "submission[\"is_installed\"] = res_wei\n",
    "submission.to_csv('./output/xgb_lgb_cbc_1_2_3.csv', index=False, sep='\\t')"
   ]
  },
  {
   "attachments": {},
   "cell_type": "markdown",
   "metadata": {},
   "source": [
    "# 输出"
   ]
  },
  {
   "cell_type": "code",
   "execution_count": 26,
   "metadata": {},
   "outputs": [
    {
     "data": {
      "text/plain": [
       "42"
      ]
     },
     "execution_count": 26,
     "metadata": {},
     "output_type": "execute_result"
    }
   ],
   "source": [
    "seed"
   ]
  },
  {
   "cell_type": "code",
   "execution_count": 33,
   "metadata": {},
   "outputs": [],
   "source": [
    "submission = pd.DataFrame()\n",
    "submission[\"RowId\"] = test_data[\"f_0\"]\n",
    "submission[\"is_clicked\"] = np.random.random((test_data.shape[0]))\n",
    "submission[\"is_installed\"] = predictions_cbc_ins\n",
    "submission.to_csv('./output/cbc_42_sep_train_logloss_float.csv', index=False, sep='\\t')"
   ]
  },
  {
   "cell_type": "code",
   "execution_count": 24,
   "metadata": {},
   "outputs": [],
   "source": [
    "submission = pd.DataFrame()\n",
    "submission[\"RowId\"] = test_data[\"f_0\"]\n",
    "submission[\"is_clicked\"] = predictions_lgb_cli\n",
    "submission[\"is_installed\"] = predictions_lgb_ins\n",
    "submission.to_csv('./output/lgb_42_sep_train_logloss_float.csv', index=False, sep='\\t')"
   ]
  },
  {
   "cell_type": "code",
   "execution_count": 26,
   "metadata": {},
   "outputs": [],
   "source": [
    "submission = pd.DataFrame()\n",
    "submission[\"RowId\"] = test_data[\"f_0\"]\n",
    "submission[\"is_clicked\"] = np.round(predictions_lgb_cli, 5)\n",
    "submission[\"is_installed\"] = np.round(predictions_lgb_ins, 5)\n",
    "submission.to_csv('./output/lgb_42_sep_train_logloss_float_round5.csv', index=False, sep='\\t')"
   ]
  },
  {
   "cell_type": "code",
   "execution_count": 28,
   "metadata": {},
   "outputs": [],
   "source": [
    "submission = pd.DataFrame()\n",
    "submission[\"RowId\"] = test_data[\"f_0\"]\n",
    "submission[\"is_clicked\"] = np.random.random((test_data.shape[0]))\n",
    "submission[\"is_installed\"] = predictions_lgb_ins\n",
    "submission.to_csv('./output/lgb_42_sep_train_logloss_float_ins_pred_cli_rand.csv', index=False, sep='\\t')"
   ]
  },
  {
   "cell_type": "code",
   "execution_count": 27,
   "metadata": {},
   "outputs": [
    {
     "data": {
      "text/html": [
       "<div>\n",
       "<style scoped>\n",
       "    .dataframe tbody tr th:only-of-type {\n",
       "        vertical-align: middle;\n",
       "    }\n",
       "\n",
       "    .dataframe tbody tr th {\n",
       "        vertical-align: top;\n",
       "    }\n",
       "\n",
       "    .dataframe thead th {\n",
       "        text-align: right;\n",
       "    }\n",
       "</style>\n",
       "<table border=\"1\" class=\"dataframe\">\n",
       "  <thead>\n",
       "    <tr style=\"text-align: right;\">\n",
       "      <th></th>\n",
       "      <th>RowId</th>\n",
       "      <th>is_clicked</th>\n",
       "      <th>is_installed</th>\n",
       "    </tr>\n",
       "  </thead>\n",
       "  <tbody>\n",
       "    <tr>\n",
       "      <th>0</th>\n",
       "      <td>64505</td>\n",
       "      <td>0.54069</td>\n",
       "      <td>0.35231</td>\n",
       "    </tr>\n",
       "    <tr>\n",
       "      <th>1</th>\n",
       "      <td>64506</td>\n",
       "      <td>0.20442</td>\n",
       "      <td>0.45921</td>\n",
       "    </tr>\n",
       "    <tr>\n",
       "      <th>2</th>\n",
       "      <td>64507</td>\n",
       "      <td>0.63765</td>\n",
       "      <td>0.08273</td>\n",
       "    </tr>\n",
       "    <tr>\n",
       "      <th>3</th>\n",
       "      <td>64508</td>\n",
       "      <td>0.30246</td>\n",
       "      <td>0.33364</td>\n",
       "    </tr>\n",
       "    <tr>\n",
       "      <th>4</th>\n",
       "      <td>64509</td>\n",
       "      <td>0.91326</td>\n",
       "      <td>0.30514</td>\n",
       "    </tr>\n",
       "    <tr>\n",
       "      <th>...</th>\n",
       "      <td>...</td>\n",
       "      <td>...</td>\n",
       "      <td>...</td>\n",
       "    </tr>\n",
       "    <tr>\n",
       "      <th>160968</th>\n",
       "      <td>16240</td>\n",
       "      <td>0.67619</td>\n",
       "      <td>0.42696</td>\n",
       "    </tr>\n",
       "    <tr>\n",
       "      <th>160969</th>\n",
       "      <td>16241</td>\n",
       "      <td>0.09272</td>\n",
       "      <td>0.00923</td>\n",
       "    </tr>\n",
       "    <tr>\n",
       "      <th>160970</th>\n",
       "      <td>16242</td>\n",
       "      <td>0.22014</td>\n",
       "      <td>0.02216</td>\n",
       "    </tr>\n",
       "    <tr>\n",
       "      <th>160971</th>\n",
       "      <td>16243</td>\n",
       "      <td>0.50215</td>\n",
       "      <td>0.14860</td>\n",
       "    </tr>\n",
       "    <tr>\n",
       "      <th>160972</th>\n",
       "      <td>16244</td>\n",
       "      <td>0.99989</td>\n",
       "      <td>0.06889</td>\n",
       "    </tr>\n",
       "  </tbody>\n",
       "</table>\n",
       "<p>160973 rows × 3 columns</p>\n",
       "</div>"
      ],
      "text/plain": [
       "        RowId  is_clicked  is_installed\n",
       "0       64505     0.54069       0.35231\n",
       "1       64506     0.20442       0.45921\n",
       "2       64507     0.63765       0.08273\n",
       "3       64508     0.30246       0.33364\n",
       "4       64509     0.91326       0.30514\n",
       "...       ...         ...           ...\n",
       "160968  16240     0.67619       0.42696\n",
       "160969  16241     0.09272       0.00923\n",
       "160970  16242     0.22014       0.02216\n",
       "160971  16243     0.50215       0.14860\n",
       "160972  16244     0.99989       0.06889\n",
       "\n",
       "[160973 rows x 3 columns]"
      ]
     },
     "execution_count": 27,
     "metadata": {},
     "output_type": "execute_result"
    }
   ],
   "source": [
    "submission"
   ]
  },
  {
   "cell_type": "code",
   "execution_count": null,
   "metadata": {},
   "outputs": [],
   "source": []
  }
 ],
 "metadata": {
  "kernelspec": {
   "display_name": "libcityng",
   "language": "python",
   "name": "python3"
  },
  "language_info": {
   "codemirror_mode": {
    "name": "ipython",
    "version": 3
   },
   "file_extension": ".py",
   "mimetype": "text/x-python",
   "name": "python",
   "nbconvert_exporter": "python",
   "pygments_lexer": "ipython3",
   "version": "3.9.12"
  },
  "orig_nbformat": 4
 },
 "nbformat": 4,
 "nbformat_minor": 2
}
