{
 "cells": [
  {
   "cell_type": "code",
   "execution_count": 1,
   "metadata": {},
   "outputs": [
    {
     "name": "stderr",
     "output_type": "stream",
     "text": [
      "/mnt/data/jjw/anaconda3/envs/torch10/lib/python3.9/site-packages/tqdm/auto.py:21: TqdmWarning: IProgress not found. Please update jupyter and ipywidgets. See https://ipywidgets.readthedocs.io/en/stable/user_install.html\n",
      "  from .autonotebook import tqdm as notebook_tqdm\n",
      "2023-05-12 14:46:59.602556: I tensorflow/core/util/port.cc:110] oneDNN custom operations are on. You may see slightly different numerical results due to floating-point round-off errors from different computation orders. To turn them off, set the environment variable `TF_ENABLE_ONEDNN_OPTS=0`.\n",
      "2023-05-12 14:46:59.605344: I tensorflow/tsl/cuda/cudart_stub.cc:28] Could not find cuda drivers on your machine, GPU will not be used.\n",
      "2023-05-12 14:46:59.654946: I tensorflow/tsl/cuda/cudart_stub.cc:28] Could not find cuda drivers on your machine, GPU will not be used.\n",
      "2023-05-12 14:46:59.656944: I tensorflow/core/platform/cpu_feature_guard.cc:182] This TensorFlow binary is optimized to use available CPU instructions in performance-critical operations.\n",
      "To enable the following instructions: AVX2 AVX512F AVX512_VNNI FMA, in other operations, rebuild TensorFlow with the appropriate compiler flags.\n",
      "2023-05-12 14:47:00.471560: W tensorflow/compiler/tf2tensorrt/utils/py_utils.cc:38] TF-TRT Warning: Could not find TensorRT\n"
     ]
    }
   ],
   "source": [
    "import pandas as pd\n",
    "from sklearn.metrics import log_loss, roc_auc_score\n",
    "from sklearn.model_selection import train_test_split\n",
    "from sklearn.preprocessing import LabelEncoder, MinMaxScaler\n",
    "\n",
    "# from deepctr_torch.models import DeepFM\n",
    "# from deepctr_torch.inputs import SparseFeat, DenseFeat, get_feature_names\n",
    "from deepctr_torch.models import NFM\n",
    "from deepctr_torch.inputs import SparseFeat, DenseFeat, get_feature_names\n",
    "\n",
    "from deepctr_torch.callbacks import EarlyStopping, ModelCheckpoint\n",
    "\n",
    "import torch"
   ]
  },
  {
   "cell_type": "code",
   "execution_count": 2,
   "metadata": {},
   "outputs": [],
   "source": [
    "import numpy as np \n",
    "import pandas as pd\n",
    "import matplotlib.pyplot as plt\n",
    "import seaborn as sns\n",
    "import warnings\n",
    "import os\n",
    "import re\n",
    "import math\n",
    "import plotly.express as px\n",
    "import plotly.graph_objects as go\n",
    "from plotly.subplots import make_subplots\n",
    "\n",
    "from lightgbm import LGBMRegressor, LGBMClassifier\n",
    "from xgboost import XGBRegressor, XGBClassifier\n",
    "from catboost import CatBoostRegressor, CatBoostClassifier\n",
    "import lightgbm as lgb\n",
    "import xgboost as xgb\n",
    "import catboost as cab\n",
    "\n",
    "from sklearn.preprocessing import LabelEncoder\n",
    "from sklearn.model_selection import cross_val_score, KFold, StratifiedKFold, GridSearchCV\n",
    "from sklearn.decomposition import LatentDirichletAllocation, NMF, TruncatedSVD\n",
    "from sklearn.linear_model import LogisticRegression, SGDClassifier\n",
    "from sklearn.ensemble import RandomForestRegressor, AdaBoostRegressor, GradientBoostingRegressor, HistGradientBoostingRegressor, StackingRegressor\n",
    "from sklearn.ensemble import RandomForestClassifier, AdaBoostClassifier, GradientBoostingClassifier, HistGradientBoostingClassifier, StackingClassifier\n",
    "from sklearn.tree import DecisionTreeRegressor, DecisionTreeClassifier\n",
    "from sklearn import metrics\n",
    "from sklearn.svm import SVC\n",
    "from sklearn.feature_extraction.text import TfidfVectorizer\n",
    "from sklearn.preprocessing import PolynomialFeatures\n",
    "from sklearn.neighbors import KNeighborsClassifier\n",
    "from tqdm import tqdm\n",
    "from sklearn.preprocessing import KBinsDiscretizer\n",
    "import matplotlib.pyplot as plt\n",
    "\n",
    "import warnings\n",
    "\n",
    "warnings.filterwarnings('ignore')"
   ]
  },
  {
   "attachments": {},
   "cell_type": "markdown",
   "metadata": {},
   "source": [
    "读入"
   ]
  },
  {
   "cell_type": "code",
   "execution_count": 3,
   "metadata": {},
   "outputs": [
    {
     "data": {
      "text/plain": [
       "(160973, 80)"
      ]
     },
     "execution_count": 3,
     "metadata": {},
     "output_type": "execute_result"
    }
   ],
   "source": [
    "test_data = pd.read_csv('data/test/000000000000.csv', sep='\\t')\n",
    "test_data.shape "
   ]
  },
  {
   "cell_type": "code",
   "execution_count": 4,
   "metadata": {},
   "outputs": [
    {
     "data": {
      "text/plain": [
       "(3485852, 82)"
      ]
     },
     "execution_count": 4,
     "metadata": {},
     "output_type": "execute_result"
    }
   ],
   "source": [
    "train_data = pd.read_csv('./data/train.csv', sep='\\t')\n",
    "train_data.shape "
   ]
  },
  {
   "cell_type": "code",
   "execution_count": 5,
   "metadata": {},
   "outputs": [
    {
     "data": {
      "text/html": [
       "<div>\n",
       "<style scoped>\n",
       "    .dataframe tbody tr th:only-of-type {\n",
       "        vertical-align: middle;\n",
       "    }\n",
       "\n",
       "    .dataframe tbody tr th {\n",
       "        vertical-align: top;\n",
       "    }\n",
       "\n",
       "    .dataframe thead th {\n",
       "        text-align: right;\n",
       "    }\n",
       "</style>\n",
       "<table border=\"1\" class=\"dataframe\">\n",
       "  <thead>\n",
       "    <tr style=\"text-align: right;\">\n",
       "      <th></th>\n",
       "      <th>f_0</th>\n",
       "      <th>f_1</th>\n",
       "      <th>f_2</th>\n",
       "      <th>f_3</th>\n",
       "      <th>f_4</th>\n",
       "      <th>f_5</th>\n",
       "      <th>f_6</th>\n",
       "      <th>f_7</th>\n",
       "      <th>f_8</th>\n",
       "      <th>f_9</th>\n",
       "      <th>...</th>\n",
       "      <th>f_72</th>\n",
       "      <th>f_73</th>\n",
       "      <th>f_74</th>\n",
       "      <th>f_75</th>\n",
       "      <th>f_76</th>\n",
       "      <th>f_77</th>\n",
       "      <th>f_78</th>\n",
       "      <th>f_79</th>\n",
       "      <th>is_clicked</th>\n",
       "      <th>is_installed</th>\n",
       "    </tr>\n",
       "  </thead>\n",
       "  <tbody>\n",
       "    <tr>\n",
       "      <th>0</th>\n",
       "      <td>2541188</td>\n",
       "      <td>57</td>\n",
       "      <td>26325</td>\n",
       "      <td>22294</td>\n",
       "      <td>9018</td>\n",
       "      <td>25604</td>\n",
       "      <td>943</td>\n",
       "      <td>27941</td>\n",
       "      <td>19203</td>\n",
       "      <td>21533</td>\n",
       "      <td>...</td>\n",
       "      <td>2.855607</td>\n",
       "      <td>2.284486</td>\n",
       "      <td>0.115692</td>\n",
       "      <td>1.156922</td>\n",
       "      <td>0.269948</td>\n",
       "      <td>0.0</td>\n",
       "      <td>0.0</td>\n",
       "      <td>0.0</td>\n",
       "      <td>0</td>\n",
       "      <td>0</td>\n",
       "    </tr>\n",
       "    <tr>\n",
       "      <th>1</th>\n",
       "      <td>2541440</td>\n",
       "      <td>60</td>\n",
       "      <td>5156</td>\n",
       "      <td>22294</td>\n",
       "      <td>18971</td>\n",
       "      <td>21545</td>\n",
       "      <td>3448</td>\n",
       "      <td>27941</td>\n",
       "      <td>19606</td>\n",
       "      <td>14659</td>\n",
       "      <td>...</td>\n",
       "      <td>0.000000</td>\n",
       "      <td>0.000000</td>\n",
       "      <td>0.000000</td>\n",
       "      <td>1.156922</td>\n",
       "      <td>0.269948</td>\n",
       "      <td>0.0</td>\n",
       "      <td>0.0</td>\n",
       "      <td>0.0</td>\n",
       "      <td>0</td>\n",
       "      <td>0</td>\n",
       "    </tr>\n",
       "    <tr>\n",
       "      <th>2</th>\n",
       "      <td>2541480</td>\n",
       "      <td>65</td>\n",
       "      <td>30256</td>\n",
       "      <td>22294</td>\n",
       "      <td>11104</td>\n",
       "      <td>21545</td>\n",
       "      <td>20366</td>\n",
       "      <td>27941</td>\n",
       "      <td>19203</td>\n",
       "      <td>31372</td>\n",
       "      <td>...</td>\n",
       "      <td>0.571121</td>\n",
       "      <td>0.000000</td>\n",
       "      <td>0.000000</td>\n",
       "      <td>1.156922</td>\n",
       "      <td>0.269948</td>\n",
       "      <td>0.0</td>\n",
       "      <td>0.0</td>\n",
       "      <td>0.0</td>\n",
       "      <td>1</td>\n",
       "      <td>0</td>\n",
       "    </tr>\n",
       "    <tr>\n",
       "      <th>3</th>\n",
       "      <td>2541780</td>\n",
       "      <td>63</td>\n",
       "      <td>17216</td>\n",
       "      <td>7152</td>\n",
       "      <td>15742</td>\n",
       "      <td>21545</td>\n",
       "      <td>23877</td>\n",
       "      <td>27941</td>\n",
       "      <td>19606</td>\n",
       "      <td>869</td>\n",
       "      <td>...</td>\n",
       "      <td>0.000000</td>\n",
       "      <td>0.000000</td>\n",
       "      <td>0.000000</td>\n",
       "      <td>0.347077</td>\n",
       "      <td>0.000000</td>\n",
       "      <td>0.0</td>\n",
       "      <td>0.0</td>\n",
       "      <td>0.0</td>\n",
       "      <td>0</td>\n",
       "      <td>0</td>\n",
       "    </tr>\n",
       "    <tr>\n",
       "      <th>4</th>\n",
       "      <td>2541833</td>\n",
       "      <td>60</td>\n",
       "      <td>9317</td>\n",
       "      <td>22294</td>\n",
       "      <td>26866</td>\n",
       "      <td>21545</td>\n",
       "      <td>32370</td>\n",
       "      <td>27941</td>\n",
       "      <td>21218</td>\n",
       "      <td>14659</td>\n",
       "      <td>...</td>\n",
       "      <td>0.000000</td>\n",
       "      <td>0.000000</td>\n",
       "      <td>0.115692</td>\n",
       "      <td>1.156922</td>\n",
       "      <td>0.269948</td>\n",
       "      <td>0.0</td>\n",
       "      <td>0.0</td>\n",
       "      <td>0.0</td>\n",
       "      <td>0</td>\n",
       "      <td>0</td>\n",
       "    </tr>\n",
       "  </tbody>\n",
       "</table>\n",
       "<p>5 rows × 82 columns</p>\n",
       "</div>"
      ],
      "text/plain": [
       "       f_0  f_1    f_2    f_3    f_4    f_5    f_6    f_7    f_8    f_9  ...  \\\n",
       "0  2541188   57  26325  22294   9018  25604    943  27941  19203  21533  ...   \n",
       "1  2541440   60   5156  22294  18971  21545   3448  27941  19606  14659  ...   \n",
       "2  2541480   65  30256  22294  11104  21545  20366  27941  19203  31372  ...   \n",
       "3  2541780   63  17216   7152  15742  21545  23877  27941  19606    869  ...   \n",
       "4  2541833   60   9317  22294  26866  21545  32370  27941  21218  14659  ...   \n",
       "\n",
       "       f_72      f_73      f_74      f_75      f_76  f_77  f_78  f_79  \\\n",
       "0  2.855607  2.284486  0.115692  1.156922  0.269948   0.0   0.0   0.0   \n",
       "1  0.000000  0.000000  0.000000  1.156922  0.269948   0.0   0.0   0.0   \n",
       "2  0.571121  0.000000  0.000000  1.156922  0.269948   0.0   0.0   0.0   \n",
       "3  0.000000  0.000000  0.000000  0.347077  0.000000   0.0   0.0   0.0   \n",
       "4  0.000000  0.000000  0.115692  1.156922  0.269948   0.0   0.0   0.0   \n",
       "\n",
       "   is_clicked  is_installed  \n",
       "0           0             0  \n",
       "1           0             0  \n",
       "2           1             0  \n",
       "3           0             0  \n",
       "4           0             0  \n",
       "\n",
       "[5 rows x 82 columns]"
      ]
     },
     "execution_count": 5,
     "metadata": {},
     "output_type": "execute_result"
    }
   ],
   "source": [
    "train_data.head()"
   ]
  },
  {
   "cell_type": "code",
   "execution_count": 6,
   "metadata": {},
   "outputs": [
    {
     "data": {
      "text/html": [
       "<div>\n",
       "<style scoped>\n",
       "    .dataframe tbody tr th:only-of-type {\n",
       "        vertical-align: middle;\n",
       "    }\n",
       "\n",
       "    .dataframe tbody tr th {\n",
       "        vertical-align: top;\n",
       "    }\n",
       "\n",
       "    .dataframe thead th {\n",
       "        text-align: right;\n",
       "    }\n",
       "</style>\n",
       "<table border=\"1\" class=\"dataframe\">\n",
       "  <thead>\n",
       "    <tr style=\"text-align: right;\">\n",
       "      <th></th>\n",
       "      <th>f_0</th>\n",
       "      <th>f_1</th>\n",
       "      <th>f_2</th>\n",
       "      <th>f_3</th>\n",
       "      <th>f_4</th>\n",
       "      <th>f_5</th>\n",
       "      <th>f_6</th>\n",
       "      <th>f_7</th>\n",
       "      <th>f_8</th>\n",
       "      <th>f_9</th>\n",
       "      <th>...</th>\n",
       "      <th>f_70</th>\n",
       "      <th>f_71</th>\n",
       "      <th>f_72</th>\n",
       "      <th>f_73</th>\n",
       "      <th>f_74</th>\n",
       "      <th>f_75</th>\n",
       "      <th>f_76</th>\n",
       "      <th>f_77</th>\n",
       "      <th>f_78</th>\n",
       "      <th>f_79</th>\n",
       "    </tr>\n",
       "  </thead>\n",
       "  <tbody>\n",
       "    <tr>\n",
       "      <th>0</th>\n",
       "      <td>64505</td>\n",
       "      <td>67</td>\n",
       "      <td>26325</td>\n",
       "      <td>7152</td>\n",
       "      <td>21563</td>\n",
       "      <td>19475</td>\n",
       "      <td>31440</td>\n",
       "      <td>27941</td>\n",
       "      <td>21621</td>\n",
       "      <td>14659</td>\n",
       "      <td>...</td>\n",
       "      <td>1.519085</td>\n",
       "      <td>0.0</td>\n",
       "      <td>0.000000</td>\n",
       "      <td>0.0</td>\n",
       "      <td>0.000000</td>\n",
       "      <td>0.000000</td>\n",
       "      <td>0.000000</td>\n",
       "      <td>0.0</td>\n",
       "      <td>0.0</td>\n",
       "      <td>0.0</td>\n",
       "    </tr>\n",
       "    <tr>\n",
       "      <th>1</th>\n",
       "      <td>64506</td>\n",
       "      <td>67</td>\n",
       "      <td>20095</td>\n",
       "      <td>563</td>\n",
       "      <td>22861</td>\n",
       "      <td>19475</td>\n",
       "      <td>21280</td>\n",
       "      <td>27941</td>\n",
       "      <td>19203</td>\n",
       "      <td>14659</td>\n",
       "      <td>...</td>\n",
       "      <td>0.000000</td>\n",
       "      <td>0.0</td>\n",
       "      <td>0.000000</td>\n",
       "      <td>0.0</td>\n",
       "      <td>0.115692</td>\n",
       "      <td>1.156922</td>\n",
       "      <td>0.269948</td>\n",
       "      <td>0.0</td>\n",
       "      <td>0.0</td>\n",
       "      <td>0.0</td>\n",
       "    </tr>\n",
       "    <tr>\n",
       "      <th>2</th>\n",
       "      <td>64507</td>\n",
       "      <td>67</td>\n",
       "      <td>890</td>\n",
       "      <td>22294</td>\n",
       "      <td>18294</td>\n",
       "      <td>21545</td>\n",
       "      <td>20210</td>\n",
       "      <td>27941</td>\n",
       "      <td>18800</td>\n",
       "      <td>9638</td>\n",
       "      <td>...</td>\n",
       "      <td>0.982995</td>\n",
       "      <td>0.0</td>\n",
       "      <td>0.000000</td>\n",
       "      <td>0.0</td>\n",
       "      <td>0.000000</td>\n",
       "      <td>1.156922</td>\n",
       "      <td>0.269948</td>\n",
       "      <td>0.0</td>\n",
       "      <td>0.0</td>\n",
       "      <td>0.0</td>\n",
       "    </tr>\n",
       "    <tr>\n",
       "      <th>3</th>\n",
       "      <td>64508</td>\n",
       "      <td>67</td>\n",
       "      <td>20095</td>\n",
       "      <td>563</td>\n",
       "      <td>22861</td>\n",
       "      <td>25604</td>\n",
       "      <td>21280</td>\n",
       "      <td>27941</td>\n",
       "      <td>18800</td>\n",
       "      <td>14659</td>\n",
       "      <td>...</td>\n",
       "      <td>0.000000</td>\n",
       "      <td>0.0</td>\n",
       "      <td>2.284486</td>\n",
       "      <td>0.0</td>\n",
       "      <td>0.000000</td>\n",
       "      <td>1.156922</td>\n",
       "      <td>0.269948</td>\n",
       "      <td>0.0</td>\n",
       "      <td>0.0</td>\n",
       "      <td>0.0</td>\n",
       "    </tr>\n",
       "    <tr>\n",
       "      <th>4</th>\n",
       "      <td>64509</td>\n",
       "      <td>67</td>\n",
       "      <td>27426</td>\n",
       "      <td>22294</td>\n",
       "      <td>11338</td>\n",
       "      <td>19475</td>\n",
       "      <td>23855</td>\n",
       "      <td>27941</td>\n",
       "      <td>21218</td>\n",
       "      <td>9638</td>\n",
       "      <td>...</td>\n",
       "      <td>0.986040</td>\n",
       "      <td>0.0</td>\n",
       "      <td>0.000000</td>\n",
       "      <td>0.0</td>\n",
       "      <td>0.077128</td>\n",
       "      <td>0.077128</td>\n",
       "      <td>0.077128</td>\n",
       "      <td>0.0</td>\n",
       "      <td>0.0</td>\n",
       "      <td>0.0</td>\n",
       "    </tr>\n",
       "  </tbody>\n",
       "</table>\n",
       "<p>5 rows × 80 columns</p>\n",
       "</div>"
      ],
      "text/plain": [
       "     f_0  f_1    f_2    f_3    f_4    f_5    f_6    f_7    f_8    f_9  ...  \\\n",
       "0  64505   67  26325   7152  21563  19475  31440  27941  21621  14659  ...   \n",
       "1  64506   67  20095    563  22861  19475  21280  27941  19203  14659  ...   \n",
       "2  64507   67    890  22294  18294  21545  20210  27941  18800   9638  ...   \n",
       "3  64508   67  20095    563  22861  25604  21280  27941  18800  14659  ...   \n",
       "4  64509   67  27426  22294  11338  19475  23855  27941  21218   9638  ...   \n",
       "\n",
       "       f_70  f_71      f_72  f_73      f_74      f_75      f_76  f_77  f_78  \\\n",
       "0  1.519085   0.0  0.000000   0.0  0.000000  0.000000  0.000000   0.0   0.0   \n",
       "1  0.000000   0.0  0.000000   0.0  0.115692  1.156922  0.269948   0.0   0.0   \n",
       "2  0.982995   0.0  0.000000   0.0  0.000000  1.156922  0.269948   0.0   0.0   \n",
       "3  0.000000   0.0  2.284486   0.0  0.000000  1.156922  0.269948   0.0   0.0   \n",
       "4  0.986040   0.0  0.000000   0.0  0.077128  0.077128  0.077128   0.0   0.0   \n",
       "\n",
       "   f_79  \n",
       "0   0.0  \n",
       "1   0.0  \n",
       "2   0.0  \n",
       "3   0.0  \n",
       "4   0.0  \n",
       "\n",
       "[5 rows x 80 columns]"
      ]
     },
     "execution_count": 6,
     "metadata": {},
     "output_type": "execute_result"
    }
   ],
   "source": [
    "test_data.head()"
   ]
  },
  {
   "cell_type": "code",
   "execution_count": 7,
   "metadata": {},
   "outputs": [],
   "source": [
    "data = pd.concat([train_data, test_data])"
   ]
  },
  {
   "cell_type": "code",
   "execution_count": 8,
   "metadata": {},
   "outputs": [],
   "source": [
    "cat_features = ['f_{}'.format(i) for i in range(1, 42)]\n",
    "bin_features = ['f_{}'.format(i) for i in range(33, 42)]\n",
    "num_features = ['f_{}'.format(i) for i in range(42, 80)]\n",
    "date_features = ['f_1']"
   ]
  },
  {
   "cell_type": "code",
   "execution_count": 9,
   "metadata": {},
   "outputs": [],
   "source": [
    "sparse_features = cat_features\n",
    "dense_features = num_features"
   ]
  },
  {
   "cell_type": "code",
   "execution_count": 10,
   "metadata": {},
   "outputs": [],
   "source": [
    "dense_mean = data[dense_features].mean()"
   ]
  },
  {
   "cell_type": "code",
   "execution_count": 11,
   "metadata": {},
   "outputs": [],
   "source": [
    "data[sparse_features] = data[sparse_features].fillna(-1, )\n",
    "# data[dense_features] = data[dense_features].fillna(0, )\n",
    "data[dense_features] = data[dense_features].fillna(dense_mean, )\n",
    "target = ['is_installed']"
   ]
  },
  {
   "cell_type": "code",
   "execution_count": 12,
   "metadata": {},
   "outputs": [
    {
     "data": {
      "text/html": [
       "<div>\n",
       "<style scoped>\n",
       "    .dataframe tbody tr th:only-of-type {\n",
       "        vertical-align: middle;\n",
       "    }\n",
       "\n",
       "    .dataframe tbody tr th {\n",
       "        vertical-align: top;\n",
       "    }\n",
       "\n",
       "    .dataframe thead th {\n",
       "        text-align: right;\n",
       "    }\n",
       "</style>\n",
       "<table border=\"1\" class=\"dataframe\">\n",
       "  <thead>\n",
       "    <tr style=\"text-align: right;\">\n",
       "      <th></th>\n",
       "      <th>f_0</th>\n",
       "      <th>f_1</th>\n",
       "      <th>f_2</th>\n",
       "      <th>f_3</th>\n",
       "      <th>f_4</th>\n",
       "      <th>f_5</th>\n",
       "      <th>f_6</th>\n",
       "      <th>f_7</th>\n",
       "      <th>f_8</th>\n",
       "      <th>f_9</th>\n",
       "      <th>...</th>\n",
       "      <th>f_72</th>\n",
       "      <th>f_73</th>\n",
       "      <th>f_74</th>\n",
       "      <th>f_75</th>\n",
       "      <th>f_76</th>\n",
       "      <th>f_77</th>\n",
       "      <th>f_78</th>\n",
       "      <th>f_79</th>\n",
       "      <th>is_clicked</th>\n",
       "      <th>is_installed</th>\n",
       "    </tr>\n",
       "  </thead>\n",
       "  <tbody>\n",
       "    <tr>\n",
       "      <th>0</th>\n",
       "      <td>2541188</td>\n",
       "      <td>57</td>\n",
       "      <td>26325</td>\n",
       "      <td>22294</td>\n",
       "      <td>9018</td>\n",
       "      <td>25604</td>\n",
       "      <td>943</td>\n",
       "      <td>27941</td>\n",
       "      <td>19203</td>\n",
       "      <td>21533</td>\n",
       "      <td>...</td>\n",
       "      <td>2.855607</td>\n",
       "      <td>2.284486</td>\n",
       "      <td>0.115692</td>\n",
       "      <td>1.156922</td>\n",
       "      <td>0.269948</td>\n",
       "      <td>0.0</td>\n",
       "      <td>0.0</td>\n",
       "      <td>0.0</td>\n",
       "      <td>0.0</td>\n",
       "      <td>0.0</td>\n",
       "    </tr>\n",
       "    <tr>\n",
       "      <th>1</th>\n",
       "      <td>2541440</td>\n",
       "      <td>60</td>\n",
       "      <td>5156</td>\n",
       "      <td>22294</td>\n",
       "      <td>18971</td>\n",
       "      <td>21545</td>\n",
       "      <td>3448</td>\n",
       "      <td>27941</td>\n",
       "      <td>19606</td>\n",
       "      <td>14659</td>\n",
       "      <td>...</td>\n",
       "      <td>0.000000</td>\n",
       "      <td>0.000000</td>\n",
       "      <td>0.000000</td>\n",
       "      <td>1.156922</td>\n",
       "      <td>0.269948</td>\n",
       "      <td>0.0</td>\n",
       "      <td>0.0</td>\n",
       "      <td>0.0</td>\n",
       "      <td>0.0</td>\n",
       "      <td>0.0</td>\n",
       "    </tr>\n",
       "    <tr>\n",
       "      <th>2</th>\n",
       "      <td>2541480</td>\n",
       "      <td>65</td>\n",
       "      <td>30256</td>\n",
       "      <td>22294</td>\n",
       "      <td>11104</td>\n",
       "      <td>21545</td>\n",
       "      <td>20366</td>\n",
       "      <td>27941</td>\n",
       "      <td>19203</td>\n",
       "      <td>31372</td>\n",
       "      <td>...</td>\n",
       "      <td>0.571121</td>\n",
       "      <td>0.000000</td>\n",
       "      <td>0.000000</td>\n",
       "      <td>1.156922</td>\n",
       "      <td>0.269948</td>\n",
       "      <td>0.0</td>\n",
       "      <td>0.0</td>\n",
       "      <td>0.0</td>\n",
       "      <td>1.0</td>\n",
       "      <td>0.0</td>\n",
       "    </tr>\n",
       "    <tr>\n",
       "      <th>3</th>\n",
       "      <td>2541780</td>\n",
       "      <td>63</td>\n",
       "      <td>17216</td>\n",
       "      <td>7152</td>\n",
       "      <td>15742</td>\n",
       "      <td>21545</td>\n",
       "      <td>23877</td>\n",
       "      <td>27941</td>\n",
       "      <td>19606</td>\n",
       "      <td>869</td>\n",
       "      <td>...</td>\n",
       "      <td>0.000000</td>\n",
       "      <td>0.000000</td>\n",
       "      <td>0.000000</td>\n",
       "      <td>0.347077</td>\n",
       "      <td>0.000000</td>\n",
       "      <td>0.0</td>\n",
       "      <td>0.0</td>\n",
       "      <td>0.0</td>\n",
       "      <td>0.0</td>\n",
       "      <td>0.0</td>\n",
       "    </tr>\n",
       "    <tr>\n",
       "      <th>4</th>\n",
       "      <td>2541833</td>\n",
       "      <td>60</td>\n",
       "      <td>9317</td>\n",
       "      <td>22294</td>\n",
       "      <td>26866</td>\n",
       "      <td>21545</td>\n",
       "      <td>32370</td>\n",
       "      <td>27941</td>\n",
       "      <td>21218</td>\n",
       "      <td>14659</td>\n",
       "      <td>...</td>\n",
       "      <td>0.000000</td>\n",
       "      <td>0.000000</td>\n",
       "      <td>0.115692</td>\n",
       "      <td>1.156922</td>\n",
       "      <td>0.269948</td>\n",
       "      <td>0.0</td>\n",
       "      <td>0.0</td>\n",
       "      <td>0.0</td>\n",
       "      <td>0.0</td>\n",
       "      <td>0.0</td>\n",
       "    </tr>\n",
       "  </tbody>\n",
       "</table>\n",
       "<p>5 rows × 82 columns</p>\n",
       "</div>"
      ],
      "text/plain": [
       "       f_0  f_1    f_2    f_3    f_4    f_5    f_6    f_7    f_8    f_9  ...  \\\n",
       "0  2541188   57  26325  22294   9018  25604    943  27941  19203  21533  ...   \n",
       "1  2541440   60   5156  22294  18971  21545   3448  27941  19606  14659  ...   \n",
       "2  2541480   65  30256  22294  11104  21545  20366  27941  19203  31372  ...   \n",
       "3  2541780   63  17216   7152  15742  21545  23877  27941  19606    869  ...   \n",
       "4  2541833   60   9317  22294  26866  21545  32370  27941  21218  14659  ...   \n",
       "\n",
       "       f_72      f_73      f_74      f_75      f_76  f_77  f_78  f_79  \\\n",
       "0  2.855607  2.284486  0.115692  1.156922  0.269948   0.0   0.0   0.0   \n",
       "1  0.000000  0.000000  0.000000  1.156922  0.269948   0.0   0.0   0.0   \n",
       "2  0.571121  0.000000  0.000000  1.156922  0.269948   0.0   0.0   0.0   \n",
       "3  0.000000  0.000000  0.000000  0.347077  0.000000   0.0   0.0   0.0   \n",
       "4  0.000000  0.000000  0.115692  1.156922  0.269948   0.0   0.0   0.0   \n",
       "\n",
       "   is_clicked  is_installed  \n",
       "0         0.0           0.0  \n",
       "1         0.0           0.0  \n",
       "2         1.0           0.0  \n",
       "3         0.0           0.0  \n",
       "4         0.0           0.0  \n",
       "\n",
       "[5 rows x 82 columns]"
      ]
     },
     "execution_count": 12,
     "metadata": {},
     "output_type": "execute_result"
    }
   ],
   "source": [
    "data.head()"
   ]
  },
  {
   "attachments": {},
   "cell_type": "markdown",
   "metadata": {},
   "source": [
    "数据处理"
   ]
  },
  {
   "cell_type": "code",
   "execution_count": 13,
   "metadata": {},
   "outputs": [],
   "source": [
    "for feat in sparse_features:\n",
    "    lbe = LabelEncoder()\n",
    "    data[feat] = lbe.fit_transform(data[feat])"
   ]
  },
  {
   "cell_type": "code",
   "execution_count": 14,
   "metadata": {},
   "outputs": [
    {
     "data": {
      "text/html": [
       "<div>\n",
       "<style scoped>\n",
       "    .dataframe tbody tr th:only-of-type {\n",
       "        vertical-align: middle;\n",
       "    }\n",
       "\n",
       "    .dataframe tbody tr th {\n",
       "        vertical-align: top;\n",
       "    }\n",
       "\n",
       "    .dataframe thead th {\n",
       "        text-align: right;\n",
       "    }\n",
       "</style>\n",
       "<table border=\"1\" class=\"dataframe\">\n",
       "  <thead>\n",
       "    <tr style=\"text-align: right;\">\n",
       "      <th></th>\n",
       "      <th>f_0</th>\n",
       "      <th>f_1</th>\n",
       "      <th>f_2</th>\n",
       "      <th>f_3</th>\n",
       "      <th>f_4</th>\n",
       "      <th>f_5</th>\n",
       "      <th>f_6</th>\n",
       "      <th>f_7</th>\n",
       "      <th>f_8</th>\n",
       "      <th>f_9</th>\n",
       "      <th>...</th>\n",
       "      <th>f_72</th>\n",
       "      <th>f_73</th>\n",
       "      <th>f_74</th>\n",
       "      <th>f_75</th>\n",
       "      <th>f_76</th>\n",
       "      <th>f_77</th>\n",
       "      <th>f_78</th>\n",
       "      <th>f_79</th>\n",
       "      <th>is_clicked</th>\n",
       "      <th>is_installed</th>\n",
       "    </tr>\n",
       "  </thead>\n",
       "  <tbody>\n",
       "    <tr>\n",
       "      <th>0</th>\n",
       "      <td>2541188</td>\n",
       "      <td>12</td>\n",
       "      <td>114</td>\n",
       "      <td>4</td>\n",
       "      <td>191</td>\n",
       "      <td>4</td>\n",
       "      <td>155</td>\n",
       "      <td>0</td>\n",
       "      <td>1</td>\n",
       "      <td>4</td>\n",
       "      <td>...</td>\n",
       "      <td>2.855607</td>\n",
       "      <td>2.284486</td>\n",
       "      <td>0.115692</td>\n",
       "      <td>1.156922</td>\n",
       "      <td>0.269948</td>\n",
       "      <td>0.0</td>\n",
       "      <td>0.0</td>\n",
       "      <td>0.0</td>\n",
       "      <td>0.0</td>\n",
       "      <td>0.0</td>\n",
       "    </tr>\n",
       "    <tr>\n",
       "      <th>1</th>\n",
       "      <td>2541440</td>\n",
       "      <td>15</td>\n",
       "      <td>21</td>\n",
       "      <td>4</td>\n",
       "      <td>390</td>\n",
       "      <td>3</td>\n",
       "      <td>559</td>\n",
       "      <td>0</td>\n",
       "      <td>2</td>\n",
       "      <td>3</td>\n",
       "      <td>...</td>\n",
       "      <td>0.000000</td>\n",
       "      <td>0.000000</td>\n",
       "      <td>0.000000</td>\n",
       "      <td>1.156922</td>\n",
       "      <td>0.269948</td>\n",
       "      <td>0.0</td>\n",
       "      <td>0.0</td>\n",
       "      <td>0.0</td>\n",
       "      <td>0.0</td>\n",
       "      <td>0.0</td>\n",
       "    </tr>\n",
       "    <tr>\n",
       "      <th>2</th>\n",
       "      <td>2541480</td>\n",
       "      <td>20</td>\n",
       "      <td>131</td>\n",
       "      <td>4</td>\n",
       "      <td>228</td>\n",
       "      <td>3</td>\n",
       "      <td>3261</td>\n",
       "      <td>0</td>\n",
       "      <td>1</td>\n",
       "      <td>6</td>\n",
       "      <td>...</td>\n",
       "      <td>0.571121</td>\n",
       "      <td>0.000000</td>\n",
       "      <td>0.000000</td>\n",
       "      <td>1.156922</td>\n",
       "      <td>0.269948</td>\n",
       "      <td>0.0</td>\n",
       "      <td>0.0</td>\n",
       "      <td>0.0</td>\n",
       "      <td>1.0</td>\n",
       "      <td>0.0</td>\n",
       "    </tr>\n",
       "    <tr>\n",
       "      <th>3</th>\n",
       "      <td>2541780</td>\n",
       "      <td>18</td>\n",
       "      <td>73</td>\n",
       "      <td>2</td>\n",
       "      <td>317</td>\n",
       "      <td>3</td>\n",
       "      <td>3843</td>\n",
       "      <td>0</td>\n",
       "      <td>2</td>\n",
       "      <td>0</td>\n",
       "      <td>...</td>\n",
       "      <td>0.000000</td>\n",
       "      <td>0.000000</td>\n",
       "      <td>0.000000</td>\n",
       "      <td>0.347077</td>\n",
       "      <td>0.000000</td>\n",
       "      <td>0.0</td>\n",
       "      <td>0.0</td>\n",
       "      <td>0.0</td>\n",
       "      <td>0.0</td>\n",
       "      <td>0.0</td>\n",
       "    </tr>\n",
       "    <tr>\n",
       "      <th>4</th>\n",
       "      <td>2541833</td>\n",
       "      <td>15</td>\n",
       "      <td>44</td>\n",
       "      <td>4</td>\n",
       "      <td>519</td>\n",
       "      <td>3</td>\n",
       "      <td>5179</td>\n",
       "      <td>0</td>\n",
       "      <td>4</td>\n",
       "      <td>3</td>\n",
       "      <td>...</td>\n",
       "      <td>0.000000</td>\n",
       "      <td>0.000000</td>\n",
       "      <td>0.115692</td>\n",
       "      <td>1.156922</td>\n",
       "      <td>0.269948</td>\n",
       "      <td>0.0</td>\n",
       "      <td>0.0</td>\n",
       "      <td>0.0</td>\n",
       "      <td>0.0</td>\n",
       "      <td>0.0</td>\n",
       "    </tr>\n",
       "  </tbody>\n",
       "</table>\n",
       "<p>5 rows × 82 columns</p>\n",
       "</div>"
      ],
      "text/plain": [
       "       f_0  f_1  f_2  f_3  f_4  f_5   f_6  f_7  f_8  f_9  ...      f_72  \\\n",
       "0  2541188   12  114    4  191    4   155    0    1    4  ...  2.855607   \n",
       "1  2541440   15   21    4  390    3   559    0    2    3  ...  0.000000   \n",
       "2  2541480   20  131    4  228    3  3261    0    1    6  ...  0.571121   \n",
       "3  2541780   18   73    2  317    3  3843    0    2    0  ...  0.000000   \n",
       "4  2541833   15   44    4  519    3  5179    0    4    3  ...  0.000000   \n",
       "\n",
       "       f_73      f_74      f_75      f_76  f_77  f_78  f_79  is_clicked  \\\n",
       "0  2.284486  0.115692  1.156922  0.269948   0.0   0.0   0.0         0.0   \n",
       "1  0.000000  0.000000  1.156922  0.269948   0.0   0.0   0.0         0.0   \n",
       "2  0.000000  0.000000  1.156922  0.269948   0.0   0.0   0.0         1.0   \n",
       "3  0.000000  0.000000  0.347077  0.000000   0.0   0.0   0.0         0.0   \n",
       "4  0.000000  0.115692  1.156922  0.269948   0.0   0.0   0.0         0.0   \n",
       "\n",
       "   is_installed  \n",
       "0           0.0  \n",
       "1           0.0  \n",
       "2           0.0  \n",
       "3           0.0  \n",
       "4           0.0  \n",
       "\n",
       "[5 rows x 82 columns]"
      ]
     },
     "execution_count": 14,
     "metadata": {},
     "output_type": "execute_result"
    }
   ],
   "source": [
    "data.head()"
   ]
  },
  {
   "cell_type": "code",
   "execution_count": 15,
   "metadata": {},
   "outputs": [],
   "source": [
    "# TODO: 不同特征设置不同的Bins"
   ]
  },
  {
   "cell_type": "code",
   "execution_count": 16,
   "metadata": {},
   "outputs": [],
   "source": [
    "dense_bins = 10"
   ]
  },
  {
   "cell_type": "code",
   "execution_count": 17,
   "metadata": {},
   "outputs": [
    {
     "name": "stderr",
     "output_type": "stream",
     "text": [
      "100%|██████████| 38/38 [03:50<00:00,  6.05s/it]\n"
     ]
    }
   ],
   "source": [
    "add_sparse_features = []\n",
    "for fea in tqdm(dense_features, total=len(dense_features)):\n",
    "    discretizer = KBinsDiscretizer(n_bins=dense_bins, encode='ordinal', strategy='kmeans')  # 等频quantile，等宽uniform\n",
    "    data[fea + '_encode'] = discretizer.fit_transform(np.array(data[fea].tolist()).reshape(-1, 1))\n",
    "    add_sparse_features.append(fea + '_encode')"
   ]
  },
  {
   "cell_type": "code",
   "execution_count": 18,
   "metadata": {},
   "outputs": [],
   "source": [
    "add_sparse_features = [fea + '_encode' for fea in dense_features]"
   ]
  },
  {
   "cell_type": "code",
   "execution_count": 19,
   "metadata": {},
   "outputs": [],
   "source": [
    "# TODO: 分桶"
   ]
  },
  {
   "cell_type": "code",
   "execution_count": 20,
   "metadata": {},
   "outputs": [],
   "source": [
    "mms = MinMaxScaler(feature_range=(0,1))\n",
    "data[dense_features] = mms.fit_transform(data[dense_features])"
   ]
  },
  {
   "cell_type": "code",
   "execution_count": 21,
   "metadata": {},
   "outputs": [
    {
     "data": {
      "text/html": [
       "<div>\n",
       "<style scoped>\n",
       "    .dataframe tbody tr th:only-of-type {\n",
       "        vertical-align: middle;\n",
       "    }\n",
       "\n",
       "    .dataframe tbody tr th {\n",
       "        vertical-align: top;\n",
       "    }\n",
       "\n",
       "    .dataframe thead th {\n",
       "        text-align: right;\n",
       "    }\n",
       "</style>\n",
       "<table border=\"1\" class=\"dataframe\">\n",
       "  <thead>\n",
       "    <tr style=\"text-align: right;\">\n",
       "      <th></th>\n",
       "      <th>f_0</th>\n",
       "      <th>f_1</th>\n",
       "      <th>f_2</th>\n",
       "      <th>f_3</th>\n",
       "      <th>f_4</th>\n",
       "      <th>f_5</th>\n",
       "      <th>f_6</th>\n",
       "      <th>f_7</th>\n",
       "      <th>f_8</th>\n",
       "      <th>f_9</th>\n",
       "      <th>...</th>\n",
       "      <th>f_70_encode</th>\n",
       "      <th>f_71_encode</th>\n",
       "      <th>f_72_encode</th>\n",
       "      <th>f_73_encode</th>\n",
       "      <th>f_74_encode</th>\n",
       "      <th>f_75_encode</th>\n",
       "      <th>f_76_encode</th>\n",
       "      <th>f_77_encode</th>\n",
       "      <th>f_78_encode</th>\n",
       "      <th>f_79_encode</th>\n",
       "    </tr>\n",
       "  </thead>\n",
       "  <tbody>\n",
       "    <tr>\n",
       "      <th>0</th>\n",
       "      <td>2541188</td>\n",
       "      <td>12</td>\n",
       "      <td>114</td>\n",
       "      <td>4</td>\n",
       "      <td>191</td>\n",
       "      <td>4</td>\n",
       "      <td>155</td>\n",
       "      <td>0</td>\n",
       "      <td>1</td>\n",
       "      <td>4</td>\n",
       "      <td>...</td>\n",
       "      <td>2.0</td>\n",
       "      <td>2.0</td>\n",
       "      <td>4.0</td>\n",
       "      <td>4.0</td>\n",
       "      <td>3.0</td>\n",
       "      <td>9.0</td>\n",
       "      <td>7.0</td>\n",
       "      <td>0.0</td>\n",
       "      <td>0.0</td>\n",
       "      <td>0.0</td>\n",
       "    </tr>\n",
       "    <tr>\n",
       "      <th>1</th>\n",
       "      <td>2541440</td>\n",
       "      <td>15</td>\n",
       "      <td>21</td>\n",
       "      <td>4</td>\n",
       "      <td>390</td>\n",
       "      <td>3</td>\n",
       "      <td>559</td>\n",
       "      <td>0</td>\n",
       "      <td>2</td>\n",
       "      <td>3</td>\n",
       "      <td>...</td>\n",
       "      <td>1.0</td>\n",
       "      <td>0.0</td>\n",
       "      <td>0.0</td>\n",
       "      <td>0.0</td>\n",
       "      <td>0.0</td>\n",
       "      <td>9.0</td>\n",
       "      <td>7.0</td>\n",
       "      <td>0.0</td>\n",
       "      <td>0.0</td>\n",
       "      <td>0.0</td>\n",
       "    </tr>\n",
       "    <tr>\n",
       "      <th>2</th>\n",
       "      <td>2541480</td>\n",
       "      <td>20</td>\n",
       "      <td>131</td>\n",
       "      <td>4</td>\n",
       "      <td>228</td>\n",
       "      <td>3</td>\n",
       "      <td>3261</td>\n",
       "      <td>0</td>\n",
       "      <td>1</td>\n",
       "      <td>6</td>\n",
       "      <td>...</td>\n",
       "      <td>3.0</td>\n",
       "      <td>0.0</td>\n",
       "      <td>1.0</td>\n",
       "      <td>0.0</td>\n",
       "      <td>0.0</td>\n",
       "      <td>9.0</td>\n",
       "      <td>7.0</td>\n",
       "      <td>0.0</td>\n",
       "      <td>0.0</td>\n",
       "      <td>0.0</td>\n",
       "    </tr>\n",
       "    <tr>\n",
       "      <th>3</th>\n",
       "      <td>2541780</td>\n",
       "      <td>18</td>\n",
       "      <td>73</td>\n",
       "      <td>2</td>\n",
       "      <td>317</td>\n",
       "      <td>3</td>\n",
       "      <td>3843</td>\n",
       "      <td>0</td>\n",
       "      <td>2</td>\n",
       "      <td>0</td>\n",
       "      <td>...</td>\n",
       "      <td>1.0</td>\n",
       "      <td>0.0</td>\n",
       "      <td>0.0</td>\n",
       "      <td>0.0</td>\n",
       "      <td>0.0</td>\n",
       "      <td>3.0</td>\n",
       "      <td>0.0</td>\n",
       "      <td>0.0</td>\n",
       "      <td>0.0</td>\n",
       "      <td>0.0</td>\n",
       "    </tr>\n",
       "    <tr>\n",
       "      <th>4</th>\n",
       "      <td>2541833</td>\n",
       "      <td>15</td>\n",
       "      <td>44</td>\n",
       "      <td>4</td>\n",
       "      <td>519</td>\n",
       "      <td>3</td>\n",
       "      <td>5179</td>\n",
       "      <td>0</td>\n",
       "      <td>4</td>\n",
       "      <td>3</td>\n",
       "      <td>...</td>\n",
       "      <td>1.0</td>\n",
       "      <td>0.0</td>\n",
       "      <td>0.0</td>\n",
       "      <td>0.0</td>\n",
       "      <td>3.0</td>\n",
       "      <td>9.0</td>\n",
       "      <td>7.0</td>\n",
       "      <td>0.0</td>\n",
       "      <td>0.0</td>\n",
       "      <td>0.0</td>\n",
       "    </tr>\n",
       "  </tbody>\n",
       "</table>\n",
       "<p>5 rows × 120 columns</p>\n",
       "</div>"
      ],
      "text/plain": [
       "       f_0  f_1  f_2  f_3  f_4  f_5   f_6  f_7  f_8  f_9  ...  f_70_encode  \\\n",
       "0  2541188   12  114    4  191    4   155    0    1    4  ...          2.0   \n",
       "1  2541440   15   21    4  390    3   559    0    2    3  ...          1.0   \n",
       "2  2541480   20  131    4  228    3  3261    0    1    6  ...          3.0   \n",
       "3  2541780   18   73    2  317    3  3843    0    2    0  ...          1.0   \n",
       "4  2541833   15   44    4  519    3  5179    0    4    3  ...          1.0   \n",
       "\n",
       "   f_71_encode  f_72_encode  f_73_encode  f_74_encode  f_75_encode  \\\n",
       "0          2.0          4.0          4.0          3.0          9.0   \n",
       "1          0.0          0.0          0.0          0.0          9.0   \n",
       "2          0.0          1.0          0.0          0.0          9.0   \n",
       "3          0.0          0.0          0.0          0.0          3.0   \n",
       "4          0.0          0.0          0.0          3.0          9.0   \n",
       "\n",
       "   f_76_encode  f_77_encode  f_78_encode  f_79_encode  \n",
       "0          7.0          0.0          0.0          0.0  \n",
       "1          7.0          0.0          0.0          0.0  \n",
       "2          7.0          0.0          0.0          0.0  \n",
       "3          0.0          0.0          0.0          0.0  \n",
       "4          7.0          0.0          0.0          0.0  \n",
       "\n",
       "[5 rows x 120 columns]"
      ]
     },
     "execution_count": 21,
     "metadata": {},
     "output_type": "execute_result"
    }
   ],
   "source": [
    "data.head()"
   ]
  },
  {
   "cell_type": "code",
   "execution_count": 22,
   "metadata": {},
   "outputs": [],
   "source": [
    "# data.to_csv('./data/data_bins_10.csv', index=False)"
   ]
  },
  {
   "cell_type": "code",
   "execution_count": 23,
   "metadata": {},
   "outputs": [],
   "source": [
    "# data = pd.read_csv('./data/data_bins_10.csv')"
   ]
  },
  {
   "cell_type": "code",
   "execution_count": 107,
   "metadata": {},
   "outputs": [],
   "source": [
    "sparse_dim = 2\n",
    "dense_dim = 1"
   ]
  },
  {
   "cell_type": "code",
   "execution_count": 108,
   "metadata": {},
   "outputs": [],
   "source": [
    "# TODO: 去掉dense feature呢，这里没有归一化"
   ]
  },
  {
   "cell_type": "code",
   "execution_count": 109,
   "metadata": {},
   "outputs": [],
   "source": [
    "# fixlen_feature_columns = \\\n",
    "#     [SparseFeat(feat, vocabulary_size=data[feat].nunique(), embedding_dim=sparse_dim) for i, feat in enumerate(sparse_features)] + \\\n",
    "#     [SparseFeat(feat, vocabulary_size=dense_bins, embedding_dim=sparse_dim) for i, feat in enumerate(add_sparse_features)] + \\\n",
    "#     [DenseFeat(feat, dense_dim) for feat in dense_features]"
   ]
  },
  {
   "cell_type": "code",
   "execution_count": 110,
   "metadata": {},
   "outputs": [],
   "source": [
    "fixlen_feature_columns = \\\n",
    "    [SparseFeat(feat, vocabulary_size=data[feat].nunique(), embedding_dim=sparse_dim) for i, feat in enumerate(sparse_features)] + \\\n",
    "    [SparseFeat(feat, vocabulary_size=dense_bins, embedding_dim=sparse_dim) for i, feat in enumerate(add_sparse_features)]"
   ]
  },
  {
   "cell_type": "code",
   "execution_count": 111,
   "metadata": {},
   "outputs": [
    {
     "data": {
      "text/plain": [
       "[SparseFeat(name='f_1', vocabulary_size=23, embedding_dim=2, use_hash=False, dtype='int32', embedding_name='f_1', group_name='default_group'),\n",
       " SparseFeat(name='f_2', vocabulary_size=139, embedding_dim=2, use_hash=False, dtype='int32', embedding_name='f_2', group_name='default_group'),\n",
       " SparseFeat(name='f_3', vocabulary_size=5, embedding_dim=2, use_hash=False, dtype='int32', embedding_name='f_3', group_name='default_group'),\n",
       " SparseFeat(name='f_4', vocabulary_size=638, embedding_dim=2, use_hash=False, dtype='int32', embedding_name='f_4', group_name='default_group'),\n",
       " SparseFeat(name='f_5', vocabulary_size=6, embedding_dim=2, use_hash=False, dtype='int32', embedding_name='f_5', group_name='default_group'),\n",
       " SparseFeat(name='f_6', vocabulary_size=5234, embedding_dim=2, use_hash=False, dtype='int32', embedding_name='f_6', group_name='default_group'),\n",
       " SparseFeat(name='f_7', vocabulary_size=1, embedding_dim=2, use_hash=False, dtype='int32', embedding_name='f_7', group_name='default_group'),\n",
       " SparseFeat(name='f_8', vocabulary_size=6, embedding_dim=2, use_hash=False, dtype='int32', embedding_name='f_8', group_name='default_group'),\n",
       " SparseFeat(name='f_9', vocabulary_size=7, embedding_dim=2, use_hash=False, dtype='int32', embedding_name='f_9', group_name='default_group'),\n",
       " SparseFeat(name='f_10', vocabulary_size=3, embedding_dim=2, use_hash=False, dtype='int32', embedding_name='f_10', group_name='default_group'),\n",
       " SparseFeat(name='f_11', vocabulary_size=24, embedding_dim=2, use_hash=False, dtype='int32', embedding_name='f_11', group_name='default_group'),\n",
       " SparseFeat(name='f_12', vocabulary_size=26, embedding_dim=2, use_hash=False, dtype='int32', embedding_name='f_12', group_name='default_group'),\n",
       " SparseFeat(name='f_13', vocabulary_size=331, embedding_dim=2, use_hash=False, dtype='int32', embedding_name='f_13', group_name='default_group'),\n",
       " SparseFeat(name='f_14', vocabulary_size=19, embedding_dim=2, use_hash=False, dtype='int32', embedding_name='f_14', group_name='default_group'),\n",
       " SparseFeat(name='f_15', vocabulary_size=5854, embedding_dim=2, use_hash=False, dtype='int32', embedding_name='f_15', group_name='default_group'),\n",
       " SparseFeat(name='f_16', vocabulary_size=12, embedding_dim=2, use_hash=False, dtype='int32', embedding_name='f_16', group_name='default_group'),\n",
       " SparseFeat(name='f_17', vocabulary_size=49, embedding_dim=2, use_hash=False, dtype='int32', embedding_name='f_17', group_name='default_group'),\n",
       " SparseFeat(name='f_18', vocabulary_size=924, embedding_dim=2, use_hash=False, dtype='int32', embedding_name='f_18', group_name='default_group'),\n",
       " SparseFeat(name='f_19', vocabulary_size=19, embedding_dim=2, use_hash=False, dtype='int32', embedding_name='f_19', group_name='default_group'),\n",
       " SparseFeat(name='f_20', vocabulary_size=57, embedding_dim=2, use_hash=False, dtype='int32', embedding_name='f_20', group_name='default_group'),\n",
       " SparseFeat(name='f_21', vocabulary_size=35, embedding_dim=2, use_hash=False, dtype='int32', embedding_name='f_21', group_name='default_group'),\n",
       " SparseFeat(name='f_22', vocabulary_size=26, embedding_dim=2, use_hash=False, dtype='int32', embedding_name='f_22', group_name='default_group'),\n",
       " SparseFeat(name='f_23', vocabulary_size=4, embedding_dim=2, use_hash=False, dtype='int32', embedding_name='f_23', group_name='default_group'),\n",
       " SparseFeat(name='f_24', vocabulary_size=4, embedding_dim=2, use_hash=False, dtype='int32', embedding_name='f_24', group_name='default_group'),\n",
       " SparseFeat(name='f_25', vocabulary_size=3, embedding_dim=2, use_hash=False, dtype='int32', embedding_name='f_25', group_name='default_group'),\n",
       " SparseFeat(name='f_26', vocabulary_size=2, embedding_dim=2, use_hash=False, dtype='int32', embedding_name='f_26', group_name='default_group'),\n",
       " SparseFeat(name='f_27', vocabulary_size=2, embedding_dim=2, use_hash=False, dtype='int32', embedding_name='f_27', group_name='default_group'),\n",
       " SparseFeat(name='f_28', vocabulary_size=2, embedding_dim=2, use_hash=False, dtype='int32', embedding_name='f_28', group_name='default_group'),\n",
       " SparseFeat(name='f_29', vocabulary_size=2, embedding_dim=2, use_hash=False, dtype='int32', embedding_name='f_29', group_name='default_group'),\n",
       " SparseFeat(name='f_30', vocabulary_size=3, embedding_dim=2, use_hash=False, dtype='int32', embedding_name='f_30', group_name='default_group'),\n",
       " SparseFeat(name='f_31', vocabulary_size=3, embedding_dim=2, use_hash=False, dtype='int32', embedding_name='f_31', group_name='default_group'),\n",
       " SparseFeat(name='f_32', vocabulary_size=4, embedding_dim=2, use_hash=False, dtype='int32', embedding_name='f_32', group_name='default_group'),\n",
       " SparseFeat(name='f_33', vocabulary_size=2, embedding_dim=2, use_hash=False, dtype='int32', embedding_name='f_33', group_name='default_group'),\n",
       " SparseFeat(name='f_34', vocabulary_size=2, embedding_dim=2, use_hash=False, dtype='int32', embedding_name='f_34', group_name='default_group'),\n",
       " SparseFeat(name='f_35', vocabulary_size=2, embedding_dim=2, use_hash=False, dtype='int32', embedding_name='f_35', group_name='default_group'),\n",
       " SparseFeat(name='f_36', vocabulary_size=2, embedding_dim=2, use_hash=False, dtype='int32', embedding_name='f_36', group_name='default_group'),\n",
       " SparseFeat(name='f_37', vocabulary_size=2, embedding_dim=2, use_hash=False, dtype='int32', embedding_name='f_37', group_name='default_group'),\n",
       " SparseFeat(name='f_38', vocabulary_size=2, embedding_dim=2, use_hash=False, dtype='int32', embedding_name='f_38', group_name='default_group'),\n",
       " SparseFeat(name='f_39', vocabulary_size=2, embedding_dim=2, use_hash=False, dtype='int32', embedding_name='f_39', group_name='default_group'),\n",
       " SparseFeat(name='f_40', vocabulary_size=2, embedding_dim=2, use_hash=False, dtype='int32', embedding_name='f_40', group_name='default_group'),\n",
       " SparseFeat(name='f_41', vocabulary_size=2, embedding_dim=2, use_hash=False, dtype='int32', embedding_name='f_41', group_name='default_group'),\n",
       " SparseFeat(name='f_42_encode', vocabulary_size=10, embedding_dim=2, use_hash=False, dtype='int32', embedding_name='f_42_encode', group_name='default_group'),\n",
       " SparseFeat(name='f_43_encode', vocabulary_size=10, embedding_dim=2, use_hash=False, dtype='int32', embedding_name='f_43_encode', group_name='default_group'),\n",
       " SparseFeat(name='f_44_encode', vocabulary_size=10, embedding_dim=2, use_hash=False, dtype='int32', embedding_name='f_44_encode', group_name='default_group'),\n",
       " SparseFeat(name='f_45_encode', vocabulary_size=10, embedding_dim=2, use_hash=False, dtype='int32', embedding_name='f_45_encode', group_name='default_group'),\n",
       " SparseFeat(name='f_46_encode', vocabulary_size=10, embedding_dim=2, use_hash=False, dtype='int32', embedding_name='f_46_encode', group_name='default_group'),\n",
       " SparseFeat(name='f_47_encode', vocabulary_size=10, embedding_dim=2, use_hash=False, dtype='int32', embedding_name='f_47_encode', group_name='default_group'),\n",
       " SparseFeat(name='f_48_encode', vocabulary_size=10, embedding_dim=2, use_hash=False, dtype='int32', embedding_name='f_48_encode', group_name='default_group'),\n",
       " SparseFeat(name='f_49_encode', vocabulary_size=10, embedding_dim=2, use_hash=False, dtype='int32', embedding_name='f_49_encode', group_name='default_group'),\n",
       " SparseFeat(name='f_50_encode', vocabulary_size=10, embedding_dim=2, use_hash=False, dtype='int32', embedding_name='f_50_encode', group_name='default_group'),\n",
       " SparseFeat(name='f_51_encode', vocabulary_size=10, embedding_dim=2, use_hash=False, dtype='int32', embedding_name='f_51_encode', group_name='default_group'),\n",
       " SparseFeat(name='f_52_encode', vocabulary_size=10, embedding_dim=2, use_hash=False, dtype='int32', embedding_name='f_52_encode', group_name='default_group'),\n",
       " SparseFeat(name='f_53_encode', vocabulary_size=10, embedding_dim=2, use_hash=False, dtype='int32', embedding_name='f_53_encode', group_name='default_group'),\n",
       " SparseFeat(name='f_54_encode', vocabulary_size=10, embedding_dim=2, use_hash=False, dtype='int32', embedding_name='f_54_encode', group_name='default_group'),\n",
       " SparseFeat(name='f_55_encode', vocabulary_size=10, embedding_dim=2, use_hash=False, dtype='int32', embedding_name='f_55_encode', group_name='default_group'),\n",
       " SparseFeat(name='f_56_encode', vocabulary_size=10, embedding_dim=2, use_hash=False, dtype='int32', embedding_name='f_56_encode', group_name='default_group'),\n",
       " SparseFeat(name='f_57_encode', vocabulary_size=10, embedding_dim=2, use_hash=False, dtype='int32', embedding_name='f_57_encode', group_name='default_group'),\n",
       " SparseFeat(name='f_58_encode', vocabulary_size=10, embedding_dim=2, use_hash=False, dtype='int32', embedding_name='f_58_encode', group_name='default_group'),\n",
       " SparseFeat(name='f_59_encode', vocabulary_size=10, embedding_dim=2, use_hash=False, dtype='int32', embedding_name='f_59_encode', group_name='default_group'),\n",
       " SparseFeat(name='f_60_encode', vocabulary_size=10, embedding_dim=2, use_hash=False, dtype='int32', embedding_name='f_60_encode', group_name='default_group'),\n",
       " SparseFeat(name='f_61_encode', vocabulary_size=10, embedding_dim=2, use_hash=False, dtype='int32', embedding_name='f_61_encode', group_name='default_group'),\n",
       " SparseFeat(name='f_62_encode', vocabulary_size=10, embedding_dim=2, use_hash=False, dtype='int32', embedding_name='f_62_encode', group_name='default_group'),\n",
       " SparseFeat(name='f_63_encode', vocabulary_size=10, embedding_dim=2, use_hash=False, dtype='int32', embedding_name='f_63_encode', group_name='default_group'),\n",
       " SparseFeat(name='f_64_encode', vocabulary_size=10, embedding_dim=2, use_hash=False, dtype='int32', embedding_name='f_64_encode', group_name='default_group'),\n",
       " SparseFeat(name='f_65_encode', vocabulary_size=10, embedding_dim=2, use_hash=False, dtype='int32', embedding_name='f_65_encode', group_name='default_group'),\n",
       " SparseFeat(name='f_66_encode', vocabulary_size=10, embedding_dim=2, use_hash=False, dtype='int32', embedding_name='f_66_encode', group_name='default_group'),\n",
       " SparseFeat(name='f_67_encode', vocabulary_size=10, embedding_dim=2, use_hash=False, dtype='int32', embedding_name='f_67_encode', group_name='default_group'),\n",
       " SparseFeat(name='f_68_encode', vocabulary_size=10, embedding_dim=2, use_hash=False, dtype='int32', embedding_name='f_68_encode', group_name='default_group'),\n",
       " SparseFeat(name='f_69_encode', vocabulary_size=10, embedding_dim=2, use_hash=False, dtype='int32', embedding_name='f_69_encode', group_name='default_group'),\n",
       " SparseFeat(name='f_70_encode', vocabulary_size=10, embedding_dim=2, use_hash=False, dtype='int32', embedding_name='f_70_encode', group_name='default_group'),\n",
       " SparseFeat(name='f_71_encode', vocabulary_size=10, embedding_dim=2, use_hash=False, dtype='int32', embedding_name='f_71_encode', group_name='default_group'),\n",
       " SparseFeat(name='f_72_encode', vocabulary_size=10, embedding_dim=2, use_hash=False, dtype='int32', embedding_name='f_72_encode', group_name='default_group'),\n",
       " SparseFeat(name='f_73_encode', vocabulary_size=10, embedding_dim=2, use_hash=False, dtype='int32', embedding_name='f_73_encode', group_name='default_group'),\n",
       " SparseFeat(name='f_74_encode', vocabulary_size=10, embedding_dim=2, use_hash=False, dtype='int32', embedding_name='f_74_encode', group_name='default_group'),\n",
       " SparseFeat(name='f_75_encode', vocabulary_size=10, embedding_dim=2, use_hash=False, dtype='int32', embedding_name='f_75_encode', group_name='default_group'),\n",
       " SparseFeat(name='f_76_encode', vocabulary_size=10, embedding_dim=2, use_hash=False, dtype='int32', embedding_name='f_76_encode', group_name='default_group'),\n",
       " SparseFeat(name='f_77_encode', vocabulary_size=10, embedding_dim=2, use_hash=False, dtype='int32', embedding_name='f_77_encode', group_name='default_group'),\n",
       " SparseFeat(name='f_78_encode', vocabulary_size=10, embedding_dim=2, use_hash=False, dtype='int32', embedding_name='f_78_encode', group_name='default_group'),\n",
       " SparseFeat(name='f_79_encode', vocabulary_size=10, embedding_dim=2, use_hash=False, dtype='int32', embedding_name='f_79_encode', group_name='default_group')]"
      ]
     },
     "execution_count": 111,
     "metadata": {},
     "output_type": "execute_result"
    }
   ],
   "source": [
    "fixlen_feature_columns"
   ]
  },
  {
   "cell_type": "code",
   "execution_count": 112,
   "metadata": {},
   "outputs": [],
   "source": [
    "dnn_feature_columns = fixlen_feature_columns\n",
    "linear_feature_columns = fixlen_feature_columns\n",
    "\n",
    "feature_names = get_feature_names(linear_feature_columns + dnn_feature_columns)"
   ]
  },
  {
   "cell_type": "code",
   "execution_count": 113,
   "metadata": {},
   "outputs": [],
   "source": [
    "seed = 2023"
   ]
  },
  {
   "attachments": {},
   "cell_type": "markdown",
   "metadata": {},
   "source": [
    "单模训练"
   ]
  },
  {
   "cell_type": "code",
   "execution_count": 114,
   "metadata": {},
   "outputs": [],
   "source": [
    "seed = 2023\n",
    "device = 'cuda:0'\n",
    "model_name = 'NFM'\n",
    "batch_size = 256\n",
    "epochs = 50\n",
    "patience = 10"
   ]
  },
  {
   "cell_type": "code",
   "execution_count": 115,
   "metadata": {},
   "outputs": [],
   "source": [
    "train = data[~data['is_clicked'].isna()]\n",
    "test = data[data['is_clicked'].isna()]"
   ]
  },
  {
   "cell_type": "code",
   "execution_count": 116,
   "metadata": {},
   "outputs": [],
   "source": [
    "train_model_input = {name: train[name] for name in feature_names}\n",
    "test_model_input = {name: test[name] for name in feature_names}"
   ]
  },
  {
   "cell_type": "code",
   "execution_count": 117,
   "metadata": {},
   "outputs": [],
   "source": [
    "model = NFM(linear_feature_columns, dnn_feature_columns, task='binary', device=device, seed=seed, dnn_hidden_units=(256, 128))\n",
    "model.compile(\"adam\", \"binary_crossentropy\", metrics=['binary_crossentropy'])"
   ]
  },
  {
   "cell_type": "code",
   "execution_count": 118,
   "metadata": {},
   "outputs": [
    {
     "data": {
      "text/plain": [
       "NFM(\n",
       "  (embedding_dict): ModuleDict(\n",
       "    (f_1): Embedding(23, 2)\n",
       "    (f_2): Embedding(139, 2)\n",
       "    (f_3): Embedding(5, 2)\n",
       "    (f_4): Embedding(638, 2)\n",
       "    (f_5): Embedding(6, 2)\n",
       "    (f_6): Embedding(5234, 2)\n",
       "    (f_7): Embedding(1, 2)\n",
       "    (f_8): Embedding(6, 2)\n",
       "    (f_9): Embedding(7, 2)\n",
       "    (f_10): Embedding(3, 2)\n",
       "    (f_11): Embedding(24, 2)\n",
       "    (f_12): Embedding(26, 2)\n",
       "    (f_13): Embedding(331, 2)\n",
       "    (f_14): Embedding(19, 2)\n",
       "    (f_15): Embedding(5854, 2)\n",
       "    (f_16): Embedding(12, 2)\n",
       "    (f_17): Embedding(49, 2)\n",
       "    (f_18): Embedding(924, 2)\n",
       "    (f_19): Embedding(19, 2)\n",
       "    (f_20): Embedding(57, 2)\n",
       "    (f_21): Embedding(35, 2)\n",
       "    (f_22): Embedding(26, 2)\n",
       "    (f_23): Embedding(4, 2)\n",
       "    (f_24): Embedding(4, 2)\n",
       "    (f_25): Embedding(3, 2)\n",
       "    (f_26): Embedding(2, 2)\n",
       "    (f_27): Embedding(2, 2)\n",
       "    (f_28): Embedding(2, 2)\n",
       "    (f_29): Embedding(2, 2)\n",
       "    (f_30): Embedding(3, 2)\n",
       "    (f_31): Embedding(3, 2)\n",
       "    (f_32): Embedding(4, 2)\n",
       "    (f_33): Embedding(2, 2)\n",
       "    (f_34): Embedding(2, 2)\n",
       "    (f_35): Embedding(2, 2)\n",
       "    (f_36): Embedding(2, 2)\n",
       "    (f_37): Embedding(2, 2)\n",
       "    (f_38): Embedding(2, 2)\n",
       "    (f_39): Embedding(2, 2)\n",
       "    (f_40): Embedding(2, 2)\n",
       "    (f_41): Embedding(2, 2)\n",
       "    (f_42_encode): Embedding(10, 2)\n",
       "    (f_43_encode): Embedding(10, 2)\n",
       "    (f_44_encode): Embedding(10, 2)\n",
       "    (f_45_encode): Embedding(10, 2)\n",
       "    (f_46_encode): Embedding(10, 2)\n",
       "    (f_47_encode): Embedding(10, 2)\n",
       "    (f_48_encode): Embedding(10, 2)\n",
       "    (f_49_encode): Embedding(10, 2)\n",
       "    (f_50_encode): Embedding(10, 2)\n",
       "    (f_51_encode): Embedding(10, 2)\n",
       "    (f_52_encode): Embedding(10, 2)\n",
       "    (f_53_encode): Embedding(10, 2)\n",
       "    (f_54_encode): Embedding(10, 2)\n",
       "    (f_55_encode): Embedding(10, 2)\n",
       "    (f_56_encode): Embedding(10, 2)\n",
       "    (f_57_encode): Embedding(10, 2)\n",
       "    (f_58_encode): Embedding(10, 2)\n",
       "    (f_59_encode): Embedding(10, 2)\n",
       "    (f_60_encode): Embedding(10, 2)\n",
       "    (f_61_encode): Embedding(10, 2)\n",
       "    (f_62_encode): Embedding(10, 2)\n",
       "    (f_63_encode): Embedding(10, 2)\n",
       "    (f_64_encode): Embedding(10, 2)\n",
       "    (f_65_encode): Embedding(10, 2)\n",
       "    (f_66_encode): Embedding(10, 2)\n",
       "    (f_67_encode): Embedding(10, 2)\n",
       "    (f_68_encode): Embedding(10, 2)\n",
       "    (f_69_encode): Embedding(10, 2)\n",
       "    (f_70_encode): Embedding(10, 2)\n",
       "    (f_71_encode): Embedding(10, 2)\n",
       "    (f_72_encode): Embedding(10, 2)\n",
       "    (f_73_encode): Embedding(10, 2)\n",
       "    (f_74_encode): Embedding(10, 2)\n",
       "    (f_75_encode): Embedding(10, 2)\n",
       "    (f_76_encode): Embedding(10, 2)\n",
       "    (f_77_encode): Embedding(10, 2)\n",
       "    (f_78_encode): Embedding(10, 2)\n",
       "    (f_79_encode): Embedding(10, 2)\n",
       "  )\n",
       "  (linear_model): Linear(\n",
       "    (embedding_dict): ModuleDict(\n",
       "      (f_1): Embedding(23, 1)\n",
       "      (f_2): Embedding(139, 1)\n",
       "      (f_3): Embedding(5, 1)\n",
       "      (f_4): Embedding(638, 1)\n",
       "      (f_5): Embedding(6, 1)\n",
       "      (f_6): Embedding(5234, 1)\n",
       "      (f_7): Embedding(1, 1)\n",
       "      (f_8): Embedding(6, 1)\n",
       "      (f_9): Embedding(7, 1)\n",
       "      (f_10): Embedding(3, 1)\n",
       "      (f_11): Embedding(24, 1)\n",
       "      (f_12): Embedding(26, 1)\n",
       "      (f_13): Embedding(331, 1)\n",
       "      (f_14): Embedding(19, 1)\n",
       "      (f_15): Embedding(5854, 1)\n",
       "      (f_16): Embedding(12, 1)\n",
       "      (f_17): Embedding(49, 1)\n",
       "      (f_18): Embedding(924, 1)\n",
       "      (f_19): Embedding(19, 1)\n",
       "      (f_20): Embedding(57, 1)\n",
       "      (f_21): Embedding(35, 1)\n",
       "      (f_22): Embedding(26, 1)\n",
       "      (f_23): Embedding(4, 1)\n",
       "      (f_24): Embedding(4, 1)\n",
       "      (f_25): Embedding(3, 1)\n",
       "      (f_26): Embedding(2, 1)\n",
       "      (f_27): Embedding(2, 1)\n",
       "      (f_28): Embedding(2, 1)\n",
       "      (f_29): Embedding(2, 1)\n",
       "      (f_30): Embedding(3, 1)\n",
       "      (f_31): Embedding(3, 1)\n",
       "      (f_32): Embedding(4, 1)\n",
       "      (f_33): Embedding(2, 1)\n",
       "      (f_34): Embedding(2, 1)\n",
       "      (f_35): Embedding(2, 1)\n",
       "      (f_36): Embedding(2, 1)\n",
       "      (f_37): Embedding(2, 1)\n",
       "      (f_38): Embedding(2, 1)\n",
       "      (f_39): Embedding(2, 1)\n",
       "      (f_40): Embedding(2, 1)\n",
       "      (f_41): Embedding(2, 1)\n",
       "      (f_42_encode): Embedding(10, 1)\n",
       "      (f_43_encode): Embedding(10, 1)\n",
       "      (f_44_encode): Embedding(10, 1)\n",
       "      (f_45_encode): Embedding(10, 1)\n",
       "      (f_46_encode): Embedding(10, 1)\n",
       "      (f_47_encode): Embedding(10, 1)\n",
       "      (f_48_encode): Embedding(10, 1)\n",
       "      (f_49_encode): Embedding(10, 1)\n",
       "      (f_50_encode): Embedding(10, 1)\n",
       "      (f_51_encode): Embedding(10, 1)\n",
       "      (f_52_encode): Embedding(10, 1)\n",
       "      (f_53_encode): Embedding(10, 1)\n",
       "      (f_54_encode): Embedding(10, 1)\n",
       "      (f_55_encode): Embedding(10, 1)\n",
       "      (f_56_encode): Embedding(10, 1)\n",
       "      (f_57_encode): Embedding(10, 1)\n",
       "      (f_58_encode): Embedding(10, 1)\n",
       "      (f_59_encode): Embedding(10, 1)\n",
       "      (f_60_encode): Embedding(10, 1)\n",
       "      (f_61_encode): Embedding(10, 1)\n",
       "      (f_62_encode): Embedding(10, 1)\n",
       "      (f_63_encode): Embedding(10, 1)\n",
       "      (f_64_encode): Embedding(10, 1)\n",
       "      (f_65_encode): Embedding(10, 1)\n",
       "      (f_66_encode): Embedding(10, 1)\n",
       "      (f_67_encode): Embedding(10, 1)\n",
       "      (f_68_encode): Embedding(10, 1)\n",
       "      (f_69_encode): Embedding(10, 1)\n",
       "      (f_70_encode): Embedding(10, 1)\n",
       "      (f_71_encode): Embedding(10, 1)\n",
       "      (f_72_encode): Embedding(10, 1)\n",
       "      (f_73_encode): Embedding(10, 1)\n",
       "      (f_74_encode): Embedding(10, 1)\n",
       "      (f_75_encode): Embedding(10, 1)\n",
       "      (f_76_encode): Embedding(10, 1)\n",
       "      (f_77_encode): Embedding(10, 1)\n",
       "      (f_78_encode): Embedding(10, 1)\n",
       "      (f_79_encode): Embedding(10, 1)\n",
       "    )\n",
       "  )\n",
       "  (out): PredictionLayer()\n",
       "  (dnn): DNN(\n",
       "    (dropout): Dropout(p=0, inplace=False)\n",
       "    (linears): ModuleList(\n",
       "      (0): Linear(in_features=2, out_features=256, bias=True)\n",
       "      (1): Linear(in_features=256, out_features=128, bias=True)\n",
       "    )\n",
       "    (activation_layers): ModuleList(\n",
       "      (0): ReLU(inplace=True)\n",
       "      (1): ReLU(inplace=True)\n",
       "    )\n",
       "  )\n",
       "  (dnn_linear): Linear(in_features=128, out_features=1, bias=False)\n",
       "  (bi_pooling): BiInteractionPooling()\n",
       ")"
      ]
     },
     "execution_count": 118,
     "metadata": {},
     "output_type": "execute_result"
    }
   ],
   "source": [
    "model "
   ]
  },
  {
   "cell_type": "code",
   "execution_count": 119,
   "metadata": {},
   "outputs": [
    {
     "name": "stdout",
     "output_type": "stream",
     "text": [
      "cuda:0\n",
      "Train on 2788681 samples, validate on 697171 samples, 10894 steps per epoch\n"
     ]
    },
    {
     "name": "stderr",
     "output_type": "stream",
     "text": [
      "10894it [11:05, 16.37it/s]\n"
     ]
    },
    {
     "name": "stdout",
     "output_type": "stream",
     "text": [
      "Epoch 1/50\n",
      "688s - loss:  0.2963 - binary_crossentropy:  0.2963 - val_binary_crossentropy:  0.2803\n",
      "Epoch 00001: val_binary_crossentropy improved from inf to 0.28026, saving model to ckpt/NFM_2_Batch256_bins10_onlysparse.ckpt\n"
     ]
    },
    {
     "name": "stderr",
     "output_type": "stream",
     "text": [
      "10894it [11:02, 16.43it/s]\n"
     ]
    },
    {
     "name": "stdout",
     "output_type": "stream",
     "text": [
      "Epoch 2/50\n",
      "684s - loss:  0.2766 - binary_crossentropy:  0.2765 - val_binary_crossentropy:  0.2763\n",
      "Epoch 00002: val_binary_crossentropy improved from 0.28026 to 0.27634, saving model to ckpt/NFM_2_Batch256_bins10_onlysparse.ckpt\n"
     ]
    },
    {
     "name": "stderr",
     "output_type": "stream",
     "text": [
      "10894it [10:57, 16.58it/s]\n"
     ]
    },
    {
     "name": "stdout",
     "output_type": "stream",
     "text": [
      "Epoch 3/50\n",
      "678s - loss:  0.2745 - binary_crossentropy:  0.2744 - val_binary_crossentropy:  0.2763\n",
      "Epoch 00003: val_binary_crossentropy improved from 0.27634 to 0.27632, saving model to ckpt/NFM_2_Batch256_bins10_onlysparse.ckpt\n"
     ]
    },
    {
     "name": "stderr",
     "output_type": "stream",
     "text": [
      "10894it [11:09, 16.27it/s]\n"
     ]
    },
    {
     "name": "stdout",
     "output_type": "stream",
     "text": [
      "Epoch 4/50\n",
      "691s - loss:  0.2736 - binary_crossentropy:  0.2735 - val_binary_crossentropy:  0.2772\n",
      "Epoch 00004: val_binary_crossentropy did not improve from 0.27632\n"
     ]
    },
    {
     "name": "stderr",
     "output_type": "stream",
     "text": [
      "10894it [11:01, 16.46it/s]\n"
     ]
    },
    {
     "name": "stdout",
     "output_type": "stream",
     "text": [
      "Epoch 5/50\n",
      "683s - loss:  0.2730 - binary_crossentropy:  0.2728 - val_binary_crossentropy:  0.2743\n",
      "Epoch 00005: val_binary_crossentropy improved from 0.27632 to 0.27432, saving model to ckpt/NFM_2_Batch256_bins10_onlysparse.ckpt\n"
     ]
    },
    {
     "name": "stderr",
     "output_type": "stream",
     "text": [
      "10894it [11:05, 16.36it/s]\n"
     ]
    },
    {
     "name": "stdout",
     "output_type": "stream",
     "text": [
      "Epoch 6/50\n",
      "687s - loss:  0.2725 - binary_crossentropy:  0.2723 - val_binary_crossentropy:  0.2770\n",
      "Epoch 00006: val_binary_crossentropy did not improve from 0.27432\n"
     ]
    },
    {
     "name": "stderr",
     "output_type": "stream",
     "text": [
      "10894it [11:04, 16.39it/s]\n"
     ]
    },
    {
     "name": "stdout",
     "output_type": "stream",
     "text": [
      "Epoch 7/50\n",
      "686s - loss:  0.2722 - binary_crossentropy:  0.2720 - val_binary_crossentropy:  0.2746\n",
      "Epoch 00007: val_binary_crossentropy did not improve from 0.27432\n"
     ]
    },
    {
     "name": "stderr",
     "output_type": "stream",
     "text": [
      "10894it [10:50, 16.73it/s]\n"
     ]
    },
    {
     "name": "stdout",
     "output_type": "stream",
     "text": [
      "Epoch 8/50\n",
      "673s - loss:  0.2719 - binary_crossentropy:  0.2716 - val_binary_crossentropy:  0.2744\n",
      "Epoch 00008: val_binary_crossentropy did not improve from 0.27432\n"
     ]
    },
    {
     "name": "stderr",
     "output_type": "stream",
     "text": [
      "10894it [10:35, 17.15it/s]\n"
     ]
    },
    {
     "name": "stdout",
     "output_type": "stream",
     "text": [
      "Epoch 9/50\n",
      "657s - loss:  0.2718 - binary_crossentropy:  0.2714 - val_binary_crossentropy:  0.2744\n",
      "Epoch 00009: val_binary_crossentropy did not improve from 0.27432\n"
     ]
    },
    {
     "name": "stderr",
     "output_type": "stream",
     "text": [
      "10894it [11:09, 16.26it/s]\n"
     ]
    },
    {
     "name": "stdout",
     "output_type": "stream",
     "text": [
      "Epoch 10/50\n",
      "691s - loss:  0.2717 - binary_crossentropy:  0.2713 - val_binary_crossentropy:  0.2740\n",
      "Epoch 00010: val_binary_crossentropy improved from 0.27432 to 0.27403, saving model to ckpt/NFM_2_Batch256_bins10_onlysparse.ckpt\n"
     ]
    },
    {
     "name": "stderr",
     "output_type": "stream",
     "text": [
      "10894it [10:32, 17.24it/s]\n"
     ]
    },
    {
     "name": "stdout",
     "output_type": "stream",
     "text": [
      "Epoch 11/50\n",
      "654s - loss:  0.2715 - binary_crossentropy:  0.2711 - val_binary_crossentropy:  0.2754\n",
      "Epoch 00011: val_binary_crossentropy did not improve from 0.27403\n"
     ]
    },
    {
     "name": "stderr",
     "output_type": "stream",
     "text": [
      "10894it [10:53, 16.68it/s]\n"
     ]
    },
    {
     "name": "stdout",
     "output_type": "stream",
     "text": [
      "Epoch 12/50\n",
      "675s - loss:  0.2714 - binary_crossentropy:  0.2710 - val_binary_crossentropy:  0.2742\n",
      "Epoch 00012: val_binary_crossentropy did not improve from 0.27403\n"
     ]
    },
    {
     "name": "stderr",
     "output_type": "stream",
     "text": [
      "10894it [10:13, 17.74it/s]\n"
     ]
    },
    {
     "name": "stdout",
     "output_type": "stream",
     "text": [
      "Epoch 13/50\n",
      "635s - loss:  0.2714 - binary_crossentropy:  0.2709 - val_binary_crossentropy:  0.2751\n",
      "Epoch 00013: val_binary_crossentropy did not improve from 0.27403\n"
     ]
    },
    {
     "name": "stderr",
     "output_type": "stream",
     "text": [
      "10894it [10:41, 16.99it/s]\n"
     ]
    },
    {
     "name": "stdout",
     "output_type": "stream",
     "text": [
      "Epoch 14/50\n",
      "663s - loss:  0.2713 - binary_crossentropy:  0.2708 - val_binary_crossentropy:  0.2748\n",
      "Epoch 00014: val_binary_crossentropy did not improve from 0.27403\n"
     ]
    },
    {
     "name": "stderr",
     "output_type": "stream",
     "text": [
      "10894it [10:56, 16.59it/s]\n"
     ]
    },
    {
     "name": "stdout",
     "output_type": "stream",
     "text": [
      "Epoch 15/50\n",
      "678s - loss:  0.2713 - binary_crossentropy:  0.2707 - val_binary_crossentropy:  0.2749\n",
      "Epoch 00015: val_binary_crossentropy did not improve from 0.27403\n"
     ]
    },
    {
     "name": "stderr",
     "output_type": "stream",
     "text": [
      "10894it [11:18, 16.06it/s]\n"
     ]
    },
    {
     "name": "stdout",
     "output_type": "stream",
     "text": [
      "Epoch 16/50\n",
      "700s - loss:  0.2712 - binary_crossentropy:  0.2706 - val_binary_crossentropy:  0.2745\n",
      "Epoch 00016: val_binary_crossentropy did not improve from 0.27403\n"
     ]
    },
    {
     "name": "stderr",
     "output_type": "stream",
     "text": [
      "10894it [10:44, 16.91it/s]\n"
     ]
    },
    {
     "name": "stdout",
     "output_type": "stream",
     "text": [
      "Epoch 17/50\n",
      "666s - loss:  0.2712 - binary_crossentropy:  0.2706 - val_binary_crossentropy:  0.2739\n",
      "Epoch 00017: val_binary_crossentropy improved from 0.27403 to 0.27386, saving model to ckpt/NFM_2_Batch256_bins10_onlysparse.ckpt\n"
     ]
    },
    {
     "name": "stderr",
     "output_type": "stream",
     "text": [
      "10894it [11:07, 16.33it/s]\n"
     ]
    },
    {
     "name": "stdout",
     "output_type": "stream",
     "text": [
      "Epoch 18/50\n",
      "689s - loss:  0.2712 - binary_crossentropy:  0.2705 - val_binary_crossentropy:  0.2757\n",
      "Epoch 00018: val_binary_crossentropy did not improve from 0.27386\n"
     ]
    },
    {
     "name": "stderr",
     "output_type": "stream",
     "text": [
      "10894it [11:06, 16.34it/s]\n"
     ]
    },
    {
     "name": "stdout",
     "output_type": "stream",
     "text": [
      "Epoch 19/50\n",
      "688s - loss:  0.2712 - binary_crossentropy:  0.2705 - val_binary_crossentropy:  0.2735\n",
      "Epoch 00019: val_binary_crossentropy improved from 0.27386 to 0.27349, saving model to ckpt/NFM_2_Batch256_bins10_onlysparse.ckpt\n"
     ]
    },
    {
     "name": "stderr",
     "output_type": "stream",
     "text": [
      "10894it [10:41, 16.98it/s]\n"
     ]
    },
    {
     "name": "stdout",
     "output_type": "stream",
     "text": [
      "Epoch 20/50\n",
      "663s - loss:  0.2712 - binary_crossentropy:  0.2705 - val_binary_crossentropy:  0.2740\n",
      "Epoch 00020: val_binary_crossentropy did not improve from 0.27349\n"
     ]
    },
    {
     "name": "stderr",
     "output_type": "stream",
     "text": [
      "10894it [10:41, 16.97it/s]\n"
     ]
    },
    {
     "name": "stdout",
     "output_type": "stream",
     "text": [
      "Epoch 21/50\n",
      "663s - loss:  0.2712 - binary_crossentropy:  0.2704 - val_binary_crossentropy:  0.2741\n",
      "Epoch 00021: val_binary_crossentropy did not improve from 0.27349\n"
     ]
    },
    {
     "name": "stderr",
     "output_type": "stream",
     "text": [
      "10894it [10:20, 17.54it/s]\n"
     ]
    },
    {
     "name": "stdout",
     "output_type": "stream",
     "text": [
      "Epoch 22/50\n",
      "642s - loss:  0.2712 - binary_crossentropy:  0.2704 - val_binary_crossentropy:  0.2759\n",
      "Epoch 00022: val_binary_crossentropy did not improve from 0.27349\n"
     ]
    },
    {
     "name": "stderr",
     "output_type": "stream",
     "text": [
      "10894it [10:39, 17.04it/s]\n"
     ]
    },
    {
     "name": "stdout",
     "output_type": "stream",
     "text": [
      "Epoch 23/50\n",
      "660s - loss:  0.2712 - binary_crossentropy:  0.2703 - val_binary_crossentropy:  0.2739\n",
      "Epoch 00023: val_binary_crossentropy did not improve from 0.27349\n"
     ]
    },
    {
     "name": "stderr",
     "output_type": "stream",
     "text": [
      "10894it [10:38, 17.07it/s]\n"
     ]
    },
    {
     "name": "stdout",
     "output_type": "stream",
     "text": [
      "Epoch 24/50\n",
      "659s - loss:  0.2711 - binary_crossentropy:  0.2702 - val_binary_crossentropy:  0.2738\n",
      "Epoch 00024: val_binary_crossentropy did not improve from 0.27349\n"
     ]
    },
    {
     "name": "stderr",
     "output_type": "stream",
     "text": [
      "10894it [10:35, 17.14it/s]\n"
     ]
    },
    {
     "name": "stdout",
     "output_type": "stream",
     "text": [
      "Epoch 25/50\n",
      "657s - loss:  0.2712 - binary_crossentropy:  0.2703 - val_binary_crossentropy:  0.2745\n",
      "Epoch 00025: val_binary_crossentropy did not improve from 0.27349\n"
     ]
    },
    {
     "name": "stderr",
     "output_type": "stream",
     "text": [
      "10894it [10:38, 17.05it/s]\n"
     ]
    },
    {
     "name": "stdout",
     "output_type": "stream",
     "text": [
      "Epoch 26/50\n",
      "659s - loss:  0.2712 - binary_crossentropy:  0.2702 - val_binary_crossentropy:  0.2738\n",
      "Epoch 00026: val_binary_crossentropy did not improve from 0.27349\n"
     ]
    },
    {
     "name": "stderr",
     "output_type": "stream",
     "text": [
      "10894it [10:32, 17.23it/s]\n"
     ]
    },
    {
     "name": "stdout",
     "output_type": "stream",
     "text": [
      "Epoch 27/50\n",
      "657s - loss:  0.2712 - binary_crossentropy:  0.2702 - val_binary_crossentropy:  0.2743\n",
      "Epoch 00027: val_binary_crossentropy did not improve from 0.27349\n"
     ]
    },
    {
     "name": "stderr",
     "output_type": "stream",
     "text": [
      "10894it [10:40, 17.00it/s]\n"
     ]
    },
    {
     "name": "stdout",
     "output_type": "stream",
     "text": [
      "Epoch 28/50\n",
      "665s - loss:  0.2712 - binary_crossentropy:  0.2701 - val_binary_crossentropy:  0.2739\n",
      "Epoch 00028: val_binary_crossentropy did not improve from 0.27349\n"
     ]
    },
    {
     "name": "stderr",
     "output_type": "stream",
     "text": [
      "10894it [10:30, 17.27it/s]\n"
     ]
    },
    {
     "name": "stdout",
     "output_type": "stream",
     "text": [
      "Epoch 29/50\n",
      "655s - loss:  0.2712 - binary_crossentropy:  0.2701 - val_binary_crossentropy:  0.2743\n",
      "Epoch 00029: val_binary_crossentropy did not improve from 0.27349\n",
      "Epoch 00029: early stopping\n"
     ]
    }
   ],
   "source": [
    "es = EarlyStopping(monitor='val_binary_crossentropy', min_delta=0, verbose=1, patience=patience, mode='min')\n",
    "mdckpt = ModelCheckpoint(filepath='ckpt/{}_{}_Batch{}_bins{}_onlysparse.ckpt'.format(model_name, sparse_dim, batch_size, dense_bins), monitor='val_binary_crossentropy', verbose=1, save_best_only=True, mode='min')\n",
    "history = model.fit(train_model_input, train_data[target].values, batch_size=batch_size, epochs=epochs, verbose=1, validation_split=0.2, callbacks=[es,mdckpt])"
   ]
  },
  {
   "attachments": {},
   "cell_type": "markdown",
   "metadata": {},
   "source": [
    "单模测试"
   ]
  },
  {
   "cell_type": "code",
   "execution_count": 120,
   "metadata": {},
   "outputs": [],
   "source": [
    "model = torch.load('ckpt/{}_{}_Batch{}_bins{}_onlysparse.ckpt'.format(model_name, sparse_dim, batch_size, dense_bins))"
   ]
  },
  {
   "cell_type": "code",
   "execution_count": 121,
   "metadata": {},
   "outputs": [],
   "source": [
    "pred_ans = model.predict(test_model_input, batch_size=batch_size)"
   ]
  },
  {
   "cell_type": "code",
   "execution_count": 122,
   "metadata": {},
   "outputs": [
    {
     "data": {
      "text/plain": [
       "(8.274904394056648e-05, 0.9838287830352783)"
      ]
     },
     "execution_count": 122,
     "metadata": {},
     "output_type": "execute_result"
    }
   ],
   "source": [
    "pred_ans.min(), pred_ans.max()"
   ]
  },
  {
   "cell_type": "code",
   "execution_count": 123,
   "metadata": {},
   "outputs": [],
   "source": [
    "pred_oof = model.predict(train_model_input, batch_size=batch_size)"
   ]
  },
  {
   "cell_type": "code",
   "execution_count": 124,
   "metadata": {},
   "outputs": [
    {
     "name": "stdout",
     "output_type": "stream",
     "text": [
      "Logloss: 0.2694, AUC: 0.9018, Precision: 0.7892, Recall: 0.4817, F1 Score: 0.5983\n"
     ]
    }
   ],
   "source": [
    "logloss = metrics.log_loss(train_data[target], pred_oof)\n",
    "acc = metrics.roc_auc_score(train_data[target], pred_oof)\n",
    "precision = metrics.precision_score(train_data[target], [1 if i >= 0.5 else 0 for i in pred_oof])\n",
    "recall = metrics.recall_score(train_data[target], [1 if i >= 0.5 else 0 for i in pred_oof])\n",
    "f1 = metrics.f1_score(train_data[target], [1 if i >= 0.5 else 0 for i in pred_oof])\n",
    "\n",
    "print(f\"Logloss: {logloss:.4f}, AUC: {acc:.4f}, Precision: {precision:.4f}, Recall: {recall:.4f}, F1 Score: {f1:.4f}\")"
   ]
  },
  {
   "cell_type": "code",
   "execution_count": 125,
   "metadata": {},
   "outputs": [],
   "source": [
    "submission = pd.DataFrame()\n",
    "submission[\"RowId\"] = test_data[\"f_0\"]\n",
    "submission[\"is_clicked\"] = np.random.random((test_data.shape[0]))\n",
    "submission[\"is_installed\"] = pred_ans\n",
    "submission.to_csv('./output/{}_{}_{}_{}_{}_Batch{}_bins{}_onlysparse.csv'.format(model_name, seed, len(feature_names), sparse_dim, dense_dim, batch_size, dense_bins), index=False, sep='\\t')"
   ]
  },
  {
   "attachments": {},
   "cell_type": "markdown",
   "metadata": {},
   "source": [
    "交叉验证"
   ]
  },
  {
   "cell_type": "code",
   "execution_count": 50,
   "metadata": {},
   "outputs": [],
   "source": [
    "K = 5\n",
    "seed = 2023\n",
    "device = 'cuda:0'\n",
    "model_name = 'NFM'\n",
    "batch_size = 2048\n",
    "epochs = 50\n",
    "patience = 10"
   ]
  },
  {
   "cell_type": "code",
   "execution_count": 51,
   "metadata": {},
   "outputs": [],
   "source": [
    "train = data[~data['is_installed'].isna()]\n",
    "test = data[data['is_installed'].isna()]\n",
    "label = train['is_installed'].astype('int')"
   ]
  },
  {
   "cell_type": "code",
   "execution_count": 52,
   "metadata": {},
   "outputs": [
    {
     "name": "stdout",
     "output_type": "stream",
     "text": [
      "79\n"
     ]
    }
   ],
   "source": [
    "KF = StratifiedKFold(n_splits=K, random_state=seed, shuffle=True)\n",
    "oof_ins = np.zeros(len(train))\n",
    "predictions_ins = np.zeros((len(test)))\n",
    "print(len(feature_names))"
   ]
  },
  {
   "cell_type": "code",
   "execution_count": 55,
   "metadata": {},
   "outputs": [
    {
     "name": "stdout",
     "output_type": "stream",
     "text": [
      "fold n°0\n",
      "NFM 2788681 697171 79\n",
      "cuda:0\n",
      "Train on 2788681 samples, validate on 697171 samples, 1362 steps per epoch\n"
     ]
    },
    {
     "name": "stderr",
     "output_type": "stream",
     "text": [
      "100%|██████████| 1362/1362 [01:55<00:00, 11.77it/s]\n"
     ]
    },
    {
     "name": "stdout",
     "output_type": "stream",
     "text": [
      "Epoch 1/50\n",
      "125s - loss:  0.3081 - binary_crossentropy:  0.3081 - val_binary_crossentropy:  0.2799\n",
      "Epoch 00001: val_binary_crossentropy improved from inf to 0.27988, saving model to ckpt/NFM_16_fold0.ckpt\n"
     ]
    },
    {
     "name": "stderr",
     "output_type": "stream",
     "text": [
      "100%|██████████| 1362/1362 [01:52<00:00, 12.15it/s]\n"
     ]
    },
    {
     "name": "stdout",
     "output_type": "stream",
     "text": [
      "Epoch 2/50\n",
      "121s - loss:  0.2765 - binary_crossentropy:  0.2765 - val_binary_crossentropy:  0.2741\n",
      "Epoch 00002: val_binary_crossentropy improved from 0.27988 to 0.27411, saving model to ckpt/NFM_16_fold0.ckpt\n"
     ]
    },
    {
     "name": "stderr",
     "output_type": "stream",
     "text": [
      "100%|██████████| 1362/1362 [01:52<00:00, 12.07it/s]\n"
     ]
    },
    {
     "name": "stdout",
     "output_type": "stream",
     "text": [
      "Epoch 3/50\n",
      "122s - loss:  0.2706 - binary_crossentropy:  0.2706 - val_binary_crossentropy:  0.2709\n",
      "Epoch 00003: val_binary_crossentropy improved from 0.27411 to 0.27091, saving model to ckpt/NFM_16_fold0.ckpt\n"
     ]
    },
    {
     "name": "stderr",
     "output_type": "stream",
     "text": [
      "100%|██████████| 1362/1362 [01:51<00:00, 12.19it/s]\n"
     ]
    },
    {
     "name": "stdout",
     "output_type": "stream",
     "text": [
      "Epoch 4/50\n",
      "121s - loss:  0.2665 - binary_crossentropy:  0.2665 - val_binary_crossentropy:  0.2687\n",
      "Epoch 00004: val_binary_crossentropy improved from 0.27091 to 0.26866, saving model to ckpt/NFM_16_fold0.ckpt\n"
     ]
    },
    {
     "name": "stderr",
     "output_type": "stream",
     "text": [
      "100%|██████████| 1362/1362 [01:50<00:00, 12.28it/s]\n"
     ]
    },
    {
     "name": "stdout",
     "output_type": "stream",
     "text": [
      "Epoch 5/50\n",
      "120s - loss:  0.2627 - binary_crossentropy:  0.2627 - val_binary_crossentropy:  0.2663\n",
      "Epoch 00005: val_binary_crossentropy improved from 0.26866 to 0.26630, saving model to ckpt/NFM_16_fold0.ckpt\n"
     ]
    },
    {
     "name": "stderr",
     "output_type": "stream",
     "text": [
      "100%|██████████| 1362/1362 [01:53<00:00, 12.05it/s]\n"
     ]
    },
    {
     "name": "stdout",
     "output_type": "stream",
     "text": [
      "Epoch 6/50\n",
      "122s - loss:  0.2592 - binary_crossentropy:  0.2591 - val_binary_crossentropy:  0.2671\n",
      "Epoch 00006: val_binary_crossentropy did not improve from 0.26630\n"
     ]
    },
    {
     "name": "stderr",
     "output_type": "stream",
     "text": [
      "100%|██████████| 1362/1362 [01:51<00:00, 12.16it/s]\n"
     ]
    },
    {
     "name": "stdout",
     "output_type": "stream",
     "text": [
      "Epoch 7/50\n",
      "121s - loss:  0.2568 - binary_crossentropy:  0.2568 - val_binary_crossentropy:  0.2649\n",
      "Epoch 00007: val_binary_crossentropy improved from 0.26630 to 0.26492, saving model to ckpt/NFM_16_fold0.ckpt\n"
     ]
    },
    {
     "name": "stderr",
     "output_type": "stream",
     "text": [
      "100%|██████████| 1362/1362 [01:53<00:00, 11.98it/s]\n"
     ]
    },
    {
     "name": "stdout",
     "output_type": "stream",
     "text": [
      "Epoch 8/50\n",
      "122s - loss:  0.2548 - binary_crossentropy:  0.2548 - val_binary_crossentropy:  0.2647\n",
      "Epoch 00008: val_binary_crossentropy improved from 0.26492 to 0.26470, saving model to ckpt/NFM_16_fold0.ckpt\n"
     ]
    },
    {
     "name": "stderr",
     "output_type": "stream",
     "text": [
      "100%|██████████| 1362/1362 [01:51<00:00, 12.22it/s]\n"
     ]
    },
    {
     "name": "stdout",
     "output_type": "stream",
     "text": [
      "Epoch 9/50\n",
      "120s - loss:  0.2532 - binary_crossentropy:  0.2532 - val_binary_crossentropy:  0.2652\n",
      "Epoch 00009: val_binary_crossentropy did not improve from 0.26470\n"
     ]
    },
    {
     "name": "stderr",
     "output_type": "stream",
     "text": [
      "100%|██████████| 1362/1362 [01:50<00:00, 12.34it/s]\n"
     ]
    },
    {
     "name": "stdout",
     "output_type": "stream",
     "text": [
      "Epoch 10/50\n",
      "119s - loss:  0.2519 - binary_crossentropy:  0.2518 - val_binary_crossentropy:  0.2642\n",
      "Epoch 00010: val_binary_crossentropy improved from 0.26470 to 0.26423, saving model to ckpt/NFM_16_fold0.ckpt\n"
     ]
    },
    {
     "name": "stderr",
     "output_type": "stream",
     "text": [
      "100%|██████████| 1362/1362 [01:54<00:00, 11.89it/s]\n"
     ]
    },
    {
     "name": "stdout",
     "output_type": "stream",
     "text": [
      "Epoch 11/50\n",
      "123s - loss:  0.2508 - binary_crossentropy:  0.2508 - val_binary_crossentropy:  0.2664\n",
      "Epoch 00011: val_binary_crossentropy did not improve from 0.26423\n"
     ]
    },
    {
     "name": "stderr",
     "output_type": "stream",
     "text": [
      "100%|██████████| 1362/1362 [01:50<00:00, 12.30it/s]\n"
     ]
    },
    {
     "name": "stdout",
     "output_type": "stream",
     "text": [
      "Epoch 12/50\n",
      "120s - loss:  0.2498 - binary_crossentropy:  0.2498 - val_binary_crossentropy:  0.2649\n",
      "Epoch 00012: val_binary_crossentropy did not improve from 0.26423\n"
     ]
    },
    {
     "name": "stderr",
     "output_type": "stream",
     "text": [
      "100%|██████████| 1362/1362 [01:53<00:00, 11.96it/s]\n"
     ]
    },
    {
     "name": "stdout",
     "output_type": "stream",
     "text": [
      "Epoch 13/50\n",
      "122s - loss:  0.2490 - binary_crossentropy:  0.2489 - val_binary_crossentropy:  0.2655\n",
      "Epoch 00013: val_binary_crossentropy did not improve from 0.26423\n"
     ]
    },
    {
     "name": "stderr",
     "output_type": "stream",
     "text": [
      "100%|██████████| 1362/1362 [01:51<00:00, 12.24it/s]\n"
     ]
    },
    {
     "name": "stdout",
     "output_type": "stream",
     "text": [
      "Epoch 14/50\n",
      "120s - loss:  0.2484 - binary_crossentropy:  0.2483 - val_binary_crossentropy:  0.2664\n",
      "Epoch 00014: val_binary_crossentropy did not improve from 0.26423\n"
     ]
    },
    {
     "name": "stderr",
     "output_type": "stream",
     "text": [
      "100%|██████████| 1362/1362 [01:49<00:00, 12.41it/s]\n"
     ]
    },
    {
     "name": "stdout",
     "output_type": "stream",
     "text": [
      "Epoch 15/50\n",
      "119s - loss:  0.2476 - binary_crossentropy:  0.2476 - val_binary_crossentropy:  0.2653\n",
      "Epoch 00015: val_binary_crossentropy did not improve from 0.26423\n"
     ]
    },
    {
     "name": "stderr",
     "output_type": "stream",
     "text": [
      "100%|██████████| 1362/1362 [01:53<00:00, 12.01it/s]\n"
     ]
    },
    {
     "name": "stdout",
     "output_type": "stream",
     "text": [
      "Epoch 16/50\n",
      "122s - loss:  0.2471 - binary_crossentropy:  0.2470 - val_binary_crossentropy:  0.2680\n",
      "Epoch 00016: val_binary_crossentropy did not improve from 0.26423\n"
     ]
    },
    {
     "name": "stderr",
     "output_type": "stream",
     "text": [
      "100%|██████████| 1362/1362 [01:50<00:00, 12.38it/s]\n"
     ]
    },
    {
     "name": "stdout",
     "output_type": "stream",
     "text": [
      "Epoch 17/50\n",
      "119s - loss:  0.2465 - binary_crossentropy:  0.2464 - val_binary_crossentropy:  0.2658\n",
      "Epoch 00017: val_binary_crossentropy did not improve from 0.26423\n"
     ]
    },
    {
     "name": "stderr",
     "output_type": "stream",
     "text": [
      "100%|██████████| 1362/1362 [01:50<00:00, 12.37it/s]\n"
     ]
    },
    {
     "name": "stdout",
     "output_type": "stream",
     "text": [
      "Epoch 18/50\n",
      "120s - loss:  0.2460 - binary_crossentropy:  0.2459 - val_binary_crossentropy:  0.2679\n",
      "Epoch 00018: val_binary_crossentropy did not improve from 0.26423\n"
     ]
    },
    {
     "name": "stderr",
     "output_type": "stream",
     "text": [
      "100%|██████████| 1362/1362 [01:50<00:00, 12.32it/s]\n"
     ]
    },
    {
     "name": "stdout",
     "output_type": "stream",
     "text": [
      "Epoch 19/50\n",
      "119s - loss:  0.2455 - binary_crossentropy:  0.2454 - val_binary_crossentropy:  0.2699\n",
      "Epoch 00019: val_binary_crossentropy did not improve from 0.26423\n"
     ]
    },
    {
     "name": "stderr",
     "output_type": "stream",
     "text": [
      "100%|██████████| 1362/1362 [01:47<00:00, 12.70it/s]\n"
     ]
    },
    {
     "name": "stdout",
     "output_type": "stream",
     "text": [
      "Epoch 20/50\n",
      "116s - loss:  0.2450 - binary_crossentropy:  0.2449 - val_binary_crossentropy:  0.2700\n",
      "Epoch 00020: val_binary_crossentropy did not improve from 0.26423\n",
      "Epoch 00020: early stopping\n",
      "fold n°1\n",
      "NFM 2788681 697171 79\n",
      "cuda:0\n",
      "Train on 2788681 samples, validate on 697171 samples, 1362 steps per epoch\n"
     ]
    },
    {
     "name": "stderr",
     "output_type": "stream",
     "text": [
      "100%|██████████| 1362/1362 [01:45<00:00, 12.89it/s]\n"
     ]
    },
    {
     "name": "stdout",
     "output_type": "stream",
     "text": [
      "Epoch 1/50\n",
      "114s - loss:  0.3089 - binary_crossentropy:  0.3089 - val_binary_crossentropy:  0.2818\n",
      "Epoch 00001: val_binary_crossentropy improved from inf to 0.28184, saving model to ckpt/NFM_16_fold1.ckpt\n"
     ]
    },
    {
     "name": "stderr",
     "output_type": "stream",
     "text": [
      "100%|██████████| 1362/1362 [01:45<00:00, 12.93it/s]\n"
     ]
    },
    {
     "name": "stdout",
     "output_type": "stream",
     "text": [
      "Epoch 2/50\n",
      "114s - loss:  0.2762 - binary_crossentropy:  0.2762 - val_binary_crossentropy:  0.2739\n",
      "Epoch 00002: val_binary_crossentropy improved from 0.28184 to 0.27387, saving model to ckpt/NFM_16_fold1.ckpt\n"
     ]
    },
    {
     "name": "stderr",
     "output_type": "stream",
     "text": [
      "100%|██████████| 1362/1362 [01:46<00:00, 12.80it/s]\n"
     ]
    },
    {
     "name": "stdout",
     "output_type": "stream",
     "text": [
      "Epoch 3/50\n",
      "116s - loss:  0.2698 - binary_crossentropy:  0.2698 - val_binary_crossentropy:  0.2709\n",
      "Epoch 00003: val_binary_crossentropy improved from 0.27387 to 0.27094, saving model to ckpt/NFM_16_fold1.ckpt\n"
     ]
    },
    {
     "name": "stderr",
     "output_type": "stream",
     "text": [
      "100%|██████████| 1362/1362 [01:46<00:00, 12.75it/s]\n"
     ]
    },
    {
     "name": "stdout",
     "output_type": "stream",
     "text": [
      "Epoch 4/50\n",
      "115s - loss:  0.2660 - binary_crossentropy:  0.2660 - val_binary_crossentropy:  0.2686\n",
      "Epoch 00004: val_binary_crossentropy improved from 0.27094 to 0.26857, saving model to ckpt/NFM_16_fold1.ckpt\n"
     ]
    },
    {
     "name": "stderr",
     "output_type": "stream",
     "text": [
      "100%|██████████| 1362/1362 [01:45<00:00, 12.86it/s]\n"
     ]
    },
    {
     "name": "stdout",
     "output_type": "stream",
     "text": [
      "Epoch 5/50\n",
      "114s - loss:  0.2628 - binary_crossentropy:  0.2628 - val_binary_crossentropy:  0.2680\n",
      "Epoch 00005: val_binary_crossentropy improved from 0.26857 to 0.26797, saving model to ckpt/NFM_16_fold1.ckpt\n"
     ]
    },
    {
     "name": "stderr",
     "output_type": "stream",
     "text": [
      "100%|██████████| 1362/1362 [01:49<00:00, 12.39it/s]\n"
     ]
    },
    {
     "name": "stdout",
     "output_type": "stream",
     "text": [
      "Epoch 6/50\n",
      "118s - loss:  0.2593 - binary_crossentropy:  0.2593 - val_binary_crossentropy:  0.2649\n",
      "Epoch 00006: val_binary_crossentropy improved from 0.26797 to 0.26491, saving model to ckpt/NFM_16_fold1.ckpt\n"
     ]
    },
    {
     "name": "stderr",
     "output_type": "stream",
     "text": [
      "100%|██████████| 1362/1362 [01:46<00:00, 12.77it/s]\n"
     ]
    },
    {
     "name": "stdout",
     "output_type": "stream",
     "text": [
      "Epoch 7/50\n",
      "115s - loss:  0.2570 - binary_crossentropy:  0.2570 - val_binary_crossentropy:  0.2652\n",
      "Epoch 00007: val_binary_crossentropy did not improve from 0.26491\n"
     ]
    },
    {
     "name": "stderr",
     "output_type": "stream",
     "text": [
      "100%|██████████| 1362/1362 [01:47<00:00, 12.69it/s]\n"
     ]
    },
    {
     "name": "stdout",
     "output_type": "stream",
     "text": [
      "Epoch 8/50\n",
      "117s - loss:  0.2550 - binary_crossentropy:  0.2549 - val_binary_crossentropy:  0.2646\n",
      "Epoch 00008: val_binary_crossentropy improved from 0.26491 to 0.26458, saving model to ckpt/NFM_16_fold1.ckpt\n"
     ]
    },
    {
     "name": "stderr",
     "output_type": "stream",
     "text": [
      "100%|██████████| 1362/1362 [01:53<00:00, 12.01it/s]\n"
     ]
    },
    {
     "name": "stdout",
     "output_type": "stream",
     "text": [
      "Epoch 9/50\n",
      "122s - loss:  0.2534 - binary_crossentropy:  0.2534 - val_binary_crossentropy:  0.2641\n",
      "Epoch 00009: val_binary_crossentropy improved from 0.26458 to 0.26413, saving model to ckpt/NFM_16_fold1.ckpt\n"
     ]
    },
    {
     "name": "stderr",
     "output_type": "stream",
     "text": [
      "100%|██████████| 1362/1362 [01:47<00:00, 12.67it/s]\n"
     ]
    },
    {
     "name": "stdout",
     "output_type": "stream",
     "text": [
      "Epoch 10/50\n",
      "116s - loss:  0.2522 - binary_crossentropy:  0.2521 - val_binary_crossentropy:  0.2651\n",
      "Epoch 00010: val_binary_crossentropy did not improve from 0.26413\n"
     ]
    },
    {
     "name": "stderr",
     "output_type": "stream",
     "text": [
      "100%|██████████| 1362/1362 [01:49<00:00, 12.49it/s]\n"
     ]
    },
    {
     "name": "stdout",
     "output_type": "stream",
     "text": [
      "Epoch 11/50\n",
      "118s - loss:  0.2511 - binary_crossentropy:  0.2510 - val_binary_crossentropy:  0.2643\n",
      "Epoch 00011: val_binary_crossentropy did not improve from 0.26413\n"
     ]
    },
    {
     "name": "stderr",
     "output_type": "stream",
     "text": [
      "100%|██████████| 1362/1362 [01:46<00:00, 12.77it/s]\n"
     ]
    },
    {
     "name": "stdout",
     "output_type": "stream",
     "text": [
      "Epoch 12/50\n",
      "116s - loss:  0.2501 - binary_crossentropy:  0.2500 - val_binary_crossentropy:  0.2654\n",
      "Epoch 00012: val_binary_crossentropy did not improve from 0.26413\n"
     ]
    },
    {
     "name": "stderr",
     "output_type": "stream",
     "text": [
      "100%|██████████| 1362/1362 [01:47<00:00, 12.71it/s]\n"
     ]
    },
    {
     "name": "stdout",
     "output_type": "stream",
     "text": [
      "Epoch 13/50\n",
      "116s - loss:  0.2493 - binary_crossentropy:  0.2493 - val_binary_crossentropy:  0.2652\n",
      "Epoch 00013: val_binary_crossentropy did not improve from 0.26413\n"
     ]
    },
    {
     "name": "stderr",
     "output_type": "stream",
     "text": [
      "100%|██████████| 1362/1362 [01:47<00:00, 12.64it/s]\n"
     ]
    },
    {
     "name": "stdout",
     "output_type": "stream",
     "text": [
      "Epoch 14/50\n",
      "116s - loss:  0.2485 - binary_crossentropy:  0.2485 - val_binary_crossentropy:  0.2656\n",
      "Epoch 00014: val_binary_crossentropy did not improve from 0.26413\n"
     ]
    },
    {
     "name": "stderr",
     "output_type": "stream",
     "text": [
      "100%|██████████| 1362/1362 [01:46<00:00, 12.74it/s]\n"
     ]
    },
    {
     "name": "stdout",
     "output_type": "stream",
     "text": [
      "Epoch 15/50\n",
      "116s - loss:  0.2479 - binary_crossentropy:  0.2478 - val_binary_crossentropy:  0.2656\n",
      "Epoch 00015: val_binary_crossentropy did not improve from 0.26413\n"
     ]
    },
    {
     "name": "stderr",
     "output_type": "stream",
     "text": [
      "100%|██████████| 1362/1362 [01:46<00:00, 12.74it/s]\n"
     ]
    },
    {
     "name": "stdout",
     "output_type": "stream",
     "text": [
      "Epoch 16/50\n",
      "116s - loss:  0.2473 - binary_crossentropy:  0.2472 - val_binary_crossentropy:  0.2661\n",
      "Epoch 00016: val_binary_crossentropy did not improve from 0.26413\n"
     ]
    },
    {
     "name": "stderr",
     "output_type": "stream",
     "text": [
      "100%|██████████| 1362/1362 [01:47<00:00, 12.70it/s]\n"
     ]
    },
    {
     "name": "stdout",
     "output_type": "stream",
     "text": [
      "Epoch 17/50\n",
      "116s - loss:  0.2467 - binary_crossentropy:  0.2466 - val_binary_crossentropy:  0.2673\n",
      "Epoch 00017: val_binary_crossentropy did not improve from 0.26413\n"
     ]
    },
    {
     "name": "stderr",
     "output_type": "stream",
     "text": [
      "100%|██████████| 1362/1362 [01:46<00:00, 12.73it/s]\n"
     ]
    },
    {
     "name": "stdout",
     "output_type": "stream",
     "text": [
      "Epoch 18/50\n",
      "115s - loss:  0.2461 - binary_crossentropy:  0.2460 - val_binary_crossentropy:  0.2675\n",
      "Epoch 00018: val_binary_crossentropy did not improve from 0.26413\n"
     ]
    },
    {
     "name": "stderr",
     "output_type": "stream",
     "text": [
      "100%|██████████| 1362/1362 [01:49<00:00, 12.48it/s]\n"
     ]
    },
    {
     "name": "stdout",
     "output_type": "stream",
     "text": [
      "Epoch 19/50\n",
      "118s - loss:  0.2456 - binary_crossentropy:  0.2455 - val_binary_crossentropy:  0.2693\n",
      "Epoch 00019: val_binary_crossentropy did not improve from 0.26413\n",
      "Epoch 00019: early stopping\n",
      "fold n°2\n",
      "NFM 2788682 697170 79\n",
      "cuda:0\n",
      "Train on 2788682 samples, validate on 697170 samples, 1362 steps per epoch\n"
     ]
    },
    {
     "name": "stderr",
     "output_type": "stream",
     "text": [
      "100%|██████████| 1362/1362 [01:46<00:00, 12.80it/s]\n"
     ]
    },
    {
     "name": "stdout",
     "output_type": "stream",
     "text": [
      "Epoch 1/50\n",
      "115s - loss:  0.3061 - binary_crossentropy:  0.3061 - val_binary_crossentropy:  0.2808\n",
      "Epoch 00001: val_binary_crossentropy improved from inf to 0.28077, saving model to ckpt/NFM_16_fold2.ckpt\n"
     ]
    },
    {
     "name": "stderr",
     "output_type": "stream",
     "text": [
      "100%|██████████| 1362/1362 [01:47<00:00, 12.72it/s]\n"
     ]
    },
    {
     "name": "stdout",
     "output_type": "stream",
     "text": [
      "Epoch 2/50\n",
      "115s - loss:  0.2765 - binary_crossentropy:  0.2764 - val_binary_crossentropy:  0.2774\n",
      "Epoch 00002: val_binary_crossentropy improved from 0.28077 to 0.27736, saving model to ckpt/NFM_16_fold2.ckpt\n"
     ]
    },
    {
     "name": "stderr",
     "output_type": "stream",
     "text": [
      "100%|██████████| 1362/1362 [01:49<00:00, 12.48it/s]\n"
     ]
    },
    {
     "name": "stdout",
     "output_type": "stream",
     "text": [
      "Epoch 3/50\n",
      "118s - loss:  0.2715 - binary_crossentropy:  0.2715 - val_binary_crossentropy:  0.2749\n",
      "Epoch 00003: val_binary_crossentropy improved from 0.27736 to 0.27491, saving model to ckpt/NFM_16_fold2.ckpt\n"
     ]
    },
    {
     "name": "stderr",
     "output_type": "stream",
     "text": [
      "100%|██████████| 1362/1362 [01:48<00:00, 12.53it/s]\n"
     ]
    },
    {
     "name": "stdout",
     "output_type": "stream",
     "text": [
      "Epoch 4/50\n",
      "117s - loss:  0.2670 - binary_crossentropy:  0.2669 - val_binary_crossentropy:  0.2700\n",
      "Epoch 00004: val_binary_crossentropy improved from 0.27491 to 0.26999, saving model to ckpt/NFM_16_fold2.ckpt\n"
     ]
    },
    {
     "name": "stderr",
     "output_type": "stream",
     "text": [
      "100%|██████████| 1362/1362 [01:49<00:00, 12.46it/s]\n"
     ]
    },
    {
     "name": "stdout",
     "output_type": "stream",
     "text": [
      "Epoch 5/50\n",
      "118s - loss:  0.2633 - binary_crossentropy:  0.2633 - val_binary_crossentropy:  0.2676\n",
      "Epoch 00005: val_binary_crossentropy improved from 0.26999 to 0.26762, saving model to ckpt/NFM_16_fold2.ckpt\n"
     ]
    },
    {
     "name": "stderr",
     "output_type": "stream",
     "text": [
      "100%|██████████| 1362/1362 [01:47<00:00, 12.68it/s]\n"
     ]
    },
    {
     "name": "stdout",
     "output_type": "stream",
     "text": [
      "Epoch 6/50\n",
      "118s - loss:  0.2598 - binary_crossentropy:  0.2598 - val_binary_crossentropy:  0.2663\n",
      "Epoch 00006: val_binary_crossentropy improved from 0.26762 to 0.26635, saving model to ckpt/NFM_16_fold2.ckpt\n"
     ]
    },
    {
     "name": "stderr",
     "output_type": "stream",
     "text": [
      "100%|██████████| 1362/1362 [01:47<00:00, 12.61it/s]\n"
     ]
    },
    {
     "name": "stdout",
     "output_type": "stream",
     "text": [
      "Epoch 7/50\n",
      "116s - loss:  0.2569 - binary_crossentropy:  0.2569 - val_binary_crossentropy:  0.2653\n",
      "Epoch 00007: val_binary_crossentropy improved from 0.26635 to 0.26525, saving model to ckpt/NFM_16_fold2.ckpt\n"
     ]
    },
    {
     "name": "stderr",
     "output_type": "stream",
     "text": [
      "100%|██████████| 1362/1362 [01:46<00:00, 12.80it/s]\n"
     ]
    },
    {
     "name": "stdout",
     "output_type": "stream",
     "text": [
      "Epoch 8/50\n",
      "115s - loss:  0.2549 - binary_crossentropy:  0.2548 - val_binary_crossentropy:  0.2649\n",
      "Epoch 00008: val_binary_crossentropy improved from 0.26525 to 0.26494, saving model to ckpt/NFM_16_fold2.ckpt\n"
     ]
    },
    {
     "name": "stderr",
     "output_type": "stream",
     "text": [
      "100%|██████████| 1362/1362 [01:46<00:00, 12.79it/s]\n"
     ]
    },
    {
     "name": "stdout",
     "output_type": "stream",
     "text": [
      "Epoch 9/50\n",
      "115s - loss:  0.2533 - binary_crossentropy:  0.2533 - val_binary_crossentropy:  0.2652\n",
      "Epoch 00009: val_binary_crossentropy did not improve from 0.26494\n"
     ]
    },
    {
     "name": "stderr",
     "output_type": "stream",
     "text": [
      "100%|██████████| 1362/1362 [01:46<00:00, 12.74it/s]\n"
     ]
    },
    {
     "name": "stdout",
     "output_type": "stream",
     "text": [
      "Epoch 10/50\n",
      "117s - loss:  0.2522 - binary_crossentropy:  0.2522 - val_binary_crossentropy:  0.2672\n",
      "Epoch 00010: val_binary_crossentropy did not improve from 0.26494\n"
     ]
    },
    {
     "name": "stderr",
     "output_type": "stream",
     "text": [
      "100%|██████████| 1362/1362 [01:47<00:00, 12.73it/s]\n"
     ]
    },
    {
     "name": "stdout",
     "output_type": "stream",
     "text": [
      "Epoch 11/50\n",
      "116s - loss:  0.2511 - binary_crossentropy:  0.2511 - val_binary_crossentropy:  0.2668\n",
      "Epoch 00011: val_binary_crossentropy did not improve from 0.26494\n"
     ]
    },
    {
     "name": "stderr",
     "output_type": "stream",
     "text": [
      "100%|██████████| 1362/1362 [01:47<00:00, 12.67it/s]\n"
     ]
    },
    {
     "name": "stdout",
     "output_type": "stream",
     "text": [
      "Epoch 12/50\n",
      "116s - loss:  0.2500 - binary_crossentropy:  0.2500 - val_binary_crossentropy:  0.2676\n",
      "Epoch 00012: val_binary_crossentropy did not improve from 0.26494\n"
     ]
    },
    {
     "name": "stderr",
     "output_type": "stream",
     "text": [
      "100%|██████████| 1362/1362 [01:48<00:00, 12.51it/s]\n"
     ]
    },
    {
     "name": "stdout",
     "output_type": "stream",
     "text": [
      "Epoch 13/50\n",
      "119s - loss:  0.2494 - binary_crossentropy:  0.2493 - val_binary_crossentropy:  0.2677\n",
      "Epoch 00013: val_binary_crossentropy did not improve from 0.26494\n"
     ]
    },
    {
     "name": "stderr",
     "output_type": "stream",
     "text": [
      "100%|██████████| 1362/1362 [01:47<00:00, 12.68it/s]\n"
     ]
    },
    {
     "name": "stdout",
     "output_type": "stream",
     "text": [
      "Epoch 14/50\n",
      "116s - loss:  0.2486 - binary_crossentropy:  0.2485 - val_binary_crossentropy:  0.2681\n",
      "Epoch 00014: val_binary_crossentropy did not improve from 0.26494\n"
     ]
    },
    {
     "name": "stderr",
     "output_type": "stream",
     "text": [
      "100%|██████████| 1362/1362 [01:46<00:00, 12.76it/s]\n"
     ]
    },
    {
     "name": "stdout",
     "output_type": "stream",
     "text": [
      "Epoch 15/50\n",
      "116s - loss:  0.2478 - binary_crossentropy:  0.2478 - val_binary_crossentropy:  0.2679\n",
      "Epoch 00015: val_binary_crossentropy did not improve from 0.26494\n"
     ]
    },
    {
     "name": "stderr",
     "output_type": "stream",
     "text": [
      "100%|██████████| 1362/1362 [01:48<00:00, 12.50it/s]\n"
     ]
    },
    {
     "name": "stdout",
     "output_type": "stream",
     "text": [
      "Epoch 16/50\n",
      "117s - loss:  0.2472 - binary_crossentropy:  0.2471 - val_binary_crossentropy:  0.2705\n",
      "Epoch 00016: val_binary_crossentropy did not improve from 0.26494\n"
     ]
    },
    {
     "name": "stderr",
     "output_type": "stream",
     "text": [
      "100%|██████████| 1362/1362 [01:47<00:00, 12.66it/s]\n"
     ]
    },
    {
     "name": "stdout",
     "output_type": "stream",
     "text": [
      "Epoch 17/50\n",
      "116s - loss:  0.2467 - binary_crossentropy:  0.2466 - val_binary_crossentropy:  0.2695\n",
      "Epoch 00017: val_binary_crossentropy did not improve from 0.26494\n"
     ]
    },
    {
     "name": "stderr",
     "output_type": "stream",
     "text": [
      "100%|██████████| 1362/1362 [01:47<00:00, 12.65it/s]\n"
     ]
    },
    {
     "name": "stdout",
     "output_type": "stream",
     "text": [
      "Epoch 18/50\n",
      "117s - loss:  0.2460 - binary_crossentropy:  0.2460 - val_binary_crossentropy:  0.2691\n",
      "Epoch 00018: val_binary_crossentropy did not improve from 0.26494\n",
      "Epoch 00018: early stopping\n",
      "fold n°3\n",
      "NFM 2788682 697170 79\n",
      "cuda:0\n",
      "Train on 2788682 samples, validate on 697170 samples, 1362 steps per epoch\n"
     ]
    },
    {
     "name": "stderr",
     "output_type": "stream",
     "text": [
      "100%|██████████| 1362/1362 [01:47<00:00, 12.65it/s]\n"
     ]
    },
    {
     "name": "stdout",
     "output_type": "stream",
     "text": [
      "Epoch 1/50\n",
      "116s - loss:  0.3074 - binary_crossentropy:  0.3074 - val_binary_crossentropy:  0.2800\n",
      "Epoch 00001: val_binary_crossentropy improved from inf to 0.28004, saving model to ckpt/NFM_16_fold3.ckpt\n"
     ]
    },
    {
     "name": "stderr",
     "output_type": "stream",
     "text": [
      "100%|██████████| 1362/1362 [01:47<00:00, 12.66it/s]\n"
     ]
    },
    {
     "name": "stdout",
     "output_type": "stream",
     "text": [
      "Epoch 2/50\n",
      "116s - loss:  0.2762 - binary_crossentropy:  0.2761 - val_binary_crossentropy:  0.2754\n",
      "Epoch 00002: val_binary_crossentropy improved from 0.28004 to 0.27536, saving model to ckpt/NFM_16_fold3.ckpt\n"
     ]
    },
    {
     "name": "stderr",
     "output_type": "stream",
     "text": [
      "100%|██████████| 1362/1362 [01:52<00:00, 12.09it/s]\n"
     ]
    },
    {
     "name": "stdout",
     "output_type": "stream",
     "text": [
      "Epoch 3/50\n",
      "121s - loss:  0.2705 - binary_crossentropy:  0.2705 - val_binary_crossentropy:  0.2719\n",
      "Epoch 00003: val_binary_crossentropy improved from 0.27536 to 0.27190, saving model to ckpt/NFM_16_fold3.ckpt\n"
     ]
    },
    {
     "name": "stderr",
     "output_type": "stream",
     "text": [
      "100%|██████████| 1362/1362 [01:54<00:00, 11.85it/s]\n"
     ]
    },
    {
     "name": "stdout",
     "output_type": "stream",
     "text": [
      "Epoch 4/50\n",
      "124s - loss:  0.2661 - binary_crossentropy:  0.2661 - val_binary_crossentropy:  0.2694\n",
      "Epoch 00004: val_binary_crossentropy improved from 0.27190 to 0.26940, saving model to ckpt/NFM_16_fold3.ckpt\n"
     ]
    },
    {
     "name": "stderr",
     "output_type": "stream",
     "text": [
      "100%|██████████| 1362/1362 [01:52<00:00, 12.10it/s]\n"
     ]
    },
    {
     "name": "stdout",
     "output_type": "stream",
     "text": [
      "Epoch 5/50\n",
      "121s - loss:  0.2626 - binary_crossentropy:  0.2626 - val_binary_crossentropy:  0.2671\n",
      "Epoch 00005: val_binary_crossentropy improved from 0.26940 to 0.26709, saving model to ckpt/NFM_16_fold3.ckpt\n"
     ]
    },
    {
     "name": "stderr",
     "output_type": "stream",
     "text": [
      "100%|██████████| 1362/1362 [01:47<00:00, 12.62it/s]\n"
     ]
    },
    {
     "name": "stdout",
     "output_type": "stream",
     "text": [
      "Epoch 6/50\n",
      "117s - loss:  0.2592 - binary_crossentropy:  0.2592 - val_binary_crossentropy:  0.2668\n",
      "Epoch 00006: val_binary_crossentropy improved from 0.26709 to 0.26679, saving model to ckpt/NFM_16_fold3.ckpt\n"
     ]
    },
    {
     "name": "stderr",
     "output_type": "stream",
     "text": [
      "100%|██████████| 1362/1362 [01:46<00:00, 12.73it/s]\n"
     ]
    },
    {
     "name": "stdout",
     "output_type": "stream",
     "text": [
      "Epoch 7/50\n",
      "116s - loss:  0.2567 - binary_crossentropy:  0.2566 - val_binary_crossentropy:  0.2646\n",
      "Epoch 00007: val_binary_crossentropy improved from 0.26679 to 0.26462, saving model to ckpt/NFM_16_fold3.ckpt\n"
     ]
    },
    {
     "name": "stderr",
     "output_type": "stream",
     "text": [
      "100%|██████████| 1362/1362 [01:48<00:00, 12.58it/s]\n"
     ]
    },
    {
     "name": "stdout",
     "output_type": "stream",
     "text": [
      "Epoch 8/50\n",
      "117s - loss:  0.2546 - binary_crossentropy:  0.2545 - val_binary_crossentropy:  0.2646\n",
      "Epoch 00008: val_binary_crossentropy improved from 0.26462 to 0.26461, saving model to ckpt/NFM_16_fold3.ckpt\n"
     ]
    },
    {
     "name": "stderr",
     "output_type": "stream",
     "text": [
      "100%|██████████| 1362/1362 [01:47<00:00, 12.66it/s]\n"
     ]
    },
    {
     "name": "stdout",
     "output_type": "stream",
     "text": [
      "Epoch 9/50\n",
      "117s - loss:  0.2532 - binary_crossentropy:  0.2531 - val_binary_crossentropy:  0.2648\n",
      "Epoch 00009: val_binary_crossentropy did not improve from 0.26461\n"
     ]
    },
    {
     "name": "stderr",
     "output_type": "stream",
     "text": [
      "100%|██████████| 1362/1362 [01:47<00:00, 12.62it/s]\n"
     ]
    },
    {
     "name": "stdout",
     "output_type": "stream",
     "text": [
      "Epoch 10/50\n",
      "117s - loss:  0.2520 - binary_crossentropy:  0.2519 - val_binary_crossentropy:  0.2651\n",
      "Epoch 00010: val_binary_crossentropy did not improve from 0.26461\n"
     ]
    },
    {
     "name": "stderr",
     "output_type": "stream",
     "text": [
      "100%|██████████| 1362/1362 [01:47<00:00, 12.70it/s]\n"
     ]
    },
    {
     "name": "stdout",
     "output_type": "stream",
     "text": [
      "Epoch 11/50\n",
      "116s - loss:  0.2509 - binary_crossentropy:  0.2509 - val_binary_crossentropy:  0.2656\n",
      "Epoch 00011: val_binary_crossentropy did not improve from 0.26461\n"
     ]
    },
    {
     "name": "stderr",
     "output_type": "stream",
     "text": [
      "100%|██████████| 1362/1362 [01:46<00:00, 12.74it/s]\n"
     ]
    },
    {
     "name": "stdout",
     "output_type": "stream",
     "text": [
      "Epoch 12/50\n",
      "117s - loss:  0.2500 - binary_crossentropy:  0.2500 - val_binary_crossentropy:  0.2656\n",
      "Epoch 00012: val_binary_crossentropy did not improve from 0.26461\n"
     ]
    },
    {
     "name": "stderr",
     "output_type": "stream",
     "text": [
      "100%|██████████| 1362/1362 [01:50<00:00, 12.35it/s]\n"
     ]
    },
    {
     "name": "stdout",
     "output_type": "stream",
     "text": [
      "Epoch 13/50\n",
      "119s - loss:  0.2492 - binary_crossentropy:  0.2491 - val_binary_crossentropy:  0.2669\n",
      "Epoch 00013: val_binary_crossentropy did not improve from 0.26461\n"
     ]
    },
    {
     "name": "stderr",
     "output_type": "stream",
     "text": [
      "100%|██████████| 1362/1362 [01:47<00:00, 12.71it/s]\n"
     ]
    },
    {
     "name": "stdout",
     "output_type": "stream",
     "text": [
      "Epoch 14/50\n",
      "117s - loss:  0.2484 - binary_crossentropy:  0.2484 - val_binary_crossentropy:  0.2671\n",
      "Epoch 00014: val_binary_crossentropy did not improve from 0.26461\n"
     ]
    },
    {
     "name": "stderr",
     "output_type": "stream",
     "text": [
      "100%|██████████| 1362/1362 [01:47<00:00, 12.67it/s]\n"
     ]
    },
    {
     "name": "stdout",
     "output_type": "stream",
     "text": [
      "Epoch 15/50\n",
      "116s - loss:  0.2477 - binary_crossentropy:  0.2477 - val_binary_crossentropy:  0.2670\n",
      "Epoch 00015: val_binary_crossentropy did not improve from 0.26461\n"
     ]
    },
    {
     "name": "stderr",
     "output_type": "stream",
     "text": [
      "100%|██████████| 1362/1362 [01:50<00:00, 12.34it/s]\n"
     ]
    },
    {
     "name": "stdout",
     "output_type": "stream",
     "text": [
      "Epoch 16/50\n",
      "119s - loss:  0.2471 - binary_crossentropy:  0.2470 - val_binary_crossentropy:  0.2671\n",
      "Epoch 00016: val_binary_crossentropy did not improve from 0.26461\n"
     ]
    },
    {
     "name": "stderr",
     "output_type": "stream",
     "text": [
      "100%|██████████| 1362/1362 [01:47<00:00, 12.66it/s]\n"
     ]
    },
    {
     "name": "stdout",
     "output_type": "stream",
     "text": [
      "Epoch 17/50\n",
      "118s - loss:  0.2465 - binary_crossentropy:  0.2464 - val_binary_crossentropy:  0.2695\n",
      "Epoch 00017: val_binary_crossentropy did not improve from 0.26461\n"
     ]
    },
    {
     "name": "stderr",
     "output_type": "stream",
     "text": [
      "100%|██████████| 1362/1362 [01:55<00:00, 11.79it/s]\n"
     ]
    },
    {
     "name": "stdout",
     "output_type": "stream",
     "text": [
      "Epoch 18/50\n",
      "124s - loss:  0.2460 - binary_crossentropy:  0.2459 - val_binary_crossentropy:  0.2683\n",
      "Epoch 00018: val_binary_crossentropy did not improve from 0.26461\n",
      "Epoch 00018: early stopping\n",
      "fold n°4\n",
      "NFM 2788682 697170 79\n",
      "cuda:0\n",
      "Train on 2788682 samples, validate on 697170 samples, 1362 steps per epoch\n"
     ]
    },
    {
     "name": "stderr",
     "output_type": "stream",
     "text": [
      "100%|██████████| 1362/1362 [01:49<00:00, 12.41it/s]\n"
     ]
    },
    {
     "name": "stdout",
     "output_type": "stream",
     "text": [
      "Epoch 1/50\n",
      "118s - loss:  0.3075 - binary_crossentropy:  0.3075 - val_binary_crossentropy:  0.2811\n",
      "Epoch 00001: val_binary_crossentropy improved from inf to 0.28105, saving model to ckpt/NFM_16_fold4.ckpt\n"
     ]
    },
    {
     "name": "stderr",
     "output_type": "stream",
     "text": [
      "100%|██████████| 1362/1362 [01:48<00:00, 12.53it/s]\n"
     ]
    },
    {
     "name": "stdout",
     "output_type": "stream",
     "text": [
      "Epoch 2/50\n",
      "120s - loss:  0.2763 - binary_crossentropy:  0.2763 - val_binary_crossentropy:  0.2746\n",
      "Epoch 00002: val_binary_crossentropy improved from 0.28105 to 0.27465, saving model to ckpt/NFM_16_fold4.ckpt\n"
     ]
    },
    {
     "name": "stderr",
     "output_type": "stream",
     "text": [
      "100%|██████████| 1362/1362 [01:49<00:00, 12.47it/s]\n"
     ]
    },
    {
     "name": "stdout",
     "output_type": "stream",
     "text": [
      "Epoch 3/50\n",
      "118s - loss:  0.2705 - binary_crossentropy:  0.2705 - val_binary_crossentropy:  0.2709\n",
      "Epoch 00003: val_binary_crossentropy improved from 0.27465 to 0.27093, saving model to ckpt/NFM_16_fold4.ckpt\n"
     ]
    },
    {
     "name": "stderr",
     "output_type": "stream",
     "text": [
      "100%|██████████| 1362/1362 [01:50<00:00, 12.34it/s]\n"
     ]
    },
    {
     "name": "stdout",
     "output_type": "stream",
     "text": [
      "Epoch 4/50\n",
      "119s - loss:  0.2662 - binary_crossentropy:  0.2662 - val_binary_crossentropy:  0.2696\n",
      "Epoch 00004: val_binary_crossentropy improved from 0.27093 to 0.26961, saving model to ckpt/NFM_16_fold4.ckpt\n"
     ]
    },
    {
     "name": "stderr",
     "output_type": "stream",
     "text": [
      "100%|██████████| 1362/1362 [01:50<00:00, 12.30it/s]\n"
     ]
    },
    {
     "name": "stdout",
     "output_type": "stream",
     "text": [
      "Epoch 5/50\n",
      "119s - loss:  0.2627 - binary_crossentropy:  0.2627 - val_binary_crossentropy:  0.2672\n",
      "Epoch 00005: val_binary_crossentropy improved from 0.26961 to 0.26717, saving model to ckpt/NFM_16_fold4.ckpt\n"
     ]
    },
    {
     "name": "stderr",
     "output_type": "stream",
     "text": [
      "100%|██████████| 1362/1362 [01:48<00:00, 12.57it/s]\n"
     ]
    },
    {
     "name": "stdout",
     "output_type": "stream",
     "text": [
      "Epoch 6/50\n",
      "117s - loss:  0.2590 - binary_crossentropy:  0.2590 - val_binary_crossentropy:  0.2656\n",
      "Epoch 00006: val_binary_crossentropy improved from 0.26717 to 0.26563, saving model to ckpt/NFM_16_fold4.ckpt\n"
     ]
    },
    {
     "name": "stderr",
     "output_type": "stream",
     "text": [
      "100%|██████████| 1362/1362 [01:46<00:00, 12.74it/s]\n"
     ]
    },
    {
     "name": "stdout",
     "output_type": "stream",
     "text": [
      "Epoch 7/50\n",
      "116s - loss:  0.2562 - binary_crossentropy:  0.2561 - val_binary_crossentropy:  0.2646\n",
      "Epoch 00007: val_binary_crossentropy improved from 0.26563 to 0.26459, saving model to ckpt/NFM_16_fold4.ckpt\n"
     ]
    },
    {
     "name": "stderr",
     "output_type": "stream",
     "text": [
      "100%|██████████| 1362/1362 [01:49<00:00, 12.46it/s]\n"
     ]
    },
    {
     "name": "stdout",
     "output_type": "stream",
     "text": [
      "Epoch 8/50\n",
      "118s - loss:  0.2544 - binary_crossentropy:  0.2544 - val_binary_crossentropy:  0.2643\n",
      "Epoch 00008: val_binary_crossentropy improved from 0.26459 to 0.26427, saving model to ckpt/NFM_16_fold4.ckpt\n"
     ]
    },
    {
     "name": "stderr",
     "output_type": "stream",
     "text": [
      "100%|██████████| 1362/1362 [01:47<00:00, 12.64it/s]\n"
     ]
    },
    {
     "name": "stdout",
     "output_type": "stream",
     "text": [
      "Epoch 9/50\n",
      "116s - loss:  0.2530 - binary_crossentropy:  0.2530 - val_binary_crossentropy:  0.2646\n",
      "Epoch 00009: val_binary_crossentropy did not improve from 0.26427\n"
     ]
    },
    {
     "name": "stderr",
     "output_type": "stream",
     "text": [
      "100%|██████████| 1362/1362 [01:51<00:00, 12.20it/s]\n"
     ]
    },
    {
     "name": "stdout",
     "output_type": "stream",
     "text": [
      "Epoch 10/50\n",
      "120s - loss:  0.2519 - binary_crossentropy:  0.2518 - val_binary_crossentropy:  0.2646\n",
      "Epoch 00010: val_binary_crossentropy did not improve from 0.26427\n"
     ]
    },
    {
     "name": "stderr",
     "output_type": "stream",
     "text": [
      "100%|██████████| 1362/1362 [01:46<00:00, 12.78it/s]\n"
     ]
    },
    {
     "name": "stdout",
     "output_type": "stream",
     "text": [
      "Epoch 11/50\n",
      "115s - loss:  0.2509 - binary_crossentropy:  0.2508 - val_binary_crossentropy:  0.2649\n",
      "Epoch 00011: val_binary_crossentropy did not improve from 0.26427\n"
     ]
    },
    {
     "name": "stderr",
     "output_type": "stream",
     "text": [
      "100%|██████████| 1362/1362 [01:45<00:00, 12.86it/s]\n"
     ]
    },
    {
     "name": "stdout",
     "output_type": "stream",
     "text": [
      "Epoch 12/50\n",
      "114s - loss:  0.2500 - binary_crossentropy:  0.2499 - val_binary_crossentropy:  0.2652\n",
      "Epoch 00012: val_binary_crossentropy did not improve from 0.26427\n"
     ]
    },
    {
     "name": "stderr",
     "output_type": "stream",
     "text": [
      "100%|██████████| 1362/1362 [01:48<00:00, 12.55it/s]\n"
     ]
    },
    {
     "name": "stdout",
     "output_type": "stream",
     "text": [
      "Epoch 13/50\n",
      "117s - loss:  0.2492 - binary_crossentropy:  0.2491 - val_binary_crossentropy:  0.2657\n",
      "Epoch 00013: val_binary_crossentropy did not improve from 0.26427\n"
     ]
    },
    {
     "name": "stderr",
     "output_type": "stream",
     "text": [
      "100%|██████████| 1362/1362 [01:47<00:00, 12.62it/s]\n"
     ]
    },
    {
     "name": "stdout",
     "output_type": "stream",
     "text": [
      "Epoch 14/50\n",
      "116s - loss:  0.2485 - binary_crossentropy:  0.2484 - val_binary_crossentropy:  0.2656\n",
      "Epoch 00014: val_binary_crossentropy did not improve from 0.26427\n"
     ]
    },
    {
     "name": "stderr",
     "output_type": "stream",
     "text": [
      "100%|██████████| 1362/1362 [01:47<00:00, 12.68it/s]\n"
     ]
    },
    {
     "name": "stdout",
     "output_type": "stream",
     "text": [
      "Epoch 15/50\n",
      "117s - loss:  0.2478 - binary_crossentropy:  0.2478 - val_binary_crossentropy:  0.2680\n",
      "Epoch 00015: val_binary_crossentropy did not improve from 0.26427\n"
     ]
    },
    {
     "name": "stderr",
     "output_type": "stream",
     "text": [
      "100%|██████████| 1362/1362 [01:46<00:00, 12.77it/s]\n"
     ]
    },
    {
     "name": "stdout",
     "output_type": "stream",
     "text": [
      "Epoch 16/50\n",
      "115s - loss:  0.2472 - binary_crossentropy:  0.2471 - val_binary_crossentropy:  0.2669\n",
      "Epoch 00016: val_binary_crossentropy did not improve from 0.26427\n"
     ]
    },
    {
     "name": "stderr",
     "output_type": "stream",
     "text": [
      "100%|██████████| 1362/1362 [01:46<00:00, 12.77it/s]\n"
     ]
    },
    {
     "name": "stdout",
     "output_type": "stream",
     "text": [
      "Epoch 17/50\n",
      "115s - loss:  0.2466 - binary_crossentropy:  0.2465 - val_binary_crossentropy:  0.2669\n",
      "Epoch 00017: val_binary_crossentropy did not improve from 0.26427\n"
     ]
    },
    {
     "name": "stderr",
     "output_type": "stream",
     "text": [
      "100%|██████████| 1362/1362 [01:46<00:00, 12.74it/s]\n"
     ]
    },
    {
     "name": "stdout",
     "output_type": "stream",
     "text": [
      "Epoch 18/50\n",
      "115s - loss:  0.2460 - binary_crossentropy:  0.2460 - val_binary_crossentropy:  0.2678\n",
      "Epoch 00018: val_binary_crossentropy did not improve from 0.26427\n",
      "Epoch 00018: early stopping\n"
     ]
    }
   ],
   "source": [
    "for fold_, (trn_idx, val_idx) in enumerate(KF.split(train.values, label.values)):\n",
    "    print(\"fold n°{}\".format(fold_))\n",
    "    \n",
    "    print(model_name, len(trn_idx), len(val_idx), len(feature_names))\n",
    "    train_fold = train.iloc[trn_idx]\n",
    "    train_model_input = {name: train_fold[name] for name in feature_names}\n",
    "    train_model_label = label.iloc[trn_idx].values\n",
    "    val_fold = train.iloc[val_idx]\n",
    "    val_model_input = {name: val_fold[name] for name in feature_names}\n",
    "    val_model_label = label.iloc[val_idx].values\n",
    "    test_model_input = {name: test[name] for name in feature_names}\n",
    "\n",
    "    model = NFM(linear_feature_columns, dnn_feature_columns, task='binary', device=device, seed=seed)\n",
    "    model.compile(\"adam\", \"binary_crossentropy\", metrics=['binary_crossentropy'])\n",
    "    \n",
    "    es = EarlyStopping(monitor='val_binary_crossentropy', min_delta=0, verbose=1, patience=patience, mode='min')\n",
    "    mdckpt = ModelCheckpoint(filepath='ckpt/{}_{}_fold{}.ckpt'.format(model_name, sparse_dim, fold_), \n",
    "                             monitor='val_binary_crossentropy', verbose=1, save_best_only=True, mode='min')\n",
    "    history = model.fit(train_model_input, train_model_label, batch_size=batch_size, epochs=epochs, verbose=1, \n",
    "                        validation_data=(val_model_input, val_model_label), callbacks=[es, mdckpt])\n",
    "\n",
    "    model = torch.load('ckpt/{}_{}_fold{}.ckpt'.format(model_name, sparse_dim, fold_))\n",
    "    oof_ins[val_idx] = model.predict(val_model_input, batch_size=batch_size).flatten()\n",
    "    predictions_ins[:] += model.predict(test_model_input, batch_size=batch_size).flatten() / K"
   ]
  },
  {
   "cell_type": "code",
   "execution_count": 56,
   "metadata": {},
   "outputs": [
    {
     "name": "stdout",
     "output_type": "stream",
     "text": [
      "Logloss: 0.2644, AUC: 0.9066, Precision: 0.7778, Recall: 0.5133, F1 Score: 0.6185\n"
     ]
    }
   ],
   "source": [
    "logloss = metrics.log_loss(label, oof_ins)\n",
    "acc = metrics.roc_auc_score(label, oof_ins)\n",
    "precision = metrics.precision_score(label, [1 if i >= 0.5 else 0 for i in oof_ins])\n",
    "recall = metrics.recall_score(label, [1 if i >= 0.5 else 0 for i in oof_ins])\n",
    "f1 = metrics.f1_score(label, [1 if i >= 0.5 else 0 for i in oof_ins])\n",
    "\n",
    "print(f\"Logloss: {logloss:.4f}, AUC: {acc:.4f}, Precision: {precision:.4f}, Recall: {recall:.4f}, F1 Score: {f1:.4f}\")"
   ]
  },
  {
   "cell_type": "code",
   "execution_count": 57,
   "metadata": {},
   "outputs": [
    {
     "data": {
      "text/plain": [
       "(5.798138874979486e-06, 0.9576980471611024)"
      ]
     },
     "execution_count": 57,
     "metadata": {},
     "output_type": "execute_result"
    }
   ],
   "source": [
    "predictions_ins.min(), predictions_ins.max()"
   ]
  },
  {
   "cell_type": "code",
   "execution_count": 58,
   "metadata": {},
   "outputs": [],
   "source": [
    "submission = pd.DataFrame()\n",
    "submission[\"RowId\"] = test_data[\"f_0\"]\n",
    "submission[\"is_clicked\"] = np.random.random((test_data.shape[0]))\n",
    "submission[\"is_installed\"] = predictions_ins\n",
    "submission.to_csv('./output/{}_{}_{}_{}_{}_Kfold{}.csv'.format(model_name, seed, len(feature_names), sparse_dim, dense_dim, K), index=False, sep='\\t')"
   ]
  },
  {
   "attachments": {},
   "cell_type": "markdown",
   "metadata": {},
   "source": [
    "111"
   ]
  }
 ],
 "metadata": {
  "kernelspec": {
   "display_name": "libcityng",
   "language": "python",
   "name": "python3"
  },
  "language_info": {
   "codemirror_mode": {
    "name": "ipython",
    "version": 3
   },
   "file_extension": ".py",
   "mimetype": "text/x-python",
   "name": "python",
   "nbconvert_exporter": "python",
   "pygments_lexer": "ipython3",
   "version": "3.9.7"
  },
  "orig_nbformat": 4
 },
 "nbformat": 4,
 "nbformat_minor": 2
}
