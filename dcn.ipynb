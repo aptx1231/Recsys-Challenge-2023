{
 "cells": [
  {
   "cell_type": "code",
   "execution_count": 1,
   "metadata": {},
   "outputs": [
    {
     "name": "stderr",
     "output_type": "stream",
     "text": [
      "/mnt/data/jjw/anaconda3/envs/torch10/lib/python3.9/site-packages/tqdm/auto.py:21: TqdmWarning: IProgress not found. Please update jupyter and ipywidgets. See https://ipywidgets.readthedocs.io/en/stable/user_install.html\n",
      "  from .autonotebook import tqdm as notebook_tqdm\n",
      "2023-05-12 14:45:42.260113: I tensorflow/core/util/port.cc:110] oneDNN custom operations are on. You may see slightly different numerical results due to floating-point round-off errors from different computation orders. To turn them off, set the environment variable `TF_ENABLE_ONEDNN_OPTS=0`.\n",
      "2023-05-12 14:45:42.263308: I tensorflow/tsl/cuda/cudart_stub.cc:28] Could not find cuda drivers on your machine, GPU will not be used.\n",
      "2023-05-12 14:45:42.314265: I tensorflow/tsl/cuda/cudart_stub.cc:28] Could not find cuda drivers on your machine, GPU will not be used.\n",
      "2023-05-12 14:45:42.315553: I tensorflow/core/platform/cpu_feature_guard.cc:182] This TensorFlow binary is optimized to use available CPU instructions in performance-critical operations.\n",
      "To enable the following instructions: AVX2 AVX512F AVX512_VNNI FMA, in other operations, rebuild TensorFlow with the appropriate compiler flags.\n",
      "2023-05-12 14:45:44.312599: W tensorflow/compiler/tf2tensorrt/utils/py_utils.cc:38] TF-TRT Warning: Could not find TensorRT\n"
     ]
    }
   ],
   "source": [
    "import pandas as pd\n",
    "from sklearn.metrics import log_loss, roc_auc_score\n",
    "from sklearn.model_selection import train_test_split\n",
    "from sklearn.preprocessing import LabelEncoder, MinMaxScaler\n",
    "\n",
    "# from deepctr_torch.models import DeepFM\n",
    "# from deepctr_torch.inputs import SparseFeat, DenseFeat, get_feature_names\n",
    "from deepctr_torch.models import DeepFM, DCN\n",
    "from deepctr_torch.inputs import SparseFeat, DenseFeat, get_feature_names\n",
    "\n",
    "from deepctr_torch.callbacks import EarlyStopping, ModelCheckpoint\n",
    "\n",
    "import torch"
   ]
  },
  {
   "cell_type": "code",
   "execution_count": 3,
   "metadata": {},
   "outputs": [],
   "source": [
    "import numpy as np \n",
    "import pandas as pd\n",
    "import matplotlib.pyplot as plt\n",
    "import seaborn as sns\n",
    "import warnings\n",
    "import os\n",
    "import re\n",
    "import math\n",
    "import plotly.express as px\n",
    "import plotly.graph_objects as go\n",
    "from plotly.subplots import make_subplots\n",
    "\n",
    "from lightgbm import LGBMRegressor, LGBMClassifier\n",
    "from xgboost import XGBRegressor, XGBClassifier\n",
    "from catboost import CatBoostRegressor, CatBoostClassifier\n",
    "import lightgbm as lgb\n",
    "import xgboost as xgb\n",
    "import catboost as cab\n",
    "\n",
    "from sklearn.preprocessing import LabelEncoder\n",
    "from sklearn.model_selection import cross_val_score, KFold, StratifiedKFold, GridSearchCV\n",
    "from sklearn.decomposition import LatentDirichletAllocation, NMF, TruncatedSVD\n",
    "from sklearn.linear_model import LogisticRegression, SGDClassifier\n",
    "from sklearn.ensemble import RandomForestRegressor, AdaBoostRegressor, GradientBoostingRegressor, HistGradientBoostingRegressor, StackingRegressor\n",
    "from sklearn.ensemble import RandomForestClassifier, AdaBoostClassifier, GradientBoostingClassifier, HistGradientBoostingClassifier, StackingClassifier\n",
    "from sklearn.tree import DecisionTreeRegressor, DecisionTreeClassifier\n",
    "from sklearn import metrics\n",
    "from sklearn.svm import SVC\n",
    "from sklearn.feature_extraction.text import TfidfVectorizer\n",
    "from sklearn.preprocessing import PolynomialFeatures\n",
    "from sklearn.neighbors import KNeighborsClassifier\n",
    "from tqdm import tqdm\n",
    "from sklearn.preprocessing import KBinsDiscretizer\n",
    "import matplotlib.pyplot as plt\n",
    "\n",
    "import warnings\n",
    "\n",
    "warnings.filterwarnings('ignore')"
   ]
  },
  {
   "attachments": {},
   "cell_type": "markdown",
   "metadata": {},
   "source": [
    "读入"
   ]
  },
  {
   "cell_type": "code",
   "execution_count": 4,
   "metadata": {},
   "outputs": [
    {
     "data": {
      "text/plain": [
       "(160973, 80)"
      ]
     },
     "execution_count": 4,
     "metadata": {},
     "output_type": "execute_result"
    }
   ],
   "source": [
    "test_data = pd.read_csv('data/test/000000000000.csv', sep='\\t')\n",
    "test_data.shape "
   ]
  },
  {
   "cell_type": "code",
   "execution_count": 5,
   "metadata": {},
   "outputs": [
    {
     "data": {
      "text/plain": [
       "(3485852, 82)"
      ]
     },
     "execution_count": 5,
     "metadata": {},
     "output_type": "execute_result"
    }
   ],
   "source": [
    "train_data = pd.read_csv('./data/train.csv', sep='\\t')\n",
    "train_data.shape "
   ]
  },
  {
   "cell_type": "code",
   "execution_count": 6,
   "metadata": {},
   "outputs": [
    {
     "data": {
      "text/html": [
       "<div>\n",
       "<style scoped>\n",
       "    .dataframe tbody tr th:only-of-type {\n",
       "        vertical-align: middle;\n",
       "    }\n",
       "\n",
       "    .dataframe tbody tr th {\n",
       "        vertical-align: top;\n",
       "    }\n",
       "\n",
       "    .dataframe thead th {\n",
       "        text-align: right;\n",
       "    }\n",
       "</style>\n",
       "<table border=\"1\" class=\"dataframe\">\n",
       "  <thead>\n",
       "    <tr style=\"text-align: right;\">\n",
       "      <th></th>\n",
       "      <th>f_0</th>\n",
       "      <th>f_1</th>\n",
       "      <th>f_2</th>\n",
       "      <th>f_3</th>\n",
       "      <th>f_4</th>\n",
       "      <th>f_5</th>\n",
       "      <th>f_6</th>\n",
       "      <th>f_7</th>\n",
       "      <th>f_8</th>\n",
       "      <th>f_9</th>\n",
       "      <th>...</th>\n",
       "      <th>f_72</th>\n",
       "      <th>f_73</th>\n",
       "      <th>f_74</th>\n",
       "      <th>f_75</th>\n",
       "      <th>f_76</th>\n",
       "      <th>f_77</th>\n",
       "      <th>f_78</th>\n",
       "      <th>f_79</th>\n",
       "      <th>is_clicked</th>\n",
       "      <th>is_installed</th>\n",
       "    </tr>\n",
       "  </thead>\n",
       "  <tbody>\n",
       "    <tr>\n",
       "      <th>0</th>\n",
       "      <td>2541188</td>\n",
       "      <td>57</td>\n",
       "      <td>26325</td>\n",
       "      <td>22294</td>\n",
       "      <td>9018</td>\n",
       "      <td>25604</td>\n",
       "      <td>943</td>\n",
       "      <td>27941</td>\n",
       "      <td>19203</td>\n",
       "      <td>21533</td>\n",
       "      <td>...</td>\n",
       "      <td>2.855607</td>\n",
       "      <td>2.284486</td>\n",
       "      <td>0.115692</td>\n",
       "      <td>1.156922</td>\n",
       "      <td>0.269948</td>\n",
       "      <td>0.0</td>\n",
       "      <td>0.0</td>\n",
       "      <td>0.0</td>\n",
       "      <td>0</td>\n",
       "      <td>0</td>\n",
       "    </tr>\n",
       "    <tr>\n",
       "      <th>1</th>\n",
       "      <td>2541440</td>\n",
       "      <td>60</td>\n",
       "      <td>5156</td>\n",
       "      <td>22294</td>\n",
       "      <td>18971</td>\n",
       "      <td>21545</td>\n",
       "      <td>3448</td>\n",
       "      <td>27941</td>\n",
       "      <td>19606</td>\n",
       "      <td>14659</td>\n",
       "      <td>...</td>\n",
       "      <td>0.000000</td>\n",
       "      <td>0.000000</td>\n",
       "      <td>0.000000</td>\n",
       "      <td>1.156922</td>\n",
       "      <td>0.269948</td>\n",
       "      <td>0.0</td>\n",
       "      <td>0.0</td>\n",
       "      <td>0.0</td>\n",
       "      <td>0</td>\n",
       "      <td>0</td>\n",
       "    </tr>\n",
       "    <tr>\n",
       "      <th>2</th>\n",
       "      <td>2541480</td>\n",
       "      <td>65</td>\n",
       "      <td>30256</td>\n",
       "      <td>22294</td>\n",
       "      <td>11104</td>\n",
       "      <td>21545</td>\n",
       "      <td>20366</td>\n",
       "      <td>27941</td>\n",
       "      <td>19203</td>\n",
       "      <td>31372</td>\n",
       "      <td>...</td>\n",
       "      <td>0.571121</td>\n",
       "      <td>0.000000</td>\n",
       "      <td>0.000000</td>\n",
       "      <td>1.156922</td>\n",
       "      <td>0.269948</td>\n",
       "      <td>0.0</td>\n",
       "      <td>0.0</td>\n",
       "      <td>0.0</td>\n",
       "      <td>1</td>\n",
       "      <td>0</td>\n",
       "    </tr>\n",
       "    <tr>\n",
       "      <th>3</th>\n",
       "      <td>2541780</td>\n",
       "      <td>63</td>\n",
       "      <td>17216</td>\n",
       "      <td>7152</td>\n",
       "      <td>15742</td>\n",
       "      <td>21545</td>\n",
       "      <td>23877</td>\n",
       "      <td>27941</td>\n",
       "      <td>19606</td>\n",
       "      <td>869</td>\n",
       "      <td>...</td>\n",
       "      <td>0.000000</td>\n",
       "      <td>0.000000</td>\n",
       "      <td>0.000000</td>\n",
       "      <td>0.347077</td>\n",
       "      <td>0.000000</td>\n",
       "      <td>0.0</td>\n",
       "      <td>0.0</td>\n",
       "      <td>0.0</td>\n",
       "      <td>0</td>\n",
       "      <td>0</td>\n",
       "    </tr>\n",
       "    <tr>\n",
       "      <th>4</th>\n",
       "      <td>2541833</td>\n",
       "      <td>60</td>\n",
       "      <td>9317</td>\n",
       "      <td>22294</td>\n",
       "      <td>26866</td>\n",
       "      <td>21545</td>\n",
       "      <td>32370</td>\n",
       "      <td>27941</td>\n",
       "      <td>21218</td>\n",
       "      <td>14659</td>\n",
       "      <td>...</td>\n",
       "      <td>0.000000</td>\n",
       "      <td>0.000000</td>\n",
       "      <td>0.115692</td>\n",
       "      <td>1.156922</td>\n",
       "      <td>0.269948</td>\n",
       "      <td>0.0</td>\n",
       "      <td>0.0</td>\n",
       "      <td>0.0</td>\n",
       "      <td>0</td>\n",
       "      <td>0</td>\n",
       "    </tr>\n",
       "  </tbody>\n",
       "</table>\n",
       "<p>5 rows × 82 columns</p>\n",
       "</div>"
      ],
      "text/plain": [
       "       f_0  f_1    f_2    f_3    f_4    f_5    f_6    f_7    f_8    f_9  ...  \\\n",
       "0  2541188   57  26325  22294   9018  25604    943  27941  19203  21533  ...   \n",
       "1  2541440   60   5156  22294  18971  21545   3448  27941  19606  14659  ...   \n",
       "2  2541480   65  30256  22294  11104  21545  20366  27941  19203  31372  ...   \n",
       "3  2541780   63  17216   7152  15742  21545  23877  27941  19606    869  ...   \n",
       "4  2541833   60   9317  22294  26866  21545  32370  27941  21218  14659  ...   \n",
       "\n",
       "       f_72      f_73      f_74      f_75      f_76  f_77  f_78  f_79  \\\n",
       "0  2.855607  2.284486  0.115692  1.156922  0.269948   0.0   0.0   0.0   \n",
       "1  0.000000  0.000000  0.000000  1.156922  0.269948   0.0   0.0   0.0   \n",
       "2  0.571121  0.000000  0.000000  1.156922  0.269948   0.0   0.0   0.0   \n",
       "3  0.000000  0.000000  0.000000  0.347077  0.000000   0.0   0.0   0.0   \n",
       "4  0.000000  0.000000  0.115692  1.156922  0.269948   0.0   0.0   0.0   \n",
       "\n",
       "   is_clicked  is_installed  \n",
       "0           0             0  \n",
       "1           0             0  \n",
       "2           1             0  \n",
       "3           0             0  \n",
       "4           0             0  \n",
       "\n",
       "[5 rows x 82 columns]"
      ]
     },
     "execution_count": 6,
     "metadata": {},
     "output_type": "execute_result"
    }
   ],
   "source": [
    "train_data.head()"
   ]
  },
  {
   "cell_type": "code",
   "execution_count": 7,
   "metadata": {},
   "outputs": [
    {
     "data": {
      "text/html": [
       "<div>\n",
       "<style scoped>\n",
       "    .dataframe tbody tr th:only-of-type {\n",
       "        vertical-align: middle;\n",
       "    }\n",
       "\n",
       "    .dataframe tbody tr th {\n",
       "        vertical-align: top;\n",
       "    }\n",
       "\n",
       "    .dataframe thead th {\n",
       "        text-align: right;\n",
       "    }\n",
       "</style>\n",
       "<table border=\"1\" class=\"dataframe\">\n",
       "  <thead>\n",
       "    <tr style=\"text-align: right;\">\n",
       "      <th></th>\n",
       "      <th>f_0</th>\n",
       "      <th>f_1</th>\n",
       "      <th>f_2</th>\n",
       "      <th>f_3</th>\n",
       "      <th>f_4</th>\n",
       "      <th>f_5</th>\n",
       "      <th>f_6</th>\n",
       "      <th>f_7</th>\n",
       "      <th>f_8</th>\n",
       "      <th>f_9</th>\n",
       "      <th>...</th>\n",
       "      <th>f_70</th>\n",
       "      <th>f_71</th>\n",
       "      <th>f_72</th>\n",
       "      <th>f_73</th>\n",
       "      <th>f_74</th>\n",
       "      <th>f_75</th>\n",
       "      <th>f_76</th>\n",
       "      <th>f_77</th>\n",
       "      <th>f_78</th>\n",
       "      <th>f_79</th>\n",
       "    </tr>\n",
       "  </thead>\n",
       "  <tbody>\n",
       "    <tr>\n",
       "      <th>0</th>\n",
       "      <td>64505</td>\n",
       "      <td>67</td>\n",
       "      <td>26325</td>\n",
       "      <td>7152</td>\n",
       "      <td>21563</td>\n",
       "      <td>19475</td>\n",
       "      <td>31440</td>\n",
       "      <td>27941</td>\n",
       "      <td>21621</td>\n",
       "      <td>14659</td>\n",
       "      <td>...</td>\n",
       "      <td>1.519085</td>\n",
       "      <td>0.0</td>\n",
       "      <td>0.000000</td>\n",
       "      <td>0.0</td>\n",
       "      <td>0.000000</td>\n",
       "      <td>0.000000</td>\n",
       "      <td>0.000000</td>\n",
       "      <td>0.0</td>\n",
       "      <td>0.0</td>\n",
       "      <td>0.0</td>\n",
       "    </tr>\n",
       "    <tr>\n",
       "      <th>1</th>\n",
       "      <td>64506</td>\n",
       "      <td>67</td>\n",
       "      <td>20095</td>\n",
       "      <td>563</td>\n",
       "      <td>22861</td>\n",
       "      <td>19475</td>\n",
       "      <td>21280</td>\n",
       "      <td>27941</td>\n",
       "      <td>19203</td>\n",
       "      <td>14659</td>\n",
       "      <td>...</td>\n",
       "      <td>0.000000</td>\n",
       "      <td>0.0</td>\n",
       "      <td>0.000000</td>\n",
       "      <td>0.0</td>\n",
       "      <td>0.115692</td>\n",
       "      <td>1.156922</td>\n",
       "      <td>0.269948</td>\n",
       "      <td>0.0</td>\n",
       "      <td>0.0</td>\n",
       "      <td>0.0</td>\n",
       "    </tr>\n",
       "    <tr>\n",
       "      <th>2</th>\n",
       "      <td>64507</td>\n",
       "      <td>67</td>\n",
       "      <td>890</td>\n",
       "      <td>22294</td>\n",
       "      <td>18294</td>\n",
       "      <td>21545</td>\n",
       "      <td>20210</td>\n",
       "      <td>27941</td>\n",
       "      <td>18800</td>\n",
       "      <td>9638</td>\n",
       "      <td>...</td>\n",
       "      <td>0.982995</td>\n",
       "      <td>0.0</td>\n",
       "      <td>0.000000</td>\n",
       "      <td>0.0</td>\n",
       "      <td>0.000000</td>\n",
       "      <td>1.156922</td>\n",
       "      <td>0.269948</td>\n",
       "      <td>0.0</td>\n",
       "      <td>0.0</td>\n",
       "      <td>0.0</td>\n",
       "    </tr>\n",
       "    <tr>\n",
       "      <th>3</th>\n",
       "      <td>64508</td>\n",
       "      <td>67</td>\n",
       "      <td>20095</td>\n",
       "      <td>563</td>\n",
       "      <td>22861</td>\n",
       "      <td>25604</td>\n",
       "      <td>21280</td>\n",
       "      <td>27941</td>\n",
       "      <td>18800</td>\n",
       "      <td>14659</td>\n",
       "      <td>...</td>\n",
       "      <td>0.000000</td>\n",
       "      <td>0.0</td>\n",
       "      <td>2.284486</td>\n",
       "      <td>0.0</td>\n",
       "      <td>0.000000</td>\n",
       "      <td>1.156922</td>\n",
       "      <td>0.269948</td>\n",
       "      <td>0.0</td>\n",
       "      <td>0.0</td>\n",
       "      <td>0.0</td>\n",
       "    </tr>\n",
       "    <tr>\n",
       "      <th>4</th>\n",
       "      <td>64509</td>\n",
       "      <td>67</td>\n",
       "      <td>27426</td>\n",
       "      <td>22294</td>\n",
       "      <td>11338</td>\n",
       "      <td>19475</td>\n",
       "      <td>23855</td>\n",
       "      <td>27941</td>\n",
       "      <td>21218</td>\n",
       "      <td>9638</td>\n",
       "      <td>...</td>\n",
       "      <td>0.986040</td>\n",
       "      <td>0.0</td>\n",
       "      <td>0.000000</td>\n",
       "      <td>0.0</td>\n",
       "      <td>0.077128</td>\n",
       "      <td>0.077128</td>\n",
       "      <td>0.077128</td>\n",
       "      <td>0.0</td>\n",
       "      <td>0.0</td>\n",
       "      <td>0.0</td>\n",
       "    </tr>\n",
       "  </tbody>\n",
       "</table>\n",
       "<p>5 rows × 80 columns</p>\n",
       "</div>"
      ],
      "text/plain": [
       "     f_0  f_1    f_2    f_3    f_4    f_5    f_6    f_7    f_8    f_9  ...  \\\n",
       "0  64505   67  26325   7152  21563  19475  31440  27941  21621  14659  ...   \n",
       "1  64506   67  20095    563  22861  19475  21280  27941  19203  14659  ...   \n",
       "2  64507   67    890  22294  18294  21545  20210  27941  18800   9638  ...   \n",
       "3  64508   67  20095    563  22861  25604  21280  27941  18800  14659  ...   \n",
       "4  64509   67  27426  22294  11338  19475  23855  27941  21218   9638  ...   \n",
       "\n",
       "       f_70  f_71      f_72  f_73      f_74      f_75      f_76  f_77  f_78  \\\n",
       "0  1.519085   0.0  0.000000   0.0  0.000000  0.000000  0.000000   0.0   0.0   \n",
       "1  0.000000   0.0  0.000000   0.0  0.115692  1.156922  0.269948   0.0   0.0   \n",
       "2  0.982995   0.0  0.000000   0.0  0.000000  1.156922  0.269948   0.0   0.0   \n",
       "3  0.000000   0.0  2.284486   0.0  0.000000  1.156922  0.269948   0.0   0.0   \n",
       "4  0.986040   0.0  0.000000   0.0  0.077128  0.077128  0.077128   0.0   0.0   \n",
       "\n",
       "   f_79  \n",
       "0   0.0  \n",
       "1   0.0  \n",
       "2   0.0  \n",
       "3   0.0  \n",
       "4   0.0  \n",
       "\n",
       "[5 rows x 80 columns]"
      ]
     },
     "execution_count": 7,
     "metadata": {},
     "output_type": "execute_result"
    }
   ],
   "source": [
    "test_data.head()"
   ]
  },
  {
   "cell_type": "code",
   "execution_count": 8,
   "metadata": {},
   "outputs": [],
   "source": [
    "data = pd.concat([train_data, test_data])"
   ]
  },
  {
   "cell_type": "code",
   "execution_count": 9,
   "metadata": {},
   "outputs": [],
   "source": [
    "cat_features = ['f_{}'.format(i) for i in range(1, 42)]\n",
    "bin_features = ['f_{}'.format(i) for i in range(33, 42)]\n",
    "num_features = ['f_{}'.format(i) for i in range(42, 80)]\n",
    "date_features = ['f_1']"
   ]
  },
  {
   "cell_type": "code",
   "execution_count": 10,
   "metadata": {},
   "outputs": [],
   "source": [
    "sparse_features = cat_features\n",
    "dense_features = num_features"
   ]
  },
  {
   "cell_type": "code",
   "execution_count": 11,
   "metadata": {},
   "outputs": [],
   "source": [
    "dense_mean = data[dense_features].mean()"
   ]
  },
  {
   "cell_type": "code",
   "execution_count": 12,
   "metadata": {},
   "outputs": [],
   "source": [
    "data[sparse_features] = data[sparse_features].fillna(-1, )\n",
    "# data[dense_features] = data[dense_features].fillna(0, )\n",
    "data[dense_features] = data[dense_features].fillna(dense_mean, )\n",
    "target = ['is_installed']"
   ]
  },
  {
   "attachments": {},
   "cell_type": "markdown",
   "metadata": {},
   "source": [
    "数据处理"
   ]
  },
  {
   "cell_type": "code",
   "execution_count": 13,
   "metadata": {},
   "outputs": [],
   "source": [
    "for feat in sparse_features:\n",
    "    lbe = LabelEncoder()\n",
    "    data[feat] = lbe.fit_transform(data[feat])"
   ]
  },
  {
   "cell_type": "code",
   "execution_count": 14,
   "metadata": {},
   "outputs": [],
   "source": [
    "# TODO: 分桶"
   ]
  },
  {
   "cell_type": "code",
   "execution_count": 15,
   "metadata": {},
   "outputs": [],
   "source": [
    "mms = MinMaxScaler(feature_range=(0,1))\n",
    "data[dense_features] = mms.fit_transform(data[dense_features])"
   ]
  },
  {
   "cell_type": "code",
   "execution_count": 16,
   "metadata": {},
   "outputs": [],
   "source": [
    "dense_bins = 10"
   ]
  },
  {
   "cell_type": "code",
   "execution_count": 17,
   "metadata": {},
   "outputs": [
    {
     "name": "stderr",
     "output_type": "stream",
     "text": [
      "100%|██████████| 38/38 [03:01<00:00,  4.78s/it]\n"
     ]
    }
   ],
   "source": [
    "add_sparse_features = []\n",
    "for fea in tqdm(dense_features, total=len(dense_features)):\n",
    "    discretizer = KBinsDiscretizer(n_bins=dense_bins, encode='ordinal', strategy='kmeans')  # 等频quantile，等宽uniform\n",
    "    data[fea + '_encode'] = discretizer.fit_transform(np.array(data[fea].tolist()).reshape(-1, 1))\n",
    "    add_sparse_features.append(fea + '_encode')"
   ]
  },
  {
   "cell_type": "code",
   "execution_count": 18,
   "metadata": {},
   "outputs": [],
   "source": [
    "add_sparse_features = [fea + '_encode' for fea in dense_features]"
   ]
  },
  {
   "cell_type": "code",
   "execution_count": 28,
   "metadata": {},
   "outputs": [
    {
     "data": {
      "text/html": [
       "<div>\n",
       "<style scoped>\n",
       "    .dataframe tbody tr th:only-of-type {\n",
       "        vertical-align: middle;\n",
       "    }\n",
       "\n",
       "    .dataframe tbody tr th {\n",
       "        vertical-align: top;\n",
       "    }\n",
       "\n",
       "    .dataframe thead th {\n",
       "        text-align: right;\n",
       "    }\n",
       "</style>\n",
       "<table border=\"1\" class=\"dataframe\">\n",
       "  <thead>\n",
       "    <tr style=\"text-align: right;\">\n",
       "      <th></th>\n",
       "      <th>f_0</th>\n",
       "      <th>f_1</th>\n",
       "      <th>f_2</th>\n",
       "      <th>f_3</th>\n",
       "      <th>f_4</th>\n",
       "      <th>f_5</th>\n",
       "      <th>f_6</th>\n",
       "      <th>f_7</th>\n",
       "      <th>f_8</th>\n",
       "      <th>f_9</th>\n",
       "      <th>...</th>\n",
       "      <th>f_70_encode</th>\n",
       "      <th>f_71_encode</th>\n",
       "      <th>f_72_encode</th>\n",
       "      <th>f_73_encode</th>\n",
       "      <th>f_74_encode</th>\n",
       "      <th>f_75_encode</th>\n",
       "      <th>f_76_encode</th>\n",
       "      <th>f_77_encode</th>\n",
       "      <th>f_78_encode</th>\n",
       "      <th>f_79_encode</th>\n",
       "    </tr>\n",
       "  </thead>\n",
       "  <tbody>\n",
       "    <tr>\n",
       "      <th>0</th>\n",
       "      <td>2541188</td>\n",
       "      <td>12</td>\n",
       "      <td>114</td>\n",
       "      <td>4</td>\n",
       "      <td>191</td>\n",
       "      <td>4</td>\n",
       "      <td>155</td>\n",
       "      <td>0</td>\n",
       "      <td>1</td>\n",
       "      <td>4</td>\n",
       "      <td>...</td>\n",
       "      <td>2.0</td>\n",
       "      <td>1.0</td>\n",
       "      <td>4.0</td>\n",
       "      <td>4.0</td>\n",
       "      <td>3.0</td>\n",
       "      <td>9.0</td>\n",
       "      <td>7.0</td>\n",
       "      <td>0.0</td>\n",
       "      <td>0.0</td>\n",
       "      <td>0.0</td>\n",
       "    </tr>\n",
       "    <tr>\n",
       "      <th>1</th>\n",
       "      <td>2541440</td>\n",
       "      <td>15</td>\n",
       "      <td>21</td>\n",
       "      <td>4</td>\n",
       "      <td>390</td>\n",
       "      <td>3</td>\n",
       "      <td>559</td>\n",
       "      <td>0</td>\n",
       "      <td>2</td>\n",
       "      <td>3</td>\n",
       "      <td>...</td>\n",
       "      <td>1.0</td>\n",
       "      <td>0.0</td>\n",
       "      <td>0.0</td>\n",
       "      <td>0.0</td>\n",
       "      <td>0.0</td>\n",
       "      <td>9.0</td>\n",
       "      <td>7.0</td>\n",
       "      <td>0.0</td>\n",
       "      <td>0.0</td>\n",
       "      <td>0.0</td>\n",
       "    </tr>\n",
       "    <tr>\n",
       "      <th>2</th>\n",
       "      <td>2541480</td>\n",
       "      <td>20</td>\n",
       "      <td>131</td>\n",
       "      <td>4</td>\n",
       "      <td>228</td>\n",
       "      <td>3</td>\n",
       "      <td>3261</td>\n",
       "      <td>0</td>\n",
       "      <td>1</td>\n",
       "      <td>6</td>\n",
       "      <td>...</td>\n",
       "      <td>3.0</td>\n",
       "      <td>0.0</td>\n",
       "      <td>1.0</td>\n",
       "      <td>0.0</td>\n",
       "      <td>0.0</td>\n",
       "      <td>9.0</td>\n",
       "      <td>7.0</td>\n",
       "      <td>0.0</td>\n",
       "      <td>0.0</td>\n",
       "      <td>0.0</td>\n",
       "    </tr>\n",
       "    <tr>\n",
       "      <th>3</th>\n",
       "      <td>2541780</td>\n",
       "      <td>18</td>\n",
       "      <td>73</td>\n",
       "      <td>2</td>\n",
       "      <td>317</td>\n",
       "      <td>3</td>\n",
       "      <td>3843</td>\n",
       "      <td>0</td>\n",
       "      <td>2</td>\n",
       "      <td>0</td>\n",
       "      <td>...</td>\n",
       "      <td>1.0</td>\n",
       "      <td>0.0</td>\n",
       "      <td>0.0</td>\n",
       "      <td>0.0</td>\n",
       "      <td>0.0</td>\n",
       "      <td>2.0</td>\n",
       "      <td>0.0</td>\n",
       "      <td>0.0</td>\n",
       "      <td>0.0</td>\n",
       "      <td>0.0</td>\n",
       "    </tr>\n",
       "    <tr>\n",
       "      <th>4</th>\n",
       "      <td>2541833</td>\n",
       "      <td>15</td>\n",
       "      <td>44</td>\n",
       "      <td>4</td>\n",
       "      <td>519</td>\n",
       "      <td>3</td>\n",
       "      <td>5179</td>\n",
       "      <td>0</td>\n",
       "      <td>4</td>\n",
       "      <td>3</td>\n",
       "      <td>...</td>\n",
       "      <td>1.0</td>\n",
       "      <td>0.0</td>\n",
       "      <td>0.0</td>\n",
       "      <td>0.0</td>\n",
       "      <td>3.0</td>\n",
       "      <td>9.0</td>\n",
       "      <td>7.0</td>\n",
       "      <td>0.0</td>\n",
       "      <td>0.0</td>\n",
       "      <td>0.0</td>\n",
       "    </tr>\n",
       "  </tbody>\n",
       "</table>\n",
       "<p>5 rows × 120 columns</p>\n",
       "</div>"
      ],
      "text/plain": [
       "       f_0  f_1  f_2  f_3  f_4  f_5   f_6  f_7  f_8  f_9  ...  f_70_encode  \\\n",
       "0  2541188   12  114    4  191    4   155    0    1    4  ...          2.0   \n",
       "1  2541440   15   21    4  390    3   559    0    2    3  ...          1.0   \n",
       "2  2541480   20  131    4  228    3  3261    0    1    6  ...          3.0   \n",
       "3  2541780   18   73    2  317    3  3843    0    2    0  ...          1.0   \n",
       "4  2541833   15   44    4  519    3  5179    0    4    3  ...          1.0   \n",
       "\n",
       "   f_71_encode  f_72_encode  f_73_encode  f_74_encode  f_75_encode  \\\n",
       "0          1.0          4.0          4.0          3.0          9.0   \n",
       "1          0.0          0.0          0.0          0.0          9.0   \n",
       "2          0.0          1.0          0.0          0.0          9.0   \n",
       "3          0.0          0.0          0.0          0.0          2.0   \n",
       "4          0.0          0.0          0.0          3.0          9.0   \n",
       "\n",
       "   f_76_encode  f_77_encode  f_78_encode  f_79_encode  \n",
       "0          7.0          0.0          0.0          0.0  \n",
       "1          7.0          0.0          0.0          0.0  \n",
       "2          7.0          0.0          0.0          0.0  \n",
       "3          0.0          0.0          0.0          0.0  \n",
       "4          7.0          0.0          0.0          0.0  \n",
       "\n",
       "[5 rows x 120 columns]"
      ]
     },
     "execution_count": 28,
     "metadata": {},
     "output_type": "execute_result"
    }
   ],
   "source": [
    "data.head()"
   ]
  },
  {
   "cell_type": "code",
   "execution_count": 94,
   "metadata": {},
   "outputs": [],
   "source": [
    "sparse_dim = 2\n",
    "dense_dim = 1"
   ]
  },
  {
   "cell_type": "code",
   "execution_count": 95,
   "metadata": {},
   "outputs": [],
   "source": [
    "# fixlen_feature_columns = \\\n",
    "#     [SparseFeat(feat, vocabulary_size=data[feat].nunique(), embedding_dim=sparse_dim) for i, feat in enumerate(sparse_features)] + \\\n",
    "#     [SparseFeat(feat, vocabulary_size=dense_bins, embedding_dim=sparse_dim) for i, feat in enumerate(add_sparse_features)] + \\\n",
    "#     [DenseFeat(feat, dense_dim) for feat in dense_features]"
   ]
  },
  {
   "cell_type": "code",
   "execution_count": 96,
   "metadata": {},
   "outputs": [],
   "source": [
    "fixlen_feature_columns = \\\n",
    "    [SparseFeat(feat, vocabulary_size=data[feat].nunique(), embedding_dim=sparse_dim) for i, feat in enumerate(sparse_features)] + \\\n",
    "    [SparseFeat(feat, vocabulary_size=dense_bins, embedding_dim=sparse_dim) for i, feat in enumerate(add_sparse_features)]"
   ]
  },
  {
   "cell_type": "code",
   "execution_count": 97,
   "metadata": {},
   "outputs": [],
   "source": [
    "dnn_feature_columns = fixlen_feature_columns\n",
    "linear_feature_columns = fixlen_feature_columns\n",
    "\n",
    "feature_names = get_feature_names(linear_feature_columns + dnn_feature_columns)"
   ]
  },
  {
   "cell_type": "code",
   "execution_count": 98,
   "metadata": {},
   "outputs": [
    {
     "data": {
      "text/plain": [
       "[SparseFeat(name='f_1', vocabulary_size=23, embedding_dim=2, use_hash=False, dtype='int32', embedding_name='f_1', group_name='default_group'),\n",
       " SparseFeat(name='f_2', vocabulary_size=139, embedding_dim=2, use_hash=False, dtype='int32', embedding_name='f_2', group_name='default_group'),\n",
       " SparseFeat(name='f_3', vocabulary_size=5, embedding_dim=2, use_hash=False, dtype='int32', embedding_name='f_3', group_name='default_group'),\n",
       " SparseFeat(name='f_4', vocabulary_size=638, embedding_dim=2, use_hash=False, dtype='int32', embedding_name='f_4', group_name='default_group'),\n",
       " SparseFeat(name='f_5', vocabulary_size=6, embedding_dim=2, use_hash=False, dtype='int32', embedding_name='f_5', group_name='default_group'),\n",
       " SparseFeat(name='f_6', vocabulary_size=5234, embedding_dim=2, use_hash=False, dtype='int32', embedding_name='f_6', group_name='default_group'),\n",
       " SparseFeat(name='f_7', vocabulary_size=1, embedding_dim=2, use_hash=False, dtype='int32', embedding_name='f_7', group_name='default_group'),\n",
       " SparseFeat(name='f_8', vocabulary_size=6, embedding_dim=2, use_hash=False, dtype='int32', embedding_name='f_8', group_name='default_group'),\n",
       " SparseFeat(name='f_9', vocabulary_size=7, embedding_dim=2, use_hash=False, dtype='int32', embedding_name='f_9', group_name='default_group'),\n",
       " SparseFeat(name='f_10', vocabulary_size=3, embedding_dim=2, use_hash=False, dtype='int32', embedding_name='f_10', group_name='default_group'),\n",
       " SparseFeat(name='f_11', vocabulary_size=24, embedding_dim=2, use_hash=False, dtype='int32', embedding_name='f_11', group_name='default_group'),\n",
       " SparseFeat(name='f_12', vocabulary_size=26, embedding_dim=2, use_hash=False, dtype='int32', embedding_name='f_12', group_name='default_group'),\n",
       " SparseFeat(name='f_13', vocabulary_size=331, embedding_dim=2, use_hash=False, dtype='int32', embedding_name='f_13', group_name='default_group'),\n",
       " SparseFeat(name='f_14', vocabulary_size=19, embedding_dim=2, use_hash=False, dtype='int32', embedding_name='f_14', group_name='default_group'),\n",
       " SparseFeat(name='f_15', vocabulary_size=5854, embedding_dim=2, use_hash=False, dtype='int32', embedding_name='f_15', group_name='default_group'),\n",
       " SparseFeat(name='f_16', vocabulary_size=12, embedding_dim=2, use_hash=False, dtype='int32', embedding_name='f_16', group_name='default_group'),\n",
       " SparseFeat(name='f_17', vocabulary_size=49, embedding_dim=2, use_hash=False, dtype='int32', embedding_name='f_17', group_name='default_group'),\n",
       " SparseFeat(name='f_18', vocabulary_size=924, embedding_dim=2, use_hash=False, dtype='int32', embedding_name='f_18', group_name='default_group'),\n",
       " SparseFeat(name='f_19', vocabulary_size=19, embedding_dim=2, use_hash=False, dtype='int32', embedding_name='f_19', group_name='default_group'),\n",
       " SparseFeat(name='f_20', vocabulary_size=57, embedding_dim=2, use_hash=False, dtype='int32', embedding_name='f_20', group_name='default_group'),\n",
       " SparseFeat(name='f_21', vocabulary_size=35, embedding_dim=2, use_hash=False, dtype='int32', embedding_name='f_21', group_name='default_group'),\n",
       " SparseFeat(name='f_22', vocabulary_size=26, embedding_dim=2, use_hash=False, dtype='int32', embedding_name='f_22', group_name='default_group'),\n",
       " SparseFeat(name='f_23', vocabulary_size=4, embedding_dim=2, use_hash=False, dtype='int32', embedding_name='f_23', group_name='default_group'),\n",
       " SparseFeat(name='f_24', vocabulary_size=4, embedding_dim=2, use_hash=False, dtype='int32', embedding_name='f_24', group_name='default_group'),\n",
       " SparseFeat(name='f_25', vocabulary_size=3, embedding_dim=2, use_hash=False, dtype='int32', embedding_name='f_25', group_name='default_group'),\n",
       " SparseFeat(name='f_26', vocabulary_size=2, embedding_dim=2, use_hash=False, dtype='int32', embedding_name='f_26', group_name='default_group'),\n",
       " SparseFeat(name='f_27', vocabulary_size=2, embedding_dim=2, use_hash=False, dtype='int32', embedding_name='f_27', group_name='default_group'),\n",
       " SparseFeat(name='f_28', vocabulary_size=2, embedding_dim=2, use_hash=False, dtype='int32', embedding_name='f_28', group_name='default_group'),\n",
       " SparseFeat(name='f_29', vocabulary_size=2, embedding_dim=2, use_hash=False, dtype='int32', embedding_name='f_29', group_name='default_group'),\n",
       " SparseFeat(name='f_30', vocabulary_size=3, embedding_dim=2, use_hash=False, dtype='int32', embedding_name='f_30', group_name='default_group'),\n",
       " SparseFeat(name='f_31', vocabulary_size=3, embedding_dim=2, use_hash=False, dtype='int32', embedding_name='f_31', group_name='default_group'),\n",
       " SparseFeat(name='f_32', vocabulary_size=4, embedding_dim=2, use_hash=False, dtype='int32', embedding_name='f_32', group_name='default_group'),\n",
       " SparseFeat(name='f_33', vocabulary_size=2, embedding_dim=2, use_hash=False, dtype='int32', embedding_name='f_33', group_name='default_group'),\n",
       " SparseFeat(name='f_34', vocabulary_size=2, embedding_dim=2, use_hash=False, dtype='int32', embedding_name='f_34', group_name='default_group'),\n",
       " SparseFeat(name='f_35', vocabulary_size=2, embedding_dim=2, use_hash=False, dtype='int32', embedding_name='f_35', group_name='default_group'),\n",
       " SparseFeat(name='f_36', vocabulary_size=2, embedding_dim=2, use_hash=False, dtype='int32', embedding_name='f_36', group_name='default_group'),\n",
       " SparseFeat(name='f_37', vocabulary_size=2, embedding_dim=2, use_hash=False, dtype='int32', embedding_name='f_37', group_name='default_group'),\n",
       " SparseFeat(name='f_38', vocabulary_size=2, embedding_dim=2, use_hash=False, dtype='int32', embedding_name='f_38', group_name='default_group'),\n",
       " SparseFeat(name='f_39', vocabulary_size=2, embedding_dim=2, use_hash=False, dtype='int32', embedding_name='f_39', group_name='default_group'),\n",
       " SparseFeat(name='f_40', vocabulary_size=2, embedding_dim=2, use_hash=False, dtype='int32', embedding_name='f_40', group_name='default_group'),\n",
       " SparseFeat(name='f_41', vocabulary_size=2, embedding_dim=2, use_hash=False, dtype='int32', embedding_name='f_41', group_name='default_group'),\n",
       " SparseFeat(name='f_42_encode', vocabulary_size=10, embedding_dim=2, use_hash=False, dtype='int32', embedding_name='f_42_encode', group_name='default_group'),\n",
       " SparseFeat(name='f_43_encode', vocabulary_size=10, embedding_dim=2, use_hash=False, dtype='int32', embedding_name='f_43_encode', group_name='default_group'),\n",
       " SparseFeat(name='f_44_encode', vocabulary_size=10, embedding_dim=2, use_hash=False, dtype='int32', embedding_name='f_44_encode', group_name='default_group'),\n",
       " SparseFeat(name='f_45_encode', vocabulary_size=10, embedding_dim=2, use_hash=False, dtype='int32', embedding_name='f_45_encode', group_name='default_group'),\n",
       " SparseFeat(name='f_46_encode', vocabulary_size=10, embedding_dim=2, use_hash=False, dtype='int32', embedding_name='f_46_encode', group_name='default_group'),\n",
       " SparseFeat(name='f_47_encode', vocabulary_size=10, embedding_dim=2, use_hash=False, dtype='int32', embedding_name='f_47_encode', group_name='default_group'),\n",
       " SparseFeat(name='f_48_encode', vocabulary_size=10, embedding_dim=2, use_hash=False, dtype='int32', embedding_name='f_48_encode', group_name='default_group'),\n",
       " SparseFeat(name='f_49_encode', vocabulary_size=10, embedding_dim=2, use_hash=False, dtype='int32', embedding_name='f_49_encode', group_name='default_group'),\n",
       " SparseFeat(name='f_50_encode', vocabulary_size=10, embedding_dim=2, use_hash=False, dtype='int32', embedding_name='f_50_encode', group_name='default_group'),\n",
       " SparseFeat(name='f_51_encode', vocabulary_size=10, embedding_dim=2, use_hash=False, dtype='int32', embedding_name='f_51_encode', group_name='default_group'),\n",
       " SparseFeat(name='f_52_encode', vocabulary_size=10, embedding_dim=2, use_hash=False, dtype='int32', embedding_name='f_52_encode', group_name='default_group'),\n",
       " SparseFeat(name='f_53_encode', vocabulary_size=10, embedding_dim=2, use_hash=False, dtype='int32', embedding_name='f_53_encode', group_name='default_group'),\n",
       " SparseFeat(name='f_54_encode', vocabulary_size=10, embedding_dim=2, use_hash=False, dtype='int32', embedding_name='f_54_encode', group_name='default_group'),\n",
       " SparseFeat(name='f_55_encode', vocabulary_size=10, embedding_dim=2, use_hash=False, dtype='int32', embedding_name='f_55_encode', group_name='default_group'),\n",
       " SparseFeat(name='f_56_encode', vocabulary_size=10, embedding_dim=2, use_hash=False, dtype='int32', embedding_name='f_56_encode', group_name='default_group'),\n",
       " SparseFeat(name='f_57_encode', vocabulary_size=10, embedding_dim=2, use_hash=False, dtype='int32', embedding_name='f_57_encode', group_name='default_group'),\n",
       " SparseFeat(name='f_58_encode', vocabulary_size=10, embedding_dim=2, use_hash=False, dtype='int32', embedding_name='f_58_encode', group_name='default_group'),\n",
       " SparseFeat(name='f_59_encode', vocabulary_size=10, embedding_dim=2, use_hash=False, dtype='int32', embedding_name='f_59_encode', group_name='default_group'),\n",
       " SparseFeat(name='f_60_encode', vocabulary_size=10, embedding_dim=2, use_hash=False, dtype='int32', embedding_name='f_60_encode', group_name='default_group'),\n",
       " SparseFeat(name='f_61_encode', vocabulary_size=10, embedding_dim=2, use_hash=False, dtype='int32', embedding_name='f_61_encode', group_name='default_group'),\n",
       " SparseFeat(name='f_62_encode', vocabulary_size=10, embedding_dim=2, use_hash=False, dtype='int32', embedding_name='f_62_encode', group_name='default_group'),\n",
       " SparseFeat(name='f_63_encode', vocabulary_size=10, embedding_dim=2, use_hash=False, dtype='int32', embedding_name='f_63_encode', group_name='default_group'),\n",
       " SparseFeat(name='f_64_encode', vocabulary_size=10, embedding_dim=2, use_hash=False, dtype='int32', embedding_name='f_64_encode', group_name='default_group'),\n",
       " SparseFeat(name='f_65_encode', vocabulary_size=10, embedding_dim=2, use_hash=False, dtype='int32', embedding_name='f_65_encode', group_name='default_group'),\n",
       " SparseFeat(name='f_66_encode', vocabulary_size=10, embedding_dim=2, use_hash=False, dtype='int32', embedding_name='f_66_encode', group_name='default_group'),\n",
       " SparseFeat(name='f_67_encode', vocabulary_size=10, embedding_dim=2, use_hash=False, dtype='int32', embedding_name='f_67_encode', group_name='default_group'),\n",
       " SparseFeat(name='f_68_encode', vocabulary_size=10, embedding_dim=2, use_hash=False, dtype='int32', embedding_name='f_68_encode', group_name='default_group'),\n",
       " SparseFeat(name='f_69_encode', vocabulary_size=10, embedding_dim=2, use_hash=False, dtype='int32', embedding_name='f_69_encode', group_name='default_group'),\n",
       " SparseFeat(name='f_70_encode', vocabulary_size=10, embedding_dim=2, use_hash=False, dtype='int32', embedding_name='f_70_encode', group_name='default_group'),\n",
       " SparseFeat(name='f_71_encode', vocabulary_size=10, embedding_dim=2, use_hash=False, dtype='int32', embedding_name='f_71_encode', group_name='default_group'),\n",
       " SparseFeat(name='f_72_encode', vocabulary_size=10, embedding_dim=2, use_hash=False, dtype='int32', embedding_name='f_72_encode', group_name='default_group'),\n",
       " SparseFeat(name='f_73_encode', vocabulary_size=10, embedding_dim=2, use_hash=False, dtype='int32', embedding_name='f_73_encode', group_name='default_group'),\n",
       " SparseFeat(name='f_74_encode', vocabulary_size=10, embedding_dim=2, use_hash=False, dtype='int32', embedding_name='f_74_encode', group_name='default_group'),\n",
       " SparseFeat(name='f_75_encode', vocabulary_size=10, embedding_dim=2, use_hash=False, dtype='int32', embedding_name='f_75_encode', group_name='default_group'),\n",
       " SparseFeat(name='f_76_encode', vocabulary_size=10, embedding_dim=2, use_hash=False, dtype='int32', embedding_name='f_76_encode', group_name='default_group'),\n",
       " SparseFeat(name='f_77_encode', vocabulary_size=10, embedding_dim=2, use_hash=False, dtype='int32', embedding_name='f_77_encode', group_name='default_group'),\n",
       " SparseFeat(name='f_78_encode', vocabulary_size=10, embedding_dim=2, use_hash=False, dtype='int32', embedding_name='f_78_encode', group_name='default_group'),\n",
       " SparseFeat(name='f_79_encode', vocabulary_size=10, embedding_dim=2, use_hash=False, dtype='int32', embedding_name='f_79_encode', group_name='default_group')]"
      ]
     },
     "execution_count": 98,
     "metadata": {},
     "output_type": "execute_result"
    }
   ],
   "source": [
    "fixlen_feature_columns"
   ]
  },
  {
   "attachments": {},
   "cell_type": "markdown",
   "metadata": {},
   "source": [
    "单模训练"
   ]
  },
  {
   "cell_type": "code",
   "execution_count": 99,
   "metadata": {},
   "outputs": [],
   "source": [
    "seed = 2023\n",
    "device = 'cuda:3'\n",
    "model_name = 'DCN'\n",
    "batch_size = 256\n",
    "epochs = 50\n",
    "patience = 10"
   ]
  },
  {
   "cell_type": "code",
   "execution_count": 100,
   "metadata": {},
   "outputs": [],
   "source": [
    "train = data[~data['is_clicked'].isna()]\n",
    "test = data[data['is_clicked'].isna()]"
   ]
  },
  {
   "cell_type": "code",
   "execution_count": 101,
   "metadata": {},
   "outputs": [],
   "source": [
    "train_model_input = {name: train[name] for name in feature_names}\n",
    "test_model_input = {name: test[name] for name in feature_names}"
   ]
  },
  {
   "cell_type": "code",
   "execution_count": 102,
   "metadata": {},
   "outputs": [],
   "source": [
    "model = DCN(linear_feature_columns, dnn_feature_columns, task='binary', device=device, seed=seed, dnn_hidden_units=(256, 128))\n",
    "model.compile(\"adam\", \"binary_crossentropy\", metrics=['binary_crossentropy'])"
   ]
  },
  {
   "cell_type": "code",
   "execution_count": 103,
   "metadata": {},
   "outputs": [
    {
     "data": {
      "text/plain": [
       "DCN(\n",
       "  (embedding_dict): ModuleDict(\n",
       "    (f_1): Embedding(23, 2)\n",
       "    (f_2): Embedding(139, 2)\n",
       "    (f_3): Embedding(5, 2)\n",
       "    (f_4): Embedding(638, 2)\n",
       "    (f_5): Embedding(6, 2)\n",
       "    (f_6): Embedding(5234, 2)\n",
       "    (f_7): Embedding(1, 2)\n",
       "    (f_8): Embedding(6, 2)\n",
       "    (f_9): Embedding(7, 2)\n",
       "    (f_10): Embedding(3, 2)\n",
       "    (f_11): Embedding(24, 2)\n",
       "    (f_12): Embedding(26, 2)\n",
       "    (f_13): Embedding(331, 2)\n",
       "    (f_14): Embedding(19, 2)\n",
       "    (f_15): Embedding(5854, 2)\n",
       "    (f_16): Embedding(12, 2)\n",
       "    (f_17): Embedding(49, 2)\n",
       "    (f_18): Embedding(924, 2)\n",
       "    (f_19): Embedding(19, 2)\n",
       "    (f_20): Embedding(57, 2)\n",
       "    (f_21): Embedding(35, 2)\n",
       "    (f_22): Embedding(26, 2)\n",
       "    (f_23): Embedding(4, 2)\n",
       "    (f_24): Embedding(4, 2)\n",
       "    (f_25): Embedding(3, 2)\n",
       "    (f_26): Embedding(2, 2)\n",
       "    (f_27): Embedding(2, 2)\n",
       "    (f_28): Embedding(2, 2)\n",
       "    (f_29): Embedding(2, 2)\n",
       "    (f_30): Embedding(3, 2)\n",
       "    (f_31): Embedding(3, 2)\n",
       "    (f_32): Embedding(4, 2)\n",
       "    (f_33): Embedding(2, 2)\n",
       "    (f_34): Embedding(2, 2)\n",
       "    (f_35): Embedding(2, 2)\n",
       "    (f_36): Embedding(2, 2)\n",
       "    (f_37): Embedding(2, 2)\n",
       "    (f_38): Embedding(2, 2)\n",
       "    (f_39): Embedding(2, 2)\n",
       "    (f_40): Embedding(2, 2)\n",
       "    (f_41): Embedding(2, 2)\n",
       "    (f_42_encode): Embedding(10, 2)\n",
       "    (f_43_encode): Embedding(10, 2)\n",
       "    (f_44_encode): Embedding(10, 2)\n",
       "    (f_45_encode): Embedding(10, 2)\n",
       "    (f_46_encode): Embedding(10, 2)\n",
       "    (f_47_encode): Embedding(10, 2)\n",
       "    (f_48_encode): Embedding(10, 2)\n",
       "    (f_49_encode): Embedding(10, 2)\n",
       "    (f_50_encode): Embedding(10, 2)\n",
       "    (f_51_encode): Embedding(10, 2)\n",
       "    (f_52_encode): Embedding(10, 2)\n",
       "    (f_53_encode): Embedding(10, 2)\n",
       "    (f_54_encode): Embedding(10, 2)\n",
       "    (f_55_encode): Embedding(10, 2)\n",
       "    (f_56_encode): Embedding(10, 2)\n",
       "    (f_57_encode): Embedding(10, 2)\n",
       "    (f_58_encode): Embedding(10, 2)\n",
       "    (f_59_encode): Embedding(10, 2)\n",
       "    (f_60_encode): Embedding(10, 2)\n",
       "    (f_61_encode): Embedding(10, 2)\n",
       "    (f_62_encode): Embedding(10, 2)\n",
       "    (f_63_encode): Embedding(10, 2)\n",
       "    (f_64_encode): Embedding(10, 2)\n",
       "    (f_65_encode): Embedding(10, 2)\n",
       "    (f_66_encode): Embedding(10, 2)\n",
       "    (f_67_encode): Embedding(10, 2)\n",
       "    (f_68_encode): Embedding(10, 2)\n",
       "    (f_69_encode): Embedding(10, 2)\n",
       "    (f_70_encode): Embedding(10, 2)\n",
       "    (f_71_encode): Embedding(10, 2)\n",
       "    (f_72_encode): Embedding(10, 2)\n",
       "    (f_73_encode): Embedding(10, 2)\n",
       "    (f_74_encode): Embedding(10, 2)\n",
       "    (f_75_encode): Embedding(10, 2)\n",
       "    (f_76_encode): Embedding(10, 2)\n",
       "    (f_77_encode): Embedding(10, 2)\n",
       "    (f_78_encode): Embedding(10, 2)\n",
       "    (f_79_encode): Embedding(10, 2)\n",
       "  )\n",
       "  (linear_model): Linear(\n",
       "    (embedding_dict): ModuleDict(\n",
       "      (f_1): Embedding(23, 1)\n",
       "      (f_2): Embedding(139, 1)\n",
       "      (f_3): Embedding(5, 1)\n",
       "      (f_4): Embedding(638, 1)\n",
       "      (f_5): Embedding(6, 1)\n",
       "      (f_6): Embedding(5234, 1)\n",
       "      (f_7): Embedding(1, 1)\n",
       "      (f_8): Embedding(6, 1)\n",
       "      (f_9): Embedding(7, 1)\n",
       "      (f_10): Embedding(3, 1)\n",
       "      (f_11): Embedding(24, 1)\n",
       "      (f_12): Embedding(26, 1)\n",
       "      (f_13): Embedding(331, 1)\n",
       "      (f_14): Embedding(19, 1)\n",
       "      (f_15): Embedding(5854, 1)\n",
       "      (f_16): Embedding(12, 1)\n",
       "      (f_17): Embedding(49, 1)\n",
       "      (f_18): Embedding(924, 1)\n",
       "      (f_19): Embedding(19, 1)\n",
       "      (f_20): Embedding(57, 1)\n",
       "      (f_21): Embedding(35, 1)\n",
       "      (f_22): Embedding(26, 1)\n",
       "      (f_23): Embedding(4, 1)\n",
       "      (f_24): Embedding(4, 1)\n",
       "      (f_25): Embedding(3, 1)\n",
       "      (f_26): Embedding(2, 1)\n",
       "      (f_27): Embedding(2, 1)\n",
       "      (f_28): Embedding(2, 1)\n",
       "      (f_29): Embedding(2, 1)\n",
       "      (f_30): Embedding(3, 1)\n",
       "      (f_31): Embedding(3, 1)\n",
       "      (f_32): Embedding(4, 1)\n",
       "      (f_33): Embedding(2, 1)\n",
       "      (f_34): Embedding(2, 1)\n",
       "      (f_35): Embedding(2, 1)\n",
       "      (f_36): Embedding(2, 1)\n",
       "      (f_37): Embedding(2, 1)\n",
       "      (f_38): Embedding(2, 1)\n",
       "      (f_39): Embedding(2, 1)\n",
       "      (f_40): Embedding(2, 1)\n",
       "      (f_41): Embedding(2, 1)\n",
       "      (f_42_encode): Embedding(10, 1)\n",
       "      (f_43_encode): Embedding(10, 1)\n",
       "      (f_44_encode): Embedding(10, 1)\n",
       "      (f_45_encode): Embedding(10, 1)\n",
       "      (f_46_encode): Embedding(10, 1)\n",
       "      (f_47_encode): Embedding(10, 1)\n",
       "      (f_48_encode): Embedding(10, 1)\n",
       "      (f_49_encode): Embedding(10, 1)\n",
       "      (f_50_encode): Embedding(10, 1)\n",
       "      (f_51_encode): Embedding(10, 1)\n",
       "      (f_52_encode): Embedding(10, 1)\n",
       "      (f_53_encode): Embedding(10, 1)\n",
       "      (f_54_encode): Embedding(10, 1)\n",
       "      (f_55_encode): Embedding(10, 1)\n",
       "      (f_56_encode): Embedding(10, 1)\n",
       "      (f_57_encode): Embedding(10, 1)\n",
       "      (f_58_encode): Embedding(10, 1)\n",
       "      (f_59_encode): Embedding(10, 1)\n",
       "      (f_60_encode): Embedding(10, 1)\n",
       "      (f_61_encode): Embedding(10, 1)\n",
       "      (f_62_encode): Embedding(10, 1)\n",
       "      (f_63_encode): Embedding(10, 1)\n",
       "      (f_64_encode): Embedding(10, 1)\n",
       "      (f_65_encode): Embedding(10, 1)\n",
       "      (f_66_encode): Embedding(10, 1)\n",
       "      (f_67_encode): Embedding(10, 1)\n",
       "      (f_68_encode): Embedding(10, 1)\n",
       "      (f_69_encode): Embedding(10, 1)\n",
       "      (f_70_encode): Embedding(10, 1)\n",
       "      (f_71_encode): Embedding(10, 1)\n",
       "      (f_72_encode): Embedding(10, 1)\n",
       "      (f_73_encode): Embedding(10, 1)\n",
       "      (f_74_encode): Embedding(10, 1)\n",
       "      (f_75_encode): Embedding(10, 1)\n",
       "      (f_76_encode): Embedding(10, 1)\n",
       "      (f_77_encode): Embedding(10, 1)\n",
       "      (f_78_encode): Embedding(10, 1)\n",
       "      (f_79_encode): Embedding(10, 1)\n",
       "    )\n",
       "  )\n",
       "  (out): PredictionLayer()\n",
       "  (dnn): DNN(\n",
       "    (dropout): Dropout(p=0, inplace=False)\n",
       "    (linears): ModuleList(\n",
       "      (0): Linear(in_features=158, out_features=256, bias=True)\n",
       "      (1): Linear(in_features=256, out_features=128, bias=True)\n",
       "    )\n",
       "    (activation_layers): ModuleList(\n",
       "      (0): ReLU(inplace=True)\n",
       "      (1): ReLU(inplace=True)\n",
       "    )\n",
       "  )\n",
       "  (dnn_linear): Linear(in_features=286, out_features=1, bias=False)\n",
       "  (crossnet): CrossNet()\n",
       ")"
      ]
     },
     "execution_count": 103,
     "metadata": {},
     "output_type": "execute_result"
    }
   ],
   "source": [
    "model "
   ]
  },
  {
   "cell_type": "code",
   "execution_count": 104,
   "metadata": {},
   "outputs": [
    {
     "name": "stdout",
     "output_type": "stream",
     "text": [
      "cuda:3\n",
      "Train on 2788681 samples, validate on 697171 samples, 10894 steps per epoch\n"
     ]
    },
    {
     "name": "stderr",
     "output_type": "stream",
     "text": [
      "10894it [11:27, 15.84it/s]\n"
     ]
    },
    {
     "name": "stdout",
     "output_type": "stream",
     "text": [
      "Epoch 1/50\n",
      "710s - loss:  0.2811 - binary_crossentropy:  0.2811 - val_binary_crossentropy:  0.2722\n",
      "Epoch 00001: val_binary_crossentropy improved from inf to 0.27221, saving model to ckpt/DCN_2_Batch256_bins10_onlysparse.ckpt\n"
     ]
    },
    {
     "name": "stderr",
     "output_type": "stream",
     "text": [
      "10894it [11:28, 15.83it/s]\n"
     ]
    },
    {
     "name": "stdout",
     "output_type": "stream",
     "text": [
      "Epoch 2/50\n",
      "711s - loss:  0.2685 - binary_crossentropy:  0.2685 - val_binary_crossentropy:  0.2669\n",
      "Epoch 00002: val_binary_crossentropy improved from 0.27221 to 0.26686, saving model to ckpt/DCN_2_Batch256_bins10_onlysparse.ckpt\n"
     ]
    },
    {
     "name": "stderr",
     "output_type": "stream",
     "text": [
      "10894it [11:23, 15.95it/s]\n"
     ]
    },
    {
     "name": "stdout",
     "output_type": "stream",
     "text": [
      "Epoch 3/50\n",
      "705s - loss:  0.2651 - binary_crossentropy:  0.2650 - val_binary_crossentropy:  0.2655\n",
      "Epoch 00003: val_binary_crossentropy improved from 0.26686 to 0.26551, saving model to ckpt/DCN_2_Batch256_bins10_onlysparse.ckpt\n"
     ]
    },
    {
     "name": "stderr",
     "output_type": "stream",
     "text": [
      "10894it [11:28, 15.82it/s]\n"
     ]
    },
    {
     "name": "stdout",
     "output_type": "stream",
     "text": [
      "Epoch 4/50\n",
      "710s - loss:  0.2627 - binary_crossentropy:  0.2626 - val_binary_crossentropy:  0.2649\n",
      "Epoch 00004: val_binary_crossentropy improved from 0.26551 to 0.26492, saving model to ckpt/DCN_2_Batch256_bins10_onlysparse.ckpt\n"
     ]
    },
    {
     "name": "stderr",
     "output_type": "stream",
     "text": [
      "10894it [11:27, 15.84it/s]\n"
     ]
    },
    {
     "name": "stdout",
     "output_type": "stream",
     "text": [
      "Epoch 5/50\n",
      "710s - loss:  0.2608 - binary_crossentropy:  0.2607 - val_binary_crossentropy:  0.2625\n",
      "Epoch 00005: val_binary_crossentropy improved from 0.26492 to 0.26250, saving model to ckpt/DCN_2_Batch256_bins10_onlysparse.ckpt\n"
     ]
    },
    {
     "name": "stderr",
     "output_type": "stream",
     "text": [
      "10894it [11:25, 15.90it/s]\n"
     ]
    },
    {
     "name": "stdout",
     "output_type": "stream",
     "text": [
      "Epoch 6/50\n",
      "707s - loss:  0.2592 - binary_crossentropy:  0.2590 - val_binary_crossentropy:  0.2644\n",
      "Epoch 00006: val_binary_crossentropy did not improve from 0.26250\n"
     ]
    },
    {
     "name": "stderr",
     "output_type": "stream",
     "text": [
      "10894it [11:22, 15.96it/s]\n"
     ]
    },
    {
     "name": "stdout",
     "output_type": "stream",
     "text": [
      "Epoch 7/50\n",
      "704s - loss:  0.2580 - binary_crossentropy:  0.2578 - val_binary_crossentropy:  0.2612\n",
      "Epoch 00007: val_binary_crossentropy improved from 0.26250 to 0.26123, saving model to ckpt/DCN_2_Batch256_bins10_onlysparse.ckpt\n"
     ]
    },
    {
     "name": "stderr",
     "output_type": "stream",
     "text": [
      "10894it [11:29, 15.80it/s]\n"
     ]
    },
    {
     "name": "stdout",
     "output_type": "stream",
     "text": [
      "Epoch 8/50\n",
      "711s - loss:  0.2569 - binary_crossentropy:  0.2566 - val_binary_crossentropy:  0.2613\n",
      "Epoch 00008: val_binary_crossentropy did not improve from 0.26123\n"
     ]
    },
    {
     "name": "stderr",
     "output_type": "stream",
     "text": [
      "10894it [11:19, 16.04it/s]\n"
     ]
    },
    {
     "name": "stdout",
     "output_type": "stream",
     "text": [
      "Epoch 9/50\n",
      "701s - loss:  0.2559 - binary_crossentropy:  0.2556 - val_binary_crossentropy:  0.2613\n",
      "Epoch 00009: val_binary_crossentropy did not improve from 0.26123\n"
     ]
    },
    {
     "name": "stderr",
     "output_type": "stream",
     "text": [
      "10894it [11:30, 15.78it/s]\n"
     ]
    },
    {
     "name": "stdout",
     "output_type": "stream",
     "text": [
      "Epoch 10/50\n",
      "713s - loss:  0.2552 - binary_crossentropy:  0.2549 - val_binary_crossentropy:  0.2603\n",
      "Epoch 00010: val_binary_crossentropy improved from 0.26123 to 0.26027, saving model to ckpt/DCN_2_Batch256_bins10_onlysparse.ckpt\n"
     ]
    },
    {
     "name": "stderr",
     "output_type": "stream",
     "text": [
      "10894it [11:02, 16.44it/s]\n"
     ]
    },
    {
     "name": "stdout",
     "output_type": "stream",
     "text": [
      "Epoch 11/50\n",
      "685s - loss:  0.2546 - binary_crossentropy:  0.2543 - val_binary_crossentropy:  0.2602\n",
      "Epoch 00011: val_binary_crossentropy improved from 0.26027 to 0.26018, saving model to ckpt/DCN_2_Batch256_bins10_onlysparse.ckpt\n"
     ]
    },
    {
     "name": "stderr",
     "output_type": "stream",
     "text": [
      "10894it [11:32, 15.74it/s]\n"
     ]
    },
    {
     "name": "stdout",
     "output_type": "stream",
     "text": [
      "Epoch 12/50\n",
      "714s - loss:  0.2540 - binary_crossentropy:  0.2537 - val_binary_crossentropy:  0.2599\n",
      "Epoch 00012: val_binary_crossentropy improved from 0.26018 to 0.25986, saving model to ckpt/DCN_2_Batch256_bins10_onlysparse.ckpt\n"
     ]
    },
    {
     "name": "stderr",
     "output_type": "stream",
     "text": [
      "10894it [11:16, 16.11it/s]\n"
     ]
    },
    {
     "name": "stdout",
     "output_type": "stream",
     "text": [
      "Epoch 13/50\n",
      "698s - loss:  0.2535 - binary_crossentropy:  0.2531 - val_binary_crossentropy:  0.2599\n",
      "Epoch 00013: val_binary_crossentropy did not improve from 0.25986\n"
     ]
    },
    {
     "name": "stderr",
     "output_type": "stream",
     "text": [
      "10894it [11:06, 16.35it/s]\n"
     ]
    },
    {
     "name": "stdout",
     "output_type": "stream",
     "text": [
      "Epoch 14/50\n",
      "688s - loss:  0.2530 - binary_crossentropy:  0.2526 - val_binary_crossentropy:  0.2597\n",
      "Epoch 00014: val_binary_crossentropy improved from 0.25986 to 0.25974, saving model to ckpt/DCN_2_Batch256_bins10_onlysparse.ckpt\n"
     ]
    },
    {
     "name": "stderr",
     "output_type": "stream",
     "text": [
      "10894it [11:02, 16.44it/s]\n"
     ]
    },
    {
     "name": "stdout",
     "output_type": "stream",
     "text": [
      "Epoch 15/50\n",
      "684s - loss:  0.2526 - binary_crossentropy:  0.2522 - val_binary_crossentropy:  0.2604\n",
      "Epoch 00015: val_binary_crossentropy did not improve from 0.25974\n"
     ]
    },
    {
     "name": "stderr",
     "output_type": "stream",
     "text": [
      "10894it [11:15, 16.12it/s]\n"
     ]
    },
    {
     "name": "stdout",
     "output_type": "stream",
     "text": [
      "Epoch 16/50\n",
      "698s - loss:  0.2523 - binary_crossentropy:  0.2519 - val_binary_crossentropy:  0.2605\n",
      "Epoch 00016: val_binary_crossentropy did not improve from 0.25974\n"
     ]
    },
    {
     "name": "stderr",
     "output_type": "stream",
     "text": [
      "10894it [11:02, 16.43it/s]\n"
     ]
    },
    {
     "name": "stdout",
     "output_type": "stream",
     "text": [
      "Epoch 17/50\n",
      "685s - loss:  0.2520 - binary_crossentropy:  0.2515 - val_binary_crossentropy:  0.2601\n",
      "Epoch 00017: val_binary_crossentropy did not improve from 0.25974\n"
     ]
    },
    {
     "name": "stderr",
     "output_type": "stream",
     "text": [
      "10894it [11:19, 16.03it/s]\n"
     ]
    },
    {
     "name": "stdout",
     "output_type": "stream",
     "text": [
      "Epoch 18/50\n",
      "701s - loss:  0.2516 - binary_crossentropy:  0.2512 - val_binary_crossentropy:  0.2601\n",
      "Epoch 00018: val_binary_crossentropy did not improve from 0.25974\n"
     ]
    },
    {
     "name": "stderr",
     "output_type": "stream",
     "text": [
      "10894it [11:07, 16.33it/s]\n"
     ]
    },
    {
     "name": "stdout",
     "output_type": "stream",
     "text": [
      "Epoch 19/50\n",
      "689s - loss:  0.2514 - binary_crossentropy:  0.2509 - val_binary_crossentropy:  0.2606\n",
      "Epoch 00019: val_binary_crossentropy did not improve from 0.25974\n"
     ]
    },
    {
     "name": "stderr",
     "output_type": "stream",
     "text": [
      "10894it [11:02, 16.44it/s]\n"
     ]
    },
    {
     "name": "stdout",
     "output_type": "stream",
     "text": [
      "Epoch 20/50\n",
      "684s - loss:  0.2511 - binary_crossentropy:  0.2506 - val_binary_crossentropy:  0.2606\n",
      "Epoch 00020: val_binary_crossentropy did not improve from 0.25974\n"
     ]
    },
    {
     "name": "stderr",
     "output_type": "stream",
     "text": [
      "10894it [10:51, 16.71it/s]\n"
     ]
    },
    {
     "name": "stdout",
     "output_type": "stream",
     "text": [
      "Epoch 21/50\n",
      "674s - loss:  0.2509 - binary_crossentropy:  0.2504 - val_binary_crossentropy:  0.2613\n",
      "Epoch 00021: val_binary_crossentropy did not improve from 0.25974\n"
     ]
    },
    {
     "name": "stderr",
     "output_type": "stream",
     "text": [
      "10894it [11:08, 16.30it/s]\n"
     ]
    },
    {
     "name": "stdout",
     "output_type": "stream",
     "text": [
      "Epoch 22/50\n",
      "690s - loss:  0.2506 - binary_crossentropy:  0.2501 - val_binary_crossentropy:  0.2608\n",
      "Epoch 00022: val_binary_crossentropy did not improve from 0.25974\n"
     ]
    },
    {
     "name": "stderr",
     "output_type": "stream",
     "text": [
      "10894it [11:01, 16.47it/s]\n"
     ]
    },
    {
     "name": "stdout",
     "output_type": "stream",
     "text": [
      "Epoch 23/50\n",
      "683s - loss:  0.2505 - binary_crossentropy:  0.2499 - val_binary_crossentropy:  0.2605\n",
      "Epoch 00023: val_binary_crossentropy did not improve from 0.25974\n"
     ]
    },
    {
     "name": "stderr",
     "output_type": "stream",
     "text": [
      "10894it [11:04, 16.39it/s]\n"
     ]
    },
    {
     "name": "stdout",
     "output_type": "stream",
     "text": [
      "Epoch 24/50\n",
      "686s - loss:  0.2503 - binary_crossentropy:  0.2497 - val_binary_crossentropy:  0.2611\n",
      "Epoch 00024: val_binary_crossentropy did not improve from 0.25974\n",
      "Epoch 00024: early stopping\n"
     ]
    }
   ],
   "source": [
    "es = EarlyStopping(monitor='val_binary_crossentropy', min_delta=0, verbose=1, patience=patience, mode='min')\n",
    "mdckpt = ModelCheckpoint(filepath='ckpt/{}_{}_Batch{}_bins{}_onlysparse.ckpt'.format(model_name, sparse_dim, batch_size, dense_bins), monitor='val_binary_crossentropy', verbose=1, save_best_only=True, mode='min')\n",
    "history = model.fit(train_model_input, train_data[target].values, batch_size=batch_size, epochs=epochs, verbose=1, validation_split=0.2, callbacks=[es,mdckpt])"
   ]
  },
  {
   "attachments": {},
   "cell_type": "markdown",
   "metadata": {},
   "source": [
    "单模测试"
   ]
  },
  {
   "cell_type": "code",
   "execution_count": 105,
   "metadata": {},
   "outputs": [],
   "source": [
    "model = torch.load('ckpt/{}_{}_Batch{}_bins{}_onlysparse.ckpt'.format(model_name, sparse_dim, batch_size, dense_bins))"
   ]
  },
  {
   "cell_type": "code",
   "execution_count": 106,
   "metadata": {},
   "outputs": [],
   "source": [
    "pred_ans = model.predict(test_model_input, batch_size=batch_size)"
   ]
  },
  {
   "cell_type": "code",
   "execution_count": 107,
   "metadata": {},
   "outputs": [
    {
     "data": {
      "text/plain": [
       "(1.2235470876476029e-06, 0.996863842010498)"
      ]
     },
     "execution_count": 107,
     "metadata": {},
     "output_type": "execute_result"
    }
   ],
   "source": [
    "pred_ans.min(), pred_ans.max()"
   ]
  },
  {
   "cell_type": "code",
   "execution_count": 108,
   "metadata": {},
   "outputs": [],
   "source": [
    "pred_oof = model.predict(train_model_input, batch_size=batch_size)"
   ]
  },
  {
   "cell_type": "code",
   "execution_count": 109,
   "metadata": {},
   "outputs": [
    {
     "name": "stdout",
     "output_type": "stream",
     "text": [
      "Logloss: 0.2519, AUC: 0.9168, Precision: 0.8019, Recall: 0.5226, F1 Score: 0.6328\n"
     ]
    }
   ],
   "source": [
    "logloss = metrics.log_loss(train_data[target], pred_oof)\n",
    "acc = metrics.roc_auc_score(train_data[target], pred_oof)\n",
    "precision = metrics.precision_score(train_data[target], [1 if i >= 0.5 else 0 for i in pred_oof])\n",
    "recall = metrics.recall_score(train_data[target], [1 if i >= 0.5 else 0 for i in pred_oof])\n",
    "f1 = metrics.f1_score(train_data[target], [1 if i >= 0.5 else 0 for i in pred_oof])\n",
    "\n",
    "print(f\"Logloss: {logloss:.4f}, AUC: {acc:.4f}, Precision: {precision:.4f}, Recall: {recall:.4f}, F1 Score: {f1:.4f}\")"
   ]
  },
  {
   "cell_type": "code",
   "execution_count": 110,
   "metadata": {},
   "outputs": [],
   "source": [
    "submission = pd.DataFrame()\n",
    "submission[\"RowId\"] = test_data[\"f_0\"]\n",
    "submission[\"is_clicked\"] = np.random.random((test_data.shape[0]))\n",
    "submission[\"is_installed\"] = pred_ans\n",
    "submission.to_csv('./output/{}_{}_{}_{}_{}_Batch{}_bins{}_onlysparse.csv'.format(model_name, seed, len(feature_names), sparse_dim, dense_dim, batch_size, dense_bins), index=False, sep='\\t')"
   ]
  },
  {
   "attachments": {},
   "cell_type": "markdown",
   "metadata": {},
   "source": [
    "交叉验证"
   ]
  },
  {
   "cell_type": "code",
   "execution_count": 50,
   "metadata": {},
   "outputs": [],
   "source": [
    "K = 5\n",
    "seed = 2023\n",
    "device = 'cuda:3'\n",
    "model_name = 'DCN'\n",
    "batch_size = 2048\n",
    "epochs = 50\n",
    "patience = 10"
   ]
  },
  {
   "cell_type": "code",
   "execution_count": 51,
   "metadata": {},
   "outputs": [],
   "source": [
    "train = data[~data['is_installed'].isna()]\n",
    "test = data[data['is_installed'].isna()]\n",
    "label = train['is_installed'].astype('int')"
   ]
  },
  {
   "cell_type": "code",
   "execution_count": 52,
   "metadata": {},
   "outputs": [
    {
     "name": "stdout",
     "output_type": "stream",
     "text": [
      "79\n"
     ]
    }
   ],
   "source": [
    "KF = StratifiedKFold(n_splits=K, random_state=seed, shuffle=True)\n",
    "oof_ins = np.zeros(len(train))\n",
    "predictions_ins = np.zeros((len(test)))\n",
    "print(len(feature_names))"
   ]
  },
  {
   "cell_type": "code",
   "execution_count": 61,
   "metadata": {},
   "outputs": [
    {
     "name": "stdout",
     "output_type": "stream",
     "text": [
      "fold n°0\n",
      "DCN 2788681 697171 79\n",
      "cuda:3\n",
      "Train on 2788681 samples, validate on 697171 samples, 1362 steps per epoch\n"
     ]
    },
    {
     "name": "stderr",
     "output_type": "stream",
     "text": [
      "100%|██████████| 1362/1362 [01:58<00:00, 11.51it/s]\n"
     ]
    },
    {
     "name": "stdout",
     "output_type": "stream",
     "text": [
      "Epoch 1/50\n",
      "127s - loss:  0.2941 - binary_crossentropy:  0.2941 - val_binary_crossentropy:  0.2756\n",
      "Epoch 00001: val_binary_crossentropy improved from inf to 0.27564, saving model to ckpt/DCN_16_fold0.ckpt\n"
     ]
    },
    {
     "name": "stderr",
     "output_type": "stream",
     "text": [
      "100%|██████████| 1362/1362 [01:55<00:00, 11.77it/s]\n"
     ]
    },
    {
     "name": "stdout",
     "output_type": "stream",
     "text": [
      "Epoch 2/50\n",
      "125s - loss:  0.2729 - binary_crossentropy:  0.2729 - val_binary_crossentropy:  0.2711\n",
      "Epoch 00002: val_binary_crossentropy improved from 0.27564 to 0.27109, saving model to ckpt/DCN_16_fold0.ckpt\n"
     ]
    },
    {
     "name": "stderr",
     "output_type": "stream",
     "text": [
      "100%|██████████| 1362/1362 [01:57<00:00, 11.61it/s]\n"
     ]
    },
    {
     "name": "stdout",
     "output_type": "stream",
     "text": [
      "Epoch 3/50\n",
      "126s - loss:  0.2684 - binary_crossentropy:  0.2684 - val_binary_crossentropy:  0.2687\n",
      "Epoch 00003: val_binary_crossentropy improved from 0.27109 to 0.26868, saving model to ckpt/DCN_16_fold0.ckpt\n"
     ]
    },
    {
     "name": "stderr",
     "output_type": "stream",
     "text": [
      "100%|██████████| 1362/1362 [01:55<00:00, 11.79it/s]\n"
     ]
    },
    {
     "name": "stdout",
     "output_type": "stream",
     "text": [
      "Epoch 4/50\n",
      "125s - loss:  0.2649 - binary_crossentropy:  0.2649 - val_binary_crossentropy:  0.2668\n",
      "Epoch 00004: val_binary_crossentropy improved from 0.26868 to 0.26680, saving model to ckpt/DCN_16_fold0.ckpt\n"
     ]
    },
    {
     "name": "stderr",
     "output_type": "stream",
     "text": [
      "100%|██████████| 1362/1362 [01:55<00:00, 11.81it/s]\n"
     ]
    },
    {
     "name": "stdout",
     "output_type": "stream",
     "text": [
      "Epoch 5/50\n",
      "125s - loss:  0.2616 - binary_crossentropy:  0.2616 - val_binary_crossentropy:  0.2653\n",
      "Epoch 00005: val_binary_crossentropy improved from 0.26680 to 0.26532, saving model to ckpt/DCN_16_fold0.ckpt\n"
     ]
    },
    {
     "name": "stderr",
     "output_type": "stream",
     "text": [
      "100%|██████████| 1362/1362 [01:55<00:00, 11.79it/s]\n"
     ]
    },
    {
     "name": "stdout",
     "output_type": "stream",
     "text": [
      "Epoch 6/50\n",
      "124s - loss:  0.2592 - binary_crossentropy:  0.2592 - val_binary_crossentropy:  0.2627\n",
      "Epoch 00006: val_binary_crossentropy improved from 0.26532 to 0.26266, saving model to ckpt/DCN_16_fold0.ckpt\n"
     ]
    },
    {
     "name": "stderr",
     "output_type": "stream",
     "text": [
      "100%|██████████| 1362/1362 [01:55<00:00, 11.84it/s]\n"
     ]
    },
    {
     "name": "stdout",
     "output_type": "stream",
     "text": [
      "Epoch 7/50\n",
      "124s - loss:  0.2572 - binary_crossentropy:  0.2572 - val_binary_crossentropy:  0.2631\n",
      "Epoch 00007: val_binary_crossentropy did not improve from 0.26266\n"
     ]
    },
    {
     "name": "stderr",
     "output_type": "stream",
     "text": [
      "100%|██████████| 1362/1362 [01:54<00:00, 11.84it/s]\n"
     ]
    },
    {
     "name": "stdout",
     "output_type": "stream",
     "text": [
      "Epoch 8/50\n",
      "124s - loss:  0.2555 - binary_crossentropy:  0.2554 - val_binary_crossentropy:  0.2627\n",
      "Epoch 00008: val_binary_crossentropy did not improve from 0.26266\n"
     ]
    },
    {
     "name": "stderr",
     "output_type": "stream",
     "text": [
      "100%|██████████| 1362/1362 [01:54<00:00, 11.94it/s]\n"
     ]
    },
    {
     "name": "stdout",
     "output_type": "stream",
     "text": [
      "Epoch 9/50\n",
      "124s - loss:  0.2539 - binary_crossentropy:  0.2538 - val_binary_crossentropy:  0.2623\n",
      "Epoch 00009: val_binary_crossentropy improved from 0.26266 to 0.26235, saving model to ckpt/DCN_16_fold0.ckpt\n"
     ]
    },
    {
     "name": "stderr",
     "output_type": "stream",
     "text": [
      "100%|██████████| 1362/1362 [01:54<00:00, 11.93it/s]\n"
     ]
    },
    {
     "name": "stdout",
     "output_type": "stream",
     "text": [
      "Epoch 10/50\n",
      "123s - loss:  0.2526 - binary_crossentropy:  0.2526 - val_binary_crossentropy:  0.2626\n",
      "Epoch 00010: val_binary_crossentropy did not improve from 0.26235\n"
     ]
    },
    {
     "name": "stderr",
     "output_type": "stream",
     "text": [
      "100%|██████████| 1362/1362 [01:57<00:00, 11.58it/s]\n"
     ]
    },
    {
     "name": "stdout",
     "output_type": "stream",
     "text": [
      "Epoch 11/50\n",
      "127s - loss:  0.2513 - binary_crossentropy:  0.2513 - val_binary_crossentropy:  0.2624\n",
      "Epoch 00011: val_binary_crossentropy did not improve from 0.26235\n"
     ]
    },
    {
     "name": "stderr",
     "output_type": "stream",
     "text": [
      "100%|██████████| 1362/1362 [01:53<00:00, 11.96it/s]\n"
     ]
    },
    {
     "name": "stdout",
     "output_type": "stream",
     "text": [
      "Epoch 12/50\n",
      "123s - loss:  0.2503 - binary_crossentropy:  0.2502 - val_binary_crossentropy:  0.2633\n",
      "Epoch 00012: val_binary_crossentropy did not improve from 0.26235\n"
     ]
    },
    {
     "name": "stderr",
     "output_type": "stream",
     "text": [
      "100%|██████████| 1362/1362 [01:56<00:00, 11.66it/s]\n"
     ]
    },
    {
     "name": "stdout",
     "output_type": "stream",
     "text": [
      "Epoch 13/50\n",
      "126s - loss:  0.2492 - binary_crossentropy:  0.2491 - val_binary_crossentropy:  0.2632\n",
      "Epoch 00013: val_binary_crossentropy did not improve from 0.26235\n"
     ]
    },
    {
     "name": "stderr",
     "output_type": "stream",
     "text": [
      "100%|██████████| 1362/1362 [01:52<00:00, 12.06it/s]\n"
     ]
    },
    {
     "name": "stdout",
     "output_type": "stream",
     "text": [
      "Epoch 14/50\n",
      "122s - loss:  0.2483 - binary_crossentropy:  0.2482 - val_binary_crossentropy:  0.2638\n",
      "Epoch 00014: val_binary_crossentropy did not improve from 0.26235\n"
     ]
    },
    {
     "name": "stderr",
     "output_type": "stream",
     "text": [
      "100%|██████████| 1362/1362 [01:53<00:00, 12.04it/s]\n"
     ]
    },
    {
     "name": "stdout",
     "output_type": "stream",
     "text": [
      "Epoch 15/50\n",
      "122s - loss:  0.2474 - binary_crossentropy:  0.2474 - val_binary_crossentropy:  0.2631\n",
      "Epoch 00015: val_binary_crossentropy did not improve from 0.26235\n"
     ]
    },
    {
     "name": "stderr",
     "output_type": "stream",
     "text": [
      "100%|██████████| 1362/1362 [01:54<00:00, 11.86it/s]\n"
     ]
    },
    {
     "name": "stdout",
     "output_type": "stream",
     "text": [
      "Epoch 16/50\n",
      "124s - loss:  0.2465 - binary_crossentropy:  0.2465 - val_binary_crossentropy:  0.2636\n",
      "Epoch 00016: val_binary_crossentropy did not improve from 0.26235\n"
     ]
    },
    {
     "name": "stderr",
     "output_type": "stream",
     "text": [
      "100%|██████████| 1362/1362 [01:53<00:00, 11.96it/s]\n"
     ]
    },
    {
     "name": "stdout",
     "output_type": "stream",
     "text": [
      "Epoch 17/50\n",
      "124s - loss:  0.2458 - binary_crossentropy:  0.2457 - val_binary_crossentropy:  0.2649\n",
      "Epoch 00017: val_binary_crossentropy did not improve from 0.26235\n"
     ]
    },
    {
     "name": "stderr",
     "output_type": "stream",
     "text": [
      "100%|██████████| 1362/1362 [01:56<00:00, 11.72it/s]\n"
     ]
    },
    {
     "name": "stdout",
     "output_type": "stream",
     "text": [
      "Epoch 18/50\n",
      "125s - loss:  0.2450 - binary_crossentropy:  0.2450 - val_binary_crossentropy:  0.2649\n",
      "Epoch 00018: val_binary_crossentropy did not improve from 0.26235\n"
     ]
    },
    {
     "name": "stderr",
     "output_type": "stream",
     "text": [
      "100%|██████████| 1362/1362 [01:51<00:00, 12.27it/s]\n"
     ]
    },
    {
     "name": "stdout",
     "output_type": "stream",
     "text": [
      "Epoch 19/50\n",
      "120s - loss:  0.2443 - binary_crossentropy:  0.2442 - val_binary_crossentropy:  0.2654\n",
      "Epoch 00019: val_binary_crossentropy did not improve from 0.26235\n",
      "Epoch 00019: early stopping\n",
      "fold n°1\n",
      "DCN 2788681 697171 79\n",
      "cuda:3\n",
      "Train on 2788681 samples, validate on 697171 samples, 1362 steps per epoch\n"
     ]
    },
    {
     "name": "stderr",
     "output_type": "stream",
     "text": [
      "100%|██████████| 1362/1362 [01:48<00:00, 12.50it/s]\n"
     ]
    },
    {
     "name": "stdout",
     "output_type": "stream",
     "text": [
      "Epoch 1/50\n",
      "118s - loss:  0.2952 - binary_crossentropy:  0.2952 - val_binary_crossentropy:  0.2788\n",
      "Epoch 00001: val_binary_crossentropy improved from inf to 0.27884, saving model to ckpt/DCN_16_fold1.ckpt\n"
     ]
    },
    {
     "name": "stderr",
     "output_type": "stream",
     "text": [
      "100%|██████████| 1362/1362 [01:48<00:00, 12.54it/s]\n"
     ]
    },
    {
     "name": "stdout",
     "output_type": "stream",
     "text": [
      "Epoch 2/50\n",
      "117s - loss:  0.2763 - binary_crossentropy:  0.2763 - val_binary_crossentropy:  0.2758\n",
      "Epoch 00002: val_binary_crossentropy improved from 0.27884 to 0.27578, saving model to ckpt/DCN_16_fold1.ckpt\n"
     ]
    },
    {
     "name": "stderr",
     "output_type": "stream",
     "text": [
      "100%|██████████| 1362/1362 [01:48<00:00, 12.56it/s]\n"
     ]
    },
    {
     "name": "stdout",
     "output_type": "stream",
     "text": [
      "Epoch 3/50\n",
      "117s - loss:  0.2720 - binary_crossentropy:  0.2720 - val_binary_crossentropy:  0.2714\n",
      "Epoch 00003: val_binary_crossentropy improved from 0.27578 to 0.27143, saving model to ckpt/DCN_16_fold1.ckpt\n"
     ]
    },
    {
     "name": "stderr",
     "output_type": "stream",
     "text": [
      "100%|██████████| 1362/1362 [01:49<00:00, 12.44it/s]\n"
     ]
    },
    {
     "name": "stdout",
     "output_type": "stream",
     "text": [
      "Epoch 4/50\n",
      "118s - loss:  0.2687 - binary_crossentropy:  0.2687 - val_binary_crossentropy:  0.2707\n",
      "Epoch 00004: val_binary_crossentropy improved from 0.27143 to 0.27069, saving model to ckpt/DCN_16_fold1.ckpt\n"
     ]
    },
    {
     "name": "stderr",
     "output_type": "stream",
     "text": [
      "100%|██████████| 1362/1362 [01:49<00:00, 12.45it/s]\n"
     ]
    },
    {
     "name": "stdout",
     "output_type": "stream",
     "text": [
      "Epoch 5/50\n",
      "118s - loss:  0.2660 - binary_crossentropy:  0.2660 - val_binary_crossentropy:  0.2681\n",
      "Epoch 00005: val_binary_crossentropy improved from 0.27069 to 0.26812, saving model to ckpt/DCN_16_fold1.ckpt\n"
     ]
    },
    {
     "name": "stderr",
     "output_type": "stream",
     "text": [
      "100%|██████████| 1362/1362 [01:48<00:00, 12.57it/s]\n"
     ]
    },
    {
     "name": "stdout",
     "output_type": "stream",
     "text": [
      "Epoch 6/50\n",
      "117s - loss:  0.2640 - binary_crossentropy:  0.2640 - val_binary_crossentropy:  0.2671\n",
      "Epoch 00006: val_binary_crossentropy improved from 0.26812 to 0.26711, saving model to ckpt/DCN_16_fold1.ckpt\n"
     ]
    },
    {
     "name": "stderr",
     "output_type": "stream",
     "text": [
      "100%|██████████| 1362/1362 [01:52<00:00, 12.11it/s]\n"
     ]
    },
    {
     "name": "stdout",
     "output_type": "stream",
     "text": [
      "Epoch 7/50\n",
      "121s - loss:  0.2623 - binary_crossentropy:  0.2623 - val_binary_crossentropy:  0.2674\n",
      "Epoch 00007: val_binary_crossentropy did not improve from 0.26711\n"
     ]
    },
    {
     "name": "stderr",
     "output_type": "stream",
     "text": [
      "100%|██████████| 1362/1362 [01:50<00:00, 12.35it/s]\n"
     ]
    },
    {
     "name": "stdout",
     "output_type": "stream",
     "text": [
      "Epoch 8/50\n",
      "119s - loss:  0.2608 - binary_crossentropy:  0.2608 - val_binary_crossentropy:  0.2661\n",
      "Epoch 00008: val_binary_crossentropy improved from 0.26711 to 0.26614, saving model to ckpt/DCN_16_fold1.ckpt\n"
     ]
    },
    {
     "name": "stderr",
     "output_type": "stream",
     "text": [
      "100%|██████████| 1362/1362 [01:53<00:00, 12.00it/s]\n"
     ]
    },
    {
     "name": "stdout",
     "output_type": "stream",
     "text": [
      "Epoch 9/50\n",
      "122s - loss:  0.2590 - binary_crossentropy:  0.2590 - val_binary_crossentropy:  0.2653\n",
      "Epoch 00009: val_binary_crossentropy improved from 0.26614 to 0.26529, saving model to ckpt/DCN_16_fold1.ckpt\n"
     ]
    },
    {
     "name": "stderr",
     "output_type": "stream",
     "text": [
      "100%|██████████| 1362/1362 [01:53<00:00, 12.00it/s]\n"
     ]
    },
    {
     "name": "stdout",
     "output_type": "stream",
     "text": [
      "Epoch 10/50\n",
      "122s - loss:  0.2571 - binary_crossentropy:  0.2570 - val_binary_crossentropy:  0.2644\n",
      "Epoch 00010: val_binary_crossentropy improved from 0.26529 to 0.26440, saving model to ckpt/DCN_16_fold1.ckpt\n"
     ]
    },
    {
     "name": "stderr",
     "output_type": "stream",
     "text": [
      "100%|██████████| 1362/1362 [01:49<00:00, 12.40it/s]\n"
     ]
    },
    {
     "name": "stdout",
     "output_type": "stream",
     "text": [
      "Epoch 11/50\n",
      "119s - loss:  0.2550 - binary_crossentropy:  0.2550 - val_binary_crossentropy:  0.2637\n",
      "Epoch 00011: val_binary_crossentropy improved from 0.26440 to 0.26374, saving model to ckpt/DCN_16_fold1.ckpt\n"
     ]
    },
    {
     "name": "stderr",
     "output_type": "stream",
     "text": [
      "100%|██████████| 1362/1362 [01:51<00:00, 12.21it/s]\n"
     ]
    },
    {
     "name": "stdout",
     "output_type": "stream",
     "text": [
      "Epoch 12/50\n",
      "120s - loss:  0.2534 - binary_crossentropy:  0.2533 - val_binary_crossentropy:  0.2631\n",
      "Epoch 00012: val_binary_crossentropy improved from 0.26374 to 0.26306, saving model to ckpt/DCN_16_fold1.ckpt\n"
     ]
    },
    {
     "name": "stderr",
     "output_type": "stream",
     "text": [
      "100%|██████████| 1362/1362 [01:51<00:00, 12.26it/s]\n"
     ]
    },
    {
     "name": "stdout",
     "output_type": "stream",
     "text": [
      "Epoch 13/50\n",
      "122s - loss:  0.2520 - binary_crossentropy:  0.2519 - val_binary_crossentropy:  0.2644\n",
      "Epoch 00013: val_binary_crossentropy did not improve from 0.26306\n"
     ]
    },
    {
     "name": "stderr",
     "output_type": "stream",
     "text": [
      "100%|██████████| 1362/1362 [01:51<00:00, 12.21it/s]\n"
     ]
    },
    {
     "name": "stdout",
     "output_type": "stream",
     "text": [
      "Epoch 14/50\n",
      "120s - loss:  0.2506 - binary_crossentropy:  0.2506 - val_binary_crossentropy:  0.2638\n",
      "Epoch 00014: val_binary_crossentropy did not improve from 0.26306\n"
     ]
    },
    {
     "name": "stderr",
     "output_type": "stream",
     "text": [
      "100%|██████████| 1362/1362 [01:50<00:00, 12.38it/s]\n"
     ]
    },
    {
     "name": "stdout",
     "output_type": "stream",
     "text": [
      "Epoch 15/50\n",
      "119s - loss:  0.2494 - binary_crossentropy:  0.2493 - val_binary_crossentropy:  0.2633\n",
      "Epoch 00015: val_binary_crossentropy did not improve from 0.26306\n"
     ]
    },
    {
     "name": "stderr",
     "output_type": "stream",
     "text": [
      "100%|██████████| 1362/1362 [01:50<00:00, 12.32it/s]\n"
     ]
    },
    {
     "name": "stdout",
     "output_type": "stream",
     "text": [
      "Epoch 16/50\n",
      "119s - loss:  0.2484 - binary_crossentropy:  0.2483 - val_binary_crossentropy:  0.2636\n",
      "Epoch 00016: val_binary_crossentropy did not improve from 0.26306\n"
     ]
    },
    {
     "name": "stderr",
     "output_type": "stream",
     "text": [
      "100%|██████████| 1362/1362 [01:50<00:00, 12.34it/s]\n"
     ]
    },
    {
     "name": "stdout",
     "output_type": "stream",
     "text": [
      "Epoch 17/50\n",
      "120s - loss:  0.2474 - binary_crossentropy:  0.2473 - val_binary_crossentropy:  0.2643\n",
      "Epoch 00017: val_binary_crossentropy did not improve from 0.26306\n"
     ]
    },
    {
     "name": "stderr",
     "output_type": "stream",
     "text": [
      "100%|██████████| 1362/1362 [01:50<00:00, 12.29it/s]\n"
     ]
    },
    {
     "name": "stdout",
     "output_type": "stream",
     "text": [
      "Epoch 18/50\n",
      "120s - loss:  0.2465 - binary_crossentropy:  0.2464 - val_binary_crossentropy:  0.2643\n",
      "Epoch 00018: val_binary_crossentropy did not improve from 0.26306\n"
     ]
    },
    {
     "name": "stderr",
     "output_type": "stream",
     "text": [
      "100%|██████████| 1362/1362 [01:52<00:00, 12.08it/s]\n"
     ]
    },
    {
     "name": "stdout",
     "output_type": "stream",
     "text": [
      "Epoch 19/50\n",
      "122s - loss:  0.2456 - binary_crossentropy:  0.2456 - val_binary_crossentropy:  0.2643\n",
      "Epoch 00019: val_binary_crossentropy did not improve from 0.26306\n"
     ]
    },
    {
     "name": "stderr",
     "output_type": "stream",
     "text": [
      "100%|██████████| 1362/1362 [01:50<00:00, 12.32it/s]\n"
     ]
    },
    {
     "name": "stdout",
     "output_type": "stream",
     "text": [
      "Epoch 20/50\n",
      "119s - loss:  0.2447 - binary_crossentropy:  0.2446 - val_binary_crossentropy:  0.2658\n",
      "Epoch 00020: val_binary_crossentropy did not improve from 0.26306\n"
     ]
    },
    {
     "name": "stderr",
     "output_type": "stream",
     "text": [
      "100%|██████████| 1362/1362 [01:50<00:00, 12.28it/s]\n"
     ]
    },
    {
     "name": "stdout",
     "output_type": "stream",
     "text": [
      "Epoch 21/50\n",
      "121s - loss:  0.2440 - binary_crossentropy:  0.2439 - val_binary_crossentropy:  0.2658\n",
      "Epoch 00021: val_binary_crossentropy did not improve from 0.26306\n"
     ]
    },
    {
     "name": "stderr",
     "output_type": "stream",
     "text": [
      "100%|██████████| 1362/1362 [01:52<00:00, 12.07it/s]\n"
     ]
    },
    {
     "name": "stdout",
     "output_type": "stream",
     "text": [
      "Epoch 22/50\n",
      "122s - loss:  0.2433 - binary_crossentropy:  0.2432 - val_binary_crossentropy:  0.2671\n",
      "Epoch 00022: val_binary_crossentropy did not improve from 0.26306\n",
      "Epoch 00022: early stopping\n",
      "fold n°2\n",
      "DCN 2788682 697170 79\n",
      "cuda:3\n",
      "Train on 2788682 samples, validate on 697170 samples, 1362 steps per epoch\n"
     ]
    },
    {
     "name": "stderr",
     "output_type": "stream",
     "text": [
      "100%|██████████| 1362/1362 [01:58<00:00, 11.47it/s]\n"
     ]
    },
    {
     "name": "stdout",
     "output_type": "stream",
     "text": [
      "Epoch 1/50\n",
      "128s - loss:  0.2951 - binary_crossentropy:  0.2951 - val_binary_crossentropy:  0.2792\n",
      "Epoch 00001: val_binary_crossentropy improved from inf to 0.27919, saving model to ckpt/DCN_16_fold2.ckpt\n"
     ]
    },
    {
     "name": "stderr",
     "output_type": "stream",
     "text": [
      "100%|██████████| 1362/1362 [01:47<00:00, 12.67it/s]\n"
     ]
    },
    {
     "name": "stdout",
     "output_type": "stream",
     "text": [
      "Epoch 2/50\n",
      "116s - loss:  0.2744 - binary_crossentropy:  0.2744 - val_binary_crossentropy:  0.2744\n",
      "Epoch 00002: val_binary_crossentropy improved from 0.27919 to 0.27436, saving model to ckpt/DCN_16_fold2.ckpt\n"
     ]
    },
    {
     "name": "stderr",
     "output_type": "stream",
     "text": [
      "100%|██████████| 1362/1362 [01:47<00:00, 12.67it/s]\n"
     ]
    },
    {
     "name": "stdout",
     "output_type": "stream",
     "text": [
      "Epoch 3/50\n",
      "117s - loss:  0.2700 - binary_crossentropy:  0.2699 - val_binary_crossentropy:  0.2711\n",
      "Epoch 00003: val_binary_crossentropy improved from 0.27436 to 0.27106, saving model to ckpt/DCN_16_fold2.ckpt\n"
     ]
    },
    {
     "name": "stderr",
     "output_type": "stream",
     "text": [
      "100%|██████████| 1362/1362 [01:44<00:00, 13.02it/s]\n"
     ]
    },
    {
     "name": "stdout",
     "output_type": "stream",
     "text": [
      "Epoch 4/50\n",
      "113s - loss:  0.2659 - binary_crossentropy:  0.2659 - val_binary_crossentropy:  0.2682\n",
      "Epoch 00004: val_binary_crossentropy improved from 0.27106 to 0.26820, saving model to ckpt/DCN_16_fold2.ckpt\n"
     ]
    },
    {
     "name": "stderr",
     "output_type": "stream",
     "text": [
      "100%|██████████| 1362/1362 [01:45<00:00, 12.96it/s]\n"
     ]
    },
    {
     "name": "stdout",
     "output_type": "stream",
     "text": [
      "Epoch 5/50\n",
      "114s - loss:  0.2630 - binary_crossentropy:  0.2630 - val_binary_crossentropy:  0.2663\n",
      "Epoch 00005: val_binary_crossentropy improved from 0.26820 to 0.26633, saving model to ckpt/DCN_16_fold2.ckpt\n"
     ]
    },
    {
     "name": "stderr",
     "output_type": "stream",
     "text": [
      "100%|██████████| 1362/1362 [01:43<00:00, 13.10it/s]\n"
     ]
    },
    {
     "name": "stdout",
     "output_type": "stream",
     "text": [
      "Epoch 6/50\n",
      "112s - loss:  0.2603 - binary_crossentropy:  0.2603 - val_binary_crossentropy:  0.2659\n",
      "Epoch 00006: val_binary_crossentropy improved from 0.26633 to 0.26586, saving model to ckpt/DCN_16_fold2.ckpt\n"
     ]
    },
    {
     "name": "stderr",
     "output_type": "stream",
     "text": [
      "100%|██████████| 1362/1362 [01:44<00:00, 12.98it/s]\n"
     ]
    },
    {
     "name": "stdout",
     "output_type": "stream",
     "text": [
      "Epoch 7/50\n",
      "113s - loss:  0.2576 - binary_crossentropy:  0.2576 - val_binary_crossentropy:  0.2634\n",
      "Epoch 00007: val_binary_crossentropy improved from 0.26586 to 0.26344, saving model to ckpt/DCN_16_fold2.ckpt\n"
     ]
    },
    {
     "name": "stderr",
     "output_type": "stream",
     "text": [
      "100%|██████████| 1362/1362 [01:43<00:00, 13.12it/s]\n"
     ]
    },
    {
     "name": "stdout",
     "output_type": "stream",
     "text": [
      "Epoch 8/50\n",
      "112s - loss:  0.2555 - binary_crossentropy:  0.2555 - val_binary_crossentropy:  0.2628\n",
      "Epoch 00008: val_binary_crossentropy improved from 0.26344 to 0.26284, saving model to ckpt/DCN_16_fold2.ckpt\n"
     ]
    },
    {
     "name": "stderr",
     "output_type": "stream",
     "text": [
      "100%|██████████| 1362/1362 [01:43<00:00, 13.11it/s]\n"
     ]
    },
    {
     "name": "stdout",
     "output_type": "stream",
     "text": [
      "Epoch 9/50\n",
      "112s - loss:  0.2539 - binary_crossentropy:  0.2539 - val_binary_crossentropy:  0.2628\n",
      "Epoch 00009: val_binary_crossentropy improved from 0.26284 to 0.26277, saving model to ckpt/DCN_16_fold2.ckpt\n"
     ]
    },
    {
     "name": "stderr",
     "output_type": "stream",
     "text": [
      "100%|██████████| 1362/1362 [01:45<00:00, 12.93it/s]\n"
     ]
    },
    {
     "name": "stdout",
     "output_type": "stream",
     "text": [
      "Epoch 10/50\n",
      "114s - loss:  0.2524 - binary_crossentropy:  0.2524 - val_binary_crossentropy:  0.2633\n",
      "Epoch 00010: val_binary_crossentropy did not improve from 0.26277\n"
     ]
    },
    {
     "name": "stderr",
     "output_type": "stream",
     "text": [
      "100%|██████████| 1362/1362 [01:43<00:00, 13.21it/s]\n"
     ]
    },
    {
     "name": "stdout",
     "output_type": "stream",
     "text": [
      "Epoch 11/50\n",
      "111s - loss:  0.2511 - binary_crossentropy:  0.2511 - val_binary_crossentropy:  0.2628\n",
      "Epoch 00011: val_binary_crossentropy did not improve from 0.26277\n"
     ]
    },
    {
     "name": "stderr",
     "output_type": "stream",
     "text": [
      "100%|██████████| 1362/1362 [01:43<00:00, 13.21it/s]\n"
     ]
    },
    {
     "name": "stdout",
     "output_type": "stream",
     "text": [
      "Epoch 12/50\n",
      "112s - loss:  0.2497 - binary_crossentropy:  0.2497 - val_binary_crossentropy:  0.2628\n",
      "Epoch 00012: val_binary_crossentropy improved from 0.26277 to 0.26276, saving model to ckpt/DCN_16_fold2.ckpt\n"
     ]
    },
    {
     "name": "stderr",
     "output_type": "stream",
     "text": [
      "100%|██████████| 1362/1362 [01:45<00:00, 12.97it/s]\n"
     ]
    },
    {
     "name": "stdout",
     "output_type": "stream",
     "text": [
      "Epoch 13/50\n",
      "113s - loss:  0.2486 - binary_crossentropy:  0.2486 - val_binary_crossentropy:  0.2637\n",
      "Epoch 00013: val_binary_crossentropy did not improve from 0.26276\n"
     ]
    },
    {
     "name": "stderr",
     "output_type": "stream",
     "text": [
      "100%|██████████| 1362/1362 [01:42<00:00, 13.29it/s]\n"
     ]
    },
    {
     "name": "stdout",
     "output_type": "stream",
     "text": [
      "Epoch 14/50\n",
      "111s - loss:  0.2475 - binary_crossentropy:  0.2475 - val_binary_crossentropy:  0.2636\n",
      "Epoch 00014: val_binary_crossentropy did not improve from 0.26276\n"
     ]
    },
    {
     "name": "stderr",
     "output_type": "stream",
     "text": [
      "100%|██████████| 1362/1362 [01:43<00:00, 13.11it/s]\n"
     ]
    },
    {
     "name": "stdout",
     "output_type": "stream",
     "text": [
      "Epoch 15/50\n",
      "113s - loss:  0.2466 - binary_crossentropy:  0.2465 - val_binary_crossentropy:  0.2654\n",
      "Epoch 00015: val_binary_crossentropy did not improve from 0.26276\n"
     ]
    },
    {
     "name": "stderr",
     "output_type": "stream",
     "text": [
      "100%|██████████| 1362/1362 [01:44<00:00, 13.10it/s]\n"
     ]
    },
    {
     "name": "stdout",
     "output_type": "stream",
     "text": [
      "Epoch 16/50\n",
      "113s - loss:  0.2456 - binary_crossentropy:  0.2455 - val_binary_crossentropy:  0.2644\n",
      "Epoch 00016: val_binary_crossentropy did not improve from 0.26276\n"
     ]
    },
    {
     "name": "stderr",
     "output_type": "stream",
     "text": [
      "100%|██████████| 1362/1362 [01:43<00:00, 13.19it/s]\n"
     ]
    },
    {
     "name": "stdout",
     "output_type": "stream",
     "text": [
      "Epoch 17/50\n",
      "111s - loss:  0.2446 - binary_crossentropy:  0.2445 - val_binary_crossentropy:  0.2651\n",
      "Epoch 00017: val_binary_crossentropy did not improve from 0.26276\n"
     ]
    },
    {
     "name": "stderr",
     "output_type": "stream",
     "text": [
      "100%|██████████| 1362/1362 [01:46<00:00, 12.79it/s]\n"
     ]
    },
    {
     "name": "stdout",
     "output_type": "stream",
     "text": [
      "Epoch 18/50\n",
      "115s - loss:  0.2437 - binary_crossentropy:  0.2437 - val_binary_crossentropy:  0.2651\n",
      "Epoch 00018: val_binary_crossentropy did not improve from 0.26276\n"
     ]
    },
    {
     "name": "stderr",
     "output_type": "stream",
     "text": [
      "100%|██████████| 1362/1362 [01:43<00:00, 13.16it/s]\n"
     ]
    },
    {
     "name": "stdout",
     "output_type": "stream",
     "text": [
      "Epoch 19/50\n",
      "112s - loss:  0.2430 - binary_crossentropy:  0.2429 - val_binary_crossentropy:  0.2658\n",
      "Epoch 00019: val_binary_crossentropy did not improve from 0.26276\n"
     ]
    },
    {
     "name": "stderr",
     "output_type": "stream",
     "text": [
      "100%|██████████| 1362/1362 [01:43<00:00, 13.18it/s]\n"
     ]
    },
    {
     "name": "stdout",
     "output_type": "stream",
     "text": [
      "Epoch 20/50\n",
      "112s - loss:  0.2423 - binary_crossentropy:  0.2422 - val_binary_crossentropy:  0.2660\n",
      "Epoch 00020: val_binary_crossentropy did not improve from 0.26276\n"
     ]
    },
    {
     "name": "stderr",
     "output_type": "stream",
     "text": [
      "100%|██████████| 1362/1362 [01:46<00:00, 12.83it/s]\n"
     ]
    },
    {
     "name": "stdout",
     "output_type": "stream",
     "text": [
      "Epoch 21/50\n",
      "115s - loss:  0.2416 - binary_crossentropy:  0.2415 - val_binary_crossentropy:  0.2666\n",
      "Epoch 00021: val_binary_crossentropy did not improve from 0.26276\n"
     ]
    },
    {
     "name": "stderr",
     "output_type": "stream",
     "text": [
      "100%|██████████| 1362/1362 [01:44<00:00, 13.09it/s]\n"
     ]
    },
    {
     "name": "stdout",
     "output_type": "stream",
     "text": [
      "Epoch 22/50\n",
      "112s - loss:  0.2409 - binary_crossentropy:  0.2408 - val_binary_crossentropy:  0.2673\n",
      "Epoch 00022: val_binary_crossentropy did not improve from 0.26276\n",
      "Epoch 00022: early stopping\n",
      "fold n°3\n",
      "DCN 2788682 697170 79\n",
      "cuda:3\n",
      "Train on 2788682 samples, validate on 697170 samples, 1362 steps per epoch\n"
     ]
    },
    {
     "name": "stderr",
     "output_type": "stream",
     "text": [
      "100%|██████████| 1362/1362 [01:46<00:00, 12.82it/s]\n"
     ]
    },
    {
     "name": "stdout",
     "output_type": "stream",
     "text": [
      "Epoch 1/50\n",
      "115s - loss:  0.2953 - binary_crossentropy:  0.2953 - val_binary_crossentropy:  0.2791\n",
      "Epoch 00001: val_binary_crossentropy improved from inf to 0.27914, saving model to ckpt/DCN_16_fold3.ckpt\n"
     ]
    },
    {
     "name": "stderr",
     "output_type": "stream",
     "text": [
      "100%|██████████| 1362/1362 [01:44<00:00, 13.04it/s]\n"
     ]
    },
    {
     "name": "stdout",
     "output_type": "stream",
     "text": [
      "Epoch 2/50\n",
      "113s - loss:  0.2760 - binary_crossentropy:  0.2760 - val_binary_crossentropy:  0.2747\n",
      "Epoch 00002: val_binary_crossentropy improved from 0.27914 to 0.27469, saving model to ckpt/DCN_16_fold3.ckpt\n"
     ]
    },
    {
     "name": "stderr",
     "output_type": "stream",
     "text": [
      "100%|██████████| 1362/1362 [01:43<00:00, 13.12it/s]\n"
     ]
    },
    {
     "name": "stdout",
     "output_type": "stream",
     "text": [
      "Epoch 3/50\n",
      "112s - loss:  0.2710 - binary_crossentropy:  0.2710 - val_binary_crossentropy:  0.2713\n",
      "Epoch 00003: val_binary_crossentropy improved from 0.27469 to 0.27133, saving model to ckpt/DCN_16_fold3.ckpt\n"
     ]
    },
    {
     "name": "stderr",
     "output_type": "stream",
     "text": [
      "100%|██████████| 1362/1362 [01:45<00:00, 12.94it/s]\n"
     ]
    },
    {
     "name": "stdout",
     "output_type": "stream",
     "text": [
      "Epoch 4/50\n",
      "114s - loss:  0.2672 - binary_crossentropy:  0.2672 - val_binary_crossentropy:  0.2684\n",
      "Epoch 00004: val_binary_crossentropy improved from 0.27133 to 0.26842, saving model to ckpt/DCN_16_fold3.ckpt\n"
     ]
    },
    {
     "name": "stderr",
     "output_type": "stream",
     "text": [
      "100%|██████████| 1362/1362 [01:42<00:00, 13.30it/s]\n"
     ]
    },
    {
     "name": "stdout",
     "output_type": "stream",
     "text": [
      "Epoch 5/50\n",
      "111s - loss:  0.2646 - binary_crossentropy:  0.2646 - val_binary_crossentropy:  0.2668\n",
      "Epoch 00005: val_binary_crossentropy improved from 0.26842 to 0.26678, saving model to ckpt/DCN_16_fold3.ckpt\n"
     ]
    },
    {
     "name": "stderr",
     "output_type": "stream",
     "text": [
      "100%|██████████| 1362/1362 [01:43<00:00, 13.15it/s]\n"
     ]
    },
    {
     "name": "stdout",
     "output_type": "stream",
     "text": [
      "Epoch 6/50\n",
      "112s - loss:  0.2621 - binary_crossentropy:  0.2621 - val_binary_crossentropy:  0.2653\n",
      "Epoch 00006: val_binary_crossentropy improved from 0.26678 to 0.26529, saving model to ckpt/DCN_16_fold3.ckpt\n"
     ]
    },
    {
     "name": "stderr",
     "output_type": "stream",
     "text": [
      "100%|██████████| 1362/1362 [01:46<00:00, 12.77it/s]\n"
     ]
    },
    {
     "name": "stdout",
     "output_type": "stream",
     "text": [
      "Epoch 7/50\n",
      "115s - loss:  0.2599 - binary_crossentropy:  0.2599 - val_binary_crossentropy:  0.2653\n",
      "Epoch 00007: val_binary_crossentropy did not improve from 0.26529\n"
     ]
    },
    {
     "name": "stderr",
     "output_type": "stream",
     "text": [
      "100%|██████████| 1362/1362 [01:43<00:00, 13.16it/s]\n"
     ]
    },
    {
     "name": "stdout",
     "output_type": "stream",
     "text": [
      "Epoch 8/50\n",
      "112s - loss:  0.2577 - binary_crossentropy:  0.2577 - val_binary_crossentropy:  0.2632\n",
      "Epoch 00008: val_binary_crossentropy improved from 0.26529 to 0.26324, saving model to ckpt/DCN_16_fold3.ckpt\n"
     ]
    },
    {
     "name": "stderr",
     "output_type": "stream",
     "text": [
      "100%|██████████| 1362/1362 [01:46<00:00, 12.75it/s]\n"
     ]
    },
    {
     "name": "stdout",
     "output_type": "stream",
     "text": [
      "Epoch 9/50\n",
      "115s - loss:  0.2560 - binary_crossentropy:  0.2560 - val_binary_crossentropy:  0.2625\n",
      "Epoch 00009: val_binary_crossentropy improved from 0.26324 to 0.26252, saving model to ckpt/DCN_16_fold3.ckpt\n"
     ]
    },
    {
     "name": "stderr",
     "output_type": "stream",
     "text": [
      "100%|██████████| 1362/1362 [01:43<00:00, 13.10it/s]\n"
     ]
    },
    {
     "name": "stdout",
     "output_type": "stream",
     "text": [
      "Epoch 10/50\n",
      "112s - loss:  0.2543 - binary_crossentropy:  0.2543 - val_binary_crossentropy:  0.2629\n",
      "Epoch 00010: val_binary_crossentropy did not improve from 0.26252\n"
     ]
    },
    {
     "name": "stderr",
     "output_type": "stream",
     "text": [
      "100%|██████████| 1362/1362 [01:44<00:00, 13.01it/s]\n"
     ]
    },
    {
     "name": "stdout",
     "output_type": "stream",
     "text": [
      "Epoch 11/50\n",
      "113s - loss:  0.2528 - binary_crossentropy:  0.2528 - val_binary_crossentropy:  0.2624\n",
      "Epoch 00011: val_binary_crossentropy improved from 0.26252 to 0.26244, saving model to ckpt/DCN_16_fold3.ckpt\n"
     ]
    },
    {
     "name": "stderr",
     "output_type": "stream",
     "text": [
      "100%|██████████| 1362/1362 [01:49<00:00, 12.45it/s]\n"
     ]
    },
    {
     "name": "stdout",
     "output_type": "stream",
     "text": [
      "Epoch 12/50\n",
      "118s - loss:  0.2515 - binary_crossentropy:  0.2514 - val_binary_crossentropy:  0.2623\n",
      "Epoch 00012: val_binary_crossentropy improved from 0.26244 to 0.26234, saving model to ckpt/DCN_16_fold3.ckpt\n"
     ]
    },
    {
     "name": "stderr",
     "output_type": "stream",
     "text": [
      "100%|██████████| 1362/1362 [01:43<00:00, 13.17it/s]\n"
     ]
    },
    {
     "name": "stdout",
     "output_type": "stream",
     "text": [
      "Epoch 13/50\n",
      "112s - loss:  0.2502 - binary_crossentropy:  0.2502 - val_binary_crossentropy:  0.2633\n",
      "Epoch 00013: val_binary_crossentropy did not improve from 0.26234\n"
     ]
    },
    {
     "name": "stderr",
     "output_type": "stream",
     "text": [
      "100%|██████████| 1362/1362 [01:41<00:00, 13.40it/s]\n"
     ]
    },
    {
     "name": "stdout",
     "output_type": "stream",
     "text": [
      "Epoch 14/50\n",
      "110s - loss:  0.2491 - binary_crossentropy:  0.2491 - val_binary_crossentropy:  0.2642\n",
      "Epoch 00014: val_binary_crossentropy did not improve from 0.26234\n"
     ]
    },
    {
     "name": "stderr",
     "output_type": "stream",
     "text": [
      "100%|██████████| 1362/1362 [01:44<00:00, 13.02it/s]\n"
     ]
    },
    {
     "name": "stdout",
     "output_type": "stream",
     "text": [
      "Epoch 15/50\n",
      "113s - loss:  0.2480 - binary_crossentropy:  0.2479 - val_binary_crossentropy:  0.2626\n",
      "Epoch 00015: val_binary_crossentropy did not improve from 0.26234\n"
     ]
    },
    {
     "name": "stderr",
     "output_type": "stream",
     "text": [
      "100%|██████████| 1362/1362 [01:42<00:00, 13.34it/s]\n"
     ]
    },
    {
     "name": "stdout",
     "output_type": "stream",
     "text": [
      "Epoch 16/50\n",
      "110s - loss:  0.2469 - binary_crossentropy:  0.2469 - val_binary_crossentropy:  0.2635\n",
      "Epoch 00016: val_binary_crossentropy did not improve from 0.26234\n"
     ]
    },
    {
     "name": "stderr",
     "output_type": "stream",
     "text": [
      "100%|██████████| 1362/1362 [01:40<00:00, 13.55it/s]\n"
     ]
    },
    {
     "name": "stdout",
     "output_type": "stream",
     "text": [
      "Epoch 17/50\n",
      "112s - loss:  0.2461 - binary_crossentropy:  0.2460 - val_binary_crossentropy:  0.2641\n",
      "Epoch 00017: val_binary_crossentropy did not improve from 0.26234\n"
     ]
    },
    {
     "name": "stderr",
     "output_type": "stream",
     "text": [
      "100%|██████████| 1362/1362 [01:40<00:00, 13.62it/s]\n"
     ]
    },
    {
     "name": "stdout",
     "output_type": "stream",
     "text": [
      "Epoch 18/50\n",
      "108s - loss:  0.2451 - binary_crossentropy:  0.2450 - val_binary_crossentropy:  0.2642\n",
      "Epoch 00018: val_binary_crossentropy did not improve from 0.26234\n"
     ]
    },
    {
     "name": "stderr",
     "output_type": "stream",
     "text": [
      "100%|██████████| 1362/1362 [01:40<00:00, 13.59it/s]\n"
     ]
    },
    {
     "name": "stdout",
     "output_type": "stream",
     "text": [
      "Epoch 19/50\n",
      "109s - loss:  0.2443 - binary_crossentropy:  0.2443 - val_binary_crossentropy:  0.2648\n",
      "Epoch 00019: val_binary_crossentropy did not improve from 0.26234\n"
     ]
    },
    {
     "name": "stderr",
     "output_type": "stream",
     "text": [
      "100%|██████████| 1362/1362 [01:41<00:00, 13.42it/s]\n"
     ]
    },
    {
     "name": "stdout",
     "output_type": "stream",
     "text": [
      "Epoch 20/50\n",
      "110s - loss:  0.2436 - binary_crossentropy:  0.2436 - val_binary_crossentropy:  0.2669\n",
      "Epoch 00020: val_binary_crossentropy did not improve from 0.26234\n"
     ]
    },
    {
     "name": "stderr",
     "output_type": "stream",
     "text": [
      "100%|██████████| 1362/1362 [01:39<00:00, 13.65it/s]\n"
     ]
    },
    {
     "name": "stdout",
     "output_type": "stream",
     "text": [
      "Epoch 21/50\n",
      "108s - loss:  0.2429 - binary_crossentropy:  0.2428 - val_binary_crossentropy:  0.2659\n",
      "Epoch 00021: val_binary_crossentropy did not improve from 0.26234\n"
     ]
    },
    {
     "name": "stderr",
     "output_type": "stream",
     "text": [
      "100%|██████████| 1362/1362 [01:40<00:00, 13.60it/s]\n"
     ]
    },
    {
     "name": "stdout",
     "output_type": "stream",
     "text": [
      "Epoch 22/50\n",
      "108s - loss:  0.2422 - binary_crossentropy:  0.2421 - val_binary_crossentropy:  0.2663\n",
      "Epoch 00022: val_binary_crossentropy did not improve from 0.26234\n",
      "Epoch 00022: early stopping\n",
      "fold n°4\n",
      "DCN 2788682 697170 79\n",
      "cuda:3\n",
      "Train on 2788682 samples, validate on 697170 samples, 1362 steps per epoch\n"
     ]
    },
    {
     "name": "stderr",
     "output_type": "stream",
     "text": [
      "100%|██████████| 1362/1362 [01:44<00:00, 13.09it/s]\n"
     ]
    },
    {
     "name": "stdout",
     "output_type": "stream",
     "text": [
      "Epoch 1/50\n",
      "112s - loss:  0.2947 - binary_crossentropy:  0.2947 - val_binary_crossentropy:  0.2786\n",
      "Epoch 00001: val_binary_crossentropy improved from inf to 0.27858, saving model to ckpt/DCN_16_fold4.ckpt\n"
     ]
    },
    {
     "name": "stderr",
     "output_type": "stream",
     "text": [
      "100%|██████████| 1362/1362 [01:40<00:00, 13.53it/s]\n"
     ]
    },
    {
     "name": "stdout",
     "output_type": "stream",
     "text": [
      "Epoch 2/50\n",
      "109s - loss:  0.2746 - binary_crossentropy:  0.2746 - val_binary_crossentropy:  0.2722\n",
      "Epoch 00002: val_binary_crossentropy improved from 0.27858 to 0.27219, saving model to ckpt/DCN_16_fold4.ckpt\n"
     ]
    },
    {
     "name": "stderr",
     "output_type": "stream",
     "text": [
      "100%|██████████| 1362/1362 [01:41<00:00, 13.41it/s]\n"
     ]
    },
    {
     "name": "stdout",
     "output_type": "stream",
     "text": [
      "Epoch 3/50\n",
      "110s - loss:  0.2696 - binary_crossentropy:  0.2696 - val_binary_crossentropy:  0.2699\n",
      "Epoch 00003: val_binary_crossentropy improved from 0.27219 to 0.26985, saving model to ckpt/DCN_16_fold4.ckpt\n"
     ]
    },
    {
     "name": "stderr",
     "output_type": "stream",
     "text": [
      "100%|██████████| 1362/1362 [01:43<00:00, 13.19it/s]\n"
     ]
    },
    {
     "name": "stdout",
     "output_type": "stream",
     "text": [
      "Epoch 4/50\n",
      "112s - loss:  0.2661 - binary_crossentropy:  0.2661 - val_binary_crossentropy:  0.2678\n",
      "Epoch 00004: val_binary_crossentropy improved from 0.26985 to 0.26780, saving model to ckpt/DCN_16_fold4.ckpt\n"
     ]
    },
    {
     "name": "stderr",
     "output_type": "stream",
     "text": [
      "100%|██████████| 1362/1362 [01:42<00:00, 13.23it/s]\n"
     ]
    },
    {
     "name": "stdout",
     "output_type": "stream",
     "text": [
      "Epoch 5/50\n",
      "111s - loss:  0.2634 - binary_crossentropy:  0.2634 - val_binary_crossentropy:  0.2661\n",
      "Epoch 00005: val_binary_crossentropy improved from 0.26780 to 0.26611, saving model to ckpt/DCN_16_fold4.ckpt\n"
     ]
    },
    {
     "name": "stderr",
     "output_type": "stream",
     "text": [
      "100%|██████████| 1362/1362 [01:42<00:00, 13.31it/s]\n"
     ]
    },
    {
     "name": "stdout",
     "output_type": "stream",
     "text": [
      "Epoch 6/50\n",
      "111s - loss:  0.2605 - binary_crossentropy:  0.2605 - val_binary_crossentropy:  0.2633\n",
      "Epoch 00006: val_binary_crossentropy improved from 0.26611 to 0.26334, saving model to ckpt/DCN_16_fold4.ckpt\n"
     ]
    },
    {
     "name": "stderr",
     "output_type": "stream",
     "text": [
      "100%|██████████| 1362/1362 [01:41<00:00, 13.39it/s]\n"
     ]
    },
    {
     "name": "stdout",
     "output_type": "stream",
     "text": [
      "Epoch 7/50\n",
      "110s - loss:  0.2582 - binary_crossentropy:  0.2581 - val_binary_crossentropy:  0.2625\n",
      "Epoch 00007: val_binary_crossentropy improved from 0.26334 to 0.26255, saving model to ckpt/DCN_16_fold4.ckpt\n"
     ]
    },
    {
     "name": "stderr",
     "output_type": "stream",
     "text": [
      "100%|██████████| 1362/1362 [01:41<00:00, 13.46it/s]\n"
     ]
    },
    {
     "name": "stdout",
     "output_type": "stream",
     "text": [
      "Epoch 8/50\n",
      "110s - loss:  0.2563 - binary_crossentropy:  0.2563 - val_binary_crossentropy:  0.2616\n",
      "Epoch 00008: val_binary_crossentropy improved from 0.26255 to 0.26160, saving model to ckpt/DCN_16_fold4.ckpt\n"
     ]
    },
    {
     "name": "stderr",
     "output_type": "stream",
     "text": [
      "100%|██████████| 1362/1362 [01:42<00:00, 13.35it/s]\n"
     ]
    },
    {
     "name": "stdout",
     "output_type": "stream",
     "text": [
      "Epoch 9/50\n",
      "110s - loss:  0.2547 - binary_crossentropy:  0.2547 - val_binary_crossentropy:  0.2626\n",
      "Epoch 00009: val_binary_crossentropy did not improve from 0.26160\n"
     ]
    },
    {
     "name": "stderr",
     "output_type": "stream",
     "text": [
      "100%|██████████| 1362/1362 [01:39<00:00, 13.74it/s]\n"
     ]
    },
    {
     "name": "stdout",
     "output_type": "stream",
     "text": [
      "Epoch 10/50\n",
      "107s - loss:  0.2533 - binary_crossentropy:  0.2533 - val_binary_crossentropy:  0.2614\n",
      "Epoch 00010: val_binary_crossentropy improved from 0.26160 to 0.26138, saving model to ckpt/DCN_16_fold4.ckpt\n"
     ]
    },
    {
     "name": "stderr",
     "output_type": "stream",
     "text": [
      "100%|██████████| 1362/1362 [01:56<00:00, 11.73it/s]\n"
     ]
    },
    {
     "name": "stdout",
     "output_type": "stream",
     "text": [
      "Epoch 11/50\n",
      "124s - loss:  0.2520 - binary_crossentropy:  0.2520 - val_binary_crossentropy:  0.2611\n",
      "Epoch 00011: val_binary_crossentropy improved from 0.26138 to 0.26113, saving model to ckpt/DCN_16_fold4.ckpt\n"
     ]
    },
    {
     "name": "stderr",
     "output_type": "stream",
     "text": [
      "100%|██████████| 1362/1362 [01:48<00:00, 12.55it/s]\n"
     ]
    },
    {
     "name": "stdout",
     "output_type": "stream",
     "text": [
      "Epoch 12/50\n",
      "121s - loss:  0.2508 - binary_crossentropy:  0.2507 - val_binary_crossentropy:  0.2615\n",
      "Epoch 00012: val_binary_crossentropy did not improve from 0.26113\n"
     ]
    },
    {
     "name": "stderr",
     "output_type": "stream",
     "text": [
      "100%|██████████| 1362/1362 [01:40<00:00, 13.60it/s]\n"
     ]
    },
    {
     "name": "stdout",
     "output_type": "stream",
     "text": [
      "Epoch 13/50\n",
      "108s - loss:  0.2496 - binary_crossentropy:  0.2496 - val_binary_crossentropy:  0.2617\n",
      "Epoch 00013: val_binary_crossentropy did not improve from 0.26113\n"
     ]
    },
    {
     "name": "stderr",
     "output_type": "stream",
     "text": [
      "100%|██████████| 1362/1362 [01:40<00:00, 13.56it/s]\n"
     ]
    },
    {
     "name": "stdout",
     "output_type": "stream",
     "text": [
      "Epoch 14/50\n",
      "110s - loss:  0.2485 - binary_crossentropy:  0.2485 - val_binary_crossentropy:  0.2630\n",
      "Epoch 00014: val_binary_crossentropy did not improve from 0.26113\n"
     ]
    },
    {
     "name": "stderr",
     "output_type": "stream",
     "text": [
      "100%|██████████| 1362/1362 [01:40<00:00, 13.60it/s]\n"
     ]
    },
    {
     "name": "stdout",
     "output_type": "stream",
     "text": [
      "Epoch 15/50\n",
      "108s - loss:  0.2475 - binary_crossentropy:  0.2475 - val_binary_crossentropy:  0.2630\n",
      "Epoch 00015: val_binary_crossentropy did not improve from 0.26113\n"
     ]
    },
    {
     "name": "stderr",
     "output_type": "stream",
     "text": [
      "100%|██████████| 1362/1362 [01:40<00:00, 13.61it/s]\n"
     ]
    },
    {
     "name": "stdout",
     "output_type": "stream",
     "text": [
      "Epoch 16/50\n",
      "109s - loss:  0.2466 - binary_crossentropy:  0.2465 - val_binary_crossentropy:  0.2634\n",
      "Epoch 00016: val_binary_crossentropy did not improve from 0.26113\n"
     ]
    },
    {
     "name": "stderr",
     "output_type": "stream",
     "text": [
      "100%|██████████| 1362/1362 [01:43<00:00, 13.22it/s]\n"
     ]
    },
    {
     "name": "stdout",
     "output_type": "stream",
     "text": [
      "Epoch 17/50\n",
      "111s - loss:  0.2457 - binary_crossentropy:  0.2457 - val_binary_crossentropy:  0.2631\n",
      "Epoch 00017: val_binary_crossentropy did not improve from 0.26113\n"
     ]
    },
    {
     "name": "stderr",
     "output_type": "stream",
     "text": [
      "100%|██████████| 1362/1362 [01:41<00:00, 13.42it/s]\n"
     ]
    },
    {
     "name": "stdout",
     "output_type": "stream",
     "text": [
      "Epoch 18/50\n",
      "110s - loss:  0.2448 - binary_crossentropy:  0.2447 - val_binary_crossentropy:  0.2635\n",
      "Epoch 00018: val_binary_crossentropy did not improve from 0.26113\n"
     ]
    },
    {
     "name": "stderr",
     "output_type": "stream",
     "text": [
      "100%|██████████| 1362/1362 [01:45<00:00, 12.96it/s]\n"
     ]
    },
    {
     "name": "stdout",
     "output_type": "stream",
     "text": [
      "Epoch 19/50\n",
      "113s - loss:  0.2439 - binary_crossentropy:  0.2438 - val_binary_crossentropy:  0.2648\n",
      "Epoch 00019: val_binary_crossentropy did not improve from 0.26113\n"
     ]
    },
    {
     "name": "stderr",
     "output_type": "stream",
     "text": [
      "100%|██████████| 1362/1362 [01:47<00:00, 12.71it/s]\n"
     ]
    },
    {
     "name": "stdout",
     "output_type": "stream",
     "text": [
      "Epoch 20/50\n",
      "116s - loss:  0.2431 - binary_crossentropy:  0.2431 - val_binary_crossentropy:  0.2652\n",
      "Epoch 00020: val_binary_crossentropy did not improve from 0.26113\n"
     ]
    },
    {
     "name": "stderr",
     "output_type": "stream",
     "text": [
      "100%|██████████| 1362/1362 [01:43<00:00, 13.14it/s]\n"
     ]
    },
    {
     "name": "stdout",
     "output_type": "stream",
     "text": [
      "Epoch 21/50\n",
      "112s - loss:  0.2424 - binary_crossentropy:  0.2423 - val_binary_crossentropy:  0.2661\n",
      "Epoch 00021: val_binary_crossentropy did not improve from 0.26113\n",
      "Epoch 00021: early stopping\n"
     ]
    }
   ],
   "source": [
    "for fold_, (trn_idx, val_idx) in enumerate(KF.split(train.values, label.values)):\n",
    "    print(\"fold n°{}\".format(fold_))\n",
    "    \n",
    "    print(model_name, len(trn_idx), len(val_idx), len(feature_names))\n",
    "    train_fold = train.iloc[trn_idx]\n",
    "    train_model_input = {name: train_fold[name] for name in feature_names}\n",
    "    train_model_label = label.iloc[trn_idx].values\n",
    "    val_fold = train.iloc[val_idx]\n",
    "    val_model_input = {name: val_fold[name] for name in feature_names}\n",
    "    val_model_label = label.iloc[val_idx].values\n",
    "    test_model_input = {name: test[name] for name in feature_names}\n",
    "\n",
    "    model = DCN(linear_feature_columns, dnn_feature_columns, task='binary', device=device, seed=seed)\n",
    "    model.compile(\"adam\", \"binary_crossentropy\", metrics=['binary_crossentropy'])\n",
    "    \n",
    "    es = EarlyStopping(monitor='val_binary_crossentropy', min_delta=0, verbose=1, patience=patience, mode='min')\n",
    "    mdckpt = ModelCheckpoint(filepath='ckpt/{}_{}_fold{}.ckpt'.format(model_name, sparse_dim, fold_), \n",
    "                             monitor='val_binary_crossentropy', verbose=1, save_best_only=True, mode='min')\n",
    "    history = model.fit(train_model_input, train_model_label, batch_size=batch_size, epochs=epochs, verbose=1, \n",
    "                        validation_data=(val_model_input, val_model_label), callbacks=[es, mdckpt])\n",
    "\n",
    "    model = torch.load('ckpt/{}_{}_fold{}.ckpt'.format(model_name, sparse_dim, fold_))\n",
    "    oof_ins[val_idx] = model.predict(val_model_input, batch_size=batch_size).flatten()\n",
    "    predictions_ins[:] += model.predict(test_model_input, batch_size=batch_size).flatten() / K"
   ]
  },
  {
   "cell_type": "code",
   "execution_count": 62,
   "metadata": {},
   "outputs": [
    {
     "name": "stdout",
     "output_type": "stream",
     "text": [
      "Logloss: 0.2623, AUC: 0.9086, Precision: 0.7678, Recall: 0.5304, F1 Score: 0.6274\n"
     ]
    }
   ],
   "source": [
    "logloss = metrics.log_loss(label, oof_ins)\n",
    "acc = metrics.roc_auc_score(label, oof_ins)\n",
    "precision = metrics.precision_score(label, [1 if i >= 0.5 else 0 for i in oof_ins])\n",
    "recall = metrics.recall_score(label, [1 if i >= 0.5 else 0 for i in oof_ins])\n",
    "f1 = metrics.f1_score(label, [1 if i >= 0.5 else 0 for i in oof_ins])\n",
    "\n",
    "print(f\"Logloss: {logloss:.4f}, AUC: {acc:.4f}, Precision: {precision:.4f}, Recall: {recall:.4f}, F1 Score: {f1:.4f}\")"
   ]
  },
  {
   "cell_type": "code",
   "execution_count": 63,
   "metadata": {},
   "outputs": [
    {
     "data": {
      "text/plain": [
       "(1.1253352181483934e-05, 0.9700898766517638)"
      ]
     },
     "execution_count": 63,
     "metadata": {},
     "output_type": "execute_result"
    }
   ],
   "source": [
    "predictions_ins.min(), predictions_ins.max()"
   ]
  },
  {
   "cell_type": "code",
   "execution_count": 64,
   "metadata": {},
   "outputs": [],
   "source": [
    "submission = pd.DataFrame()\n",
    "submission[\"RowId\"] = test_data[\"f_0\"]\n",
    "submission[\"is_clicked\"] = np.random.random((test_data.shape[0]))\n",
    "submission[\"is_installed\"] = predictions_ins\n",
    "submission.to_csv('./output/{}_{}_{}_{}_{}_Kfold{}.csv'.format(model_name, seed, len(feature_names), sparse_dim, dense_dim, K), index=False, sep='\\t')"
   ]
  },
  {
   "attachments": {},
   "cell_type": "markdown",
   "metadata": {},
   "source": [
    "111"
   ]
  }
 ],
 "metadata": {
  "kernelspec": {
   "display_name": "libcityng",
   "language": "python",
   "name": "python3"
  },
  "language_info": {
   "codemirror_mode": {
    "name": "ipython",
    "version": 3
   },
   "file_extension": ".py",
   "mimetype": "text/x-python",
   "name": "python",
   "nbconvert_exporter": "python",
   "pygments_lexer": "ipython3",
   "version": "3.9.12"
  },
  "orig_nbformat": 4
 },
 "nbformat": 4,
 "nbformat_minor": 2
}
